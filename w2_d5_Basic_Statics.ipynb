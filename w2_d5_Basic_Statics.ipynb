{
 "cells": [
  {
   "cell_type": "markdown",
   "metadata": {},
   "source": [
    "# Estadistica descriptiva"
   ]
  },
  {
   "cell_type": "code",
   "execution_count": 29,
   "metadata": {},
   "outputs": [],
   "source": [
    "import pandas as pd\n",
    "import matplotlib.pyplot as plt\n",
    "import numpy as np"
   ]
  },
  {
   "cell_type": "code",
   "execution_count": 2,
   "metadata": {},
   "outputs": [
    {
     "name": "stderr",
     "output_type": "stream",
     "text": [
      "C:\\Users\\GralG\\AppData\\Roaming\\Python\\Python37\\site-packages\\IPython\\core\\interactiveshell.py:3058: DtypeWarning: Columns (70,71,72,73,74,76,79) have mixed types. Specify dtype option on import or set low_memory=False.\n",
      "  interactivity=interactivity, compiler=compiler, result=result)\n"
     ]
    }
   ],
   "source": [
    "df = pd.read_csv('data/vehicles_messy.csv', sep = ',')"
   ]
  },
  {
   "cell_type": "code",
   "execution_count": 6,
   "metadata": {},
   "outputs": [
    {
     "name": "stdout",
     "output_type": "stream",
     "text": [
      "<class 'pandas.core.frame.DataFrame'>\n",
      "RangeIndex: 37843 entries, 0 to 37842\n",
      "Data columns (total 83 columns):\n",
      "barrels08          37843 non-null float64\n",
      "barrelsA08         37843 non-null float64\n",
      "charge120          37843 non-null float64\n",
      "charge240          37843 non-null float64\n",
      "city08             37843 non-null int64\n",
      "city08U            37843 non-null float64\n",
      "cityA08            37843 non-null int64\n",
      "cityA08U           37843 non-null float64\n",
      "cityCD             37843 non-null float64\n",
      "cityE              37843 non-null float64\n",
      "cityUF             37843 non-null float64\n",
      "co2                37843 non-null int64\n",
      "co2A               37843 non-null int64\n",
      "co2TailpipeAGpm    37843 non-null float64\n",
      "co2TailpipeGpm     37843 non-null float64\n",
      "comb08             37843 non-null int64\n",
      "comb08U            37843 non-null float64\n",
      "combA08            37843 non-null int64\n",
      "combA08U           37843 non-null float64\n",
      "combE              37843 non-null float64\n",
      "combinedCD         37843 non-null float64\n",
      "combinedUF         37843 non-null float64\n",
      "cylinders          37720 non-null float64\n",
      "displ              37723 non-null float64\n",
      "drive              36654 non-null object\n",
      "engId              37843 non-null int64\n",
      "eng_dscr           22440 non-null object\n",
      "feScore            37843 non-null int64\n",
      "fuelCost08         37843 non-null int64\n",
      "fuelCostA08        37843 non-null int64\n",
      "fuelType           37843 non-null object\n",
      "fuelType1          37843 non-null object\n",
      "ghgScore           37843 non-null int64\n",
      "ghgScoreA          37843 non-null int64\n",
      "highway08          37843 non-null int64\n",
      "highway08U         37843 non-null float64\n",
      "highwayA08         37843 non-null int64\n",
      "highwayA08U        37843 non-null float64\n",
      "highwayCD          37843 non-null float64\n",
      "highwayE           37843 non-null float64\n",
      "highwayUF          37843 non-null float64\n",
      "hlv                37843 non-null int64\n",
      "hpv                37843 non-null int64\n",
      "id                 37843 non-null int64\n",
      "lv2                37843 non-null int64\n",
      "lv4                37843 non-null int64\n",
      "make               37843 non-null object\n",
      "model              37843 non-null object\n",
      "mpgData            37843 non-null object\n",
      "phevBlended        37843 non-null bool\n",
      "pv2                37843 non-null int64\n",
      "pv4                37843 non-null int64\n",
      "range              37843 non-null int64\n",
      "rangeCity          37843 non-null float64\n",
      "rangeCityA         37843 non-null float64\n",
      "rangeHwy           37843 non-null float64\n",
      "rangeHwyA          37843 non-null float64\n",
      "trany              37832 non-null object\n",
      "UCity              37843 non-null float64\n",
      "UCityA             37843 non-null float64\n",
      "UHighway           37843 non-null float64\n",
      "UHighwayA          37843 non-null float64\n",
      "VClass             37843 non-null object\n",
      "year               37843 non-null int64\n",
      "youSaveSpend       37843 non-null int64\n",
      "guzzler            2281 non-null object\n",
      "trans_dscr         15047 non-null object\n",
      "tCharger           5186 non-null object\n",
      "sCharger           666 non-null object\n",
      "atvType            3072 non-null object\n",
      "fuelType2          1408 non-null object\n",
      "rangeA             1403 non-null object\n",
      "evMotor            562 non-null object\n",
      "mfrCode            7025 non-null object\n",
      "c240Dscr           37 non-null object\n",
      "charge240b         37843 non-null float64\n",
      "c240bDscr          36 non-null object\n",
      "createdOn          37843 non-null object\n",
      "modifiedOn         37843 non-null object\n",
      "startStop          6138 non-null object\n",
      "phevCity           37843 non-null int64\n",
      "phevHwy            37843 non-null int64\n",
      "phevComb           37843 non-null int64\n",
      "dtypes: bool(1), float64(32), int64(27), object(23)\n",
      "memory usage: 23.7+ MB\n"
     ]
    }
   ],
   "source": [
    "df.info()"
   ]
  },
  {
   "cell_type": "code",
   "execution_count": 9,
   "metadata": {},
   "outputs": [
    {
     "data": {
      "text/plain": [
       "barrels08         0\n",
       "barrelsA08        0\n",
       "charge120         0\n",
       "charge240         0\n",
       "city08            0\n",
       "              ...  \n",
       "modifiedOn        0\n",
       "startStop     31705\n",
       "phevCity          0\n",
       "phevHwy           0\n",
       "phevComb          0\n",
       "Length: 83, dtype: int64"
      ]
     },
     "execution_count": 9,
     "metadata": {},
     "output_type": "execute_result"
    }
   ],
   "source": [
    "df.isna().sum()"
   ]
  },
  {
   "cell_type": "code",
   "execution_count": 10,
   "metadata": {},
   "outputs": [],
   "source": [
    "df.fillna(0, inplace = True)"
   ]
  },
  {
   "cell_type": "code",
   "execution_count": 13,
   "metadata": {},
   "outputs": [],
   "source": [
    "df_desc = df.describe()"
   ]
  },
  {
   "cell_type": "code",
   "execution_count": 16,
   "metadata": {},
   "outputs": [
    {
     "data": {
      "text/plain": [
       "Index(['barrels08', 'barrelsA08', 'charge120', 'charge240', 'city08',\n",
       "       'city08U', 'cityA08', 'cityA08U', 'cityCD', 'cityE', 'cityUF', 'co2',\n",
       "       'co2A', 'co2TailpipeAGpm', 'co2TailpipeGpm', 'comb08', 'comb08U',\n",
       "       'combA08', 'combA08U', 'combE', 'combinedCD', 'combinedUF', 'cylinders',\n",
       "       'displ', 'engId', 'feScore', 'fuelCost08', 'fuelCostA08', 'ghgScore',\n",
       "       'ghgScoreA', 'highway08', 'highway08U', 'highwayA08', 'highwayA08U',\n",
       "       'highwayCD', 'highwayE', 'highwayUF', 'hlv', 'hpv', 'id', 'lv2', 'lv4',\n",
       "       'pv2', 'pv4', 'range', 'rangeCity', 'rangeCityA', 'rangeHwy',\n",
       "       'rangeHwyA', 'UCity', 'UCityA', 'UHighway', 'UHighwayA', 'year',\n",
       "       'youSaveSpend', 'charge240b', 'phevCity', 'phevHwy', 'phevComb'],\n",
       "      dtype='object')"
      ]
     },
     "execution_count": 16,
     "metadata": {},
     "output_type": "execute_result"
    }
   ],
   "source": [
    "df_desc.columns"
   ]
  },
  {
   "cell_type": "code",
   "execution_count": 17,
   "metadata": {},
   "outputs": [
    {
     "data": {
      "text/plain": [
       "count    37843.00000\n",
       "mean         5.71934\n",
       "std          1.77918\n",
       "min          0.00000\n",
       "25%          4.00000\n",
       "50%          6.00000\n",
       "75%          6.00000\n",
       "max         16.00000\n",
       "Name: cylinders, dtype: float64"
      ]
     },
     "execution_count": 17,
     "metadata": {},
     "output_type": "execute_result"
    }
   ],
   "source": [
    "df_desc['cylinders']"
   ]
  },
  {
   "cell_type": "code",
   "execution_count": 18,
   "metadata": {},
   "outputs": [],
   "source": [
    "arr = np.array([3,4,5,3,4,2,5,6,4,6])"
   ]
  },
  {
   "cell_type": "code",
   "execution_count": 19,
   "metadata": {},
   "outputs": [
    {
     "data": {
      "text/plain": [
       "4.2"
      ]
     },
     "execution_count": 19,
     "metadata": {},
     "output_type": "execute_result"
    }
   ],
   "source": [
    "arr.mean()"
   ]
  },
  {
   "cell_type": "code",
   "execution_count": 22,
   "metadata": {},
   "outputs": [
    {
     "data": {
      "text/plain": [
       "1.2489995996796797"
      ]
     },
     "execution_count": 22,
     "metadata": {},
     "output_type": "execute_result"
    }
   ],
   "source": [
    "arr.std()"
   ]
  },
  {
   "cell_type": "code",
   "execution_count": 20,
   "metadata": {},
   "outputs": [],
   "source": [
    "arr_2 = np.array([3,4,5,3,4,2,5,6,4,6,50])"
   ]
  },
  {
   "cell_type": "code",
   "execution_count": 21,
   "metadata": {},
   "outputs": [
    {
     "data": {
      "text/plain": [
       "8.363636363636363"
      ]
     },
     "execution_count": 21,
     "metadata": {},
     "output_type": "execute_result"
    }
   ],
   "source": [
    "arr_2.mean()"
   ]
  },
  {
   "cell_type": "code",
   "execution_count": 23,
   "metadata": {},
   "outputs": [
    {
     "data": {
      "text/plain": [
       "13.220319947116721"
      ]
     },
     "execution_count": 23,
     "metadata": {},
     "output_type": "execute_result"
    }
   ],
   "source": [
    "arr_2.std()"
   ]
  },
  {
   "cell_type": "code",
   "execution_count": 31,
   "metadata": {},
   "outputs": [
    {
     "data": {
      "image/png": "[encoded data removed]",
      "text/plain": [
       "<Figure size 432x288 with 1 Axes>"
      ]
     },
     "metadata": {
      "needs_background": "light"
     },
     "output_type": "display_data"
    }
   ],
   "source": [
    "plt.boxplot(arr)\n",
    "plt.show();"
   ]
  },
  {
   "cell_type": "code",
   "execution_count": 32,
   "metadata": {},
   "outputs": [
    {
     "data": {
      "image/png": "[encoded data removed]",
      "text/plain": [
       "<Figure size 432x288 with 1 Axes>"
      ]
     },
     "metadata": {
      "needs_background": "light"
     },
     "output_type": "display_data"
    }
   ],
   "source": [
    "plt.boxplot(arr_2)\n",
    "plt.show();"
   ]
  },
  {
   "cell_type": "code",
   "execution_count": 33,
   "metadata": {},
   "outputs": [
    {
     "data": {
      "image/png": "[encoded data removed]",
      "text/plain": [
       "<Figure size 432x288 with 1 Axes>"
      ]
     },
     "metadata": {
      "needs_background": "light"
     },
     "output_type": "display_data"
    }
   ],
   "source": [
    "df[['comb08']].boxplot();"
   ]
  },
  {
   "cell_type": "code",
   "execution_count": 34,
   "metadata": {},
   "outputs": [
    {
     "data": {
      "text/plain": [
       "comb08    20.195809\n",
       "dtype: float64"
      ]
     },
     "execution_count": 34,
     "metadata": {},
     "output_type": "execute_result"
    }
   ],
   "source": [
    "df[['comb08']].mean()"
   ]
  },
  {
   "cell_type": "code",
   "execution_count": 35,
   "metadata": {},
   "outputs": [
    {
     "data": {
      "text/plain": [
       "comb08    6.623444\n",
       "dtype: float64"
      ]
     },
     "execution_count": 35,
     "metadata": {},
     "output_type": "execute_result"
    }
   ],
   "source": [
    "df[['comb08']].std()"
   ]
  },
  {
   "cell_type": "code",
   "execution_count": 36,
   "metadata": {},
   "outputs": [
    {
     "data": {
      "text/plain": [
       "comb08    124\n",
       "dtype: int64"
      ]
     },
     "execution_count": 36,
     "metadata": {},
     "output_type": "execute_result"
    }
   ],
   "source": [
    "df[['comb08']].max()"
   ]
  },
  {
   "cell_type": "code",
   "execution_count": 38,
   "metadata": {},
   "outputs": [
    {
     "data": {
      "image/png": "[encoded data removed]",
      "text/plain": [
       "<Figure size 432x288 with 1 Axes>"
      ]
     },
     "metadata": {},
     "output_type": "display_data"
    }
   ],
   "source": [
    "plt.pie(df['make'].value_counts())\n",
    "plt.show();"
   ]
  },
  {
   "cell_type": "code",
   "execution_count": 42,
   "metadata": {},
   "outputs": [],
   "source": [
    "df['make'] = df['make'].astype('str')"
   ]
  },
  {
   "cell_type": "code",
   "execution_count": 48,
   "metadata": {},
   "outputs": [
    {
     "data": {
      "text/plain": [
       "<matplotlib.axes._subplots.AxesSubplot at 0x2b1df32e988>"
      ]
     },
     "execution_count": 48,
     "metadata": {},
     "output_type": "execute_result"
    },
    {
     "data": {
      "image/png": "[encoded data removed]",
      "text/plain": [
       "<Figure size 432x288 with 1 Axes>"
      ]
     },
     "metadata": {},
     "output_type": "display_data"
    }
   ],
   "source": [
    "df['make'].value_counts().plot(kind = 'pie')"
   ]
  },
  {
   "cell_type": "code",
   "execution_count": 49,
   "metadata": {
    "scrolled": true
   },
   "outputs": [
    {
     "data": {
      "text/plain": [
       "Chevrolet             3795\n",
       "Ford                  3102\n",
       "Dodge                 2513\n",
       "GMC                   2389\n",
       "Toyota                1919\n",
       "                      ... \n",
       "London Taxi              1\n",
       "Shelby                   1\n",
       "E. P. Dutton, Inc.       1\n",
       "Mahindra                 1\n",
       "Excalibur Autos          1\n",
       "Name: make, Length: 133, dtype: int64"
      ]
     },
     "execution_count": 49,
     "metadata": {},
     "output_type": "execute_result"
    }
   ],
   "source": [
    "df['make'].value_counts()"
   ]
  },
  {
   "cell_type": "markdown",
   "metadata": {},
   "source": [
    "# Pipeline"
   ]
  },
  {
   "cell_type": "code",
   "execution_count": 101,
   "metadata": {},
   "outputs": [],
   "source": [
    "# Pipeline es una camino o script que se ejecuta y tiene un procedimiento y/o funciones que se usaran posteriormente\n",
    "from funcs import *"
   ]
  },
  {
   "cell_type": "code",
   "execution_count": 102,
   "metadata": {},
   "outputs": [
    {
     "data": {
      "text/plain": [
       "5"
      ]
     },
     "execution_count": 102,
     "metadata": {},
     "output_type": "execute_result"
    }
   ],
   "source": [
    "suma(2,3)"
   ]
  },
  {
   "cell_type": "code",
   "execution_count": 103,
   "metadata": {},
   "outputs": [
    {
     "data": {
      "text/plain": [
       "-1"
      ]
     },
     "execution_count": 103,
     "metadata": {},
     "output_type": "execute_result"
    }
   ],
   "source": [
    "resta(3,4)"
   ]
  },
  {
   "cell_type": "code",
   "execution_count": 104,
   "metadata": {},
   "outputs": [
    {
     "data": {
      "text/plain": [
       "20"
      ]
     },
     "execution_count": 104,
     "metadata": {},
     "output_type": "execute_result"
    }
   ],
   "source": [
    "mult(4,5)"
   ]
  },
  {
   "cell_type": "code",
   "execution_count": 105,
   "metadata": {},
   "outputs": [
    {
     "data": {
      "text/plain": [
       "0.75"
      ]
     },
     "execution_count": 105,
     "metadata": {},
     "output_type": "execute_result"
    }
   ],
   "source": [
    "divi(3,4)"
   ]
  },
  {
   "cell_type": "code",
   "execution_count": null,
   "metadata": {},
   "outputs": [],
   "source": []
  }
 ],
 "metadata": {
  "kernelspec": {
   "display_name": "Python 3",
   "language": "python",
   "name": "python3"
  },
  "language_info": {
   "codemirror_mode": {
    "name": "ipython",
    "version": 3
   },
   "file_extension": ".py",
   "mimetype": "text/x-python",
   "name": "python",
   "nbconvert_exporter": "python",
   "pygments_lexer": "ipython3",
   "version": "3.7.4"
  }
 },
 "nbformat": 4,
 "nbformat_minor": 2
}
