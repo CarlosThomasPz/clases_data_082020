{
 "cells": [
  {
   "cell_type": "markdown",
   "metadata": {},
   "source": [
    "# Funciones"
   ]
  },
  {
   "cell_type": "code",
   "execution_count": 1,
   "metadata": {},
   "outputs": [],
   "source": [
    "#Las funciones se definen con la palabra reservada 'def' nombre():\n",
    "def hello():\n",
    "    print('Hola Data Anaylitcs')"
   ]
  },
  {
   "cell_type": "code",
   "execution_count": 2,
   "metadata": {},
   "outputs": [
    {
     "name": "stdout",
     "output_type": "stream",
     "text": [
      "Hola Data Anaylitcs\n"
     ]
    }
   ],
   "source": [
    "hello()"
   ]
  },
  {
   "cell_type": "code",
   "execution_count": 8,
   "metadata": {},
   "outputs": [],
   "source": [
    "def hello_2(nombre):#lo que va en el parentesis son argumentos de entrada para la funcion\n",
    "    print(f'Hola {nombre}')#f string funciona con objetos definidos\n",
    "    print(type(nombre))"
   ]
  },
  {
   "cell_type": "code",
   "execution_count": 9,
   "metadata": {},
   "outputs": [
    {
     "name": "stdout",
     "output_type": "stream",
     "text": [
      "Hola Oscar\n",
      "<class 'str'>\n"
     ]
    }
   ],
   "source": [
    "hello_2('Oscar')"
   ]
  },
  {
   "cell_type": "code",
   "execution_count": 10,
   "metadata": {},
   "outputs": [
    {
     "name": "stdout",
     "output_type": "stream",
     "text": [
      "Hola 2\n",
      "<class 'int'>\n"
     ]
    }
   ],
   "source": [
    "hello_2(2)"
   ]
  },
  {
   "cell_type": "code",
   "execution_count": 11,
   "metadata": {},
   "outputs": [
    {
     "name": "stdout",
     "output_type": "stream",
     "text": [
      "Help on built-in function isinstance in module builtins:\n",
      "\n",
      "isinstance(obj, class_or_tuple, /)\n",
      "    Return whether an object is an instance of a class or of a subclass thereof.\n",
      "    \n",
      "    A tuple, as in ``isinstance(x, (A, B, ...))``, may be given as the target to\n",
      "    check against. This is equivalent to ``isinstance(x, A) or isinstance(x, B)\n",
      "    or ...`` etc.\n",
      "\n"
     ]
    }
   ],
   "source": [
    "help(isinstance)"
   ]
  },
  {
   "cell_type": "code",
   "execution_count": 79,
   "metadata": {},
   "outputs": [],
   "source": [
    "def hello_3(nombre):\n",
    "    if isinstance(nombre,str): #isinstance nos ayuda nos a verificar los tipos de datos\n",
    "        nombre_in = f'hola {nombre}'\n",
    "        print(nombre)\n",
    "        return nombre_in #return nos regresa las variables o informacion de la funcion\n",
    "    else:\n",
    "        print('Se aceptan solo strings')\n",
    "        return hello_3(nombre)"
   ]
  },
  {
   "cell_type": "code",
   "execution_count": 91,
   "metadata": {},
   "outputs": [],
   "source": [
    "def hello_int(nombre):\n",
    "    nombre_1 = nombre\n",
    "    if isinstance(nombre_1,int): #isinstance nos ayuda nos a verificar los tipos de datos\n",
    "        print('solo strings')\n",
    "        return hello_3(nombre_1)\n",
    "    else:\n",
    "        nombre_in = f'hola {nombre}'\n",
    "        print(nombre)\n",
    "        return nombre_in #return nos regresa las variables o informacion de la funcion"
   ]
  },
  {
   "cell_type": "code",
   "execution_count": 92,
   "metadata": {},
   "outputs": [
    {
     "name": "stdout",
     "output_type": "stream",
     "text": [
      "Oscar\n"
     ]
    }
   ],
   "source": [
    "nombre_in = hello_3('Oscar')"
   ]
  },
  {
   "cell_type": "code",
   "execution_count": 93,
   "metadata": {},
   "outputs": [
    {
     "data": {
      "text/plain": [
       "'hola Oscar'"
      ]
     },
     "execution_count": 93,
     "metadata": {},
     "output_type": "execute_result"
    }
   ],
   "source": [
    "nombre_in"
   ]
  },
  {
   "cell_type": "code",
   "execution_count": 94,
   "metadata": {},
   "outputs": [
    {
     "name": "stdout",
     "output_type": "stream",
     "text": [
      "solo strings\n",
      "solo strings\n",
      "solo strings\n",
      "solo strings\n",
      "solo strings\n",
      "solo strings\n",
      "solo strings\n",
      "solo strings\n",
      "solo strings\n",
      "solo strings\n",
      "solo strings\n",
      "solo strings\n",
      "solo strings\n",
      "solo strings\n",
      "solo strings\n",
      "solo strings\n",
      "solo strings\n",
      "solo strings\n",
      "solo strings\n",
      "solo strings\n",
      "solo strings\n",
      "solo strings\n",
      "solo strings\n",
      "solo strings\n",
      "solo strings\n",
      "solo strings\n",
      "solo strings\n",
      "solo strings\n",
      "solo strings\n",
      "solo strings\n",
      "solo strings\n",
      "solo strings\n",
      "solo strings\n",
      "solo strings\n",
      "solo strings\n",
      "solo strings\n",
      "solo strings\n",
      "solo strings\n",
      "solo strings\n",
      "solo strings\n",
      "solo strings\n",
      "solo strings\n",
      "solo strings\n",
      "solo strings\n",
      "solo strings\n",
      "solo strings\n",
      "solo strings\n",
      "solo strings\n",
      "solo strings\n",
      "solo strings\n",
      "solo strings\n",
      "solo strings\n",
      "solo strings\n",
      "solo strings\n",
      "solo strings\n",
      "solo strings\n",
      "solo strings\n",
      "solo strings\n",
      "solo strings\n",
      "solo strings\n",
      "solo strings\n",
      "solo strings\n",
      "solo strings\n",
      "solo strings\n",
      "solo strings\n",
      "solo strings\n",
      "solo strings\n",
      "solo strings\n",
      "solo strings\n",
      "solo strings\n",
      "solo strings\n",
      "solo strings\n",
      "solo strings\n",
      "solo strings\n",
      "solo strings\n",
      "solo strings\n",
      "solo strings\n",
      "solo strings\n",
      "solo strings\n",
      "solo strings\n",
      "solo strings\n",
      "solo strings\n",
      "solo strings\n",
      "solo strings\n",
      "solo strings\n",
      "solo strings\n",
      "solo strings\n",
      "solo strings\n",
      "solo strings\n",
      "solo strings\n",
      "solo strings\n",
      "solo strings\n",
      "solo strings\n",
      "solo strings\n",
      "solo strings\n",
      "solo strings\n",
      "solo strings\n",
      "solo strings\n",
      "solo strings\n",
      "solo strings\n",
      "solo strings\n",
      "solo strings\n",
      "solo strings\n",
      "solo strings\n",
      "solo strings\n",
      "solo strings\n",
      "solo strings\n",
      "solo strings\n",
      "solo strings\n",
      "solo strings\n",
      "solo strings\n",
      "solo strings\n",
      "solo strings\n",
      "solo strings\n",
      "solo strings\n",
      "solo strings\n",
      "solo strings\n",
      "solo strings\n",
      "solo strings\n",
      "solo strings\n",
      "solo strings\n",
      "solo strings\n",
      "solo strings\n",
      "solo strings\n",
      "solo strings\n",
      "solo strings\n",
      "solo strings\n",
      "solo strings\n",
      "solo strings\n",
      "solo strings\n",
      "solo strings\n",
      "solo strings\n",
      "solo strings\n",
      "solo strings\n",
      "solo strings\n",
      "solo strings\n",
      "solo strings\n",
      "solo strings\n",
      "solo strings\n",
      "solo strings\n",
      "solo strings\n",
      "solo strings\n",
      "solo strings\n",
      "solo strings\n",
      "solo strings\n",
      "solo strings\n",
      "solo strings\n",
      "solo strings\n",
      "solo strings\n",
      "solo strings\n",
      "solo strings\n",
      "solo strings\n",
      "solo strings\n",
      "solo strings\n",
      "solo strings\n",
      "solo strings\n",
      "solo strings\n",
      "solo strings\n",
      "solo strings\n",
      "solo strings\n",
      "solo strings\n",
      "solo strings\n",
      "solo strings\n",
      "solo strings\n",
      "solo strings\n",
      "solo strings\n",
      "solo strings\n",
      "solo strings\n",
      "solo strings\n",
      "solo strings\n",
      "solo strings\n",
      "solo strings\n",
      "solo strings\n",
      "solo strings\n",
      "solo strings\n",
      "solo strings\n",
      "solo strings\n",
      "solo strings\n",
      "solo strings\n",
      "solo strings\n",
      "solo strings\n",
      "solo strings\n",
      "solo strings\n",
      "solo strings\n",
      "solo strings\n",
      "solo strings\n",
      "solo strings\n",
      "solo strings\n",
      "solo strings\n",
      "solo strings\n",
      "solo strings\n",
      "solo strings\n",
      "solo strings\n",
      "solo strings\n",
      "solo strings\n",
      "solo strings\n",
      "solo strings\n",
      "solo strings\n",
      "solo strings\n",
      "solo strings\n",
      "solo strings\n",
      "solo strings\n",
      "solo strings\n",
      "solo strings\n",
      "solo strings\n",
      "solo strings\n",
      "solo strings\n",
      "solo strings\n",
      "solo strings\n",
      "solo strings\n",
      "solo strings\n",
      "solo strings\n",
      "solo strings\n",
      "solo strings\n",
      "solo strings\n",
      "solo strings\n",
      "solo strings\n",
      "solo strings\n",
      "solo strings\n",
      "solo strings\n",
      "solo strings\n",
      "solo strings\n",
      "solo strings\n",
      "solo strings\n",
      "solo strings\n",
      "solo strings\n",
      "solo strings\n",
      "solo strings\n",
      "solo strings\n",
      "solo strings\n",
      "solo strings\n",
      "solo strings\n",
      "solo strings\n",
      "solo strings\n",
      "solo strings\n",
      "solo strings\n",
      "solo strings\n",
      "solo strings\n",
      "solo strings\n",
      "solo strings\n",
      "solo strings\n",
      "solo strings\n",
      "solo strings\n",
      "solo strings\n",
      "solo strings\n",
      "solo strings\n",
      "solo strings\n",
      "solo strings\n",
      "solo strings\n",
      "solo strings\n",
      "solo strings\n",
      "solo strings\n",
      "solo strings\n",
      "solo strings\n",
      "solo strings\n",
      "solo strings\n",
      "solo strings\n",
      "solo strings\n",
      "solo strings\n",
      "solo strings\n",
      "solo strings\n",
      "solo strings\n",
      "solo strings\n",
      "solo strings\n",
      "solo strings\n",
      "solo strings\n",
      "solo strings\n",
      "solo strings\n",
      "solo strings\n",
      "solo strings\n",
      "solo strings\n",
      "solo strings\n",
      "solo strings\n",
      "solo strings\n",
      "solo strings\n",
      "solo strings\n",
      "solo strings\n",
      "solo strings\n",
      "solo strings\n",
      "solo strings\n",
      "solo strings\n",
      "solo strings\n",
      "solo strings\n",
      "solo strings\n",
      "solo strings\n",
      "solo strings\n",
      "solo strings\n",
      "solo strings\n",
      "solo strings\n",
      "solo strings\n",
      "solo strings\n",
      "solo strings\n",
      "solo strings\n",
      "solo strings\n",
      "solo strings\n",
      "solo strings\n",
      "solo strings\n",
      "solo strings\n",
      "solo strings\n",
      "solo strings\n",
      "solo strings\n",
      "solo strings\n",
      "solo strings\n",
      "solo strings\n",
      "solo strings\n",
      "solo strings\n",
      "solo strings\n",
      "solo strings\n",
      "solo strings\n",
      "solo strings\n",
      "solo strings\n",
      "solo strings\n",
      "solo strings\n",
      "solo strings\n",
      "solo strings\n",
      "solo strings\n",
      "solo strings\n",
      "solo strings\n",
      "solo strings\n",
      "solo strings\n",
      "solo strings\n",
      "solo strings\n",
      "solo strings\n",
      "solo strings\n",
      "solo strings\n",
      "solo strings\n",
      "solo strings\n",
      "solo strings\n",
      "solo strings\n",
      "solo strings\n",
      "solo strings\n",
      "solo strings\n",
      "solo strings\n",
      "solo strings\n",
      "solo strings\n",
      "solo strings\n",
      "solo strings\n",
      "solo strings\n",
      "solo strings\n",
      "solo strings\n",
      "solo strings\n",
      "solo strings\n",
      "solo strings\n",
      "solo strings\n",
      "solo strings\n",
      "solo strings\n",
      "solo strings\n",
      "solo strings\n",
      "solo strings\n",
      "solo strings\n",
      "solo strings\n",
      "solo strings\n",
      "solo strings\n",
      "solo strings\n",
      "solo strings\n",
      "solo strings\n",
      "solo strings\n",
      "solo strings\n",
      "solo strings\n",
      "solo strings\n",
      "solo strings\n",
      "solo strings\n",
      "solo strings\n",
      "solo strings\n",
      "solo strings\n",
      "solo strings\n",
      "solo strings\n",
      "solo strings\n",
      "solo strings\n",
      "solo strings\n",
      "solo strings\n",
      "solo strings\n",
      "solo strings\n",
      "solo strings\n",
      "solo strings\n",
      "solo strings\n",
      "solo strings\n",
      "solo strings\n",
      "solo strings\n",
      "solo strings\n",
      "solo strings\n",
      "solo strings\n",
      "solo strings\n",
      "solo strings\n",
      "solo strings\n",
      "solo strings\n",
      "solo strings\n",
      "solo strings\n",
      "solo strings\n",
      "solo strings\n",
      "solo strings\n",
      "solo strings\n",
      "solo strings\n",
      "solo strings\n",
      "solo strings\n",
      "solo strings\n",
      "solo strings\n",
      "solo strings\n",
      "solo strings\n",
      "solo strings\n",
      "solo strings\n",
      "solo strings\n",
      "solo strings\n",
      "solo strings\n",
      "solo strings\n",
      "solo strings\n",
      "solo strings\n",
      "solo strings\n",
      "solo strings\n",
      "solo strings\n",
      "solo strings\n",
      "solo strings\n",
      "solo strings\n",
      "solo strings\n",
      "solo strings\n",
      "solo strings\n",
      "solo strings\n",
      "solo strings\n",
      "solo strings\n",
      "solo strings\n",
      "solo strings\n",
      "solo strings\n",
      "solo strings\n",
      "solo strings\n",
      "solo strings\n",
      "solo strings\n",
      "solo strings\n",
      "solo strings\n",
      "solo strings\n",
      "solo strings\n",
      "solo strings\n",
      "solo strings\n",
      "solo strings\n",
      "solo strings\n",
      "solo strings\n",
      "solo strings\n",
      "solo strings\n",
      "solo strings\n",
      "solo strings\n",
      "solo strings\n",
      "solo strings\n",
      "solo strings\n",
      "solo strings\n",
      "solo strings\n",
      "solo strings\n",
      "solo strings\n",
      "solo strings\n",
      "solo strings\n",
      "solo strings\n",
      "solo strings\n",
      "solo strings\n",
      "solo strings\n",
      "solo strings\n",
      "solo strings\n",
      "solo strings\n",
      "solo strings\n",
      "solo strings\n",
      "solo strings\n",
      "solo strings\n",
      "solo strings\n",
      "solo strings\n",
      "solo strings\n",
      "solo strings\n",
      "solo strings\n",
      "solo strings\n",
      "solo strings\n",
      "solo strings\n",
      "solo strings\n",
      "solo strings\n",
      "solo strings\n",
      "solo strings\n",
      "solo strings\n",
      "solo strings\n",
      "solo strings\n",
      "solo strings\n",
      "solo strings\n",
      "solo strings\n",
      "solo strings\n",
      "solo strings\n",
      "solo strings\n",
      "solo strings\n",
      "solo strings\n",
      "solo strings\n",
      "solo strings\n",
      "solo strings\n",
      "solo strings\n",
      "solo strings\n",
      "solo strings\n",
      "solo strings\n",
      "solo strings\n",
      "solo strings\n",
      "solo strings\n",
      "solo strings\n",
      "solo strings\n",
      "solo strings\n",
      "solo strings\n",
      "solo strings\n",
      "solo strings\n",
      "solo strings\n",
      "solo strings\n",
      "solo strings\n",
      "solo strings\n",
      "solo strings\n",
      "solo strings\n",
      "solo strings\n",
      "solo strings\n",
      "solo strings\n",
      "solo strings\n",
      "solo strings\n",
      "solo strings\n",
      "solo strings\n",
      "solo strings\n",
      "solo strings\n",
      "solo strings\n",
      "solo strings\n",
      "solo strings\n",
      "solo strings\n",
      "solo strings\n",
      "solo strings\n",
      "solo strings\n",
      "solo strings\n",
      "solo strings\n",
      "solo strings\n",
      "solo strings\n",
      "solo strings\n",
      "solo strings\n",
      "solo strings\n",
      "solo strings\n",
      "solo strings\n",
      "solo strings\n",
      "solo strings\n",
      "solo strings\n",
      "solo strings\n",
      "solo strings\n",
      "solo strings\n",
      "solo strings\n",
      "solo strings\n",
      "solo strings\n",
      "solo strings\n",
      "solo strings\n",
      "solo strings\n",
      "solo strings\n",
      "solo strings\n",
      "solo strings\n",
      "solo strings\n",
      "solo strings\n",
      "solo strings\n",
      "solo strings\n",
      "solo strings\n",
      "solo strings\n",
      "solo strings\n",
      "solo strings\n",
      "solo strings\n",
      "solo strings\n",
      "solo strings\n",
      "solo strings\n",
      "solo strings\n",
      "solo strings\n",
      "solo strings\n",
      "solo strings\n",
      "solo strings\n",
      "solo strings\n",
      "solo strings\n",
      "solo strings\n",
      "solo strings\n",
      "solo strings\n",
      "solo strings\n",
      "solo strings\n",
      "solo strings\n",
      "solo strings\n",
      "solo strings\n",
      "solo strings\n",
      "solo strings\n",
      "solo strings\n",
      "solo strings\n",
      "solo strings\n",
      "solo strings\n",
      "solo strings\n",
      "solo strings\n",
      "solo strings\n",
      "solo strings\n",
      "solo strings\n",
      "solo strings\n",
      "solo strings\n",
      "solo strings\n",
      "solo strings\n",
      "solo strings\n",
      "solo strings\n",
      "solo strings\n",
      "solo strings\n",
      "solo strings\n",
      "solo strings\n",
      "solo strings\n",
      "solo strings\n",
      "solo strings\n",
      "solo strings\n",
      "solo strings\n",
      "solo strings\n",
      "solo strings\n",
      "solo strings\n",
      "solo strings\n",
      "solo strings\n",
      "solo strings\n",
      "solo strings\n",
      "solo strings\n",
      "solo strings\n",
      "solo strings\n",
      "solo strings\n",
      "solo strings\n",
      "solo strings\n",
      "solo strings\n",
      "solo strings\n",
      "solo strings\n",
      "solo strings\n",
      "solo strings\n",
      "solo strings\n",
      "solo strings\n",
      "solo strings\n",
      "solo strings\n",
      "solo strings\n",
      "solo strings\n",
      "solo strings\n",
      "solo strings\n",
      "solo strings\n",
      "solo strings\n",
      "solo strings\n",
      "solo strings\n",
      "solo strings\n",
      "solo strings\n",
      "solo strings\n",
      "solo strings\n",
      "solo strings\n",
      "solo strings\n",
      "solo strings\n",
      "solo strings\n",
      "solo strings\n",
      "solo strings\n",
      "solo strings\n",
      "solo strings\n",
      "solo strings\n",
      "solo strings\n",
      "solo strings\n",
      "solo strings\n",
      "solo strings\n",
      "solo strings\n",
      "solo strings\n",
      "solo strings\n",
      "solo strings\n",
      "solo strings\n",
      "solo strings\n",
      "solo strings\n",
      "solo strings\n",
      "solo strings\n",
      "solo strings\n",
      "solo strings\n",
      "solo strings\n",
      "solo strings\n",
      "solo strings\n",
      "solo strings\n",
      "solo strings\n",
      "solo strings\n",
      "solo strings\n",
      "solo strings\n",
      "solo strings\n",
      "solo strings\n",
      "solo strings\n",
      "solo strings\n",
      "solo strings\n",
      "solo strings\n",
      "solo strings\n",
      "solo strings\n",
      "solo strings\n",
      "solo strings\n",
      "solo strings\n",
      "solo strings\n",
      "solo strings\n",
      "solo strings\n",
      "solo strings\n",
      "solo strings\n",
      "solo strings\n",
      "solo strings\n",
      "solo strings\n",
      "solo strings\n",
      "solo strings\n",
      "solo strings\n",
      "solo strings\n",
      "solo strings\n",
      "solo strings\n",
      "solo strings\n",
      "solo strings\n",
      "solo strings\n",
      "solo strings\n",
      "solo strings\n",
      "solo strings\n",
      "solo strings\n",
      "solo strings\n",
      "solo strings\n",
      "solo strings\n",
      "solo strings\n",
      "solo strings\n",
      "solo strings\n",
      "solo strings\n",
      "solo strings\n",
      "solo strings\n",
      "solo strings\n",
      "solo strings\n",
      "solo strings\n",
      "solo strings\n",
      "solo strings\n",
      "solo strings\n",
      "solo strings\n",
      "solo strings\n",
      "solo strings\n",
      "solo strings\n",
      "solo strings\n",
      "solo strings\n",
      "solo strings\n",
      "solo strings\n",
      "solo strings\n",
      "solo strings\n",
      "solo strings\n",
      "solo strings\n",
      "solo strings\n",
      "solo strings\n",
      "solo strings\n",
      "solo strings\n",
      "solo strings\n",
      "solo strings\n",
      "solo strings\n",
      "solo strings\n",
      "solo strings\n",
      "solo strings\n",
      "solo strings\n",
      "solo strings\n",
      "solo strings\n",
      "solo strings\n",
      "solo strings\n",
      "solo strings\n",
      "solo strings\n",
      "solo strings\n",
      "solo strings\n",
      "solo strings\n",
      "solo strings\n",
      "solo strings\n",
      "solo strings\n",
      "solo strings\n",
      "solo strings\n",
      "solo strings\n",
      "solo strings\n",
      "solo strings\n",
      "solo strings\n",
      "solo strings\n",
      "solo strings\n",
      "solo strings\n",
      "solo strings\n",
      "solo strings\n",
      "solo strings\n",
      "solo strings\n",
      "solo strings\n",
      "solo strings\n",
      "solo strings\n",
      "solo strings\n",
      "solo strings\n",
      "solo strings\n",
      "solo strings\n",
      "solo strings\n",
      "solo strings\n",
      "solo strings\n",
      "solo strings\n",
      "solo strings\n",
      "solo strings\n",
      "solo strings\n",
      "solo strings\n",
      "solo strings\n",
      "solo strings\n",
      "solo strings\n",
      "solo strings\n",
      "solo strings\n",
      "solo strings\n",
      "solo strings\n",
      "solo strings\n",
      "solo strings\n",
      "solo strings\n",
      "solo strings\n",
      "solo strings\n",
      "solo strings\n",
      "solo strings\n",
      "solo strings\n",
      "solo strings\n",
      "solo strings\n",
      "solo strings\n",
      "solo strings\n",
      "solo strings\n",
      "solo strings\n",
      "solo strings\n",
      "solo strings\n",
      "solo strings\n",
      "solo strings\n",
      "solo strings\n",
      "solo strings\n",
      "solo strings\n",
      "solo strings\n",
      "solo strings\n",
      "solo strings\n",
      "solo strings\n",
      "solo strings\n",
      "solo strings\n",
      "solo strings\n",
      "solo strings\n",
      "solo strings\n",
      "solo strings\n",
      "solo strings\n",
      "solo strings\n",
      "solo strings\n",
      "solo strings\n",
      "solo strings\n",
      "solo strings\n",
      "solo strings\n",
      "solo strings\n",
      "solo strings\n",
      "solo strings\n",
      "solo strings\n",
      "solo strings\n",
      "solo strings\n",
      "solo strings\n",
      "solo strings\n",
      "solo strings\n",
      "solo strings\n",
      "solo strings\n",
      "solo strings\n",
      "solo strings\n",
      "solo strings\n",
      "solo strings\n",
      "solo strings\n",
      "solo strings\n",
      "solo strings\n",
      "solo strings\n",
      "solo strings\n",
      "solo strings\n",
      "solo strings\n",
      "solo strings\n",
      "solo strings\n",
      "solo strings\n",
      "solo strings\n",
      "solo strings\n",
      "solo strings\n",
      "solo strings\n",
      "solo strings\n",
      "solo strings\n",
      "solo strings\n",
      "solo strings\n",
      "solo strings\n",
      "solo strings\n",
      "solo strings\n",
      "solo strings\n",
      "solo strings\n",
      "solo strings\n",
      "solo strings\n",
      "solo strings\n",
      "solo strings\n",
      "solo strings\n",
      "solo strings\n",
      "solo strings\n",
      "solo strings\n",
      "solo strings\n",
      "solo strings\n",
      "solo strings\n",
      "solo strings\n",
      "solo strings\n",
      "solo strings\n",
      "solo strings\n",
      "solo strings\n",
      "solo strings\n",
      "solo strings\n",
      "solo strings\n",
      "solo strings\n",
      "solo strings\n",
      "solo strings\n",
      "solo strings\n",
      "solo strings\n",
      "solo strings\n",
      "solo strings\n",
      "solo strings\n",
      "solo strings\n",
      "solo strings\n",
      "solo strings\n",
      "solo strings\n",
      "solo strings\n",
      "solo strings\n",
      "solo strings\n",
      "solo strings\n",
      "solo strings\n",
      "solo strings\n",
      "solo strings\n",
      "solo strings\n",
      "solo strings\n",
      "solo strings\n",
      "solo strings\n",
      "solo strings\n",
      "solo strings\n",
      "solo strings\n",
      "solo strings\n",
      "solo strings\n",
      "solo strings\n",
      "solo strings\n",
      "solo strings\n",
      "solo strings\n",
      "solo strings\n",
      "solo strings\n",
      "solo strings\n",
      "solo strings\n",
      "solo strings\n",
      "solo strings\n",
      "solo strings\n",
      "solo strings\n",
      "solo strings\n",
      "solo strings\n",
      "solo strings\n",
      "solo strings\n",
      "solo strings\n",
      "solo strings\n",
      "solo strings\n",
      "solo strings\n",
      "solo strings\n",
      "solo strings\n",
      "solo strings\n",
      "solo strings\n",
      "solo strings\n",
      "solo strings\n",
      "solo strings\n",
      "solo strings\n",
      "solo strings\n",
      "solo strings\n",
      "solo strings\n",
      "solo strings\n",
      "solo strings\n",
      "solo strings\n",
      "solo strings\n",
      "solo strings\n",
      "solo strings\n",
      "solo strings\n",
      "solo strings\n",
      "solo strings\n",
      "solo strings\n",
      "solo strings\n",
      "solo strings\n",
      "solo strings\n",
      "solo strings\n",
      "solo strings\n",
      "solo strings\n",
      "solo strings\n",
      "solo strings\n",
      "solo strings\n",
      "solo strings\n",
      "solo strings\n",
      "solo strings\n",
      "solo strings\n",
      "solo strings\n",
      "solo strings\n",
      "solo strings\n",
      "solo strings\n",
      "solo strings\n",
      "solo strings\n",
      "solo strings\n",
      "solo strings\n",
      "solo strings\n",
      "solo strings\n",
      "solo strings\n",
      "solo strings\n",
      "solo strings\n",
      "solo strings\n",
      "solo strings\n",
      "solo strings\n",
      "solo strings\n",
      "solo strings\n",
      "solo strings\n",
      "solo strings\n",
      "solo strings\n",
      "solo strings\n",
      "solo strings\n",
      "solo strings\n",
      "solo strings\n",
      "solo strings\n",
      "solo strings\n",
      "solo strings\n",
      "solo strings\n",
      "solo strings\n",
      "solo strings\n",
      "solo strings\n",
      "solo strings\n",
      "solo strings\n",
      "solo strings\n",
      "solo strings\n",
      "solo strings\n",
      "solo strings\n",
      "solo strings\n",
      "solo strings\n",
      "solo strings\n",
      "solo strings\n",
      "solo strings\n",
      "solo strings\n",
      "solo strings\n",
      "solo strings\n",
      "solo strings\n",
      "solo strings\n",
      "solo strings\n",
      "solo strings\n",
      "solo strings\n",
      "solo strings\n",
      "solo strings\n",
      "solo strings\n",
      "solo strings\n",
      "solo strings\n",
      "solo strings\n",
      "solo strings\n",
      "solo strings\n",
      "solo strings\n",
      "solo strings\n",
      "solo strings\n",
      "solo strings\n",
      "solo strings\n",
      "solo strings\n",
      "solo strings\n",
      "solo strings\n",
      "solo strings\n",
      "solo strings\n",
      "solo strings\n",
      "solo strings\n",
      "solo strings\n",
      "solo strings\n",
      "solo strings\n",
      "solo strings\n",
      "solo strings\n",
      "solo strings\n",
      "solo strings\n",
      "solo strings\n",
      "solo strings\n",
      "solo strings\n",
      "solo strings\n",
      "solo strings\n",
      "solo strings\n",
      "solo strings\n",
      "solo strings\n",
      "solo strings\n",
      "solo strings\n",
      "solo strings\n",
      "solo strings\n",
      "solo strings\n",
      "solo strings\n",
      "solo strings\n",
      "solo strings\n",
      "solo strings\n",
      "solo strings\n",
      "solo strings\n",
      "solo strings\n",
      "solo strings\n",
      "solo strings\n",
      "solo strings\n",
      "solo strings\n",
      "solo strings\n",
      "solo strings\n",
      "solo strings\n",
      "solo strings\n",
      "solo strings\n",
      "solo strings\n",
      "solo strings\n",
      "solo strings\n",
      "solo strings\n",
      "solo strings\n",
      "solo strings\n",
      "solo strings\n",
      "solo strings\n",
      "solo strings\n",
      "solo strings\n",
      "solo strings\n",
      "solo strings\n",
      "solo strings\n",
      "solo strings\n",
      "solo strings\n",
      "solo strings\n",
      "solo strings\n",
      "solo strings\n",
      "solo strings\n",
      "solo strings\n",
      "solo strings\n",
      "solo strings\n",
      "solo strings\n",
      "solo strings\n",
      "solo strings\n",
      "solo strings\n",
      "solo strings\n",
      "solo strings\n",
      "solo strings\n",
      "solo strings\n",
      "solo strings\n",
      "solo strings\n",
      "solo strings\n",
      "solo strings\n",
      "solo strings\n",
      "solo strings\n",
      "solo strings\n",
      "solo strings\n",
      "solo strings\n",
      "solo strings\n",
      "solo strings\n",
      "solo strings\n",
      "solo strings\n",
      "solo strings\n",
      "solo strings\n",
      "solo strings\n",
      "solo strings\n",
      "solo strings\n",
      "solo strings\n",
      "solo strings\n",
      "solo strings\n",
      "solo strings\n",
      "solo strings\n",
      "solo strings\n",
      "solo strings\n",
      "solo strings\n",
      "solo strings\n",
      "solo strings\n",
      "solo strings\n",
      "solo strings\n",
      "solo strings\n",
      "solo strings\n",
      "solo strings\n",
      "solo strings\n",
      "solo strings\n",
      "solo strings\n",
      "solo strings\n",
      "solo strings\n",
      "solo strings\n",
      "solo strings\n",
      "solo strings\n",
      "solo strings\n",
      "solo strings\n",
      "solo strings\n",
      "solo strings\n",
      "solo strings\n",
      "solo strings\n",
      "solo strings\n",
      "solo strings\n",
      "solo strings\n",
      "solo strings\n",
      "solo strings\n",
      "solo strings\n",
      "solo strings\n",
      "solo strings\n",
      "solo strings\n",
      "solo strings\n",
      "solo strings\n",
      "solo strings\n",
      "solo strings\n",
      "solo strings\n",
      "solo strings\n",
      "solo strings\n",
      "solo strings\n",
      "solo strings\n",
      "solo strings\n",
      "solo strings\n",
      "solo strings\n",
      "solo strings\n",
      "solo strings\n",
      "solo strings\n",
      "solo strings\n",
      "solo strings\n",
      "solo strings\n",
      "solo strings\n",
      "solo strings\n",
      "solo strings\n",
      "solo strings\n",
      "solo strings\n",
      "solo strings\n",
      "solo strings\n",
      "solo strings\n",
      "solo strings\n",
      "solo strings\n",
      "solo strings\n",
      "solo strings\n",
      "solo strings\n",
      "solo strings\n",
      "solo strings\n",
      "solo strings\n",
      "solo strings\n",
      "solo strings\n",
      "solo strings\n",
      "solo strings\n",
      "solo strings\n",
      "solo strings\n",
      "solo strings\n",
      "solo strings\n",
      "solo strings\n",
      "solo strings\n",
      "solo strings\n",
      "solo strings\n",
      "solo strings\n",
      "solo strings\n",
      "solo strings\n",
      "solo strings\n",
      "solo strings\n",
      "solo strings\n",
      "solo strings\n",
      "solo strings\n",
      "solo strings\n",
      "solo strings\n",
      "solo strings\n",
      "solo strings\n",
      "solo strings\n",
      "solo strings\n",
      "solo strings\n",
      "solo strings\n",
      "solo strings\n",
      "solo strings\n",
      "solo strings\n",
      "solo strings\n",
      "solo strings\n",
      "solo strings\n",
      "solo strings\n",
      "solo strings\n",
      "solo strings\n",
      "solo strings\n",
      "solo strings\n",
      "solo strings\n",
      "solo strings\n",
      "solo strings\n",
      "solo strings\n",
      "solo strings\n",
      "solo strings\n",
      "solo strings\n",
      "solo strings\n",
      "solo strings\n",
      "solo strings\n",
      "solo strings\n",
      "solo strings\n",
      "solo strings\n",
      "solo strings\n",
      "solo strings\n",
      "solo strings\n",
      "solo strings\n",
      "solo strings\n",
      "solo strings\n",
      "solo strings\n",
      "solo strings\n",
      "solo strings\n",
      "solo strings\n",
      "solo strings\n",
      "solo strings\n",
      "solo strings\n",
      "solo strings\n",
      "solo strings\n",
      "solo strings\n",
      "solo strings\n",
      "solo strings\n",
      "solo strings\n",
      "solo strings\n",
      "solo strings\n",
      "solo strings\n",
      "solo strings\n",
      "solo strings\n",
      "solo strings\n",
      "solo strings\n",
      "solo strings\n",
      "solo strings\n",
      "solo strings\n",
      "solo strings\n",
      "solo strings\n",
      "solo strings\n",
      "solo strings\n",
      "solo strings\n",
      "solo strings\n",
      "solo strings\n",
      "solo strings\n",
      "solo strings\n",
      "solo strings\n",
      "solo strings\n",
      "solo strings\n",
      "solo strings\n",
      "solo strings\n",
      "solo strings\n",
      "solo strings\n",
      "solo strings\n",
      "solo strings\n",
      "solo strings\n",
      "solo strings\n",
      "solo strings\n",
      "solo strings\n",
      "solo strings\n",
      "solo strings\n",
      "solo strings\n",
      "solo strings\n",
      "solo strings\n",
      "solo strings\n",
      "solo strings\n",
      "solo strings\n",
      "solo strings\n",
      "solo strings\n",
      "solo strings\n",
      "solo strings\n",
      "solo strings\n",
      "solo strings\n",
      "solo strings\n",
      "solo strings\n",
      "solo strings\n",
      "solo strings\n",
      "solo strings\n",
      "solo strings\n",
      "solo strings\n",
      "solo strings\n",
      "solo strings\n",
      "solo strings\n",
      "solo strings\n",
      "solo strings\n",
      "solo strings\n",
      "solo strings\n",
      "solo strings\n",
      "solo strings\n",
      "solo strings\n",
      "solo strings\n",
      "solo strings\n",
      "solo strings\n",
      "solo strings\n",
      "solo strings\n",
      "solo strings\n",
      "solo strings\n",
      "solo strings\n",
      "solo strings\n",
      "solo strings\n",
      "solo strings\n",
      "solo strings\n",
      "solo strings\n",
      "solo strings\n",
      "solo strings\n",
      "solo strings\n",
      "solo strings\n",
      "solo strings\n",
      "solo strings\n",
      "solo strings\n",
      "solo strings\n",
      "solo strings\n",
      "solo strings\n",
      "solo strings\n",
      "solo strings\n",
      "solo strings\n",
      "solo strings\n",
      "solo strings\n",
      "solo strings\n",
      "solo strings\n",
      "solo strings\n",
      "solo strings\n",
      "solo strings\n",
      "solo strings\n",
      "solo strings\n",
      "solo strings\n",
      "solo strings\n",
      "solo strings\n",
      "solo strings\n",
      "solo strings\n",
      "solo strings\n",
      "solo strings\n",
      "solo strings\n",
      "solo strings\n",
      "solo strings\n",
      "solo strings\n",
      "solo strings\n",
      "solo strings\n",
      "solo strings\n",
      "solo strings\n",
      "solo strings\n",
      "solo strings\n",
      "solo strings\n",
      "solo strings\n",
      "solo strings\n",
      "solo strings\n",
      "solo strings\n",
      "solo strings\n",
      "solo strings\n",
      "solo strings\n",
      "solo strings\n",
      "solo strings\n",
      "solo strings\n",
      "solo strings\n",
      "solo strings\n",
      "solo strings\n",
      "solo strings\n",
      "solo strings\n",
      "solo strings\n",
      "solo strings\n",
      "solo strings\n",
      "solo strings\n",
      "solo strings\n",
      "solo strings\n",
      "solo strings\n",
      "solo strings\n",
      "solo strings\n",
      "solo strings\n",
      "solo strings\n",
      "solo strings\n",
      "solo strings\n",
      "solo strings\n",
      "solo strings\n",
      "solo strings\n",
      "solo strings\n",
      "solo strings\n",
      "solo strings\n",
      "solo strings\n",
      "solo strings\n",
      "solo strings\n",
      "solo strings\n",
      "solo strings\n",
      "solo strings\n",
      "solo strings\n",
      "solo strings\n",
      "solo strings\n",
      "solo strings\n",
      "solo strings\n",
      "solo strings\n",
      "solo strings\n",
      "solo strings\n",
      "solo strings\n",
      "solo strings\n",
      "solo strings\n",
      "solo strings\n",
      "solo strings\n",
      "solo strings\n",
      "solo strings\n",
      "solo strings\n",
      "solo strings\n",
      "solo strings\n",
      "solo strings\n",
      "solo strings\n",
      "solo strings\n",
      "solo strings\n",
      "solo strings\n",
      "solo strings\n",
      "solo strings\n",
      "solo strings\n",
      "solo strings\n",
      "solo strings\n",
      "solo strings\n",
      "solo strings\n",
      "solo strings\n",
      "solo strings\n",
      "solo strings\n",
      "solo strings\n",
      "solo strings\n",
      "solo strings\n",
      "solo strings\n",
      "solo strings\n",
      "solo strings\n",
      "solo strings\n",
      "solo strings\n",
      "solo strings\n",
      "solo strings\n",
      "solo strings\n",
      "solo strings\n",
      "solo strings\n",
      "solo strings\n",
      "solo strings\n",
      "solo strings\n",
      "solo strings\n",
      "solo strings\n",
      "solo strings\n",
      "solo strings\n",
      "solo strings\n",
      "solo strings\n",
      "solo strings\n",
      "solo strings\n",
      "solo strings\n",
      "solo strings\n",
      "solo strings\n",
      "solo strings\n",
      "solo strings\n",
      "solo strings\n",
      "solo strings\n",
      "solo strings\n",
      "solo strings\n",
      "solo strings\n",
      "solo strings\n",
      "solo strings\n",
      "solo strings\n",
      "solo strings\n",
      "solo strings\n",
      "solo strings\n",
      "solo strings\n",
      "solo strings\n",
      "solo strings\n",
      "solo strings\n",
      "solo strings\n",
      "solo strings\n",
      "solo strings\n",
      "solo strings\n",
      "solo strings\n",
      "solo strings\n",
      "solo strings\n",
      "solo strings\n",
      "solo strings\n",
      "solo strings\n",
      "solo strings\n",
      "solo strings\n",
      "solo strings\n",
      "solo strings\n",
      "solo strings\n",
      "solo strings\n",
      "solo strings\n",
      "solo strings\n",
      "solo strings\n",
      "solo strings\n",
      "solo strings\n",
      "solo strings\n",
      "solo strings\n",
      "solo strings\n",
      "solo strings\n",
      "solo strings\n",
      "solo strings\n",
      "solo strings\n",
      "solo strings\n",
      "solo strings\n",
      "solo strings\n",
      "solo strings\n",
      "solo strings\n",
      "solo strings\n",
      "solo strings\n",
      "solo strings\n",
      "solo strings\n",
      "solo strings\n",
      "solo strings\n",
      "solo strings\n",
      "solo strings\n",
      "solo strings\n",
      "solo strings\n",
      "solo strings\n",
      "solo strings\n",
      "solo strings\n",
      "solo strings\n",
      "solo strings\n",
      "solo strings\n",
      "solo strings\n",
      "solo strings\n",
      "solo strings\n",
      "solo strings\n",
      "solo strings\n",
      "solo strings\n",
      "solo strings\n",
      "solo strings\n",
      "solo strings\n",
      "solo strings\n",
      "solo strings\n",
      "solo strings\n",
      "solo strings\n",
      "solo strings\n",
      "solo strings\n",
      "solo strings\n",
      "solo strings\n",
      "solo strings\n",
      "solo strings\n",
      "solo strings\n",
      "solo strings\n",
      "solo strings\n",
      "solo strings\n",
      "solo strings\n",
      "solo strings\n",
      "solo strings\n",
      "solo strings\n",
      "solo strings\n",
      "solo strings\n",
      "solo strings\n",
      "solo strings\n",
      "solo strings\n",
      "solo strings\n",
      "solo strings\n",
      "solo strings\n",
      "solo strings\n",
      "solo strings\n",
      "solo strings\n",
      "solo strings\n",
      "solo strings\n",
      "solo strings\n",
      "solo strings\n",
      "solo strings\n",
      "solo strings\n",
      "solo strings\n",
      "solo strings\n",
      "solo strings\n",
      "solo strings\n",
      "solo strings\n",
      "solo strings\n",
      "solo strings\n",
      "solo strings\n",
      "solo strings\n",
      "solo strings\n",
      "solo strings\n",
      "solo strings\n",
      "solo strings\n",
      "solo strings\n",
      "solo strings\n",
      "solo strings\n",
      "solo strings\n",
      "solo strings\n",
      "solo strings\n",
      "solo strings\n",
      "solo strings\n",
      "solo strings\n",
      "solo strings\n",
      "solo strings\n",
      "solo strings\n",
      "solo strings\n",
      "solo strings\n",
      "solo strings\n",
      "solo strings\n",
      "solo strings\n",
      "solo strings\n",
      "solo strings\n",
      "solo strings\n",
      "solo strings\n",
      "solo strings\n",
      "solo strings\n",
      "solo strings\n",
      "solo strings\n",
      "solo strings\n",
      "solo strings\n",
      "solo strings\n",
      "solo strings\n",
      "solo strings\n",
      "solo strings\n",
      "solo strings\n",
      "solo strings\n",
      "solo strings\n",
      "solo strings\n",
      "solo strings\n",
      "solo strings\n",
      "solo strings\n",
      "solo strings\n",
      "solo strings\n",
      "solo strings\n",
      "solo strings\n",
      "solo strings\n",
      "solo strings\n",
      "solo strings\n",
      "solo strings\n",
      "solo strings\n",
      "solo strings\n",
      "solo strings\n",
      "solo strings\n",
      "solo strings\n",
      "solo strings\n",
      "solo strings\n",
      "solo strings\n",
      "solo strings\n",
      "solo strings\n",
      "solo strings\n",
      "solo strings\n",
      "solo strings\n",
      "solo strings\n",
      "solo strings\n",
      "solo strings\n",
      "solo strings\n",
      "solo strings\n",
      "solo strings\n",
      "solo strings\n",
      "solo strings\n",
      "solo strings\n",
      "solo strings\n",
      "solo strings\n",
      "solo strings\n",
      "solo strings\n",
      "solo strings\n",
      "solo strings\n",
      "solo strings\n",
      "solo strings\n",
      "solo strings\n",
      "solo strings\n",
      "solo strings\n",
      "solo strings\n",
      "solo strings\n",
      "solo strings\n",
      "solo strings\n",
      "solo strings\n",
      "solo strings\n",
      "solo strings\n",
      "solo strings\n",
      "solo strings\n",
      "solo strings\n",
      "solo strings\n",
      "solo strings\n",
      "solo strings\n",
      "solo strings\n",
      "solo strings\n",
      "solo strings\n",
      "solo strings\n",
      "solo strings\n",
      "solo strings\n",
      "solo strings\n",
      "solo strings\n",
      "solo strings\n",
      "solo strings\n",
      "solo strings\n",
      "solo strings\n",
      "solo strings\n",
      "solo strings\n",
      "solo strings\n",
      "solo strings\n",
      "solo strings\n",
      "solo strings\n",
      "solo strings\n",
      "solo strings\n",
      "solo strings\n",
      "solo strings\n",
      "solo strings\n",
      "solo strings\n",
      "solo strings\n",
      "solo strings\n",
      "solo strings\n",
      "solo strings\n",
      "solo strings\n",
      "solo strings\n",
      "solo strings\n",
      "solo strings\n",
      "solo strings\n",
      "solo strings\n",
      "solo strings\n",
      "solo strings\n",
      "solo strings\n",
      "solo strings\n",
      "solo strings\n",
      "solo strings\n",
      "solo strings\n",
      "solo strings\n",
      "solo strings\n",
      "solo strings\n",
      "solo strings\n",
      "solo strings\n",
      "solo strings\n",
      "solo strings\n",
      "solo strings\n",
      "solo strings\n",
      "solo strings\n",
      "solo strings\n",
      "solo strings\n",
      "solo strings\n",
      "solo strings\n",
      "solo strings\n",
      "solo strings\n",
      "solo strings\n",
      "solo strings\n",
      "solo strings\n",
      "solo strings\n",
      "solo strings\n",
      "solo strings\n",
      "solo strings\n",
      "solo strings\n",
      "solo strings\n",
      "solo strings\n",
      "solo strings\n",
      "solo strings\n",
      "solo strings\n",
      "solo strings\n",
      "solo strings\n",
      "solo strings\n",
      "solo strings\n",
      "solo strings\n",
      "solo strings\n",
      "solo strings\n",
      "solo strings\n",
      "solo strings\n",
      "solo strings\n",
      "solo strings\n",
      "solo strings\n",
      "solo strings\n",
      "solo strings\n",
      "solo strings\n",
      "solo strings\n",
      "solo strings\n",
      "solo strings\n",
      "solo strings\n",
      "solo strings\n",
      "solo strings\n",
      "solo strings\n",
      "solo strings\n",
      "solo strings\n",
      "solo strings\n",
      "solo strings\n",
      "solo strings\n",
      "solo strings\n",
      "solo strings\n",
      "solo strings\n",
      "solo strings\n",
      "solo strings\n",
      "solo strings\n",
      "solo strings\n",
      "solo strings\n",
      "solo strings\n",
      "solo strings\n",
      "solo strings\n",
      "solo strings\n",
      "solo strings\n",
      "solo strings\n",
      "solo strings\n",
      "solo strings\n",
      "solo strings\n",
      "solo strings\n",
      "solo strings\n",
      "solo strings\n",
      "solo strings\n",
      "solo strings\n",
      "solo strings\n",
      "solo strings\n",
      "solo strings\n",
      "solo strings\n",
      "solo strings\n",
      "solo strings\n",
      "solo strings\n",
      "solo strings\n",
      "solo strings\n",
      "solo strings\n",
      "solo strings\n",
      "solo strings\n",
      "solo strings\n",
      "solo strings\n",
      "solo strings\n",
      "solo strings\n",
      "solo strings\n",
      "solo strings\n",
      "solo strings\n",
      "solo strings\n",
      "solo strings\n",
      "solo strings\n",
      "solo strings\n",
      "solo strings\n",
      "solo strings\n",
      "solo strings\n",
      "solo strings\n",
      "solo strings\n",
      "solo strings\n",
      "solo strings\n",
      "solo strings\n",
      "solo strings\n",
      "solo strings\n",
      "solo strings\n",
      "solo strings\n",
      "solo strings\n",
      "solo strings\n",
      "solo strings\n",
      "solo strings\n",
      "solo strings\n",
      "solo strings\n",
      "solo strings\n",
      "solo strings\n",
      "solo strings\n",
      "solo strings\n",
      "solo strings\n",
      "solo strings\n",
      "solo strings\n",
      "solo strings\n",
      "solo strings\n",
      "solo strings\n",
      "solo strings\n",
      "solo strings\n",
      "solo strings\n",
      "solo strings\n",
      "solo strings\n",
      "solo strings\n",
      "solo strings\n",
      "solo strings\n",
      "solo strings\n",
      "solo strings\n",
      "solo strings\n",
      "solo strings\n",
      "solo strings\n",
      "solo strings\n",
      "solo strings\n",
      "solo strings\n",
      "solo strings\n",
      "solo strings\n",
      "solo strings\n",
      "solo strings\n",
      "solo strings\n",
      "solo strings\n",
      "solo strings\n",
      "solo strings\n",
      "solo strings\n",
      "solo strings\n",
      "solo strings\n",
      "solo strings\n",
      "solo strings\n",
      "solo strings\n",
      "solo strings\n",
      "solo strings\n",
      "solo strings\n",
      "solo strings\n",
      "solo strings\n",
      "solo strings\n",
      "solo strings\n",
      "solo strings\n",
      "solo strings\n",
      "solo strings\n",
      "solo strings\n",
      "solo strings\n",
      "solo strings\n",
      "solo strings\n",
      "solo strings\n",
      "solo strings\n",
      "solo strings\n",
      "solo strings\n",
      "solo strings\n",
      "solo strings\n",
      "solo strings\n",
      "solo strings\n",
      "solo strings\n",
      "solo strings\n",
      "solo strings\n",
      "solo strings\n",
      "solo strings\n",
      "solo strings\n",
      "solo strings\n",
      "solo strings\n",
      "solo strings\n",
      "solo strings\n",
      "solo strings\n",
      "solo strings\n",
      "solo strings\n",
      "solo strings\n",
      "solo strings\n",
      "solo strings\n",
      "solo strings\n",
      "solo strings\n",
      "solo strings\n",
      "solo strings\n",
      "solo strings\n",
      "solo strings\n",
      "solo strings\n",
      "solo strings\n",
      "solo strings\n",
      "solo strings\n",
      "solo strings\n",
      "solo strings\n",
      "solo strings\n",
      "solo strings\n",
      "solo strings\n",
      "solo strings\n",
      "solo strings\n",
      "solo strings\n",
      "solo strings\n",
      "solo strings\n",
      "solo strings\n",
      "solo strings\n",
      "solo strings\n",
      "solo strings\n",
      "solo strings\n",
      "solo strings\n",
      "solo strings\n",
      "solo strings\n",
      "solo strings\n",
      "solo strings\n",
      "solo strings\n",
      "solo strings\n",
      "solo strings\n",
      "solo strings\n",
      "solo strings\n",
      "solo strings\n",
      "solo strings\n",
      "solo strings\n",
      "solo strings\n",
      "solo strings\n",
      "solo strings\n",
      "solo strings\n",
      "solo strings\n",
      "solo strings\n",
      "solo strings\n",
      "solo strings\n",
      "solo strings\n",
      "solo strings\n",
      "solo strings\n",
      "solo strings\n",
      "solo strings\n",
      "solo strings\n",
      "solo strings\n",
      "solo strings\n",
      "solo strings\n",
      "solo strings\n",
      "solo strings\n",
      "solo strings\n",
      "solo strings\n",
      "solo strings\n",
      "solo strings\n",
      "solo strings\n",
      "solo strings\n",
      "solo strings\n",
      "solo strings\n",
      "solo strings\n",
      "solo strings\n",
      "solo strings\n",
      "solo strings\n",
      "solo strings\n",
      "solo strings\n",
      "solo strings\n",
      "solo strings\n",
      "solo strings\n",
      "solo strings\n",
      "solo strings\n",
      "solo strings\n",
      "solo strings\n",
      "solo strings\n",
      "solo strings\n",
      "solo strings\n",
      "solo strings\n",
      "solo strings\n",
      "solo strings\n",
      "solo strings\n",
      "solo strings\n",
      "solo strings\n",
      "solo strings\n",
      "solo strings\n",
      "solo strings\n",
      "solo strings\n",
      "solo strings\n",
      "solo strings\n",
      "solo strings\n",
      "solo strings\n",
      "solo strings\n",
      "solo strings\n",
      "solo strings\n",
      "solo strings\n",
      "solo strings\n",
      "solo strings\n",
      "solo strings\n",
      "solo strings\n",
      "solo strings\n",
      "solo strings\n",
      "solo strings\n",
      "solo strings\n",
      "solo strings\n",
      "solo strings\n",
      "solo strings\n",
      "solo strings\n",
      "solo strings\n",
      "solo strings\n",
      "solo strings\n",
      "solo strings\n",
      "solo strings\n",
      "solo strings\n",
      "solo strings\n",
      "solo strings\n",
      "solo strings\n",
      "solo strings\n",
      "solo strings\n",
      "solo strings\n",
      "solo strings\n",
      "solo strings\n",
      "solo strings\n",
      "solo strings\n",
      "solo strings\n",
      "solo strings\n",
      "solo strings\n",
      "solo strings\n",
      "solo strings\n",
      "solo strings\n",
      "solo strings\n",
      "solo strings\n",
      "solo strings\n",
      "solo strings\n",
      "solo strings\n",
      "solo strings\n",
      "solo strings\n",
      "solo strings\n",
      "solo strings\n",
      "solo strings\n",
      "solo strings\n",
      "solo strings\n",
      "solo strings\n",
      "solo strings\n",
      "solo strings\n",
      "solo strings\n",
      "solo strings\n",
      "solo strings\n",
      "solo strings\n",
      "solo strings\n",
      "solo strings\n",
      "solo strings\n",
      "solo strings\n",
      "solo strings\n",
      "solo strings\n",
      "solo strings\n",
      "solo strings\n",
      "solo strings\n",
      "solo strings\n",
      "solo strings\n",
      "solo strings\n",
      "solo strings\n",
      "solo strings\n",
      "solo strings\n",
      "solo strings\n",
      "solo strings\n",
      "solo strings\n",
      "solo strings\n",
      "solo strings\n",
      "solo strings\n",
      "solo strings\n",
      "solo strings\n",
      "solo strings\n",
      "solo strings\n",
      "solo strings\n",
      "solo strings\n",
      "solo strings\n",
      "solo strings\n",
      "solo strings\n",
      "solo strings\n",
      "solo strings\n",
      "solo strings\n",
      "solo strings\n",
      "solo strings\n",
      "solo strings\n",
      "solo strings\n",
      "solo strings\n",
      "solo strings\n",
      "solo strings\n",
      "solo strings\n",
      "solo strings\n",
      "solo strings\n",
      "solo strings\n",
      "solo strings\n",
      "solo strings\n",
      "solo strings\n",
      "solo strings\n",
      "solo strings\n",
      "solo strings\n",
      "solo strings\n",
      "solo strings\n",
      "solo strings\n",
      "solo strings\n",
      "solo strings\n",
      "solo strings\n",
      "solo strings\n",
      "solo strings\n",
      "solo strings\n",
      "solo strings\n",
      "solo strings\n",
      "solo strings\n",
      "solo strings\n",
      "solo strings\n",
      "solo strings\n",
      "solo strings\n",
      "solo strings\n",
      "solo strings\n",
      "solo strings\n",
      "solo strings\n",
      "solo strings\n",
      "solo strings\n",
      "solo strings\n",
      "solo strings\n",
      "solo strings\n",
      "solo strings\n",
      "solo strings\n",
      "solo strings\n",
      "solo strings\n",
      "solo strings\n",
      "solo strings\n",
      "solo strings\n",
      "solo strings\n",
      "solo strings\n",
      "solo strings\n",
      "solo strings\n",
      "solo strings\n",
      "solo strings\n",
      "solo strings\n",
      "solo strings\n",
      "solo strings\n",
      "solo strings\n",
      "solo strings\n",
      "solo strings\n",
      "solo strings\n",
      "solo strings\n",
      "solo strings\n",
      "solo strings\n",
      "solo strings\n",
      "solo strings\n",
      "solo strings\n",
      "solo strings\n",
      "solo strings\n",
      "solo strings\n",
      "solo strings\n",
      "solo strings\n",
      "solo strings\n",
      "solo strings\n",
      "solo strings\n",
      "solo strings\n",
      "solo strings\n",
      "solo strings\n",
      "solo strings\n",
      "solo strings\n",
      "solo strings\n",
      "solo strings\n",
      "solo strings\n",
      "solo strings\n",
      "solo strings\n",
      "solo strings\n",
      "solo strings\n",
      "solo strings\n",
      "solo strings\n",
      "solo strings\n",
      "solo strings\n",
      "solo strings\n",
      "solo strings\n",
      "solo strings\n",
      "solo strings\n",
      "solo strings\n",
      "solo strings\n",
      "solo strings\n",
      "solo strings\n",
      "solo strings\n",
      "solo strings\n",
      "solo strings\n",
      "solo strings\n",
      "solo strings\n",
      "solo strings\n",
      "solo strings\n",
      "solo strings\n",
      "solo strings\n",
      "solo strings\n",
      "solo strings\n",
      "solo strings\n",
      "solo strings\n",
      "solo strings\n",
      "solo strings\n",
      "solo strings\n",
      "solo strings\n",
      "solo strings\n",
      "solo strings\n",
      "solo strings\n",
      "solo strings\n",
      "solo strings\n",
      "solo strings\n",
      "solo strings\n",
      "solo strings\n",
      "solo strings\n",
      "solo strings\n",
      "solo strings\n",
      "solo strings\n",
      "solo strings\n",
      "solo strings\n",
      "solo strings\n",
      "solo strings\n",
      "solo strings\n",
      "solo strings\n",
      "solo strings\n",
      "solo strings\n",
      "solo strings\n",
      "solo strings\n",
      "solo strings\n",
      "solo strings\n",
      "solo strings\n",
      "solo strings\n",
      "solo strings\n",
      "solo strings\n",
      "solo strings\n",
      "solo strings\n",
      "solo strings\n",
      "solo strings\n",
      "solo strings\n",
      "solo strings\n",
      "solo strings\n",
      "solo strings\n",
      "solo strings\n",
      "solo strings\n",
      "solo strings\n",
      "solo strings\n",
      "solo strings\n",
      "solo strings\n",
      "solo strings\n",
      "solo strings\n",
      "solo strings\n",
      "solo strings\n",
      "solo strings\n",
      "solo strings\n",
      "solo strings\n",
      "solo strings\n",
      "solo strings\n",
      "solo strings\n",
      "solo strings\n",
      "solo strings\n",
      "solo strings\n",
      "solo strings\n",
      "solo strings\n",
      "solo strings\n",
      "solo strings\n",
      "solo strings\n",
      "solo strings\n",
      "solo strings\n",
      "solo strings\n",
      "solo strings\n",
      "solo strings\n",
      "solo strings\n",
      "solo strings\n",
      "solo strings\n",
      "solo strings\n",
      "solo strings\n",
      "solo strings\n",
      "solo strings\n",
      "solo strings\n",
      "solo strings\n",
      "solo strings\n",
      "solo strings\n",
      "solo strings\n",
      "solo strings\n",
      "solo strings\n",
      "solo strings\n",
      "solo strings\n",
      "solo strings\n",
      "solo strings\n",
      "solo strings\n",
      "solo strings\n",
      "solo strings\n",
      "solo strings\n",
      "solo strings\n",
      "solo strings\n",
      "solo strings\n",
      "solo strings\n",
      "solo strings\n",
      "solo strings\n",
      "solo strings\n",
      "solo strings\n",
      "solo strings\n",
      "solo strings\n",
      "solo strings\n",
      "solo strings\n",
      "solo strings\n",
      "solo strings\n",
      "solo strings\n",
      "solo strings\n",
      "solo strings\n",
      "solo strings\n",
      "solo strings\n",
      "solo strings\n",
      "solo strings\n",
      "solo strings\n",
      "solo strings\n",
      "solo strings\n",
      "solo strings\n",
      "solo strings\n",
      "solo strings\n",
      "solo strings\n",
      "solo strings\n",
      "solo strings\n",
      "solo strings\n",
      "solo strings\n",
      "solo strings\n",
      "solo strings\n",
      "solo strings\n",
      "solo strings\n",
      "solo strings\n",
      "solo strings\n",
      "solo strings\n",
      "solo strings\n",
      "solo strings\n",
      "solo strings\n",
      "solo strings\n",
      "solo strings\n",
      "solo strings\n",
      "solo strings\n",
      "solo strings\n",
      "solo strings\n",
      "solo strings\n",
      "solo strings\n",
      "solo strings\n",
      "solo strings\n",
      "solo strings\n",
      "solo strings\n",
      "solo strings\n",
      "solo strings\n",
      "solo strings\n",
      "solo strings\n",
      "solo strings\n",
      "solo strings\n",
      "solo strings\n",
      "solo strings\n",
      "solo strings\n",
      "solo strings\n",
      "solo strings\n",
      "solo strings\n",
      "solo strings\n",
      "solo strings\n",
      "solo strings\n",
      "solo strings\n",
      "solo strings\n",
      "solo strings\n",
      "solo strings\n",
      "solo strings\n",
      "solo strings\n",
      "solo strings\n",
      "solo strings\n",
      "solo strings\n",
      "solo strings\n",
      "solo strings\n",
      "solo strings\n",
      "solo strings\n",
      "solo strings\n",
      "solo strings\n",
      "solo strings\n",
      "solo strings\n",
      "solo strings\n",
      "solo strings\n",
      "solo strings\n",
      "solo strings\n",
      "solo strings\n",
      "solo strings\n",
      "solo strings\n",
      "solo strings\n",
      "solo strings\n",
      "solo strings\n",
      "solo strings\n",
      "solo strings\n",
      "solo strings\n",
      "solo strings\n",
      "solo strings\n",
      "solo strings\n",
      "solo strings\n",
      "solo strings\n",
      "solo strings\n",
      "solo strings\n",
      "solo strings\n",
      "solo strings\n",
      "solo strings\n",
      "solo strings\n",
      "solo strings\n",
      "solo strings\n",
      "solo strings\n",
      "solo strings\n",
      "solo strings\n",
      "solo strings\n",
      "solo strings\n",
      "solo strings\n",
      "solo strings\n",
      "solo strings\n",
      "solo strings\n",
      "solo strings\n",
      "solo strings\n",
      "solo strings\n",
      "solo strings\n",
      "solo strings\n",
      "solo strings\n",
      "solo strings\n",
      "solo strings\n",
      "solo strings\n",
      "solo strings\n",
      "solo strings\n",
      "solo strings\n",
      "solo strings\n",
      "solo strings\n",
      "solo strings\n",
      "solo strings\n",
      "solo strings\n",
      "solo strings\n",
      "solo strings\n",
      "solo strings\n",
      "solo strings\n",
      "solo strings\n",
      "solo strings\n",
      "solo strings\n",
      "solo strings\n",
      "solo strings\n",
      "solo strings\n",
      "solo strings\n",
      "solo strings\n",
      "solo strings\n",
      "solo strings\n",
      "solo strings\n",
      "solo strings\n",
      "solo strings\n",
      "solo strings\n",
      "solo strings\n",
      "solo strings\n",
      "solo strings\n",
      "solo strings\n"
     ]
    },
    {
     "name": "stdout",
     "output_type": "stream",
     "text": [
      "solo strings\n",
      "solo strings\n",
      "solo strings\n",
      "solo strings\n",
      "solo strings\n",
      "solo strings\n",
      "solo strings\n",
      "solo strings\n",
      "solo strings\n",
      "solo strings\n",
      "solo strings\n",
      "solo strings\n",
      "solo strings\n",
      "solo strings\n",
      "solo strings\n",
      "solo strings\n",
      "solo strings\n",
      "solo strings\n",
      "solo strings\n",
      "solo strings\n",
      "solo strings\n",
      "solo strings\n",
      "solo strings\n",
      "solo strings\n",
      "solo strings\n",
      "solo strings\n",
      "solo strings\n",
      "solo strings\n",
      "solo strings\n",
      "solo strings\n",
      "solo strings\n",
      "solo strings\n",
      "solo strings\n",
      "solo strings\n",
      "solo strings\n",
      "solo strings\n",
      "solo strings\n",
      "solo strings\n",
      "solo strings\n",
      "solo strings\n",
      "solo strings\n",
      "solo strings\n",
      "solo strings\n",
      "solo strings\n",
      "solo strings\n",
      "solo strings\n",
      "solo strings\n",
      "solo strings\n",
      "solo strings\n",
      "solo strings\n",
      "solo strings\n",
      "solo strings\n",
      "solo strings\n",
      "solo strings\n",
      "solo strings\n",
      "solo strings\n",
      "solo strings\n",
      "solo strings\n",
      "solo strings\n",
      "solo strings\n",
      "solo strings\n",
      "solo strings\n",
      "solo strings\n",
      "solo strings\n",
      "solo strings\n",
      "solo strings\n",
      "solo strings\n",
      "solo strings\n",
      "solo strings\n",
      "solo strings\n",
      "solo strings\n",
      "solo strings\n",
      "solo strings\n",
      "solo strings\n",
      "solo strings\n",
      "solo strings\n",
      "solo strings\n",
      "solo strings\n",
      "solo strings\n",
      "solo strings\n",
      "solo strings\n",
      "solo strings\n",
      "solo strings\n",
      "solo strings\n",
      "solo strings\n",
      "solo strings\n",
      "solo strings\n",
      "solo strings\n",
      "solo strings\n",
      "solo strings\n",
      "solo strings\n",
      "solo strings\n",
      "solo strings\n",
      "solo strings\n",
      "solo strings\n",
      "solo strings\n",
      "solo strings\n",
      "solo strings\n",
      "solo strings\n",
      "solo strings\n",
      "solo strings\n",
      "solo strings\n",
      "solo strings\n",
      "solo strings\n",
      "solo strings\n",
      "solo strings\n",
      "solo strings\n",
      "solo strings\n",
      "solo strings\n",
      "solo strings\n",
      "solo strings\n",
      "solo strings\n",
      "solo strings\n",
      "solo strings\n",
      "solo strings\n",
      "solo strings\n",
      "solo strings\n",
      "solo strings\n",
      "solo strings\n",
      "solo strings\n",
      "solo strings\n",
      "solo strings\n",
      "solo strings\n",
      "solo strings\n",
      "solo strings\n",
      "solo strings\n",
      "solo strings\n",
      "solo strings\n",
      "solo strings\n",
      "solo strings\n",
      "solo strings\n",
      "solo strings\n",
      "solo strings\n",
      "solo strings\n",
      "solo strings\n",
      "solo strings\n",
      "solo strings\n",
      "solo strings\n",
      "solo strings\n",
      "solo strings\n",
      "solo strings\n",
      "solo strings\n",
      "solo strings\n",
      "solo strings\n",
      "solo strings\n",
      "solo strings\n",
      "solo strings\n",
      "solo strings\n",
      "solo strings\n",
      "solo strings\n",
      "solo strings\n",
      "solo strings\n",
      "solo strings\n",
      "solo strings\n",
      "solo strings\n",
      "solo strings\n",
      "solo strings\n",
      "solo strings\n",
      "solo strings\n",
      "solo strings\n",
      "solo strings\n",
      "solo strings\n",
      "solo strings\n",
      "solo strings\n",
      "solo strings\n",
      "solo strings\n",
      "solo strings\n",
      "solo strings\n",
      "solo strings\n",
      "solo strings\n",
      "solo strings\n",
      "solo strings\n",
      "solo strings\n",
      "solo strings\n",
      "solo strings\n",
      "solo strings\n",
      "solo strings\n",
      "solo strings\n",
      "solo strings\n",
      "solo strings\n",
      "solo strings\n",
      "solo strings\n",
      "solo strings\n",
      "solo strings\n",
      "solo strings\n",
      "solo strings\n",
      "solo strings\n",
      "solo strings\n",
      "solo strings\n",
      "solo strings\n",
      "solo strings\n",
      "solo strings\n",
      "solo strings\n",
      "solo strings\n",
      "solo strings\n",
      "solo strings\n",
      "solo strings\n",
      "solo strings\n",
      "solo strings\n",
      "solo strings\n",
      "solo strings\n",
      "solo strings\n",
      "solo strings\n",
      "solo strings\n",
      "solo strings\n",
      "solo strings\n",
      "solo strings\n",
      "solo strings\n",
      "solo strings\n",
      "solo strings\n",
      "solo strings\n",
      "solo strings\n",
      "solo strings\n",
      "solo strings\n",
      "solo strings\n",
      "solo strings\n",
      "solo strings\n",
      "solo strings\n",
      "solo strings\n",
      "solo strings\n",
      "solo strings\n",
      "solo strings\n",
      "solo strings\n",
      "solo strings\n",
      "solo strings\n",
      "solo strings\n",
      "solo strings\n",
      "solo strings\n",
      "solo strings\n",
      "solo strings\n",
      "solo strings\n",
      "solo strings\n",
      "solo strings\n",
      "solo strings\n",
      "solo strings\n",
      "solo strings\n",
      "solo strings\n",
      "solo strings\n",
      "solo strings\n",
      "solo strings\n",
      "solo strings\n",
      "solo strings\n",
      "solo strings\n",
      "solo strings\n",
      "solo strings\n",
      "solo strings\n",
      "solo strings\n",
      "solo strings\n",
      "solo strings\n",
      "solo strings\n",
      "solo strings\n",
      "solo strings\n",
      "solo strings\n",
      "solo strings\n",
      "solo strings\n",
      "solo strings\n",
      "solo strings\n",
      "solo strings\n",
      "solo strings\n",
      "solo strings\n",
      "solo strings\n",
      "solo strings\n",
      "solo strings\n",
      "solo strings\n",
      "solo strings\n",
      "solo strings\n",
      "solo strings\n",
      "solo strings\n",
      "solo strings\n",
      "solo strings\n",
      "solo strings\n",
      "solo strings\n",
      "solo strings\n",
      "solo strings\n",
      "solo strings\n",
      "solo strings\n",
      "solo strings\n",
      "solo strings\n",
      "solo strings\n",
      "solo strings\n",
      "solo strings\n",
      "solo strings\n",
      "solo strings\n",
      "solo strings\n",
      "solo strings\n",
      "solo strings\n",
      "solo strings\n",
      "solo strings\n",
      "solo strings\n",
      "solo strings\n",
      "solo strings\n",
      "solo strings\n",
      "solo strings\n",
      "solo strings\n",
      "solo strings\n",
      "solo strings\n",
      "solo strings\n",
      "solo strings\n",
      "solo strings\n",
      "solo strings\n",
      "solo strings\n",
      "solo strings\n",
      "solo strings\n",
      "solo strings\n",
      "solo strings\n",
      "solo strings\n",
      "solo strings\n",
      "solo strings\n",
      "solo strings\n",
      "solo strings\n",
      "solo strings\n",
      "solo strings\n",
      "solo strings\n",
      "solo strings\n",
      "solo strings\n",
      "solo strings\n",
      "solo strings\n",
      "solo strings\n",
      "solo strings\n",
      "solo strings\n",
      "solo strings\n",
      "solo strings\n",
      "solo strings\n",
      "solo strings\n",
      "solo strings\n",
      "solo strings\n",
      "solo strings\n",
      "solo strings\n",
      "solo strings\n",
      "solo strings\n",
      "solo strings\n",
      "solo strings\n",
      "solo strings\n",
      "solo strings\n",
      "solo strings\n",
      "solo strings\n",
      "solo strings\n",
      "solo strings\n",
      "solo strings\n",
      "solo strings\n",
      "solo strings\n",
      "solo strings\n",
      "solo strings\n",
      "solo strings\n",
      "solo strings\n",
      "solo strings\n",
      "solo strings\n",
      "solo strings\n",
      "solo strings\n",
      "solo strings\n",
      "solo strings\n",
      "solo strings\n",
      "solo strings\n",
      "solo strings\n",
      "solo strings\n",
      "solo strings\n",
      "solo strings\n",
      "solo strings\n",
      "solo strings\n",
      "solo strings\n",
      "solo strings\n",
      "solo strings\n",
      "solo strings\n",
      "solo strings\n",
      "solo strings\n",
      "solo strings\n",
      "solo strings\n",
      "solo strings\n",
      "solo strings\n",
      "solo strings\n",
      "solo strings\n",
      "solo strings\n",
      "solo strings\n",
      "solo strings\n",
      "solo strings\n",
      "solo strings\n",
      "solo strings\n",
      "solo strings\n",
      "solo strings\n",
      "solo strings\n",
      "solo strings\n",
      "solo strings\n",
      "solo strings\n",
      "solo strings\n",
      "solo strings\n",
      "solo strings\n",
      "solo strings\n",
      "solo strings\n",
      "solo strings\n",
      "solo strings\n",
      "solo strings\n",
      "solo strings\n",
      "solo strings\n",
      "solo strings\n",
      "solo strings\n",
      "solo strings\n",
      "solo strings\n",
      "solo strings\n",
      "solo strings\n",
      "solo strings\n",
      "solo strings\n",
      "solo strings\n",
      "solo strings\n",
      "solo strings\n",
      "solo strings\n",
      "solo strings\n",
      "solo strings\n",
      "solo strings\n",
      "solo strings\n",
      "solo strings\n",
      "solo strings\n",
      "solo strings\n",
      "solo strings\n",
      "solo strings\n",
      "solo strings\n",
      "solo strings\n",
      "solo strings\n",
      "solo strings\n",
      "solo strings\n",
      "solo strings\n",
      "solo strings\n",
      "solo strings\n",
      "solo strings\n",
      "solo strings\n",
      "solo strings\n",
      "solo strings\n",
      "solo strings\n",
      "solo strings\n",
      "solo strings\n",
      "solo strings\n",
      "solo strings\n",
      "solo strings\n",
      "solo strings\n",
      "solo strings\n",
      "solo strings\n",
      "solo strings\n",
      "solo strings\n",
      "solo strings\n",
      "solo strings\n",
      "solo strings\n",
      "solo strings\n",
      "solo strings\n",
      "solo strings\n",
      "solo strings\n",
      "solo strings\n",
      "solo strings\n",
      "solo strings\n",
      "solo strings\n",
      "solo strings\n",
      "solo strings\n",
      "solo strings\n",
      "solo strings\n",
      "solo strings\n",
      "solo strings\n",
      "solo strings\n",
      "solo strings\n",
      "solo strings\n",
      "solo strings\n",
      "solo strings\n",
      "solo strings\n",
      "solo strings\n",
      "solo strings\n",
      "solo strings\n",
      "solo strings\n",
      "solo strings\n",
      "solo strings\n",
      "solo strings\n",
      "solo strings\n",
      "solo strings\n",
      "solo strings\n",
      "solo strings\n",
      "solo strings\n",
      "solo strings\n",
      "solo strings\n",
      "solo strings\n",
      "solo strings\n",
      "solo strings\n",
      "solo strings\n",
      "solo strings\n",
      "solo strings\n",
      "solo strings\n"
     ]
    },
    {
     "ename": "RecursionError",
     "evalue": "maximum recursion depth exceeded while calling a Python object",
     "output_type": "error",
     "traceback": [
      "\u001b[1;31m---------------------------------------------------------------------------\u001b[0m",
      "\u001b[1;31mRecursionError\u001b[0m                            Traceback (most recent call last)",
      "\u001b[1;32m<ipython-input-94-98b41ab1fc5b>\u001b[0m in \u001b[0;36m<module>\u001b[1;34m\u001b[0m\n\u001b[1;32m----> 1\u001b[1;33m \u001b[0mhello_int\u001b[0m\u001b[1;33m(\u001b[0m\u001b[1;36m2\u001b[0m\u001b[1;33m)\u001b[0m\u001b[1;33m\u001b[0m\u001b[1;33m\u001b[0m\u001b[0m\n\u001b[0m",
      "\u001b[1;32m<ipython-input-91-e6e428373731>\u001b[0m in \u001b[0;36mhello_int\u001b[1;34m(nombre)\u001b[0m\n\u001b[0;32m      3\u001b[0m     \u001b[1;32mif\u001b[0m \u001b[0misinstance\u001b[0m\u001b[1;33m(\u001b[0m\u001b[0mnombre_1\u001b[0m\u001b[1;33m,\u001b[0m\u001b[0mint\u001b[0m\u001b[1;33m)\u001b[0m\u001b[1;33m:\u001b[0m \u001b[1;31m#isinstance nos ayuda nos a verificar los tipos de datos\u001b[0m\u001b[1;33m\u001b[0m\u001b[1;33m\u001b[0m\u001b[0m\n\u001b[0;32m      4\u001b[0m         \u001b[0mprint\u001b[0m\u001b[1;33m(\u001b[0m\u001b[1;34m'solo strings'\u001b[0m\u001b[1;33m)\u001b[0m\u001b[1;33m\u001b[0m\u001b[1;33m\u001b[0m\u001b[0m\n\u001b[1;32m----> 5\u001b[1;33m         \u001b[1;32mreturn\u001b[0m \u001b[0mhello_3\u001b[0m\u001b[1;33m(\u001b[0m\u001b[0mnombre_1\u001b[0m\u001b[1;33m)\u001b[0m\u001b[1;33m\u001b[0m\u001b[1;33m\u001b[0m\u001b[0m\n\u001b[0m\u001b[0;32m      6\u001b[0m     \u001b[1;32melse\u001b[0m\u001b[1;33m:\u001b[0m\u001b[1;33m\u001b[0m\u001b[1;33m\u001b[0m\u001b[0m\n\u001b[0;32m      7\u001b[0m         \u001b[0mnombre_in\u001b[0m \u001b[1;33m=\u001b[0m \u001b[1;34mf'hola {nombre}'\u001b[0m\u001b[1;33m\u001b[0m\u001b[1;33m\u001b[0m\u001b[0m\n",
      "\u001b[1;32m<ipython-input-83-dfedb88e39c3>\u001b[0m in \u001b[0;36mhello_3\u001b[1;34m(nombre)\u001b[0m\n\u001b[0;32m      2\u001b[0m     \u001b[1;32mif\u001b[0m \u001b[0misinstance\u001b[0m\u001b[1;33m(\u001b[0m\u001b[0mnombre\u001b[0m\u001b[1;33m,\u001b[0m\u001b[0mint\u001b[0m\u001b[1;33m)\u001b[0m\u001b[1;33m:\u001b[0m \u001b[1;31m#isinstance nos ayuda nos a verificar los tipos de datos\u001b[0m\u001b[1;33m\u001b[0m\u001b[1;33m\u001b[0m\u001b[0m\n\u001b[0;32m      3\u001b[0m         \u001b[0mprint\u001b[0m\u001b[1;33m(\u001b[0m\u001b[1;34m'solo strings'\u001b[0m\u001b[1;33m)\u001b[0m\u001b[1;33m\u001b[0m\u001b[1;33m\u001b[0m\u001b[0m\n\u001b[1;32m----> 4\u001b[1;33m         \u001b[1;32mreturn\u001b[0m \u001b[0mhello_3\u001b[0m\u001b[1;33m(\u001b[0m\u001b[0mnombre\u001b[0m\u001b[1;33m)\u001b[0m\u001b[1;33m\u001b[0m\u001b[1;33m\u001b[0m\u001b[0m\n\u001b[0m\u001b[0;32m      5\u001b[0m     \u001b[1;32melse\u001b[0m\u001b[1;33m:\u001b[0m\u001b[1;33m\u001b[0m\u001b[1;33m\u001b[0m\u001b[0m\n\u001b[0;32m      6\u001b[0m         \u001b[0mnombre_in\u001b[0m \u001b[1;33m=\u001b[0m \u001b[1;34mf'hola {nombre}'\u001b[0m\u001b[1;33m\u001b[0m\u001b[1;33m\u001b[0m\u001b[0m\n",
      "... last 1 frames repeated, from the frame below ...\n",
      "\u001b[1;32m<ipython-input-83-dfedb88e39c3>\u001b[0m in \u001b[0;36mhello_3\u001b[1;34m(nombre)\u001b[0m\n\u001b[0;32m      2\u001b[0m     \u001b[1;32mif\u001b[0m \u001b[0misinstance\u001b[0m\u001b[1;33m(\u001b[0m\u001b[0mnombre\u001b[0m\u001b[1;33m,\u001b[0m\u001b[0mint\u001b[0m\u001b[1;33m)\u001b[0m\u001b[1;33m:\u001b[0m \u001b[1;31m#isinstance nos ayuda nos a verificar los tipos de datos\u001b[0m\u001b[1;33m\u001b[0m\u001b[1;33m\u001b[0m\u001b[0m\n\u001b[0;32m      3\u001b[0m         \u001b[0mprint\u001b[0m\u001b[1;33m(\u001b[0m\u001b[1;34m'solo strings'\u001b[0m\u001b[1;33m)\u001b[0m\u001b[1;33m\u001b[0m\u001b[1;33m\u001b[0m\u001b[0m\n\u001b[1;32m----> 4\u001b[1;33m         \u001b[1;32mreturn\u001b[0m \u001b[0mhello_3\u001b[0m\u001b[1;33m(\u001b[0m\u001b[0mnombre\u001b[0m\u001b[1;33m)\u001b[0m\u001b[1;33m\u001b[0m\u001b[1;33m\u001b[0m\u001b[0m\n\u001b[0m\u001b[0;32m      5\u001b[0m     \u001b[1;32melse\u001b[0m\u001b[1;33m:\u001b[0m\u001b[1;33m\u001b[0m\u001b[1;33m\u001b[0m\u001b[0m\n\u001b[0;32m      6\u001b[0m         \u001b[0mnombre_in\u001b[0m \u001b[1;33m=\u001b[0m \u001b[1;34mf'hola {nombre}'\u001b[0m\u001b[1;33m\u001b[0m\u001b[1;33m\u001b[0m\u001b[0m\n",
      "\u001b[1;31mRecursionError\u001b[0m: maximum recursion depth exceeded while calling a Python object"
     ]
    }
   ],
   "source": [
    "hello_int(2)"
   ]
  },
  {
   "cell_type": "code",
   "execution_count": 46,
   "metadata": {},
   "outputs": [
    {
     "ename": "SyntaxError",
     "evalue": "'break' outside loop (<ipython-input-46-050ba55de4c1>, line 10)",
     "output_type": "error",
     "traceback": [
      "\u001b[1;36m  File \u001b[1;32m\"<ipython-input-46-050ba55de4c1>\"\u001b[1;36m, line \u001b[1;32m10\u001b[0m\n\u001b[1;31mSyntaxError\u001b[0m\u001b[1;31m:\u001b[0m 'break' outside loop\n"
     ]
    }
   ],
   "source": [
    "def hello_3(nombre):\n",
    "    if isinstance(nombre,str):\n",
    "        nombre_in = f'hola {nombre}'\n",
    "        return nombre_in \n",
    "    else:\n",
    "        print('Se aceptan solo strings')\n",
    "        #nombre = input('Pon un string porfavor :')\n",
    "        return hello_3(nombre)"
   ]
  },
  {
   "cell_type": "code",
   "execution_count": 45,
   "metadata": {},
   "outputs": [
    {
     "name": "stdout",
     "output_type": "stream",
     "text": [
      "Se aceptan solo strings\n",
      "Pon un string porfavor :2\n"
     ]
    },
    {
     "data": {
      "text/plain": [
       "'hola 2'"
      ]
     },
     "execution_count": 45,
     "metadata": {},
     "output_type": "execute_result"
    }
   ],
   "source": [
    "hello_3(2)"
   ]
  },
  {
   "cell_type": "code",
   "execution_count": 69,
   "metadata": {},
   "outputs": [],
   "source": [
    "def suma(a,b,c):\n",
    "    return a+b+c"
   ]
  },
  {
   "cell_type": "code",
   "execution_count": 55,
   "metadata": {},
   "outputs": [],
   "source": [
    "resultado = suma(2,5,7)"
   ]
  },
  {
   "cell_type": "code",
   "execution_count": 56,
   "metadata": {},
   "outputs": [
    {
     "data": {
      "text/plain": [
       "14"
      ]
     },
     "execution_count": 56,
     "metadata": {},
     "output_type": "execute_result"
    }
   ],
   "source": [
    "resultado"
   ]
  },
  {
   "cell_type": "code",
   "execution_count": 64,
   "metadata": {},
   "outputs": [],
   "source": [
    "def suma_2(a,b,c):\n",
    "    resultado_2 = a+b+c\n",
    "    return resultado_2"
   ]
  },
  {
   "cell_type": "code",
   "execution_count": 67,
   "metadata": {},
   "outputs": [],
   "source": [
    "resultado_2 = suma_2(2,5,7)"
   ]
  },
  {
   "cell_type": "code",
   "execution_count": 68,
   "metadata": {},
   "outputs": [
    {
     "data": {
      "text/plain": [
       "14"
      ]
     },
     "execution_count": 68,
     "metadata": {},
     "output_type": "execute_result"
    }
   ],
   "source": [
    "resultado_2"
   ]
  },
  {
   "cell_type": "code",
   "execution_count": 70,
   "metadata": {},
   "outputs": [
    {
     "data": {
      "text/plain": [
       "16"
      ]
     },
     "execution_count": 70,
     "metadata": {},
     "output_type": "execute_result"
    }
   ],
   "source": [
    "suma(1,suma(2,3,4),6) #se pueden llamar funciones como argumetnos de otras funciones"
   ]
  },
  {
   "cell_type": "code",
   "execution_count": 74,
   "metadata": {},
   "outputs": [],
   "source": [
    "def suma_3(a,b,c=1): #podemos predefinir argumentos de entrada\n",
    "    return a+b+c"
   ]
  },
  {
   "cell_type": "code",
   "execution_count": 76,
   "metadata": {},
   "outputs": [
    {
     "data": {
      "text/plain": [
       "10"
      ]
     },
     "execution_count": 76,
     "metadata": {},
     "output_type": "execute_result"
    }
   ],
   "source": [
    "suma_3(8,1)"
   ]
  },
  {
   "cell_type": "code",
   "execution_count": 77,
   "metadata": {},
   "outputs": [
    {
     "data": {
      "text/plain": [
       "14"
      ]
     },
     "execution_count": 77,
     "metadata": {},
     "output_type": "execute_result"
    }
   ],
   "source": [
    "suma_3(3,5,6)"
   ]
  },
  {
   "cell_type": "code",
   "execution_count": 78,
   "metadata": {},
   "outputs": [
    {
     "data": {
      "text/plain": [
       "5"
      ]
     },
     "execution_count": 78,
     "metadata": {},
     "output_type": "execute_result"
    }
   ],
   "source": [
    "suma_3(c = 3, b = 2, a = 0)"
   ]
  },
  {
   "cell_type": "code",
   "execution_count": 97,
   "metadata": {},
   "outputs": [],
   "source": [
    "#scope\n",
    "#Refiere en que nivel esta trbajando las variables; pueden trabajar a nivel local y global\n",
    "z = 2 #scope global\n",
    "def suma_s(b):\n",
    "    c = 20 #scope local\n",
    "    return z+b+c"
   ]
  },
  {
   "cell_type": "code",
   "execution_count": 100,
   "metadata": {},
   "outputs": [
    {
     "data": {
      "text/plain": [
       "25"
      ]
     },
     "execution_count": 100,
     "metadata": {},
     "output_type": "execute_result"
    }
   ],
   "source": [
    "suma_s(3)"
   ]
  },
  {
   "cell_type": "code",
   "execution_count": 110,
   "metadata": {},
   "outputs": [],
   "source": [
    "z = 2 #scope global\n",
    "def suma_s(b):\n",
    "    global c\n",
    "    c = 20 #scope local\n",
    "    return z+b+c"
   ]
  },
  {
   "cell_type": "code",
   "execution_count": 102,
   "metadata": {},
   "outputs": [
    {
     "data": {
      "text/plain": [
       "27"
      ]
     },
     "execution_count": 102,
     "metadata": {},
     "output_type": "execute_result"
    }
   ],
   "source": [
    "suma_s(5)"
   ]
  },
  {
   "cell_type": "code",
   "execution_count": 103,
   "metadata": {},
   "outputs": [
    {
     "data": {
      "text/plain": [
       "20"
      ]
     },
     "execution_count": 103,
     "metadata": {},
     "output_type": "execute_result"
    }
   ],
   "source": [
    "c"
   ]
  },
  {
   "cell_type": "code",
   "execution_count": 113,
   "metadata": {},
   "outputs": [],
   "source": [
    "def resta(a): #\n",
    "    a = suma_s(6)\n",
    "    return 10-a"
   ]
  },
  {
   "cell_type": "code",
   "execution_count": 115,
   "metadata": {},
   "outputs": [
    {
     "data": {
      "text/plain": [
       "-18"
      ]
     },
     "execution_count": 115,
     "metadata": {},
     "output_type": "execute_result"
    }
   ],
   "source": [
    "resta()#Se definio el resultado de la suma previamente por lo que le resultado no cambiara hasta cambiar el resultado de la suma"
   ]
  },
  {
   "cell_type": "code",
   "execution_count": 145,
   "metadata": {},
   "outputs": [],
   "source": [
    "def hola():\n",
    "    def adios():\n",
    "        despedida = 'hasta luego' #scope superinterno\n",
    "        return despedida\n",
    "    desp_2 = adios()\n",
    "    desp_2 = desp_2+' jovenazo' #scope primario\n",
    "    \n",
    "    return desp_2 #regresa a scope global si y solo si se asigna variable"
   ]
  },
  {
   "cell_type": "code",
   "execution_count": 146,
   "metadata": {},
   "outputs": [
    {
     "data": {
      "text/plain": [
       "'hasta luego jovenazo'"
      ]
     },
     "execution_count": 146,
     "metadata": {},
     "output_type": "execute_result"
    }
   ],
   "source": [
    "hola()"
   ]
  },
  {
   "cell_type": "code",
   "execution_count": 148,
   "metadata": {},
   "outputs": [],
   "source": [
    "hola = hola()"
   ]
  },
  {
   "cell_type": "code",
   "execution_count": 149,
   "metadata": {},
   "outputs": [
    {
     "data": {
      "text/plain": [
       "'hasta luego jovenazo'"
      ]
     },
     "execution_count": 149,
     "metadata": {},
     "output_type": "execute_result"
    }
   ],
   "source": [
    "hola"
   ]
  },
  {
   "cell_type": "code",
   "execution_count": 154,
   "metadata": {},
   "outputs": [],
   "source": [
    "#*args #*kwargs\n",
    "def saludo(nombre, lang = 'es', alumno = True): #Se pueden poner los argumentos de entrada que seran por default\n",
    "    s = ''\n",
    "    \n",
    "    if alumno:\n",
    "        s = 'alumno!!!'\n",
    "        \n",
    "    if lang == 'es':\n",
    "        print(f'Hola {nombre}, {s}')\n",
    "        \n",
    "    else:\n",
    "        print(f'Hello {nombre}, {s}')"
   ]
  },
  {
   "cell_type": "code",
   "execution_count": 155,
   "metadata": {},
   "outputs": [
    {
     "name": "stdout",
     "output_type": "stream",
     "text": [
      "Hola Martin, alumno!!!\n"
     ]
    }
   ],
   "source": [
    "saludo('Martin')"
   ]
  },
  {
   "cell_type": "code",
   "execution_count": 162,
   "metadata": {},
   "outputs": [
    {
     "name": "stdout",
     "output_type": "stream",
     "text": [
      "Hello Sebas, \n"
     ]
    }
   ],
   "source": [
    "saludo(lang = 'en', nombre = 'Sebas', alumno = False) #Se pueden modificar los argumentos que son por default"
   ]
  },
  {
   "cell_type": "code",
   "execution_count": 160,
   "metadata": {},
   "outputs": [
    {
     "ename": "TypeError",
     "evalue": "saludo() got multiple values for argument 'nombre'",
     "output_type": "error",
     "traceback": [
      "\u001b[1;31m---------------------------------------------------------------------------\u001b[0m",
      "\u001b[1;31mTypeError\u001b[0m                                 Traceback (most recent call last)",
      "\u001b[1;32m<ipython-input-160-ca349f9a6acd>\u001b[0m in \u001b[0;36m<module>\u001b[1;34m\u001b[0m\n\u001b[1;32m----> 1\u001b[1;33m \u001b[0msaludo\u001b[0m\u001b[1;33m(\u001b[0m\u001b[1;34m'en'\u001b[0m\u001b[1;33m,\u001b[0m\u001b[0mnombre\u001b[0m \u001b[1;33m=\u001b[0m \u001b[1;34m'Sebas'\u001b[0m\u001b[1;33m,\u001b[0m \u001b[0malumno\u001b[0m \u001b[1;33m=\u001b[0m \u001b[1;32mFalse\u001b[0m\u001b[1;33m)\u001b[0m\u001b[1;33m\u001b[0m\u001b[1;33m\u001b[0m\u001b[0m\n\u001b[0m",
      "\u001b[1;31mTypeError\u001b[0m: saludo() got multiple values for argument 'nombre'"
     ]
    }
   ],
   "source": [
    "saludo('en',nombre = 'Sebas', alumno = False) #Si se cambian los argumentos de posicion se especifica el argumento que se cambiara"
   ]
  },
  {
   "cell_type": "code",
   "execution_count": 165,
   "metadata": {},
   "outputs": [
    {
     "name": "stdout",
     "output_type": "stream",
     "text": [
      "Hola ['Juan', 'es'], alumno!!!\n"
     ]
    }
   ],
   "source": [
    "saludo(['Juan', 'es'])"
   ]
  },
  {
   "cell_type": "code",
   "execution_count": 167,
   "metadata": {},
   "outputs": [
    {
     "name": "stdout",
     "output_type": "stream",
     "text": [
      "Hello juan, \n"
     ]
    }
   ],
   "source": [
    "saludo(*['juan','en',False]) #Se puede poner varios argumentos con el '*'"
   ]
  },
  {
   "cell_type": "code",
   "execution_count": 170,
   "metadata": {},
   "outputs": [],
   "source": [
    "def saludo_multiple(*lista, lang = 'en'):\n",
    "    for i in lista:\n",
    "        saludo(i, lang)"
   ]
  },
  {
   "cell_type": "code",
   "execution_count": 175,
   "metadata": {},
   "outputs": [],
   "source": [
    "lst_n = ['oscar','paco','jimena','ruben']"
   ]
  },
  {
   "cell_type": "code",
   "execution_count": 176,
   "metadata": {},
   "outputs": [
    {
     "name": "stdout",
     "output_type": "stream",
     "text": [
      "Hola oscar, alumno!!!\n",
      "Hola paco, alumno!!!\n",
      "Hola jimena, alumno!!!\n",
      "Hola ruben, alumno!!!\n"
     ]
    }
   ],
   "source": [
    "saludo_multiple(*['oscar','paco','jimena','ruben'],lang = 'es') #Las listas se pueden usar como argumentos de entrada"
   ]
  },
  {
   "cell_type": "code",
   "execution_count": 177,
   "metadata": {},
   "outputs": [
    {
     "name": "stdout",
     "output_type": "stream",
     "text": [
      "Hola oscar, alumno!!!\n",
      "Hola paco, alumno!!!\n",
      "Hola jimena, alumno!!!\n",
      "Hola ruben, alumno!!!\n"
     ]
    }
   ],
   "source": [
    "saludo_multiple(*lst_n,lang = 'es')"
   ]
  },
  {
   "cell_type": "code",
   "execution_count": 182,
   "metadata": {},
   "outputs": [],
   "source": [
    "#kwargs\n",
    "\n",
    "def saludin_multiple(*lst, lang = 'en', alumno= False):\n",
    "    print(lst)\n",
    "    print(lang)\n",
    "    print(alumno)\n",
    "    \n",
    "    if alumno:\n",
    "        print('Te mereces una cheve')\n",
    "        \n",
    "    for i in lst:\n",
    "        saludo(i, lang) #Se retoma la funcion defina anteriormente 'Saludo' y se usara para cada uno de los nombres"
   ]
  },
  {
   "cell_type": "code",
   "execution_count": 183,
   "metadata": {},
   "outputs": [
    {
     "name": "stdout",
     "output_type": "stream",
     "text": [
      "('Mayumi', 'Ruben', 'Oscar')\n",
      "en\n",
      "False\n",
      "Hello Mayumi, alumno!!!\n",
      "Hello Ruben, alumno!!!\n",
      "Hello Oscar, alumno!!!\n"
     ]
    }
   ],
   "source": [
    "saludin_multiple('Mayumi','Ruben','Oscar')"
   ]
  },
  {
   "cell_type": "code",
   "execution_count": 187,
   "metadata": {},
   "outputs": [],
   "source": [
    "config = {'alumno':True,'lang':'es'}"
   ]
  },
  {
   "cell_type": "code",
   "execution_count": 188,
   "metadata": {},
   "outputs": [
    {
     "name": "stdout",
     "output_type": "stream",
     "text": [
      "('Mayumi', 'Ruben', 'Oscar')\n",
      "es\n",
      "True\n",
      "Te mereces una cheve\n",
      "Hola Mayumi, alumno!!!\n",
      "Hola Ruben, alumno!!!\n",
      "Hola Oscar, alumno!!!\n"
     ]
    }
   ],
   "source": [
    "saludin_multiple('Mayumi','Ruben','Oscar',**config)"
   ]
  },
  {
   "cell_type": "code",
   "execution_count": 201,
   "metadata": {},
   "outputs": [
    {
     "name": "stdout",
     "output_type": "stream",
     "text": [
      "('Mayumi', 'Ruben', 'Oscar')\n",
      "es\n",
      "True\n",
      "Te mereces una cheve\n",
      "Hola Mayumi, alumno!!!\n",
      "Hola Ruben, alumno!!!\n",
      "Hola Oscar, alumno!!!\n"
     ]
    }
   ],
   "source": [
    "saludin_multiple(*['Mayumi','Ruben','Oscar'],**config)"
   ]
  },
  {
   "cell_type": "code",
   "execution_count": 193,
   "metadata": {},
   "outputs": [],
   "source": [
    "def func(*args, **kwargs):\n",
    "    print(f'Argumentos de la funcion {list(args)}')\n",
    "    print(f'Argumentos de llave y valor {kwargs}')"
   ]
  },
  {
   "cell_type": "code",
   "execution_count": 194,
   "metadata": {},
   "outputs": [
    {
     "name": "stdout",
     "output_type": "stream",
     "text": [
      "Argumentos de la funcion [1, 4, 5, 6]\n",
      "Argumentos de llave y valor {'alumno': True, 'lang': 'es'}\n"
     ]
    }
   ],
   "source": [
    "func(*[1,4,5,6],**config)"
   ]
  },
  {
   "cell_type": "markdown",
   "metadata": {},
   "source": [
    "# Generadores"
   ]
  },
  {
   "cell_type": "code",
   "execution_count": 202,
   "metadata": {},
   "outputs": [],
   "source": [
    "n = [i for i in range(10)]"
   ]
  },
  {
   "cell_type": "code",
   "execution_count": 203,
   "metadata": {},
   "outputs": [
    {
     "data": {
      "text/plain": [
       "[0, 1, 2, 3, 4, 5, 6, 7, 8, 9]"
      ]
     },
     "execution_count": 203,
     "metadata": {},
     "output_type": "execute_result"
    }
   ],
   "source": [
    "n"
   ]
  },
  {
   "cell_type": "code",
   "execution_count": 270,
   "metadata": {},
   "outputs": [],
   "source": [
    "def listin_tel():\n",
    "    t = [31515,151513,1515313,1578]\n",
    "    for i in t:\n",
    "        print('Quiero comer')\n",
    "        print('listado telefonico')\n",
    "        yield '+(52)' + str(i)"
   ]
  },
  {
   "cell_type": "code",
   "execution_count": 271,
   "metadata": {},
   "outputs": [],
   "source": [
    "n = listin_tel()"
   ]
  },
  {
   "cell_type": "code",
   "execution_count": 272,
   "metadata": {},
   "outputs": [
    {
     "name": "stdout",
     "output_type": "stream",
     "text": [
      "Quiero comer\n",
      "listado telefonico\n"
     ]
    },
    {
     "data": {
      "text/plain": [
       "'+(52)31515'"
      ]
     },
     "execution_count": 272,
     "metadata": {},
     "output_type": "execute_result"
    }
   ],
   "source": [
    "next(n)"
   ]
  },
  {
   "cell_type": "code",
   "execution_count": 273,
   "metadata": {},
   "outputs": [
    {
     "name": "stdout",
     "output_type": "stream",
     "text": [
      "Quiero comer\n",
      "listado telefonico\n"
     ]
    },
    {
     "data": {
      "text/plain": [
       "'+(52)151513'"
      ]
     },
     "execution_count": 273,
     "metadata": {},
     "output_type": "execute_result"
    }
   ],
   "source": [
    "next(n)"
   ]
  },
  {
   "cell_type": "code",
   "execution_count": 274,
   "metadata": {},
   "outputs": [
    {
     "name": "stdout",
     "output_type": "stream",
     "text": [
      "Quiero comer\n",
      "listado telefonico\n"
     ]
    },
    {
     "data": {
      "text/plain": [
       "'+(52)1515313'"
      ]
     },
     "execution_count": 274,
     "metadata": {},
     "output_type": "execute_result"
    }
   ],
   "source": [
    "next(n)"
   ]
  },
  {
   "cell_type": "code",
   "execution_count": 275,
   "metadata": {},
   "outputs": [
    {
     "name": "stdout",
     "output_type": "stream",
     "text": [
      "Quiero comer\n",
      "listado telefonico\n"
     ]
    },
    {
     "data": {
      "text/plain": [
       "'+(52)1578'"
      ]
     },
     "execution_count": 275,
     "metadata": {},
     "output_type": "execute_result"
    }
   ],
   "source": [
    "next(n)"
   ]
  },
  {
   "cell_type": "code",
   "execution_count": 290,
   "metadata": {},
   "outputs": [],
   "source": [
    "m =[i for i in range(10)]\n",
    "m_i = iter(m)"
   ]
  },
  {
   "cell_type": "code",
   "execution_count": 295,
   "metadata": {},
   "outputs": [
    {
     "data": {
      "text/plain": [
       "3"
      ]
     },
     "execution_count": 295,
     "metadata": {},
     "output_type": "execute_result"
    }
   ],
   "source": [
    "next(m_i)"
   ]
  },
  {
   "cell_type": "code",
   "execution_count": null,
   "metadata": {},
   "outputs": [],
   "source": [
    "m = []\n",
    "for i in range(10):\n",
    "    m.append(i)"
   ]
  },
  {
   "cell_type": "code",
   "execution_count": 303,
   "metadata": {},
   "outputs": [],
   "source": [
    "nombre = 'Oscar'"
   ]
  },
  {
   "cell_type": "code",
   "execution_count": 301,
   "metadata": {},
   "outputs": [],
   "source": [
    "def saludin():\n",
    "    print('hola ya comimos '+nombre)"
   ]
  },
  {
   "cell_type": "code",
   "execution_count": 302,
   "metadata": {},
   "outputs": [
    {
     "name": "stdout",
     "output_type": "stream",
     "text": [
      "hola ya comimos Oscar\n"
     ]
    }
   ],
   "source": [
    "saludin()"
   ]
  },
  {
   "cell_type": "markdown",
   "metadata": {},
   "source": [
    "# Strings"
   ]
  },
  {
   "cell_type": "code",
   "execution_count": 305,
   "metadata": {},
   "outputs": [],
   "source": [
    "nombre = 'oscar'"
   ]
  },
  {
   "cell_type": "code",
   "execution_count": 306,
   "metadata": {},
   "outputs": [
    {
     "data": {
      "text/plain": [
       "'Oscar'"
      ]
     },
     "execution_count": 306,
     "metadata": {},
     "output_type": "execute_result"
    }
   ],
   "source": [
    "nombre.capitalize()"
   ]
  },
  {
   "cell_type": "code",
   "execution_count": 308,
   "metadata": {},
   "outputs": [],
   "source": [
    "nombre_m = nombre.upper()"
   ]
  },
  {
   "cell_type": "code",
   "execution_count": 310,
   "metadata": {},
   "outputs": [
    {
     "data": {
      "text/plain": [
       "'oscar'"
      ]
     },
     "execution_count": 310,
     "metadata": {},
     "output_type": "execute_result"
    }
   ],
   "source": [
    "nombre_m.lower()"
   ]
  },
  {
   "cell_type": "code",
   "execution_count": 311,
   "metadata": {},
   "outputs": [
    {
     "data": {
      "text/plain": [
       "1"
      ]
     },
     "execution_count": 311,
     "metadata": {},
     "output_type": "execute_result"
    }
   ],
   "source": [
    "nombre.count('o')"
   ]
  },
  {
   "cell_type": "code",
   "execution_count": 313,
   "metadata": {},
   "outputs": [
    {
     "data": {
      "text/plain": [
       "True"
      ]
     },
     "execution_count": 313,
     "metadata": {},
     "output_type": "execute_result"
    }
   ],
   "source": [
    "nombre.endswith('ar')"
   ]
  },
  {
   "cell_type": "code",
   "execution_count": 314,
   "metadata": {},
   "outputs": [
    {
     "data": {
      "text/plain": [
       "False"
      ]
     },
     "execution_count": 314,
     "metadata": {},
     "output_type": "execute_result"
    }
   ],
   "source": [
    "nombre.startswith('l')"
   ]
  },
  {
   "cell_type": "code",
   "execution_count": 317,
   "metadata": {},
   "outputs": [
    {
     "data": {
      "text/plain": [
       "False"
      ]
     },
     "execution_count": 317,
     "metadata": {},
     "output_type": "execute_result"
    }
   ],
   "source": [
    "nombre.startswith('O')"
   ]
  },
  {
   "cell_type": "code",
   "execution_count": 318,
   "metadata": {},
   "outputs": [],
   "source": [
    "lst_w = ['hola','que','tal','como','estas']"
   ]
  },
  {
   "cell_type": "code",
   "execution_count": 320,
   "metadata": {},
   "outputs": [
    {
     "data": {
      "text/plain": [
       "'holaque'"
      ]
     },
     "execution_count": 320,
     "metadata": {},
     "output_type": "execute_result"
    }
   ],
   "source": [
    "lst_w[0]+lst_w[1]"
   ]
  },
  {
   "cell_type": "code",
   "execution_count": 328,
   "metadata": {},
   "outputs": [],
   "source": [
    "oracion = ' '.join(lst_w)"
   ]
  },
  {
   "cell_type": "code",
   "execution_count": 329,
   "metadata": {},
   "outputs": [
    {
     "data": {
      "text/plain": [
       "'hola que tal como estas'"
      ]
     },
     "execution_count": 329,
     "metadata": {},
     "output_type": "execute_result"
    }
   ],
   "source": [
    "oracion"
   ]
  },
  {
   "cell_type": "code",
   "execution_count": 330,
   "metadata": {},
   "outputs": [
    {
     "data": {
      "text/plain": [
       "['hola', 'que', 'tal', 'como', 'estas']"
      ]
     },
     "execution_count": 330,
     "metadata": {},
     "output_type": "execute_result"
    }
   ],
   "source": [
    "lst_w"
   ]
  },
  {
   "cell_type": "code",
   "execution_count": 332,
   "metadata": {},
   "outputs": [],
   "source": [
    "t = '             esta oracion tiene espacios            '"
   ]
  },
  {
   "cell_type": "code",
   "execution_count": 334,
   "metadata": {},
   "outputs": [
    {
     "data": {
      "text/plain": [
       "'             esta oracion tiene espacios'"
      ]
     },
     "execution_count": 334,
     "metadata": {},
     "output_type": "execute_result"
    }
   ],
   "source": [
    "t.rstrip()"
   ]
  },
  {
   "cell_type": "code",
   "execution_count": 335,
   "metadata": {},
   "outputs": [
    {
     "data": {
      "text/plain": [
       "'esta oracion tiene espacios            '"
      ]
     },
     "execution_count": 335,
     "metadata": {},
     "output_type": "execute_result"
    }
   ],
   "source": [
    "t.lstrip()"
   ]
  },
  {
   "cell_type": "code",
   "execution_count": 336,
   "metadata": {},
   "outputs": [
    {
     "data": {
      "text/plain": [
       "'esta oracion tiene espacios'"
      ]
     },
     "execution_count": 336,
     "metadata": {},
     "output_type": "execute_result"
    }
   ],
   "source": [
    "t.strip()"
   ]
  },
  {
   "cell_type": "code",
   "execution_count": 337,
   "metadata": {},
   "outputs": [
    {
     "data": {
      "text/plain": [
       "'esta oracion tiene espacios            '"
      ]
     },
     "execution_count": 337,
     "metadata": {},
     "output_type": "execute_result"
    }
   ],
   "source": [
    "t.replace('             ','')"
   ]
  },
  {
   "cell_type": "code",
   "execution_count": 338,
   "metadata": {},
   "outputs": [],
   "source": [
    "hola = 'este mensaje se modificara con otras letras'"
   ]
  },
  {
   "cell_type": "code",
   "execution_count": 340,
   "metadata": {},
   "outputs": [
    {
     "data": {
      "text/plain": [
       "'osto monsajo so modificara con otras lotras'"
      ]
     },
     "execution_count": 340,
     "metadata": {},
     "output_type": "execute_result"
    }
   ],
   "source": [
    "hola.replace('e', 'o')"
   ]
  },
  {
   "cell_type": "code",
   "execution_count": 341,
   "metadata": {},
   "outputs": [
    {
     "data": {
      "text/plain": [
       "'osto mensaje se modificara con otras letras'"
      ]
     },
     "execution_count": 341,
     "metadata": {},
     "output_type": "execute_result"
    }
   ],
   "source": [
    "hola.replace('este','osto') "
   ]
  },
  {
   "cell_type": "code",
   "execution_count": 342,
   "metadata": {},
   "outputs": [
    {
     "data": {
      "text/plain": [
       "['este', 'mensaje', 'se', 'modificara', 'con', 'otras', 'letras']"
      ]
     },
     "execution_count": 342,
     "metadata": {},
     "output_type": "execute_result"
    }
   ],
   "source": [
    "hola.split()"
   ]
  },
  {
   "cell_type": "code",
   "execution_count": 343,
   "metadata": {},
   "outputs": [],
   "source": [
    "saludo = 'este otro mensaje, es para, todos, los que , comieron'"
   ]
  },
  {
   "cell_type": "code",
   "execution_count": 344,
   "metadata": {},
   "outputs": [
    {
     "data": {
      "text/plain": [
       "['este otro mensaje', ' es para', ' todos', ' los que ', ' comieron']"
      ]
     },
     "execution_count": 344,
     "metadata": {},
     "output_type": "execute_result"
    }
   ],
   "source": [
    "saludo.split(',')"
   ]
  },
  {
   "cell_type": "code",
   "execution_count": 345,
   "metadata": {},
   "outputs": [],
   "source": [
    "comen = ''' \n",
    "esto es un comentario \\n\\n y esto es otro comentario\n",
    "'''"
   ]
  },
  {
   "cell_type": "code",
   "execution_count": 346,
   "metadata": {},
   "outputs": [
    {
     "name": "stdout",
     "output_type": "stream",
     "text": [
      " \n",
      "esto es un comentario \n",
      "\n",
      " y esto es otro comentario\n",
      "\n"
     ]
    }
   ],
   "source": [
    "print(comen)"
   ]
  },
  {
   "cell_type": "code",
   "execution_count": 347,
   "metadata": {},
   "outputs": [
    {
     "data": {
      "text/plain": [
       "' esto es un comentario  y esto es otro comentario'"
      ]
     },
     "execution_count": 347,
     "metadata": {},
     "output_type": "execute_result"
    }
   ],
   "source": [
    "comen.replace('\\n','')"
   ]
  },
  {
   "cell_type": "code",
   "execution_count": 350,
   "metadata": {},
   "outputs": [
    {
     "name": "stdout",
     "output_type": "stream",
     "text": [
      "Help on built-in function find:\n",
      "\n",
      "find(...) method of builtins.str instance\n",
      "    S.find(sub[, start[, end]]) -> int\n",
      "    \n",
      "    Return the lowest index in S where substring sub is found,\n",
      "    such that sub is contained within S[start:end].  Optional\n",
      "    arguments start and end are interpreted as in slice notation.\n",
      "    \n",
      "    Return -1 on failure.\n",
      "\n"
     ]
    }
   ],
   "source": [
    "help(saludo.find)"
   ]
  },
  {
   "cell_type": "code",
   "execution_count": 353,
   "metadata": {},
   "outputs": [
    {
     "data": {
      "text/plain": [
       "'este otro mensaje, es para, todos, los que , comieron'"
      ]
     },
     "execution_count": 353,
     "metadata": {},
     "output_type": "execute_result"
    }
   ],
   "source": [
    "saludo"
   ]
  },
  {
   "cell_type": "code",
   "execution_count": 354,
   "metadata": {},
   "outputs": [
    {
     "data": {
      "text/plain": [
       "5"
      ]
     },
     "execution_count": 354,
     "metadata": {},
     "output_type": "execute_result"
    }
   ],
   "source": [
    "saludo.find('otro')"
   ]
  },
  {
   "cell_type": "code",
   "execution_count": 355,
   "metadata": {},
   "outputs": [
    {
     "data": {
      "text/plain": [
       "'e'"
      ]
     },
     "execution_count": 355,
     "metadata": {},
     "output_type": "execute_result"
    }
   ],
   "source": [
    "saludo[0]"
   ]
  },
  {
   "cell_type": "code",
   "execution_count": 356,
   "metadata": {},
   "outputs": [
    {
     "name": "stdout",
     "output_type": "stream",
     "text": [
      "e\n",
      "s\n",
      "t\n",
      "e\n",
      " \n",
      "o\n",
      "t\n",
      "r\n",
      "o\n",
      " \n",
      "m\n",
      "e\n",
      "n\n",
      "s\n",
      "a\n",
      "j\n",
      "e\n",
      ",\n",
      " \n",
      "e\n",
      "s\n",
      " \n",
      "p\n",
      "a\n",
      "r\n",
      "a\n",
      ",\n",
      " \n",
      "t\n",
      "o\n",
      "d\n",
      "o\n",
      "s\n",
      ",\n",
      " \n",
      "l\n",
      "o\n",
      "s\n",
      " \n",
      "q\n",
      "u\n",
      "e\n",
      " \n",
      ",\n",
      " \n",
      "c\n",
      "o\n",
      "m\n",
      "i\n",
      "e\n",
      "r\n",
      "o\n",
      "n\n"
     ]
    }
   ],
   "source": [
    "for i in saludo:\n",
    "    print(i)"
   ]
  },
  {
   "cell_type": "code",
   "execution_count": 357,
   "metadata": {},
   "outputs": [
    {
     "data": {
      "text/plain": [
       "'este otro mensa'"
      ]
     },
     "execution_count": 357,
     "metadata": {},
     "output_type": "execute_result"
    }
   ],
   "source": [
    "saludo[:15]"
   ]
  },
  {
   "cell_type": "code",
   "execution_count": 358,
   "metadata": {},
   "outputs": [
    {
     "data": {
      "text/plain": [
       "0"
      ]
     },
     "execution_count": 358,
     "metadata": {},
     "output_type": "execute_result"
    }
   ],
   "source": [
    "saludo.find('es')"
   ]
  },
  {
   "cell_type": "code",
   "execution_count": 360,
   "metadata": {},
   "outputs": [
    {
     "data": {
      "text/plain": [
       "'ESTE OTRO MENSAJE, ES PARA, TODOS, LOS QUE , COMIERON'"
      ]
     },
     "execution_count": 360,
     "metadata": {},
     "output_type": "execute_result"
    }
   ],
   "source": [
    "saludo.swapcase()"
   ]
  },
  {
   "cell_type": "code",
   "execution_count": 361,
   "metadata": {},
   "outputs": [
    {
     "data": {
      "text/plain": [
       "False"
      ]
     },
     "execution_count": 361,
     "metadata": {},
     "output_type": "execute_result"
    }
   ],
   "source": [
    "saludo.isalnum()"
   ]
  },
  {
   "cell_type": "code",
   "execution_count": 362,
   "metadata": {},
   "outputs": [],
   "source": [
    "numero_str = '2138763289468926384'"
   ]
  },
  {
   "cell_type": "code",
   "execution_count": 363,
   "metadata": {},
   "outputs": [
    {
     "data": {
      "text/plain": [
       "True"
      ]
     },
     "execution_count": 363,
     "metadata": {},
     "output_type": "execute_result"
    }
   ],
   "source": [
    "numero_str.isalnum()"
   ]
  },
  {
   "cell_type": "code",
   "execution_count": 364,
   "metadata": {},
   "outputs": [
    {
     "data": {
      "text/plain": [
       "True"
      ]
     },
     "execution_count": 364,
     "metadata": {},
     "output_type": "execute_result"
    }
   ],
   "source": [
    "numero_str.isdigit()"
   ]
  },
  {
   "cell_type": "code",
   "execution_count": 365,
   "metadata": {},
   "outputs": [
    {
     "data": {
      "text/plain": [
       "'2138763289468926384'"
      ]
     },
     "execution_count": 365,
     "metadata": {},
     "output_type": "execute_result"
    }
   ],
   "source": [
    "numero_str.format()"
   ]
  },
  {
   "cell_type": "code",
   "execution_count": 366,
   "metadata": {},
   "outputs": [
    {
     "data": {
      "text/plain": [
       "False"
      ]
     },
     "execution_count": 366,
     "metadata": {},
     "output_type": "execute_result"
    }
   ],
   "source": [
    "numero_str.istitle()"
   ]
  },
  {
   "cell_type": "code",
   "execution_count": 370,
   "metadata": {},
   "outputs": [
    {
     "data": {
      "text/plain": [
       "True"
      ]
     },
     "execution_count": 370,
     "metadata": {},
     "output_type": "execute_result"
    }
   ],
   "source": [
    "nombre.capitalize().istitle()"
   ]
  },
  {
   "cell_type": "code",
   "execution_count": 371,
   "metadata": {},
   "outputs": [
    {
     "data": {
      "text/plain": [
       "True"
      ]
     },
     "execution_count": 371,
     "metadata": {},
     "output_type": "execute_result"
    }
   ],
   "source": [
    "nombre.islower()"
   ]
  },
  {
   "cell_type": "code",
   "execution_count": 375,
   "metadata": {},
   "outputs": [
    {
     "ename": "SyntaxError",
     "evalue": "EOL while scanning string literal (<ipython-input-375-42cbb193af1c>, line 1)",
     "output_type": "error",
     "traceback": [
      "\u001b[1;36m  File \u001b[1;32m\"<ipython-input-375-42cbb193af1c>\"\u001b[1;36m, line \u001b[1;32m1\u001b[0m\n\u001b[1;33m    'kjbjo3r\u001b[0m\n\u001b[1;37m            ^\u001b[0m\n\u001b[1;31mSyntaxError\u001b[0m\u001b[1;31m:\u001b[0m EOL while scanning string literal\n"
     ]
    }
   ],
   "source": [
    "'kjbjo3r\n",
    "'\n"
   ]
  },
  {
   "cell_type": "code",
   "execution_count": 383,
   "metadata": {},
   "outputs": [],
   "source": [
    "n = \"esta es una cita 'probado comillas'\""
   ]
  },
  {
   "cell_type": "code",
   "execution_count": 384,
   "metadata": {},
   "outputs": [
    {
     "data": {
      "text/plain": [
       "\"esta es una cita 'probado comillas'\""
      ]
     },
     "execution_count": 384,
     "metadata": {},
     "output_type": "execute_result"
    }
   ],
   "source": [
    "n"
   ]
  },
  {
   "cell_type": "code",
   "execution_count": 385,
   "metadata": {},
   "outputs": [],
   "source": [
    "import re"
   ]
  },
  {
   "cell_type": "code",
   "execution_count": 390,
   "metadata": {},
   "outputs": [],
   "source": [
    "texto = 'El dia de hoy es un gran dia por que hace muchosoldiaz'"
   ]
  },
  {
   "cell_type": "code",
   "execution_count": 391,
   "metadata": {},
   "outputs": [
    {
     "data": {
      "text/plain": [
       "['dia', 'dia', 'dia']"
      ]
     },
     "execution_count": 391,
     "metadata": {},
     "output_type": "execute_result"
    }
   ],
   "source": [
    "re.findall('dia',texto)"
   ]
  },
  {
   "cell_type": "code",
   "execution_count": 394,
   "metadata": {},
   "outputs": [
    {
     "name": "stdout",
     "output_type": "stream",
     "text": [
      "Pretty printing has been turned OFF\n"
     ]
    },
    {
     "data": {
      "text/plain": [
       "['l', 'd', 'i', 'a', 'd', 'e', 'h', 'o', 'y', 'e', 's', 'u', 'n', 'g', 'r', 'a', 'n', 'd', 'i', 'a', 'p', 'o', 'r', 'q', 'u', 'e', 'h', 'a', 'c', 'e', 'm', 'u', 'c', 'h', 'o', 's', 'o', 'l', 'd', 'i', 'a', 'z']"
      ]
     },
     "execution_count": 394,
     "metadata": {},
     "output_type": "execute_result"
    }
   ],
   "source": [
    "%pprint off\n",
    "re.findall('[a-z]',texto)"
   ]
  },
  {
   "cell_type": "code",
   "execution_count": 395,
   "metadata": {},
   "outputs": [
    {
     "data": {
      "text/plain": [
       "['E', 'l', 'd', 'i', 'a', 'd', 'e', 'h', 'o', 'y', 'e', 's', 'u', 'n', 'g', 'r', 'a', 'n', 'd', 'i', 'a', 'p', 'o', 'r', 'q', 'u', 'e', 'h', 'a', 'c', 'e', 'm', 'u', 'c', 'h', 'o', 's', 'o', 'l', 'd', 'i', 'a', 'z']"
      ]
     },
     "execution_count": 395,
     "metadata": {},
     "output_type": "execute_result"
    }
   ],
   "source": [
    "re.findall('[a-zA-Z]',texto)"
   ]
  },
  {
   "cell_type": "code",
   "execution_count": 397,
   "metadata": {},
   "outputs": [
    {
     "data": {
      "text/plain": [
       "['E', 'l', 'd', 'i', 'a', 'd', 'e', 'h', 'o', 'y', 'e', 's', 'u', 'n', 'g', 'r', 'a', 'n', 'd', 'i', 'a', 'p', 'o', 'r', 'q', 'u', 'e', 'h', 'a', 'c', 'e', 'm', 'u', 'c', 'h', 'o', 's', 'o', 'l', 'd', 'i', 'a', 'z']"
      ]
     },
     "execution_count": 397,
     "metadata": {},
     "output_type": "execute_result"
    }
   ],
   "source": [
    "re.findall('\\w', texto)"
   ]
  },
  {
   "cell_type": "code",
   "execution_count": 399,
   "metadata": {},
   "outputs": [],
   "source": [
    "num = '5309718181277 este texto esta de mas'"
   ]
  },
  {
   "cell_type": "code",
   "execution_count": 401,
   "metadata": {},
   "outputs": [
    {
     "data": {
      "text/plain": [
       "'5309718181277'"
      ]
     },
     "execution_count": 401,
     "metadata": {},
     "output_type": "execute_result"
    }
   ],
   "source": [
    "''.join(re.findall('\\d', num))"
   ]
  },
  {
   "cell_type": "code",
   "execution_count": 403,
   "metadata": {},
   "outputs": [
    {
     "data": {
      "text/plain": [
       "['5309718181277']"
      ]
     },
     "execution_count": 403,
     "metadata": {},
     "output_type": "execute_result"
    }
   ],
   "source": [
    "re.findall('\\d+', num)"
   ]
  },
  {
   "cell_type": "code",
   "execution_count": 404,
   "metadata": {},
   "outputs": [
    {
     "data": {
      "text/plain": [
       "'3075718181277 este texto esta de mas'"
      ]
     },
     "execution_count": 404,
     "metadata": {},
     "output_type": "execute_result"
    }
   ],
   "source": [
    "re.sub('5309', '3075', num)"
   ]
  },
  {
   "cell_type": "code",
   "execution_count": 405,
   "metadata": {},
   "outputs": [
    {
     "name": "stdout",
     "output_type": "stream",
     "text": [
      "Help on function match in module re:\n",
      "\n",
      "match(pattern, string, flags=0)\n",
      "    Try to apply the pattern at the start of the string, returning\n",
      "    a Match object, or None if no match was found.\n",
      "\n"
     ]
    }
   ],
   "source": [
    "help(re.match)"
   ]
  },
  {
   "cell_type": "code",
   "execution_count": 407,
   "metadata": {},
   "outputs": [
    {
     "data": {
      "text/plain": [
       "'5309718181277'"
      ]
     },
     "execution_count": 407,
     "metadata": {},
     "output_type": "execute_result"
    }
   ],
   "source": [
    "re.match('\\d+',num).group()"
   ]
  },
  {
   "cell_type": "code",
   "execution_count": 408,
   "metadata": {},
   "outputs": [
    {
     "name": "stdout",
     "output_type": "stream",
     "text": [
      "Help on function fullmatch in module re:\n",
      "\n",
      "fullmatch(pattern, string, flags=0)\n",
      "    Try to apply the pattern to all of the string, returning\n",
      "    a Match object, or None if no match was found.\n",
      "\n"
     ]
    }
   ],
   "source": [
    "help(re.fullmatch)"
   ]
  },
  {
   "cell_type": "code",
   "execution_count": 412,
   "metadata": {},
   "outputs": [
    {
     "ename": "AttributeError",
     "evalue": "'NoneType' object has no attribute 'group'",
     "output_type": "error",
     "traceback": [
      "\u001b[1;31m---------------------------------------------------------------------------\u001b[0m",
      "\u001b[1;31mAttributeError\u001b[0m                            Traceback (most recent call last)",
      "\u001b[1;32m<ipython-input-412-b47ea294875a>\u001b[0m in \u001b[0;36m<module>\u001b[1;34m\u001b[0m\n\u001b[1;32m----> 1\u001b[1;33m \u001b[0mre\u001b[0m\u001b[1;33m.\u001b[0m\u001b[0mfullmatch\u001b[0m\u001b[1;33m(\u001b[0m\u001b[1;34m'5309'\u001b[0m\u001b[1;33m,\u001b[0m\u001b[0mnum\u001b[0m\u001b[1;33m)\u001b[0m\u001b[1;33m.\u001b[0m\u001b[0mgroup\u001b[0m\u001b[1;33m(\u001b[0m\u001b[1;33m)\u001b[0m\u001b[1;33m\u001b[0m\u001b[1;33m\u001b[0m\u001b[0m\n\u001b[0m",
      "\u001b[1;31mAttributeError\u001b[0m: 'NoneType' object has no attribute 'group'"
     ]
    }
   ],
   "source": [
    "re.fullmatch('5309',num)"
   ]
  },
  {
   "cell_type": "code",
   "execution_count": 413,
   "metadata": {},
   "outputs": [
    {
     "data": {
      "text/plain": [
       "<RegexFlag.TEMPLATE: 1>"
      ]
     },
     "execution_count": 413,
     "metadata": {},
     "output_type": "execute_result"
    }
   ],
   "source": []
  },
  {
   "cell_type": "code",
   "execution_count": null,
   "metadata": {},
   "outputs": [],
   "source": []
  }
 ],
 "metadata": {
  "kernelspec": {
   "display_name": "Python 3",
   "language": "python",
   "name": "python3"
  },
  "language_info": {
   "codemirror_mode": {
    "name": "ipython",
    "version": 3
   },
   "file_extension": ".py",
   "mimetype": "text/x-python",
   "name": "python",
   "nbconvert_exporter": "python",
   "pygments_lexer": "ipython3",
   "version": "3.7.4"
  }
 },
 "nbformat": 4,
 "nbformat_minor": 2
}
