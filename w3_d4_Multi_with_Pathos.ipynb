{
 "cells": [
  {
   "cell_type": "code",
   "execution_count": 2,
   "metadata": {},
   "outputs": [
    {
     "name": "stdout",
     "output_type": "stream",
     "text": [
      "Defaulting to user installation because normal site-packages is not writeable\n",
      "Collecting pathos\n",
      "  Downloading pathos-0.2.6.zip (219 kB)\n",
      "Collecting ppft>=1.6.6.2\n",
      "  Downloading ppft-1.6.6.2.zip (106 kB)\n",
      "Collecting dill>=0.3.2\n",
      "  Downloading dill-0.3.2.zip (177 kB)\n",
      "Collecting pox>=0.2.8\n",
      "  Downloading pox-0.2.8.zip (128 kB)\n",
      "Collecting multiprocess>=0.70.10\n",
      "  Downloading multiprocess-0.70.10.zip (2.4 MB)\n",
      "Requirement already satisfied: six>=1.7.3 in c:\\users\\gralg\\appdata\\roaming\\python\\python37\\site-packages (from ppft>=1.6.6.2->pathos) (1.12.0)\n",
      "Building wheels for collected packages: pathos, ppft, dill, pox, multiprocess\n",
      "  Building wheel for pathos (setup.py): started\n",
      "  Building wheel for pathos (setup.py): finished with status 'done'\n",
      "  Created wheel for pathos: filename=pathos-0.2.6-py3-none-any.whl size=77746 sha256=4e090e75143410fe18c34420a670bdf7d32e7c46ece4bbf893d9cd412a8f4c2f\n",
      "  Stored in directory: c:\\users\\gralg\\appdata\\local\\pip\\cache\\wheels\\34\\c0\\d9\\580a0af39a46bc51b0ffe4ad8bc09b4ad4a99865d64b3d379d\n",
      "  Building wheel for ppft (setup.py): started\n",
      "  Building wheel for ppft (setup.py): finished with status 'done'\n",
      "  Created wheel for ppft: filename=ppft-1.6.6.2-py3-none-any.whl size=64748 sha256=98e8f1369ccda793c56d7953ff5f661df86603432c68114db5b2af585c38a386\n",
      "  Stored in directory: c:\\users\\gralg\\appdata\\local\\pip\\cache\\wheels\\b0\\6d\\96\\a352a1cb50c4a197c05ac0ac95c4eaeed92874b8737497af34\n",
      "  Building wheel for dill (setup.py): started\n",
      "  Building wheel for dill (setup.py): finished with status 'done'\n",
      "  Created wheel for dill: filename=dill-0.3.2-py3-none-any.whl size=78977 sha256=f01650548ecb9971243fb41f998a0cd4a254e2b10395b20fafc1da986de6fd1c\n",
      "  Stored in directory: c:\\users\\gralg\\appdata\\local\\pip\\cache\\wheels\\72\\6b\\d5\\5548aa1b73b8c3d176ea13f9f92066b02e82141549d90e2100\n",
      "  Building wheel for pox (setup.py): started\n",
      "  Building wheel for pox (setup.py): finished with status 'done'\n",
      "  Created wheel for pox: filename=pox-0.2.8-py3-none-any.whl size=28342 sha256=b39c57567eb580c41c47e992a18b76877aeb25c35933b1ff173f136e76d3d8b4\n",
      "  Stored in directory: c:\\users\\gralg\\appdata\\local\\pip\\cache\\wheels\\3d\\a8\\3a\\712ebffd829266bcb1be24c2617849960fd885aa5f81db07dd\n",
      "  Building wheel for multiprocess (setup.py): started\n",
      "  Building wheel for multiprocess (setup.py): finished with status 'done'\n",
      "  Created wheel for multiprocess: filename=multiprocess-0.70.10-py3-none-any.whl size=108192 sha256=cf60deb05d78c8d799f02c18bcc5ea91358dff43bbdbcfcf8670efcbdac3ed3a\n",
      "  Stored in directory: c:\\users\\gralg\\appdata\\local\\pip\\cache\\wheels\\69\\a0\\aa\\14379d16112299afa0b5f8464971648ea2a660a8f6aa1ca088\n",
      "Successfully built pathos ppft dill pox multiprocess\n",
      "Installing collected packages: ppft, dill, pox, multiprocess, pathos\n",
      "Successfully installed dill-0.3.2 multiprocess-0.70.10 pathos-0.2.6 pox-0.2.8 ppft-1.6.6.2\n"
     ]
    },
    {
     "name": "stderr",
     "output_type": "stream",
     "text": [
      "WARNING: pip is being invoked by an old script wrapper. This will fail in a future version of pip.\n",
      "Please see https://github.com/pypa/pip/issues/5599 for advice on fixing the underlying issue.\n",
      "To avoid this problem you can invoke Python with '-m pip' instead of running pip directly.\n",
      "WARNING: You are using pip version 20.1.1; however, version 20.2.2 is available.\n",
      "You should consider upgrading via the 'c:\\program files\\python37\\python.exe -m pip install --upgrade pip' command.\n"
     ]
    }
   ],
   "source": [
    "!pip install pathos"
   ]
  },
  {
   "cell_type": "code",
   "execution_count": 3,
   "metadata": {},
   "outputs": [
    {
     "name": "stdout",
     "output_type": "stream",
     "text": [
      "'Hola'\n"
     ]
    }
   ],
   "source": [
    "!echo 'Hola'"
   ]
  },
  {
   "cell_type": "code",
   "execution_count": 8,
   "metadata": {},
   "outputs": [],
   "source": [
    "import pandas as pd\n",
    "import numpy as np"
   ]
  },
  {
   "cell_type": "code",
   "execution_count": 9,
   "metadata": {},
   "outputs": [],
   "source": [
    "from pathos.multiprocessing import ProcessingPool as Pool"
   ]
  },
  {
   "cell_type": "code",
   "execution_count": 13,
   "metadata": {},
   "outputs": [],
   "source": [
    "import multiprocessing as mp"
   ]
  },
  {
   "cell_type": "code",
   "execution_count": 33,
   "metadata": {},
   "outputs": [
    {
     "data": {
      "text/html": [
       "<div>\n",
       "<style scoped>\n",
       "    .dataframe tbody tr th:only-of-type {\n",
       "        vertical-align: middle;\n",
       "    }\n",
       "\n",
       "    .dataframe tbody tr th {\n",
       "        vertical-align: top;\n",
       "    }\n",
       "\n",
       "    .dataframe thead th {\n",
       "        text-align: right;\n",
       "    }\n",
       "</style>\n",
       "<table border=\"1\" class=\"dataframe\">\n",
       "  <thead>\n",
       "    <tr style=\"text-align: right;\">\n",
       "      <th></th>\n",
       "      <th>0</th>\n",
       "      <th>1</th>\n",
       "    </tr>\n",
       "  </thead>\n",
       "  <tbody>\n",
       "    <tr>\n",
       "      <td>0</td>\n",
       "      <td>5</td>\n",
       "      <td>3</td>\n",
       "    </tr>\n",
       "    <tr>\n",
       "      <td>1</td>\n",
       "      <td>9</td>\n",
       "      <td>3</td>\n",
       "    </tr>\n",
       "    <tr>\n",
       "      <td>2</td>\n",
       "      <td>6</td>\n",
       "      <td>3</td>\n",
       "    </tr>\n",
       "    <tr>\n",
       "      <td>3</td>\n",
       "      <td>4</td>\n",
       "      <td>5</td>\n",
       "    </tr>\n",
       "    <tr>\n",
       "      <td>4</td>\n",
       "      <td>4</td>\n",
       "      <td>6</td>\n",
       "    </tr>\n",
       "  </tbody>\n",
       "</table>\n",
       "</div>"
      ],
      "text/plain": [
       "   0  1\n",
       "0  5  3\n",
       "1  9  3\n",
       "2  6  3\n",
       "3  4  5\n",
       "4  4  6"
      ]
     },
     "execution_count": 33,
     "metadata": {},
     "output_type": "execute_result"
    }
   ],
   "source": [
    "df=pd.DataFrame(np.random.randint(3, 10, size=[50000, 2]))\n",
    "df.head()"
   ]
  },
  {
   "cell_type": "code",
   "execution_count": 34,
   "metadata": {},
   "outputs": [],
   "source": [
    "def fun(df):\n",
    "    return df.shape"
   ]
  },
  {
   "cell_type": "code",
   "execution_count": 35,
   "metadata": {},
   "outputs": [],
   "source": [
    "cores=mp.cpu_count()"
   ]
  },
  {
   "cell_type": "code",
   "execution_count": 45,
   "metadata": {},
   "outputs": [],
   "source": [
    "df_split=np.array_split(df, 3, axis=0) #Una Serie de Dataframes"
   ]
  },
  {
   "cell_type": "code",
   "execution_count": 46,
   "metadata": {},
   "outputs": [
    {
     "data": {
      "text/plain": [
       "(16667, 2)"
      ]
     },
     "execution_count": 46,
     "metadata": {},
     "output_type": "execute_result"
    }
   ],
   "source": [
    "df_split[0].shape"
   ]
  },
  {
   "cell_type": "code",
   "execution_count": 47,
   "metadata": {},
   "outputs": [],
   "source": [
    "pool=Pool(cores)"
   ]
  },
  {
   "cell_type": "code",
   "execution_count": 48,
   "metadata": {},
   "outputs": [
    {
     "name": "stdout",
     "output_type": "stream",
     "text": [
      "Wall time: 943 ms\n"
     ]
    }
   ],
   "source": [
    "%%time\n",
    "\n",
    "df_out=pd.DataFrame(np.vstack(pool.map(fun, df_split))) #Se stackean los dataframes uno tras otro \n",
    "\n",
    "pool.close()\n",
    "pool.join()\n",
    "pool.clear()"
   ]
  },
  {
   "cell_type": "code",
   "execution_count": null,
   "metadata": {},
   "outputs": [],
   "source": []
  }
 ],
 "metadata": {
  "kernelspec": {
   "display_name": "Python 3.7.4 64-bit",
   "language": "python",
   "name": "python37464bit456c2aecd4e54895bedac2416c319c0f"
  },
  "language_info": {
   "codemirror_mode": {
    "name": "ipython",
    "version": 3
   },
   "file_extension": ".py",
   "mimetype": "text/x-python",
   "name": "python",
   "nbconvert_exporter": "python",
   "pygments_lexer": "ipython3",
   "version": "3.7.4"
  }
 },
 "nbformat": 4,
 "nbformat_minor": 2
}
