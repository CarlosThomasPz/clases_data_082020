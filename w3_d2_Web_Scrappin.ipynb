{
 "cells": [
  {
   "cell_type": "markdown",
   "metadata": {},
   "source": [
    "# Web Scrapping"
   ]
  },
  {
   "cell_type": "code",
   "execution_count": 58,
   "metadata": {},
   "outputs": [],
   "source": [
    "import requests\n",
    "from bs4 import BeautifulSoup as bs\n",
    "import pandas as pd"
   ]
  },
  {
   "cell_type": "code",
   "execution_count": 2,
   "metadata": {},
   "outputs": [],
   "source": [
    "premios = requests.get('https://es.wikipedia.org/wiki/Premios_del_Cine_Europeo') #Pagina a scrapear"
   ]
  },
  {
   "cell_type": "code",
   "execution_count": 3,
   "metadata": {},
   "outputs": [
    {
     "data": {
      "text/plain": [
       "<Response [200]>"
      ]
     },
     "execution_count": 3,
     "metadata": {},
     "output_type": "execute_result"
    }
   ],
   "source": [
    "premios #revisamos codigo de respuesta, respuesta correcta es 200"
   ]
  },
  {
   "cell_type": "code",
   "execution_count": 139,
   "metadata": {},
   "outputs": [
    {
     "data": {
      "text/plain": [
       "<Response [200]>"
      ]
     },
     "execution_count": 139,
     "metadata": {},
     "output_type": "execute_result"
    }
   ],
   "source": [
    "premios#Se puede obtener informacion"
   ]
  },
  {
   "cell_type": "code",
   "execution_count": 6,
   "metadata": {},
   "outputs": [],
   "source": [
    "contenido = premios.content #contenido sera interpretado por BS4"
   ]
  },
  {
   "cell_type": "code",
   "execution_count": 8,
   "metadata": {},
   "outputs": [],
   "source": [
    "sopa = bs(contenido, 'html.parser') # como sera interpretado el contenido"
   ]
  },
  {
   "cell_type": "code",
   "execution_count": 11,
   "metadata": {},
   "outputs": [
    {
     "data": {
      "text/plain": [
       "'Premios del Cine Europeo - Wikipedia, la enciclopedia libre'"
      ]
     },
     "execution_count": 11,
     "metadata": {},
     "output_type": "execute_result"
    }
   ],
   "source": [
    "sopa.title.text"
   ]
  },
  {
   "cell_type": "code",
   "execution_count": 14,
   "metadata": {},
   "outputs": [
    {
     "data": {
      "text/plain": [
       "'title'"
      ]
     },
     "execution_count": 14,
     "metadata": {},
     "output_type": "execute_result"
    }
   ],
   "source": [
    "sopa.title.name"
   ]
  },
  {
   "cell_type": "code",
   "execution_count": 15,
   "metadata": {},
   "outputs": [
    {
     "data": {
      "text/plain": [
       "'Premios del Cine Europeo - Wikipedia, la enciclopedia libre'"
      ]
     },
     "execution_count": 15,
     "metadata": {},
     "output_type": "execute_result"
    }
   ],
   "source": [
    "sopa.title.string"
   ]
  },
  {
   "cell_type": "code",
   "execution_count": 16,
   "metadata": {},
   "outputs": [
    {
     "data": {
      "text/plain": [
       "<p>Los <b>Premios del Cine Europeo</b> (<i>European Film Awards</i>, en inglés) se conceden anualmente por la <a href=\"/wiki/Academia_de_Cine_Europeo\" title=\"Academia de Cine Europeo\">Academia de Cine Europeo</a> para reconocer la excelencia en las producciones cinematográficas. Son los más prestigiosos premios paneuropeos.\n",
       "</p>"
      ]
     },
     "execution_count": 16,
     "metadata": {},
     "output_type": "execute_result"
    }
   ],
   "source": [
    "sopa.p #se pueden obtener los tags directamente del html"
   ]
  },
  {
   "cell_type": "code",
   "execution_count": 17,
   "metadata": {},
   "outputs": [
    {
     "data": {
      "text/plain": [
       "<a id=\"top\"></a>"
      ]
     },
     "execution_count": 17,
     "metadata": {},
     "output_type": "execute_result"
    }
   ],
   "source": [
    "sopa.a"
   ]
  },
  {
   "cell_type": "code",
   "execution_count": 19,
   "metadata": {},
   "outputs": [],
   "source": [
    "info_box = sopa.table"
   ]
  },
  {
   "cell_type": "code",
   "execution_count": 22,
   "metadata": {},
   "outputs": [
    {
     "data": {
      "text/plain": [
       "<a href=\"/wiki/Cine\" title=\"Cine\">cinematográficos</a>"
      ]
     },
     "execution_count": 22,
     "metadata": {},
     "output_type": "execute_result"
    }
   ],
   "source": [
    "info_box.tbody.a"
   ]
  },
  {
   "cell_type": "code",
   "execution_count": 25,
   "metadata": {},
   "outputs": [],
   "source": [
    "tabla_premios = sopa.find('table',{'class':'wikitable sortable'}) #Se puede obtener informacion atraves del nombre de las clases"
   ]
  },
  {
   "cell_type": "code",
   "execution_count": 30,
   "metadata": {},
   "outputs": [
    {
     "data": {
      "text/plain": [
       "[<th>Edición\n",
       " </th>, <th>Año\n",
       " </th>, <th>Sitio\n",
       " </th>, <th>Ciudad\n",
       " </th>, <th>Presentador\n",
       " </th>, <th>Año\n",
       " </th>]"
      ]
     },
     "execution_count": 30,
     "metadata": {},
     "output_type": "execute_result"
    }
   ],
   "source": [
    "cabecera = tabla_premios.findAll('th') # se pueden obtener varias etiquetas a la vez con findAll\n",
    "cabecera"
   ]
  },
  {
   "cell_type": "code",
   "execution_count": 42,
   "metadata": {},
   "outputs": [
    {
     "data": {
      "text/plain": [
       "'Edición\\n'"
      ]
     },
     "execution_count": 42,
     "metadata": {},
     "output_type": "execute_result"
    }
   ],
   "source": [
    "cabecera[0].text #Obteniendo los elementos de etiquetas podemos obtener el texto de los elementos"
   ]
  },
  {
   "cell_type": "code",
   "execution_count": 33,
   "metadata": {},
   "outputs": [],
   "source": [
    "cabe_txt = [i.text.replace('\\n','') for i in cabecera]"
   ]
  },
  {
   "cell_type": "code",
   "execution_count": 34,
   "metadata": {},
   "outputs": [
    {
     "data": {
      "text/plain": [
       "['Edición', 'Año', 'Sitio', 'Ciudad', 'Presentador', 'Año']"
      ]
     },
     "execution_count": 34,
     "metadata": {},
     "output_type": "execute_result"
    }
   ],
   "source": [
    "cabe_txt"
   ]
  },
  {
   "cell_type": "code",
   "execution_count": 35,
   "metadata": {},
   "outputs": [],
   "source": [
    "body = tabla_premios.find('tbody')"
   ]
  },
  {
   "cell_type": "code",
   "execution_count": 46,
   "metadata": {},
   "outputs": [],
   "source": [
    "body_tr = body.findAll('tr')"
   ]
  },
  {
   "cell_type": "code",
   "execution_count": 50,
   "metadata": {},
   "outputs": [],
   "source": [
    "body_td = body.findAll('td')"
   ]
  },
  {
   "cell_type": "code",
   "execution_count": 80,
   "metadata": {},
   "outputs": [],
   "source": [
    "body_td_txt = [str(i.text.replace('\\n','')) for i in body_td]"
   ]
  },
  {
   "cell_type": "code",
   "execution_count": 81,
   "metadata": {},
   "outputs": [
    {
     "data": {
      "text/plain": [
       "['1',\n",
       " '1988',\n",
       " 'Theater des Westens',\n",
       " ' Berlín',\n",
       " 'Jan Niklas, Désirée Nosbusch',\n",
       " '26 de noviembre de 1988']"
      ]
     },
     "execution_count": 81,
     "metadata": {},
     "output_type": "execute_result"
    }
   ],
   "source": [
    "body_td_txt[:6]"
   ]
  },
  {
   "cell_type": "code",
   "execution_count": 94,
   "metadata": {},
   "outputs": [],
   "source": [
    "j = 0\n",
    "lst_lst = []\n",
    "for i in range(0,len(body_td_txt),6):\n",
    "\n",
    "    lst_lst.append(body_td_txt[j:i])\n",
    "    j = i "
   ]
  },
  {
   "cell_type": "code",
   "execution_count": 96,
   "metadata": {},
   "outputs": [
    {
     "data": {
      "text/plain": [
       "[]"
      ]
     },
     "execution_count": 96,
     "metadata": {},
     "output_type": "execute_result"
    }
   ],
   "source": [
    "lst_lst.pop(0)"
   ]
  },
  {
   "cell_type": "code",
   "execution_count": 97,
   "metadata": {},
   "outputs": [
    {
     "data": {
      "text/plain": [
       "[['1',\n",
       "  '1988',\n",
       "  'Theater des Westens',\n",
       "  ' Berlín',\n",
       "  'Jan Niklas, Désirée Nosbusch',\n",
       "  '26 de noviembre de 1988'],\n",
       " ['2',\n",
       "  '1989',\n",
       "  'Teatro de los Campos Elíseos',\n",
       "  ' París',\n",
       "  'Fernando Rey, Agnès Soral',\n",
       "  '25 de noviembre de 1989'],\n",
       " ['3',\n",
       "  '1990',\n",
       "  'Royal Concert Hall',\n",
       "  ' Glasgow',\n",
       "  'Schenna MacDonald, Melvyn Bragg',\n",
       "  '2 de diciembre de 1990'],\n",
       " ['4',\n",
       "  '1991',\n",
       "  'Babelsberg',\n",
       "  ' Potsdam',\n",
       "  'Désirée Nosbusch-Becker, Johannes Willms',\n",
       "  '1 de diciembre de 1991'],\n",
       " ['5',\n",
       "  '1992',\n",
       "  'Babelsberg',\n",
       "  ' Potsdam',\n",
       "  'Senta Berger, Ben Kingsley',\n",
       "  '25 de noviembre de 1992'],\n",
       " ['6',\n",
       "  '1993',\n",
       "  'Babelsberg',\n",
       "  ' Potsdam',\n",
       "  'Fanny Ardant',\n",
       "  '4 de diciembre de 1993'],\n",
       " ['7', '1994', 'Spiegelzelt', ' Berlín', '-', '27 de noviembre de 1994'],\n",
       " ['8',\n",
       "  '1995',\n",
       "  'Bar jeder Vernunft',\n",
       "  ' Berlín',\n",
       "  '-',\n",
       "  '12 de noviembre de 1995'],\n",
       " ['9',\n",
       "  '1996',\n",
       "  'Blaues Zelt am Lützowplatz',\n",
       "  ' Berlín',\n",
       "  '-',\n",
       "  '8 de noviembre de 1996'],\n",
       " ['10',\n",
       "  '1997',\n",
       "  'Flughafen Tempelhof',\n",
       "  ' Berlín',\n",
       "  'Tania Bryer',\n",
       "  '7 de diciembre de 1997'],\n",
       " ['11',\n",
       "  '1998',\n",
       "  'Old Vic Theatre',\n",
       "  ' Londres',\n",
       "  'Mel Smith, Carole Bouquet',\n",
       "  '4 de diciembre de 1998'],\n",
       " ['12',\n",
       "  '1999',\n",
       "  'Schiller Theater',\n",
       "  ' Berlín',\n",
       "  'Mel Smith, Carole Bouquet',\n",
       "  '4 de diciembre de 1999'],\n",
       " ['13',\n",
       "  '2000',\n",
       "  'Théâtre national de Chaillot',\n",
       "  ' París',\n",
       "  'Rupert Everett, Antoine de Caunes',\n",
       "  '2 de diciembre de 2000'],\n",
       " ['14', '2001', 'Tempodrom', ' Berlín', 'Mel Smith', '1 de diciembre de 2001'],\n",
       " ['15',\n",
       "  '2002',\n",
       "  \"Teatro dell'Opera di Roma\",\n",
       "  ' Roma',\n",
       "  'Asia Argento, Mel Smith',\n",
       "  '7 de diciembre de 2002'],\n",
       " ['16',\n",
       "  '2003',\n",
       "  'Treptow Arena',\n",
       "  ' Berlín',\n",
       "  'Heino Ferch',\n",
       "  '6 de diciembre de 2003'],\n",
       " ['17',\n",
       "  '2004',\n",
       "  'Centro de convenciones internacional de Barcelona',\n",
       "  ' Barcelona',\n",
       "  'Maria de Medeiros, Juanjo Puigcorbé',\n",
       "  '11 de diciembre de 2004'],\n",
       " ['18',\n",
       "  '2005',\n",
       "  'Treptow Arena',\n",
       "  ' Berlín',\n",
       "  'Heino Ferch',\n",
       "  '3 de diciembre de 2005'],\n",
       " ['19',\n",
       "  '2006',\n",
       "  'EXPO XXI Center',\n",
       "  ' Varsovia',\n",
       "  'Maciej Stuhr, Sophie Marceau',\n",
       "  '2 de diciembre de 2006'],\n",
       " ['20',\n",
       "  '2007',\n",
       "  'Treptow Arena',\n",
       "  ' Berlín',\n",
       "  'Jan Josef Liefers, Emmanuelle Béart',\n",
       "  '1 de diciembre de 2007'],\n",
       " ['21',\n",
       "  '2008',\n",
       "  'Forum',\n",
       "  ' Copenhague',\n",
       "  'Mikael Bertelsen',\n",
       "  '6 de diciembre de 2008'],\n",
       " ['22',\n",
       "  '2009',\n",
       "  'Jahrhunderthalle',\n",
       "  ' Bochum',\n",
       "  'Anke Engelke',\n",
       "  '12 de diciembre de 2009'],\n",
       " ['23',\n",
       "  '2010',\n",
       "  'Nokia Concert Hall',\n",
       "  ' Tallinn',\n",
       "  'Anke Engelke, Märt Avandi',\n",
       "  '4 de diciembre de 2010'],\n",
       " ['24',\n",
       "  '2011',\n",
       "  'Tempodrom',\n",
       "  ' Berlín',\n",
       "  'Anke Engelke',\n",
       "  '3 de diciembre de 2011'],\n",
       " ['25',\n",
       "  '2012',\n",
       "  'Mediterranean Conference Centre',\n",
       "  ' Valletta',\n",
       "  'Anke Engelke',\n",
       "  '1 de diciembre de 2012'],\n",
       " ['26',\n",
       "  '2013',\n",
       "  'Haus der Berliner Festspiele',\n",
       "  ' Berlín',\n",
       "  'Anke Engelke',\n",
       "  '7 de diciembre de 2013'],\n",
       " ['27',\n",
       "  '2014',\n",
       "  'Latvian National Opera',\n",
       "  ' Riga[2]\\u200b',\n",
       "  'Thomas Hermanns',\n",
       "  '13 de diciembre de 2014'],\n",
       " ['28',\n",
       "  '2015',\n",
       "  'Haus der Berliner Festspiele',\n",
       "  ' Berlín',\n",
       "  'Thomas Hermanns',\n",
       "  '12 de diciembre de 2015'],\n",
       " ['29',\n",
       "  '2016',\n",
       "  'National Forum of Music',\n",
       "  ' Breslavia',\n",
       "  'Maciej Stuhr',\n",
       "  '10 de diciembre de 2016'],\n",
       " ['30',\n",
       "  '2017',\n",
       "  'Haus der Berliner Festspiele',\n",
       "  ' Berlín',\n",
       "  'Thomas Hermanns',\n",
       "  '9 de diciembre de 2017'],\n",
       " ['31',\n",
       "  '2018',\n",
       "  'Teatro de la Maestranza[3]\\u200b',\n",
       "  ' Sevilla',\n",
       "  '',\n",
       "  '15 de diciembre de 2018']]"
      ]
     },
     "execution_count": 97,
     "metadata": {},
     "output_type": "execute_result"
    }
   ],
   "source": [
    "lst_lst"
   ]
  },
  {
   "cell_type": "code",
   "execution_count": null,
   "metadata": {},
   "outputs": [],
   "source": []
  },
  {
   "cell_type": "code",
   "execution_count": 102,
   "metadata": {},
   "outputs": [],
   "source": [
    "tabla_premios = pd.DataFrame(lst_lst, columns = cabe_txt)"
   ]
  },
  {
   "cell_type": "code",
   "execution_count": 103,
   "metadata": {},
   "outputs": [
    {
     "data": {
      "text/html": [
       "<div>\n",
       "<style scoped>\n",
       "    .dataframe tbody tr th:only-of-type {\n",
       "        vertical-align: middle;\n",
       "    }\n",
       "\n",
       "    .dataframe tbody tr th {\n",
       "        vertical-align: top;\n",
       "    }\n",
       "\n",
       "    .dataframe thead th {\n",
       "        text-align: right;\n",
       "    }\n",
       "</style>\n",
       "<table border=\"1\" class=\"dataframe\">\n",
       "  <thead>\n",
       "    <tr style=\"text-align: right;\">\n",
       "      <th></th>\n",
       "      <th>Edición</th>\n",
       "      <th>Año</th>\n",
       "      <th>Sitio</th>\n",
       "      <th>Ciudad</th>\n",
       "      <th>Presentador</th>\n",
       "      <th>Año</th>\n",
       "    </tr>\n",
       "  </thead>\n",
       "  <tbody>\n",
       "    <tr>\n",
       "      <td>0</td>\n",
       "      <td>1</td>\n",
       "      <td>1988</td>\n",
       "      <td>Theater des Westens</td>\n",
       "      <td>Berlín</td>\n",
       "      <td>Jan Niklas, Désirée Nosbusch</td>\n",
       "      <td>26 de noviembre de 1988</td>\n",
       "    </tr>\n",
       "    <tr>\n",
       "      <td>1</td>\n",
       "      <td>2</td>\n",
       "      <td>1989</td>\n",
       "      <td>Teatro de los Campos Elíseos</td>\n",
       "      <td>París</td>\n",
       "      <td>Fernando Rey, Agnès Soral</td>\n",
       "      <td>25 de noviembre de 1989</td>\n",
       "    </tr>\n",
       "    <tr>\n",
       "      <td>2</td>\n",
       "      <td>3</td>\n",
       "      <td>1990</td>\n",
       "      <td>Royal Concert Hall</td>\n",
       "      <td>Glasgow</td>\n",
       "      <td>Schenna MacDonald, Melvyn Bragg</td>\n",
       "      <td>2 de diciembre de 1990</td>\n",
       "    </tr>\n",
       "    <tr>\n",
       "      <td>3</td>\n",
       "      <td>4</td>\n",
       "      <td>1991</td>\n",
       "      <td>Babelsberg</td>\n",
       "      <td>Potsdam</td>\n",
       "      <td>Désirée Nosbusch-Becker, Johannes Willms</td>\n",
       "      <td>1 de diciembre de 1991</td>\n",
       "    </tr>\n",
       "    <tr>\n",
       "      <td>4</td>\n",
       "      <td>5</td>\n",
       "      <td>1992</td>\n",
       "      <td>Babelsberg</td>\n",
       "      <td>Potsdam</td>\n",
       "      <td>Senta Berger, Ben Kingsley</td>\n",
       "      <td>25 de noviembre de 1992</td>\n",
       "    </tr>\n",
       "    <tr>\n",
       "      <td>5</td>\n",
       "      <td>6</td>\n",
       "      <td>1993</td>\n",
       "      <td>Babelsberg</td>\n",
       "      <td>Potsdam</td>\n",
       "      <td>Fanny Ardant</td>\n",
       "      <td>4 de diciembre de 1993</td>\n",
       "    </tr>\n",
       "    <tr>\n",
       "      <td>6</td>\n",
       "      <td>7</td>\n",
       "      <td>1994</td>\n",
       "      <td>Spiegelzelt</td>\n",
       "      <td>Berlín</td>\n",
       "      <td>-</td>\n",
       "      <td>27 de noviembre de 1994</td>\n",
       "    </tr>\n",
       "    <tr>\n",
       "      <td>7</td>\n",
       "      <td>8</td>\n",
       "      <td>1995</td>\n",
       "      <td>Bar jeder Vernunft</td>\n",
       "      <td>Berlín</td>\n",
       "      <td>-</td>\n",
       "      <td>12 de noviembre de 1995</td>\n",
       "    </tr>\n",
       "    <tr>\n",
       "      <td>8</td>\n",
       "      <td>9</td>\n",
       "      <td>1996</td>\n",
       "      <td>Blaues Zelt am Lützowplatz</td>\n",
       "      <td>Berlín</td>\n",
       "      <td>-</td>\n",
       "      <td>8 de noviembre de 1996</td>\n",
       "    </tr>\n",
       "    <tr>\n",
       "      <td>9</td>\n",
       "      <td>10</td>\n",
       "      <td>1997</td>\n",
       "      <td>Flughafen Tempelhof</td>\n",
       "      <td>Berlín</td>\n",
       "      <td>Tania Bryer</td>\n",
       "      <td>7 de diciembre de 1997</td>\n",
       "    </tr>\n",
       "    <tr>\n",
       "      <td>10</td>\n",
       "      <td>11</td>\n",
       "      <td>1998</td>\n",
       "      <td>Old Vic Theatre</td>\n",
       "      <td>Londres</td>\n",
       "      <td>Mel Smith, Carole Bouquet</td>\n",
       "      <td>4 de diciembre de 1998</td>\n",
       "    </tr>\n",
       "    <tr>\n",
       "      <td>11</td>\n",
       "      <td>12</td>\n",
       "      <td>1999</td>\n",
       "      <td>Schiller Theater</td>\n",
       "      <td>Berlín</td>\n",
       "      <td>Mel Smith, Carole Bouquet</td>\n",
       "      <td>4 de diciembre de 1999</td>\n",
       "    </tr>\n",
       "    <tr>\n",
       "      <td>12</td>\n",
       "      <td>13</td>\n",
       "      <td>2000</td>\n",
       "      <td>Théâtre national de Chaillot</td>\n",
       "      <td>París</td>\n",
       "      <td>Rupert Everett, Antoine de Caunes</td>\n",
       "      <td>2 de diciembre de 2000</td>\n",
       "    </tr>\n",
       "    <tr>\n",
       "      <td>13</td>\n",
       "      <td>14</td>\n",
       "      <td>2001</td>\n",
       "      <td>Tempodrom</td>\n",
       "      <td>Berlín</td>\n",
       "      <td>Mel Smith</td>\n",
       "      <td>1 de diciembre de 2001</td>\n",
       "    </tr>\n",
       "    <tr>\n",
       "      <td>14</td>\n",
       "      <td>15</td>\n",
       "      <td>2002</td>\n",
       "      <td>Teatro dell'Opera di Roma</td>\n",
       "      <td>Roma</td>\n",
       "      <td>Asia Argento, Mel Smith</td>\n",
       "      <td>7 de diciembre de 2002</td>\n",
       "    </tr>\n",
       "    <tr>\n",
       "      <td>15</td>\n",
       "      <td>16</td>\n",
       "      <td>2003</td>\n",
       "      <td>Treptow Arena</td>\n",
       "      <td>Berlín</td>\n",
       "      <td>Heino Ferch</td>\n",
       "      <td>6 de diciembre de 2003</td>\n",
       "    </tr>\n",
       "    <tr>\n",
       "      <td>16</td>\n",
       "      <td>17</td>\n",
       "      <td>2004</td>\n",
       "      <td>Centro de convenciones internacional de Barcelona</td>\n",
       "      <td>Barcelona</td>\n",
       "      <td>Maria de Medeiros, Juanjo Puigcorbé</td>\n",
       "      <td>11 de diciembre de 2004</td>\n",
       "    </tr>\n",
       "    <tr>\n",
       "      <td>17</td>\n",
       "      <td>18</td>\n",
       "      <td>2005</td>\n",
       "      <td>Treptow Arena</td>\n",
       "      <td>Berlín</td>\n",
       "      <td>Heino Ferch</td>\n",
       "      <td>3 de diciembre de 2005</td>\n",
       "    </tr>\n",
       "    <tr>\n",
       "      <td>18</td>\n",
       "      <td>19</td>\n",
       "      <td>2006</td>\n",
       "      <td>EXPO XXI Center</td>\n",
       "      <td>Varsovia</td>\n",
       "      <td>Maciej Stuhr, Sophie Marceau</td>\n",
       "      <td>2 de diciembre de 2006</td>\n",
       "    </tr>\n",
       "    <tr>\n",
       "      <td>19</td>\n",
       "      <td>20</td>\n",
       "      <td>2007</td>\n",
       "      <td>Treptow Arena</td>\n",
       "      <td>Berlín</td>\n",
       "      <td>Jan Josef Liefers, Emmanuelle Béart</td>\n",
       "      <td>1 de diciembre de 2007</td>\n",
       "    </tr>\n",
       "    <tr>\n",
       "      <td>20</td>\n",
       "      <td>21</td>\n",
       "      <td>2008</td>\n",
       "      <td>Forum</td>\n",
       "      <td>Copenhague</td>\n",
       "      <td>Mikael Bertelsen</td>\n",
       "      <td>6 de diciembre de 2008</td>\n",
       "    </tr>\n",
       "    <tr>\n",
       "      <td>21</td>\n",
       "      <td>22</td>\n",
       "      <td>2009</td>\n",
       "      <td>Jahrhunderthalle</td>\n",
       "      <td>Bochum</td>\n",
       "      <td>Anke Engelke</td>\n",
       "      <td>12 de diciembre de 2009</td>\n",
       "    </tr>\n",
       "    <tr>\n",
       "      <td>22</td>\n",
       "      <td>23</td>\n",
       "      <td>2010</td>\n",
       "      <td>Nokia Concert Hall</td>\n",
       "      <td>Tallinn</td>\n",
       "      <td>Anke Engelke, Märt Avandi</td>\n",
       "      <td>4 de diciembre de 2010</td>\n",
       "    </tr>\n",
       "    <tr>\n",
       "      <td>23</td>\n",
       "      <td>24</td>\n",
       "      <td>2011</td>\n",
       "      <td>Tempodrom</td>\n",
       "      <td>Berlín</td>\n",
       "      <td>Anke Engelke</td>\n",
       "      <td>3 de diciembre de 2011</td>\n",
       "    </tr>\n",
       "    <tr>\n",
       "      <td>24</td>\n",
       "      <td>25</td>\n",
       "      <td>2012</td>\n",
       "      <td>Mediterranean Conference Centre</td>\n",
       "      <td>Valletta</td>\n",
       "      <td>Anke Engelke</td>\n",
       "      <td>1 de diciembre de 2012</td>\n",
       "    </tr>\n",
       "    <tr>\n",
       "      <td>25</td>\n",
       "      <td>26</td>\n",
       "      <td>2013</td>\n",
       "      <td>Haus der Berliner Festspiele</td>\n",
       "      <td>Berlín</td>\n",
       "      <td>Anke Engelke</td>\n",
       "      <td>7 de diciembre de 2013</td>\n",
       "    </tr>\n",
       "    <tr>\n",
       "      <td>26</td>\n",
       "      <td>27</td>\n",
       "      <td>2014</td>\n",
       "      <td>Latvian National Opera</td>\n",
       "      <td>Riga[2]​</td>\n",
       "      <td>Thomas Hermanns</td>\n",
       "      <td>13 de diciembre de 2014</td>\n",
       "    </tr>\n",
       "    <tr>\n",
       "      <td>27</td>\n",
       "      <td>28</td>\n",
       "      <td>2015</td>\n",
       "      <td>Haus der Berliner Festspiele</td>\n",
       "      <td>Berlín</td>\n",
       "      <td>Thomas Hermanns</td>\n",
       "      <td>12 de diciembre de 2015</td>\n",
       "    </tr>\n",
       "    <tr>\n",
       "      <td>28</td>\n",
       "      <td>29</td>\n",
       "      <td>2016</td>\n",
       "      <td>National Forum of Music</td>\n",
       "      <td>Breslavia</td>\n",
       "      <td>Maciej Stuhr</td>\n",
       "      <td>10 de diciembre de 2016</td>\n",
       "    </tr>\n",
       "    <tr>\n",
       "      <td>29</td>\n",
       "      <td>30</td>\n",
       "      <td>2017</td>\n",
       "      <td>Haus der Berliner Festspiele</td>\n",
       "      <td>Berlín</td>\n",
       "      <td>Thomas Hermanns</td>\n",
       "      <td>9 de diciembre de 2017</td>\n",
       "    </tr>\n",
       "    <tr>\n",
       "      <td>30</td>\n",
       "      <td>31</td>\n",
       "      <td>2018</td>\n",
       "      <td>Teatro de la Maestranza[3]​</td>\n",
       "      <td>Sevilla</td>\n",
       "      <td></td>\n",
       "      <td>15 de diciembre de 2018</td>\n",
       "    </tr>\n",
       "  </tbody>\n",
       "</table>\n",
       "</div>"
      ],
      "text/plain": [
       "   Edición   Año                                              Sitio  \\\n",
       "0        1  1988                                Theater des Westens   \n",
       "1        2  1989                       Teatro de los Campos Elíseos   \n",
       "2        3  1990                                 Royal Concert Hall   \n",
       "3        4  1991                                         Babelsberg   \n",
       "4        5  1992                                         Babelsberg   \n",
       "5        6  1993                                         Babelsberg   \n",
       "6        7  1994                                        Spiegelzelt   \n",
       "7        8  1995                                 Bar jeder Vernunft   \n",
       "8        9  1996                         Blaues Zelt am Lützowplatz   \n",
       "9       10  1997                                Flughafen Tempelhof   \n",
       "10      11  1998                                    Old Vic Theatre   \n",
       "11      12  1999                                   Schiller Theater   \n",
       "12      13  2000                       Théâtre national de Chaillot   \n",
       "13      14  2001                                          Tempodrom   \n",
       "14      15  2002                          Teatro dell'Opera di Roma   \n",
       "15      16  2003                                      Treptow Arena   \n",
       "16      17  2004  Centro de convenciones internacional de Barcelona   \n",
       "17      18  2005                                      Treptow Arena   \n",
       "18      19  2006                                    EXPO XXI Center   \n",
       "19      20  2007                                      Treptow Arena   \n",
       "20      21  2008                                              Forum   \n",
       "21      22  2009                                   Jahrhunderthalle   \n",
       "22      23  2010                                 Nokia Concert Hall   \n",
       "23      24  2011                                          Tempodrom   \n",
       "24      25  2012                    Mediterranean Conference Centre   \n",
       "25      26  2013                       Haus der Berliner Festspiele   \n",
       "26      27  2014                             Latvian National Opera   \n",
       "27      28  2015                       Haus der Berliner Festspiele   \n",
       "28      29  2016                            National Forum of Music   \n",
       "29      30  2017                       Haus der Berliner Festspiele   \n",
       "30      31  2018                        Teatro de la Maestranza[3]​   \n",
       "\n",
       "         Ciudad                               Presentador  \\\n",
       "0        Berlín              Jan Niklas, Désirée Nosbusch   \n",
       "1         París                 Fernando Rey, Agnès Soral   \n",
       "2       Glasgow           Schenna MacDonald, Melvyn Bragg   \n",
       "3       Potsdam  Désirée Nosbusch-Becker, Johannes Willms   \n",
       "4       Potsdam                Senta Berger, Ben Kingsley   \n",
       "5       Potsdam                              Fanny Ardant   \n",
       "6        Berlín                                         -   \n",
       "7        Berlín                                         -   \n",
       "8        Berlín                                         -   \n",
       "9        Berlín                               Tania Bryer   \n",
       "10      Londres                 Mel Smith, Carole Bouquet   \n",
       "11       Berlín                 Mel Smith, Carole Bouquet   \n",
       "12        París         Rupert Everett, Antoine de Caunes   \n",
       "13       Berlín                                 Mel Smith   \n",
       "14         Roma                   Asia Argento, Mel Smith   \n",
       "15       Berlín                               Heino Ferch   \n",
       "16    Barcelona       Maria de Medeiros, Juanjo Puigcorbé   \n",
       "17       Berlín                               Heino Ferch   \n",
       "18     Varsovia              Maciej Stuhr, Sophie Marceau   \n",
       "19       Berlín       Jan Josef Liefers, Emmanuelle Béart   \n",
       "20   Copenhague                          Mikael Bertelsen   \n",
       "21       Bochum                              Anke Engelke   \n",
       "22      Tallinn                 Anke Engelke, Märt Avandi   \n",
       "23       Berlín                              Anke Engelke   \n",
       "24     Valletta                              Anke Engelke   \n",
       "25       Berlín                              Anke Engelke   \n",
       "26     Riga[2]​                           Thomas Hermanns   \n",
       "27       Berlín                           Thomas Hermanns   \n",
       "28    Breslavia                              Maciej Stuhr   \n",
       "29       Berlín                           Thomas Hermanns   \n",
       "30      Sevilla                                             \n",
       "\n",
       "                        Año  \n",
       "0   26 de noviembre de 1988  \n",
       "1   25 de noviembre de 1989  \n",
       "2    2 de diciembre de 1990  \n",
       "3    1 de diciembre de 1991  \n",
       "4   25 de noviembre de 1992  \n",
       "5    4 de diciembre de 1993  \n",
       "6   27 de noviembre de 1994  \n",
       "7   12 de noviembre de 1995  \n",
       "8    8 de noviembre de 1996  \n",
       "9    7 de diciembre de 1997  \n",
       "10   4 de diciembre de 1998  \n",
       "11   4 de diciembre de 1999  \n",
       "12   2 de diciembre de 2000  \n",
       "13   1 de diciembre de 2001  \n",
       "14   7 de diciembre de 2002  \n",
       "15   6 de diciembre de 2003  \n",
       "16  11 de diciembre de 2004  \n",
       "17   3 de diciembre de 2005  \n",
       "18   2 de diciembre de 2006  \n",
       "19   1 de diciembre de 2007  \n",
       "20   6 de diciembre de 2008  \n",
       "21  12 de diciembre de 2009  \n",
       "22   4 de diciembre de 2010  \n",
       "23   3 de diciembre de 2011  \n",
       "24   1 de diciembre de 2012  \n",
       "25   7 de diciembre de 2013  \n",
       "26  13 de diciembre de 2014  \n",
       "27  12 de diciembre de 2015  \n",
       "28  10 de diciembre de 2016  \n",
       "29   9 de diciembre de 2017  \n",
       "30  15 de diciembre de 2018  "
      ]
     },
     "execution_count": 103,
     "metadata": {},
     "output_type": "execute_result"
    }
   ],
   "source": [
    "tabla_premios"
   ]
  },
  {
   "cell_type": "code",
   "execution_count": 140,
   "metadata": {},
   "outputs": [],
   "source": [
    "url='https://es.wikipedia.org/wiki/Videoconsola'"
   ]
  },
  {
   "cell_type": "code",
   "execution_count": 141,
   "metadata": {},
   "outputs": [],
   "source": [
    "resp = requests.get(url)"
   ]
  },
  {
   "cell_type": "code",
   "execution_count": 142,
   "metadata": {},
   "outputs": [],
   "source": [
    "sopa_v = bs(resp.content, 'html.parser')"
   ]
  },
  {
   "cell_type": "code",
   "execution_count": 117,
   "metadata": {},
   "outputs": [],
   "source": [
    "tables = sopa_v.find_all('table',{'class':'wikitable sortable'})"
   ]
  },
  {
   "cell_type": "code",
   "execution_count": 143,
   "metadata": {},
   "outputs": [],
   "source": [
    "caja = sopa_v.find('div', {'class':'mw-parser-output'})"
   ]
  },
  {
   "cell_type": "code",
   "execution_count": 144,
   "metadata": {},
   "outputs": [],
   "source": [
    "h3 = caja.findAll('h3')"
   ]
  },
  {
   "cell_type": "code",
   "execution_count": 157,
   "metadata": {},
   "outputs": [],
   "source": [
    "a = h3[0].find('a')"
   ]
  },
  {
   "cell_type": "code",
   "execution_count": null,
   "metadata": {},
   "outputs": [],
   "source": []
  },
  {
   "cell_type": "code",
   "execution_count": 163,
   "metadata": {},
   "outputs": [
    {
     "data": {
      "text/plain": [
       "'/w/index.php?title=Videoconsola&action=edit&section=2'"
      ]
     },
     "execution_count": 163,
     "metadata": {},
     "output_type": "execute_result"
    }
   ],
   "source": [
    "a.attrs['href']"
   ]
  },
  {
   "cell_type": "code",
   "execution_count": 182,
   "metadata": {},
   "outputs": [],
   "source": [
    "españa = tables[-1]"
   ]
  },
  {
   "cell_type": "code",
   "execution_count": 183,
   "metadata": {},
   "outputs": [],
   "source": [
    "cabecera_esp = españa.findAll('th')"
   ]
  },
  {
   "cell_type": "code",
   "execution_count": 184,
   "metadata": {},
   "outputs": [],
   "source": [
    "cabe_txt_v = [i.text.replace('\\n','') for i in cabecera_esp]"
   ]
  },
  {
   "cell_type": "code",
   "execution_count": 185,
   "metadata": {},
   "outputs": [
    {
     "data": {
      "text/plain": [
       "['Fabricante', 'Consola', 'Lanzamiento', 'Unidades vendidas']"
      ]
     },
     "execution_count": 185,
     "metadata": {},
     "output_type": "execute_result"
    }
   ],
   "source": [
    "cabe_txt_v"
   ]
  },
  {
   "cell_type": "code",
   "execution_count": 186,
   "metadata": {
    "scrolled": true
   },
   "outputs": [
    {
     "data": {
      "text/plain": [
       "[['Fabricante', '', 'Consola', '', 'Lanzamiento', '', 'Unidades vendidas'],\n",
       " ['Nintendo',\n",
       "  '',\n",
       "  'Nintendo DS',\n",
       "  '',\n",
       "  '11 de marzo de 2005',\n",
       "  '',\n",
       "  '5.7\\xa0millones (hasta 2012)[62]\\u200b'],\n",
       " ['Sony',\n",
       "  '',\n",
       "  'PlayStation 2',\n",
       "  '',\n",
       "  '24 de noviembre de 2000',\n",
       "  '',\n",
       "  '5\\xa0millones (hasta 2009)[63]\\u200b'],\n",
       " ['Sony',\n",
       "  '',\n",
       "  'PlayStation 4',\n",
       "  '',\n",
       "  '29 de noviembre de 2013',\n",
       "  '',\n",
       "  '3\\xa0millones (hasta 2019)[64]\\u200b'],\n",
       " ['Nintendo',\n",
       "  '',\n",
       "  'Wii',\n",
       "  '',\n",
       "  '8 de diciembre de 2006',\n",
       "  '',\n",
       "  '2.7\\xa0millones (hasta 2011)[65]\\u200b'],\n",
       " ['Sony',\n",
       "  '',\n",
       "  'PlayStation 3',\n",
       "  '',\n",
       "  '23 de marzo de 2007',\n",
       "  '',\n",
       "  '2.7\\xa0millones (hasta 2014)[66]\\u200b'],\n",
       " ['Nintendo',\n",
       "  '',\n",
       "  'Game Boy',\n",
       "  '',\n",
       "  'Enero de 1991[67]\\u200b',\n",
       "  '',\n",
       "  '2.3 millones (hasta 1999)[68]\\u200b'],\n",
       " ['Sony',\n",
       "  '',\n",
       "  'PlayStation Portable',\n",
       "  '',\n",
       "  '1 de septiembre de 2005',\n",
       "  '',\n",
       "  '2.1\\xa0millones (hasta 2009)[69]\\u200b'],\n",
       " ['Nintendo',\n",
       "  '',\n",
       "  'Nintendo 3DS',\n",
       "  '',\n",
       "  '25 de marzo de 2011',\n",
       "  '',\n",
       "  '2\\xa0millones (hasta 2018)[70]\\u200b'],\n",
       " ['Nintendo',\n",
       "  '',\n",
       "  'Game Boy Advance',\n",
       "  '',\n",
       "  '22 de junio de 2001[71]\\u200b',\n",
       "  '',\n",
       "  '1.6\\xa0millones (hasta 2004)[72]\\u200b'],\n",
       " ['Sony',\n",
       "  '',\n",
       "  'PlayStation',\n",
       "  '',\n",
       "  '29 de septiembre de 1995',\n",
       "  '',\n",
       "  '1.4 millones (hasta 1999)[73]\\u200b'],\n",
       " ['Microsoft',\n",
       "  '',\n",
       "  'Xbox 360',\n",
       "  '',\n",
       "  '2 de diciembre de 2005',\n",
       "  '',\n",
       "  '1\\xa0millón (hasta 2012)[74]\\u200b'],\n",
       " ['Nintendo',\n",
       "  '',\n",
       "  'Switch',\n",
       "  '',\n",
       "  '3 de marzo de 2017',\n",
       "  '',\n",
       "  '1 millón (hasta 2019)[75]\\u200b'],\n",
       " ['Sega',\n",
       "  '',\n",
       "  'Mega Drive',\n",
       "  '',\n",
       "  'Septiembre-Octubre de 1990[76]\\u200b[77]\\u200b',\n",
       "  '',\n",
       "  'Menos de 700\\xa0000 (hasta 1994)[n. 5]\\u200b'],\n",
       " ['Nintendo',\n",
       "  '',\n",
       "  'SNES',\n",
       "  '',\n",
       "  '1 de junio de 1992[81]\\u200b',\n",
       "  '',\n",
       "  '630\\xa0000 (hasta 1998)[81]\\u200b'],\n",
       " ['Sony',\n",
       "  '',\n",
       "  'PlayStation Vita',\n",
       "  '',\n",
       "  '22 de febrero de 2012',\n",
       "  '',\n",
       "  '600\\xa0000 (hasta 2015)[82]\\u200b'],\n",
       " ['Sega',\n",
       "  '',\n",
       "  'Master System',\n",
       "  '',\n",
       "  '1987[83]\\u200b',\n",
       "  '',\n",
       "  '550\\xa0000 (hasta 1993)[61]\\u200b'],\n",
       " ['Nintendo',\n",
       "  '',\n",
       "  'NES',\n",
       "  '',\n",
       "  '1987[83]\\u200b',\n",
       "  '',\n",
       "  '440\\xa0000 (hasta 1993)[61]\\u200b'],\n",
       " ['Microsoft',\n",
       "  '',\n",
       "  'Xbox One',\n",
       "  '',\n",
       "  '22 de noviembre de 2013',\n",
       "  '',\n",
       "  '305\\xa0000[84]\\u200b~500\\xa0000[85]\\u200b (hasta 2018)'],\n",
       " ['Nintendo',\n",
       "  '',\n",
       "  'GameCube',\n",
       "  '',\n",
       "  '3 de mayo de 2002',\n",
       "  '',\n",
       "  'Menos de 300\\xa0000 (hasta 2006)[n. 6]\\u200b'],\n",
       " ['Sega',\n",
       "  '',\n",
       "  'Dreamcast',\n",
       "  '',\n",
       "  '14 de octubre de 1999[87]\\u200b',\n",
       "  '',\n",
       "  '200\\xa0000 (hasta 2001)[88]\\u200b'],\n",
       " ['Sega',\n",
       "  '',\n",
       "  'Saturn',\n",
       "  '',\n",
       "  '7 de julio de 1995[89]\\u200b',\n",
       "  '',\n",
       "  '70\\xa0000 (hasta 1997)[90]\\u200b']]"
      ]
     },
     "execution_count": 186,
     "metadata": {},
     "output_type": "execute_result"
    }
   ],
   "source": [
    "rows = españa.find_all('tr')\n",
    "rows = [i.text.strip().split('\\n') for i in rows]\n",
    "rows"
   ]
  },
  {
   "cell_type": "code",
   "execution_count": 187,
   "metadata": {},
   "outputs": [],
   "source": [
    "final = []\n",
    "for i in rows:\n",
    "    tmp = []\n",
    "    for t in i:\n",
    "        if t != '':\n",
    "            tmp.append(t)\n",
    "    final.append(tmp)\n",
    "    \n",
    "#inal.pop(0)"
   ]
  },
  {
   "cell_type": "code",
   "execution_count": 188,
   "metadata": {
    "scrolled": true
   },
   "outputs": [
    {
     "data": {
      "text/plain": [
       "[['Fabricante', 'Consola', 'Lanzamiento', 'Unidades vendidas'],\n",
       " ['Nintendo',\n",
       "  'Nintendo DS',\n",
       "  '11 de marzo de 2005',\n",
       "  '5.7\\xa0millones (hasta 2012)[62]\\u200b'],\n",
       " ['Sony',\n",
       "  'PlayStation 2',\n",
       "  '24 de noviembre de 2000',\n",
       "  '5\\xa0millones (hasta 2009)[63]\\u200b'],\n",
       " ['Sony',\n",
       "  'PlayStation 4',\n",
       "  '29 de noviembre de 2013',\n",
       "  '3\\xa0millones (hasta 2019)[64]\\u200b'],\n",
       " ['Nintendo',\n",
       "  'Wii',\n",
       "  '8 de diciembre de 2006',\n",
       "  '2.7\\xa0millones (hasta 2011)[65]\\u200b'],\n",
       " ['Sony',\n",
       "  'PlayStation 3',\n",
       "  '23 de marzo de 2007',\n",
       "  '2.7\\xa0millones (hasta 2014)[66]\\u200b'],\n",
       " ['Nintendo',\n",
       "  'Game Boy',\n",
       "  'Enero de 1991[67]\\u200b',\n",
       "  '2.3 millones (hasta 1999)[68]\\u200b'],\n",
       " ['Sony',\n",
       "  'PlayStation Portable',\n",
       "  '1 de septiembre de 2005',\n",
       "  '2.1\\xa0millones (hasta 2009)[69]\\u200b'],\n",
       " ['Nintendo',\n",
       "  'Nintendo 3DS',\n",
       "  '25 de marzo de 2011',\n",
       "  '2\\xa0millones (hasta 2018)[70]\\u200b'],\n",
       " ['Nintendo',\n",
       "  'Game Boy Advance',\n",
       "  '22 de junio de 2001[71]\\u200b',\n",
       "  '1.6\\xa0millones (hasta 2004)[72]\\u200b'],\n",
       " ['Sony',\n",
       "  'PlayStation',\n",
       "  '29 de septiembre de 1995',\n",
       "  '1.4 millones (hasta 1999)[73]\\u200b'],\n",
       " ['Microsoft',\n",
       "  'Xbox 360',\n",
       "  '2 de diciembre de 2005',\n",
       "  '1\\xa0millón (hasta 2012)[74]\\u200b'],\n",
       " ['Nintendo',\n",
       "  'Switch',\n",
       "  '3 de marzo de 2017',\n",
       "  '1 millón (hasta 2019)[75]\\u200b'],\n",
       " ['Sega',\n",
       "  'Mega Drive',\n",
       "  'Septiembre-Octubre de 1990[76]\\u200b[77]\\u200b',\n",
       "  'Menos de 700\\xa0000 (hasta 1994)[n. 5]\\u200b'],\n",
       " ['Nintendo',\n",
       "  'SNES',\n",
       "  '1 de junio de 1992[81]\\u200b',\n",
       "  '630\\xa0000 (hasta 1998)[81]\\u200b'],\n",
       " ['Sony',\n",
       "  'PlayStation Vita',\n",
       "  '22 de febrero de 2012',\n",
       "  '600\\xa0000 (hasta 2015)[82]\\u200b'],\n",
       " ['Sega',\n",
       "  'Master System',\n",
       "  '1987[83]\\u200b',\n",
       "  '550\\xa0000 (hasta 1993)[61]\\u200b'],\n",
       " ['Nintendo', 'NES', '1987[83]\\u200b', '440\\xa0000 (hasta 1993)[61]\\u200b'],\n",
       " ['Microsoft',\n",
       "  'Xbox One',\n",
       "  '22 de noviembre de 2013',\n",
       "  '305\\xa0000[84]\\u200b~500\\xa0000[85]\\u200b (hasta 2018)'],\n",
       " ['Nintendo',\n",
       "  'GameCube',\n",
       "  '3 de mayo de 2002',\n",
       "  'Menos de 300\\xa0000 (hasta 2006)[n. 6]\\u200b'],\n",
       " ['Sega',\n",
       "  'Dreamcast',\n",
       "  '14 de octubre de 1999[87]\\u200b',\n",
       "  '200\\xa0000 (hasta 2001)[88]\\u200b'],\n",
       " ['Sega',\n",
       "  'Saturn',\n",
       "  '7 de julio de 1995[89]\\u200b',\n",
       "  '70\\xa0000 (hasta 1997)[90]\\u200b']]"
      ]
     },
     "execution_count": 188,
     "metadata": {},
     "output_type": "execute_result"
    }
   ],
   "source": [
    "final"
   ]
  },
  {
   "cell_type": "code",
   "execution_count": 360,
   "metadata": {},
   "outputs": [],
   "source": [
    "df_v = pd.DataFrame(final[1:], columns = final[0])"
   ]
  },
  {
   "cell_type": "code",
   "execution_count": 361,
   "metadata": {},
   "outputs": [],
   "source": [
    "import re"
   ]
  },
  {
   "cell_type": "code",
   "execution_count": 362,
   "metadata": {},
   "outputs": [],
   "source": [
    "clean_uni = lambda x: re.sub(r'\\[\\d+\\]','',x)"
   ]
  },
  {
   "cell_type": "code",
   "execution_count": 363,
   "metadata": {},
   "outputs": [],
   "source": [
    "df_v['Unidades vendidas'] = df_v['Unidades vendidas'].apply(clean_uni)"
   ]
  },
  {
   "cell_type": "code",
   "execution_count": 365,
   "metadata": {},
   "outputs": [],
   "source": [
    "df_v['Lanzamiento'] = df_v['Lanzamiento'].apply(clean_uni)"
   ]
  },
  {
   "cell_type": "code",
   "execution_count": 366,
   "metadata": {},
   "outputs": [
    {
     "data": {
      "text/html": [
       "<div>\n",
       "<style scoped>\n",
       "    .dataframe tbody tr th:only-of-type {\n",
       "        vertical-align: middle;\n",
       "    }\n",
       "\n",
       "    .dataframe tbody tr th {\n",
       "        vertical-align: top;\n",
       "    }\n",
       "\n",
       "    .dataframe thead th {\n",
       "        text-align: right;\n",
       "    }\n",
       "</style>\n",
       "<table border=\"1\" class=\"dataframe\">\n",
       "  <thead>\n",
       "    <tr style=\"text-align: right;\">\n",
       "      <th></th>\n",
       "      <th>Fabricante</th>\n",
       "      <th>Consola</th>\n",
       "      <th>Lanzamiento</th>\n",
       "      <th>Unidades vendidas</th>\n",
       "    </tr>\n",
       "  </thead>\n",
       "  <tbody>\n",
       "    <tr>\n",
       "      <td>0</td>\n",
       "      <td>Nintendo</td>\n",
       "      <td>Nintendo DS</td>\n",
       "      <td>11 de marzo de 2005</td>\n",
       "      <td>5.7 millones (hasta 2012)​</td>\n",
       "    </tr>\n",
       "    <tr>\n",
       "      <td>1</td>\n",
       "      <td>Sony</td>\n",
       "      <td>PlayStation 2</td>\n",
       "      <td>24 de noviembre de 2000</td>\n",
       "      <td>5 millones (hasta 2009)​</td>\n",
       "    </tr>\n",
       "    <tr>\n",
       "      <td>2</td>\n",
       "      <td>Sony</td>\n",
       "      <td>PlayStation 4</td>\n",
       "      <td>29 de noviembre de 2013</td>\n",
       "      <td>3 millones (hasta 2019)​</td>\n",
       "    </tr>\n",
       "    <tr>\n",
       "      <td>3</td>\n",
       "      <td>Nintendo</td>\n",
       "      <td>Wii</td>\n",
       "      <td>8 de diciembre de 2006</td>\n",
       "      <td>2.7 millones (hasta 2011)​</td>\n",
       "    </tr>\n",
       "    <tr>\n",
       "      <td>4</td>\n",
       "      <td>Sony</td>\n",
       "      <td>PlayStation 3</td>\n",
       "      <td>23 de marzo de 2007</td>\n",
       "      <td>2.7 millones (hasta 2014)​</td>\n",
       "    </tr>\n",
       "    <tr>\n",
       "      <td>5</td>\n",
       "      <td>Nintendo</td>\n",
       "      <td>Game Boy</td>\n",
       "      <td>Enero de 1991​</td>\n",
       "      <td>2.3 millones (hasta 1999)​</td>\n",
       "    </tr>\n",
       "    <tr>\n",
       "      <td>6</td>\n",
       "      <td>Sony</td>\n",
       "      <td>PlayStation Portable</td>\n",
       "      <td>1 de septiembre de 2005</td>\n",
       "      <td>2.1 millones (hasta 2009)​</td>\n",
       "    </tr>\n",
       "    <tr>\n",
       "      <td>7</td>\n",
       "      <td>Nintendo</td>\n",
       "      <td>Nintendo 3DS</td>\n",
       "      <td>25 de marzo de 2011</td>\n",
       "      <td>2 millones (hasta 2018)​</td>\n",
       "    </tr>\n",
       "    <tr>\n",
       "      <td>8</td>\n",
       "      <td>Nintendo</td>\n",
       "      <td>Game Boy Advance</td>\n",
       "      <td>22 de junio de 2001​</td>\n",
       "      <td>1.6 millones (hasta 2004)​</td>\n",
       "    </tr>\n",
       "    <tr>\n",
       "      <td>9</td>\n",
       "      <td>Sony</td>\n",
       "      <td>PlayStation</td>\n",
       "      <td>29 de septiembre de 1995</td>\n",
       "      <td>1.4 millones (hasta 1999)​</td>\n",
       "    </tr>\n",
       "    <tr>\n",
       "      <td>10</td>\n",
       "      <td>Microsoft</td>\n",
       "      <td>Xbox 360</td>\n",
       "      <td>2 de diciembre de 2005</td>\n",
       "      <td>1 millón (hasta 2012)​</td>\n",
       "    </tr>\n",
       "    <tr>\n",
       "      <td>11</td>\n",
       "      <td>Nintendo</td>\n",
       "      <td>Switch</td>\n",
       "      <td>3 de marzo de 2017</td>\n",
       "      <td>1 millón (hasta 2019)​</td>\n",
       "    </tr>\n",
       "    <tr>\n",
       "      <td>12</td>\n",
       "      <td>Sega</td>\n",
       "      <td>Mega Drive</td>\n",
       "      <td>Septiembre-Octubre de 1990​​</td>\n",
       "      <td>Menos de 700 000 (hasta 1994)[n. 5]​</td>\n",
       "    </tr>\n",
       "    <tr>\n",
       "      <td>13</td>\n",
       "      <td>Nintendo</td>\n",
       "      <td>SNES</td>\n",
       "      <td>1 de junio de 1992​</td>\n",
       "      <td>630 000 (hasta 1998)​</td>\n",
       "    </tr>\n",
       "    <tr>\n",
       "      <td>14</td>\n",
       "      <td>Sony</td>\n",
       "      <td>PlayStation Vita</td>\n",
       "      <td>22 de febrero de 2012</td>\n",
       "      <td>600 000 (hasta 2015)​</td>\n",
       "    </tr>\n",
       "    <tr>\n",
       "      <td>15</td>\n",
       "      <td>Sega</td>\n",
       "      <td>Master System</td>\n",
       "      <td>1987​</td>\n",
       "      <td>550 000 (hasta 1993)​</td>\n",
       "    </tr>\n",
       "    <tr>\n",
       "      <td>16</td>\n",
       "      <td>Nintendo</td>\n",
       "      <td>NES</td>\n",
       "      <td>1987​</td>\n",
       "      <td>440 000 (hasta 1993)​</td>\n",
       "    </tr>\n",
       "    <tr>\n",
       "      <td>17</td>\n",
       "      <td>Microsoft</td>\n",
       "      <td>Xbox One</td>\n",
       "      <td>22 de noviembre de 2013</td>\n",
       "      <td>305 000​~500 000​ (hasta 2018)</td>\n",
       "    </tr>\n",
       "    <tr>\n",
       "      <td>18</td>\n",
       "      <td>Nintendo</td>\n",
       "      <td>GameCube</td>\n",
       "      <td>3 de mayo de 2002</td>\n",
       "      <td>Menos de 300 000 (hasta 2006)[n. 6]​</td>\n",
       "    </tr>\n",
       "    <tr>\n",
       "      <td>19</td>\n",
       "      <td>Sega</td>\n",
       "      <td>Dreamcast</td>\n",
       "      <td>14 de octubre de 1999​</td>\n",
       "      <td>200 000 (hasta 2001)​</td>\n",
       "    </tr>\n",
       "    <tr>\n",
       "      <td>20</td>\n",
       "      <td>Sega</td>\n",
       "      <td>Saturn</td>\n",
       "      <td>7 de julio de 1995​</td>\n",
       "      <td>70 000 (hasta 1997)​</td>\n",
       "    </tr>\n",
       "  </tbody>\n",
       "</table>\n",
       "</div>"
      ],
      "text/plain": [
       "   Fabricante               Consola                   Lanzamiento  \\\n",
       "0    Nintendo           Nintendo DS           11 de marzo de 2005   \n",
       "1        Sony         PlayStation 2       24 de noviembre de 2000   \n",
       "2        Sony         PlayStation 4       29 de noviembre de 2013   \n",
       "3    Nintendo                   Wii        8 de diciembre de 2006   \n",
       "4        Sony         PlayStation 3           23 de marzo de 2007   \n",
       "5    Nintendo              Game Boy                Enero de 1991​   \n",
       "6        Sony  PlayStation Portable       1 de septiembre de 2005   \n",
       "7    Nintendo          Nintendo 3DS           25 de marzo de 2011   \n",
       "8    Nintendo      Game Boy Advance          22 de junio de 2001​   \n",
       "9        Sony           PlayStation      29 de septiembre de 1995   \n",
       "10  Microsoft              Xbox 360        2 de diciembre de 2005   \n",
       "11   Nintendo                Switch            3 de marzo de 2017   \n",
       "12       Sega            Mega Drive  Septiembre-Octubre de 1990​​   \n",
       "13   Nintendo                  SNES           1 de junio de 1992​   \n",
       "14       Sony      PlayStation Vita         22 de febrero de 2012   \n",
       "15       Sega         Master System                         1987​   \n",
       "16   Nintendo                   NES                         1987​   \n",
       "17  Microsoft              Xbox One       22 de noviembre de 2013   \n",
       "18   Nintendo              GameCube             3 de mayo de 2002   \n",
       "19       Sega             Dreamcast        14 de octubre de 1999​   \n",
       "20       Sega                Saturn           7 de julio de 1995​   \n",
       "\n",
       "                       Unidades vendidas  \n",
       "0             5.7 millones (hasta 2012)​  \n",
       "1               5 millones (hasta 2009)​  \n",
       "2               3 millones (hasta 2019)​  \n",
       "3             2.7 millones (hasta 2011)​  \n",
       "4             2.7 millones (hasta 2014)​  \n",
       "5             2.3 millones (hasta 1999)​  \n",
       "6             2.1 millones (hasta 2009)​  \n",
       "7               2 millones (hasta 2018)​  \n",
       "8             1.6 millones (hasta 2004)​  \n",
       "9             1.4 millones (hasta 1999)​  \n",
       "10                1 millón (hasta 2012)​  \n",
       "11                1 millón (hasta 2019)​  \n",
       "12  Menos de 700 000 (hasta 1994)[n. 5]​  \n",
       "13                 630 000 (hasta 1998)​  \n",
       "14                 600 000 (hasta 2015)​  \n",
       "15                 550 000 (hasta 1993)​  \n",
       "16                 440 000 (hasta 1993)​  \n",
       "17        305 000​~500 000​ (hasta 2018)  \n",
       "18  Menos de 300 000 (hasta 2006)[n. 6]​  \n",
       "19                 200 000 (hasta 2001)​  \n",
       "20                  70 000 (hasta 1997)​  "
      ]
     },
     "execution_count": 366,
     "metadata": {},
     "output_type": "execute_result"
    }
   ],
   "source": [
    "df_v"
   ]
  },
  {
   "cell_type": "code",
   "execution_count": 190,
   "metadata": {},
   "outputs": [],
   "source": [
    "url_over = 'https://www.overbuff.com/heroes'"
   ]
  },
  {
   "cell_type": "code",
   "execution_count": 195,
   "metadata": {},
   "outputs": [],
   "source": [
    "resp_over = requests.get(url_over, 'html.parser', headers = {'User-Agent': 'Chrome'})\n",
    "#Se cambiaron headers, para evitar el bloque de multiples peticiones, imitando chrome en vez de firefox"
   ]
  },
  {
   "cell_type": "code",
   "execution_count": 197,
   "metadata": {},
   "outputs": [
    {
     "data": {
      "text/plain": [
       "<Response [200]>"
      ]
     },
     "execution_count": 197,
     "metadata": {},
     "output_type": "execute_result"
    }
   ],
   "source": [
    "resp_over"
   ]
  },
  {
   "cell_type": "code",
   "execution_count": 198,
   "metadata": {},
   "outputs": [],
   "source": [
    "over_sopa = bs(resp_over.content)"
   ]
  },
  {
   "cell_type": "code",
   "execution_count": 199,
   "metadata": {},
   "outputs": [
    {
     "data": {
      "text/plain": [
       "<!DOCTYPE html>\n",
       "<html lang=\"en\"><head><title>Heroes - Overbuff - Overwatch Statistics</title><link href=\"/assets/static/app.css?v=b7dfc34\" rel=\"stylesheet\"/><link href=\"/assets/favicon.png?v=b7dfc34\" rel=\"icon\" type=\"image/png\"/><link href=\"/assets/favicon.png?v=b7dfc34\" rel=\"apple-touch-icon-precomposed\"/><link href=\"https://www.overbuff.com/blog.rss\" rel=\"alternate\" title=\"RSS\" type=\"application/rss+xml\"/><meta charset=\"utf-8\"/><meta content=\"width=device-width, initial-scale=1\" name=\"viewport\"/><meta content=\"telephone=no\" name=\"format-detection\"/><meta content=\"Overwatch Statistics for PC, PSN and XBL\" name=\"description\"/><meta content=\"overwatch statistics, overwatch stats, overwatch, overwatch guides\" name=\"keywords\"/><meta content=\"en\" name=\"locale\"/><meta content=\"#404B62\" name=\"theme-color\"/><meta content=\"Overbuff provides Overwatch Statistics for PC, PSN and XBL\" property=\"og:description\"/><meta content=\"website\" property=\"og:type\"/><meta content=\"https://www.overbuff.com/assets/favicon.png?v=b7dfc34\" property=\"og:image\"/><meta content=\"Heroes - Overbuff - Overwatch Statistics\" property=\"og:title\"/><meta content=\"https://www.overbuff.com/assets/favicon.png?v=b7dfc34\" name=\"twitter:image\"/><meta content=\"Heroes - Overbuff - Overwatch Statistics\" name=\"twitter:title\"/><meta content=\"summary\" name=\"twitter:card\"/><meta content=\"Overbuff provides Overwatch Statistics for PC, PSN and XBL\" name=\"twitter:description\"/><meta content=\"@overbuff\" name=\"twitter:site\"/><script src=\"/assets/static/app.js?v=b7dfc34\" type=\"text/javascript\"></script><script async=\"async\" src=\"https://as01.overbuff.com/a.js\" type=\"text/javascript\"></script><script>(function(i,s,o,g,r,a,m){i['GoogleAnalyticsObject']=r;i[r]=i[r]||function(){ (i[r].q=i[r].q||[]).push(arguments)},i[r].l=1*new Date();a=s.createElement(o), m=s.getElementsByTagName(o)[0];a.async=1;a.src=g;m.parentNode.insertBefore(a,m) })(window,document,'script','https://uuqz.overbuff.com/y/a.js','ga'); ga('create', 'UA-34232227-3', 'auto'); ga('send', 'pageview');</script></head><body><div class=\"skin-container seemsgood\"><div class=\"elo-placement skin\" data-area=\"ros\" data-site=\"overbuff\" data-space=\"skin\" data-type=\"elo-placement\"></div><div class=\"container main\"><div class=\"layout-nav\"><div class=\"layout-nav-left\"><a class=\"layout-nav-logo layout-nav-menu r-only-mobile\" href=\"#\"><span><i class=\"fa fa-bars\"></i> Overbuff</span></a><a class=\"layout-nav-logo r-none-mobile\" href=\"/\"><span>Overbuff</span></a><div class=\"layout-nav-links\"><div class=\"link r-only-mobile\"><a class=\"\" href=\"/\">Homepage</a></div><div class=\"link\"><a class=\"\" href=\"/heroes\">Heroes</a></div><div class=\"link\"><a class=\"\" href=\"/roles\">Roles</a></div><div class=\"link\"><a class=\"\" href=\"/verified\">Verified</a></div><div class=\"link\"><a class=\"\" href=\"/rankings\">Rankings</a></div><div class=\"link\"><a class=\"\" href=\"/esports\">Esports</a></div><div class=\"link\"><a class=\"\" href=\"/live\">Live</a></div><div class=\"link\"><a class=\"\" href=\"/blog\">Blog</a></div></div></div><div class=\"layout-nav-right\"><div class=\"layout-nav-session\"><div class=\"layout-nav-search\"><form action=\"/search\" class=\"search-form\" method=\"GET\"><input name=\"q\" placeholder=\"Search for Players...\" type=\"search\"/><button type=\"submit\"><i class=\"fa fa-search\"></i></button></form></div><div class=\"layout-nav-user\"><a class=\"\" href=\"/auth\">Sign In</a></div></div></div></div><div class=\"layout-notification\"><i class=\"fa fa-info-circle\"></i> We're working on a fix for QP rankings! <a href=\"https://forms.gle/ubLXDgxieV9GsJUS9\" target=\"_blank\">Help us improve Overbuff by completing a quick survey for a chance to win a $100 Steam gift card!</a></div><div class=\"row layout-content\"><div class=\"columns twelve\"><div class=\"elo-placement leaderboard_a\" data-area=\"ros\" data-site=\"overbuff\" data-space=\"leaderboard_a\" data-type=\"elo-placement\"></div><!-- begin cached fragment --><div component-data=\"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\" component-name=\"HeroesContainer\"><div class=\"heroes-container\" data-reactroot=\"\"><div><div class=\"filter filter-section\"><h1>Hero Stats</h1><div class=\"filter-group\"><div class=\"filter-option\">This Week</div><div class=\"filter-option selected\">This Month</div><div class=\"filter-option\">Last 3 Months</div><div class=\"filter-option\">Last 6 Months</div></div><div class=\"filter-group\"><div class=\"filter-option selected\"><i class=\"fa fa-windows\"></i> <!-- -->PC</div><div class=\"filter-option\"><i class=\"fa fa-psn\"></i> <!-- -->PSN</div><div class=\"filter-option\"><i class=\"fa fa-xbl\"></i> <!-- -->XBL</div><div class=\"filter-option\"><i class=\"fa fa-switch\"></i> <!-- -->SWITCH</div></div><div class=\"filter-group\"><div class=\"filter-option\"><i class=\"fa fa-flash\"></i> <!-- -->Quick Play</div><div class=\"filter-option selected\"><i class=\"fa fa-trophy\"></i> <!-- -->Competitive</div></div><div class=\"filter-group\"><div class=\"filter-option selected\">All</div><div class=\"filter-option\"><img alt=\"Offense\" class=\"image-role image-inline\" src=\"/assets/images/roles/offense.png?v=b7dfc34\"/> <!-- -->Offense</div><div class=\"filter-option\"><img alt=\"Defense\" class=\"image-role image-inline\" src=\"/assets/images/roles/defense.png?v=b7dfc34\"/> <!-- -->Defense</div><div class=\"filter-option\"><img alt=\"Tank\" class=\"image-role image-inline\" src=\"/assets/images/roles/tank.png?v=b7dfc34\"/> <!-- -->Tank</div><div class=\"filter-option\"><img alt=\"Support\" class=\"image-role image-inline\" src=\"/assets/images/roles/support.png?v=b7dfc34\"/> <!-- -->Support</div></div><div class=\"filter-group\"><div class=\"filter-option selected\">All</div><div class=\"filter-option\"><span class=\"r-none-mobile\" style=\"color:#E0B5AC\">Bronze</span><span class=\"r-only-mobile\" style=\"color:#E0B5AC\">Bron</span></div><div class=\"filter-option\"><span class=\"r-none-mobile\" style=\"color:#D5D6D5\">Silver</span><span class=\"r-only-mobile\" style=\"color:#D5D6D5\">Silv</span></div><div class=\"filter-option\"><span class=\"r-none-mobile\" style=\"color:#EFEB94\">Gold</span><span class=\"r-only-mobile\" style=\"color:#EFEB94\">Gold</span></div><div class=\"filter-option\"><span class=\"r-none-mobile\" style=\"color:#B1C3C2\">Platinum</span><span class=\"r-only-mobile\" style=\"color:#B1C3C2\">Plat</span></div><div class=\"filter-option\"><span class=\"r-none-mobile\" style=\"color:#D9E8F3\">Diamond</span><span class=\"r-only-mobile\" style=\"color:#D9E8F3\">Diam</span></div><div class=\"filter-option\"><span class=\"r-none-mobile\" style=\"color:#FACF6F\">Master</span><span class=\"r-only-mobile\" style=\"color:#FACF6F\">Mast</span></div><div class=\"filter-option\"><span class=\"r-none-mobile\" style=\"color:#FEE082\">Grandmaster</span><span class=\"r-only-mobile\" style=\"color:#FEE082\">Gran</span></div></div></div></div><div class=\"table-with-filter-tabs\"><div class=\"filter-tabs\"><div class=\"filter-option selected\">Overview</div><div class=\"filter-option\">Primary</div><div class=\"filter-option\">Eliminations</div><div class=\"filter-option\">Medals</div></div><table class=\"table-data table-sortable\"><thead><tr><th class=\"cell-icon-small\"></th><th class=\"cell-medium r-none-mobile\"><a class=\"sortable\">Hero<!-- --> <!-- --> </a></th><th><a class=\"sortable sorted\">Pick Rate<!-- --> <!-- --> <i class=\"fa fa-caret-down\"></i></a></th><th><a class=\"sortable\">Win Rate<!-- --> <!-- --> </a></th><th><a class=\"sortable\">Tie Rate<!-- --> <!-- --> </a></th><th><a class=\"sortable\">On Fire<!-- --> <!-- --> </a></th></tr></thead><tbody><tr><td class=\"cell-icon-small\"><a href=\"/heroes/ana\"><div class=\"image-with-corner\"><img alt=\"Ana\" class=\"image-hero image-hero-ana image-small\" src=\"/assets/images/heroes/ana.png?v=b7dfc34\"/><div class=\"corner\"><img alt=\"Support\" class=\"image-role image-inline\" src=\"/assets/images/roles/support.png?v=b7dfc34\"/></div></div></a></td><td class=\"cell-medium r-none-mobile\"><span><a href=\"/heroes/ana\">Ana</a><small>Support</small></span></td><td><span>11.18%</span><div class=\"bar\"><div class=\"segment segment-game\" style=\"width:100.00%\"></div></div></td><td><span>50.07%</span><div class=\"bar\"><div class=\"segment segment-win\" style=\"width:87.39%\"></div></div></td><td><span>2.01%</span><div class=\"bar\"><div class=\"segment segment-tie\" style=\"width:80.69%\"></div></div></td><td><span>9.34%</span><div class=\"bar\"><div class=\"segment segment-fire\" style=\"width:62.12%\"></div></div></td></tr><tr><td class=\"cell-icon-small\"><a href=\"/heroes/reinhardt\"><div class=\"image-with-corner\"><img alt=\"Reinhardt\" class=\"image-hero image-hero-reinhardt image-small\" src=\"/assets/images/heroes/reinhardt.png?v=b7dfc34\"/><div class=\"corner\"><img alt=\"Tank\" class=\"image-role image-inline\" src=\"/assets/images/roles/tank.png?v=b7dfc34\"/></div></div></a></td><td class=\"cell-medium r-none-mobile\"><span><a href=\"/heroes/reinhardt\">Reinhardt</a><small>Tank</small></span></td><td><span>10.32%</span><div class=\"bar\"><div class=\"segment segment-game\" style=\"width:92.28%\"></div></div></td><td><span>51.52%</span><div class=\"bar\"><div class=\"segment segment-win\" style=\"width:89.92%\"></div></div></td><td><span>2.24%</span><div class=\"bar\"><div class=\"segment segment-tie\" style=\"width:89.92%\"></div></div></td><td><span>6.71%</span><div class=\"bar\"><div class=\"segment segment-fire\" style=\"width:44.65%\"></div></div></td></tr><tr><td class=\"cell-icon-small\"><a href=\"/heroes/zarya\"><div class=\"image-with-corner\"><img alt=\"Zarya\" class=\"image-hero image-hero-zarya image-small\" src=\"/assets/images/heroes/zarya.png?v=b7dfc34\"/><div class=\"corner\"><img alt=\"Tank\" class=\"image-role image-inline\" src=\"/assets/images/roles/tank.png?v=b7dfc34\"/></div></div></a></td><td class=\"cell-medium r-none-mobile\"><span><a href=\"/heroes/zarya\">Zarya</a><small>Tank</small></span></td><td><span>7.45%</span><div class=\"bar\"><div class=\"segment segment-game\" style=\"width:66.69%\"></div></div></td><td><span>52.62%</span><div class=\"bar\"><div class=\"segment segment-win\" style=\"width:91.84%\"></div></div></td><td><span>2.13%</span><div class=\"bar\"><div class=\"segment segment-tie\" style=\"width:85.54%\"></div></div></td><td><span>12.00%</span><div class=\"bar\"><div class=\"segment segment-fire\" style=\"width:79.84%\"></div></div></td></tr><tr><td class=\"cell-icon-small\"><a href=\"/heroes/moira\"><div class=\"image-with-corner\"><img alt=\"Moira\" class=\"image-hero image-hero-moira image-small\" src=\"/assets/images/heroes/moira.png?v=b7dfc34\"/><div class=\"corner\"><img alt=\"Support\" class=\"image-role image-inline\" src=\"/assets/images/roles/support.png?v=b7dfc34\"/></div></div></a></td><td class=\"cell-medium r-none-mobile\"><span><a href=\"/heroes/moira\">Moira</a><small>Support</small></span></td><td><span>6.89%</span><div class=\"bar\"><div class=\"segment segment-game\" style=\"width:61.62%\"></div></div></td><td><span>49.93%</span><div class=\"bar\"><div class=\"segment segment-win\" style=\"width:87.14%\"></div></div></td><td><span>2.09%</span><div class=\"bar\"><div class=\"segment segment-tie\" style=\"width:83.97%\"></div></div></td><td><span>9.55%</span><div class=\"bar\"><div class=\"segment segment-fire\" style=\"width:63.54%\"></div></div></td></tr><tr><td class=\"cell-icon-small\"><a href=\"/heroes/mercy\"><div class=\"image-with-corner\"><img alt=\"Mercy\" class=\"image-hero image-hero-mercy image-small\" src=\"/assets/images/heroes/mercy.png?v=b7dfc34\"/><div class=\"corner\"><img alt=\"Support\" class=\"image-role image-inline\" src=\"/assets/images/roles/support.png?v=b7dfc34\"/></div></div></a></td><td class=\"cell-medium r-none-mobile\"><span><a href=\"/heroes/mercy\">Mercy</a><small>Support</small></span></td><td><span>6.34%</span><div class=\"bar\"><div class=\"segment segment-game\" style=\"width:56.69%\"></div></div></td><td><span>51.84%</span><div class=\"bar\"><div class=\"segment segment-win\" style=\"width:90.48%\"></div></div></td><td><span>2.09%</span><div class=\"bar\"><div class=\"segment segment-tie\" style=\"width:83.67%\"></div></div></td><td><span>2.23%</span><div class=\"bar\"><div class=\"segment segment-fire\" style=\"width:14.81%\"></div></div></td></tr><tr><td class=\"cell-icon-small\"><a href=\"/heroes/genji\"><div class=\"image-with-corner\"><img alt=\"Genji\" class=\"image-hero image-hero-genji image-small\" src=\"/assets/images/heroes/genji.png?v=b7dfc34\"/><div class=\"corner\"><img alt=\"Offense\" class=\"image-role image-inline\" src=\"/assets/images/roles/offense.png?v=b7dfc34\"/></div></div></a></td><td class=\"cell-medium r-none-mobile\"><span><a href=\"/heroes/genji\">Genji</a><small>Offense</small></span></td><td><span>6.11%</span><div class=\"bar\"><div class=\"segment segment-game\" style=\"width:54.65%\"></div></div></td><td><span>50.66%</span><div class=\"bar\"><div class=\"segment segment-win\" style=\"width:88.43%\"></div></div></td><td><span>1.86%</span><div class=\"bar\"><div class=\"segment segment-tie\" style=\"width:74.48%\"></div></div></td><td><span>11.82%</span><div class=\"bar\"><div class=\"segment segment-fire\" style=\"width:78.64%\"></div></div></td></tr><tr><td class=\"cell-icon-small\"><a href=\"/heroes/ashe\"><div class=\"image-with-corner\"><img alt=\"Ashe\" class=\"image-hero image-hero-ashe image-small\" src=\"/assets/images/heroes/ashe.png?v=b7dfc34\"/><div class=\"corner\"><img alt=\"Offense\" class=\"image-role image-inline\" src=\"/assets/images/roles/offense.png?v=b7dfc34\"/></div></div></a></td><td class=\"cell-medium r-none-mobile\"><span><a href=\"/heroes/ashe\">Ashe</a><small>Offense</small></span></td><td><span>4.84%</span><div class=\"bar\"><div class=\"segment segment-game\" style=\"width:43.28%\"></div></div></td><td><span>53.09%</span><div class=\"bar\"><div class=\"segment segment-win\" style=\"width:92.66%\"></div></div></td><td><span>1.93%</span><div class=\"bar\"><div class=\"segment segment-tie\" style=\"width:77.29%\"></div></div></td><td><span>9.37%</span><div class=\"bar\"><div class=\"segment segment-fire\" style=\"width:62.31%\"></div></div></td></tr><tr><td class=\"cell-icon-small\"><a href=\"/heroes/sigma\"><div class=\"image-with-corner\"><img alt=\"Sigma\" class=\"image-hero image-hero-sigma image-small\" src=\"/assets/images/heroes/sigma.png?v=b7dfc34\"/><div class=\"corner\"><img alt=\"Tank\" class=\"image-role image-inline\" src=\"/assets/images/roles/tank.png?v=b7dfc34\"/></div></div></a></td><td class=\"cell-medium r-none-mobile\"><span><a href=\"/heroes/sigma\">Sigma</a><small>Tank</small></span></td><td><span>4.41%</span><div class=\"bar\"><div class=\"segment segment-game\" style=\"width:39.47%\"></div></div></td><td><span>50.80%</span><div class=\"bar\"><div class=\"segment segment-win\" style=\"width:88.67%\"></div></div></td><td><span>2.03%</span><div class=\"bar\"><div class=\"segment segment-tie\" style=\"width:81.61%\"></div></div></td><td><span>12.07%</span><div class=\"bar\"><div class=\"segment segment-fire\" style=\"width:80.27%\"></div></div></td></tr><tr><td class=\"cell-icon-small\"><a href=\"/heroes/mccree\"><div class=\"image-with-corner\"><img alt=\"McCree\" class=\"image-hero image-hero-mccree image-small\" src=\"/assets/images/heroes/mccree.png?v=b7dfc34\"/><div class=\"corner\"><img alt=\"Offense\" class=\"image-role image-inline\" src=\"/assets/images/roles/offense.png?v=b7dfc34\"/></div></div></a></td><td class=\"cell-medium r-none-mobile\"><span><a href=\"/heroes/mccree\">McCree</a><small>Offense</small></span></td><td><span>4.04%</span><div class=\"bar\"><div class=\"segment segment-game\" style=\"width:36.13%\"></div></div></td><td><span>46.45%</span><div class=\"bar\"><div class=\"segment segment-win\" style=\"width:81.07%\"></div></div></td><td><span>1.57%</span><div class=\"bar\"><div class=\"segment segment-tie\" style=\"width:63.09%\"></div></div></td><td><span>7.98%</span><div class=\"bar\"><div class=\"segment segment-fire\" style=\"width:53.10%\"></div></div></td></tr><tr><td class=\"cell-icon-small\"><a href=\"/heroes/roadhog\"><div class=\"image-with-corner\"><img alt=\"Roadhog\" class=\"image-hero image-hero-roadhog image-small\" src=\"/assets/images/heroes/roadhog.png?v=b7dfc34\"/><div class=\"corner\"><img alt=\"Tank\" class=\"image-role image-inline\" src=\"/assets/images/roles/tank.png?v=b7dfc34\"/></div></div></a></td><td class=\"cell-medium r-none-mobile\"><span><a href=\"/heroes/roadhog\">Roadhog</a><small>Tank</small></span></td><td><span>3.33%</span><div class=\"bar\"><div class=\"segment segment-game\" style=\"width:29.75%\"></div></div></td><td><span>49.71%</span><div class=\"bar\"><div class=\"segment segment-win\" style=\"width:86.76%\"></div></div></td><td><span>1.58%</span><div class=\"bar\"><div class=\"segment segment-tie\" style=\"width:63.40%\"></div></div></td><td><span>9.18%</span><div class=\"bar\"><div class=\"segment segment-fire\" style=\"width:61.07%\"></div></div></td></tr><tr><td class=\"cell-icon-small\"><a href=\"/heroes/brigitte\"><div class=\"image-with-corner\"><img alt=\"Brigitte\" class=\"image-hero image-hero-brigitte image-small\" src=\"/assets/images/heroes/brigitte.png?v=b7dfc34\"/><div class=\"corner\"><img alt=\"Support\" class=\"image-role image-inline\" src=\"/assets/images/roles/support.png?v=b7dfc34\"/></div></div></a></td><td class=\"cell-medium r-none-mobile\"><span><a href=\"/heroes/brigitte\">Brigitte</a><small>Support</small></span></td><td><span>3.07%</span><div class=\"bar\"><div class=\"segment segment-game\" style=\"width:27.45%\"></div></div></td><td><span>53.84%</span><div class=\"bar\"><div class=\"segment segment-win\" style=\"width:93.98%\"></div></div></td><td><span>1.80%</span><div class=\"bar\"><div class=\"segment segment-tie\" style=\"width:72.16%\"></div></div></td><td><span>6.43%</span><div class=\"bar\"><div class=\"segment segment-fire\" style=\"width:42.78%\"></div></div></td></tr><tr><td class=\"cell-icon-small\"><a href=\"/heroes/baptiste\"><div class=\"image-with-corner\"><img alt=\"Baptiste\" class=\"image-hero image-hero-baptiste image-small\" src=\"/assets/images/heroes/baptiste.png?v=b7dfc34\"/><div class=\"corner\"><img alt=\"Support\" class=\"image-role image-inline\" src=\"/assets/images/roles/support.png?v=b7dfc34\"/></div></div></a></td><td class=\"cell-medium r-none-mobile\"><span><a href=\"/heroes/baptiste\">Baptiste</a><small>Support</small></span></td><td><span>2.93%</span><div class=\"bar\"><div class=\"segment segment-game\" style=\"width:26.22%\"></div></div></td><td><span>47.89%</span><div class=\"bar\"><div class=\"segment segment-win\" style=\"width:83.58%\"></div></div></td><td><span>2.37%</span><div class=\"bar\"><div class=\"segment segment-tie\" style=\"width:95.11%\"></div></div></td><td><span>11.26%</span><div class=\"bar\"><div class=\"segment segment-fire\" style=\"width:74.88%\"></div></div></td></tr><tr><td class=\"cell-icon-small\"><a href=\"/heroes/lucio\"><div class=\"image-with-corner\"><img alt=\"Lúcio\" class=\"image-hero image-hero-lucio image-small\" src=\"/assets/images/heroes/lucio.png?v=b7dfc34\"/><div class=\"corner\"><img alt=\"Support\" class=\"image-role image-inline\" src=\"/assets/images/roles/support.png?v=b7dfc34\"/></div></div></a></td><td class=\"cell-medium r-none-mobile\"><span><a href=\"/heroes/lucio\">Lúcio</a><small>Support</small></span></td><td><span>2.93%</span><div class=\"bar\"><div class=\"segment segment-game\" style=\"width:26.19%\"></div></div></td><td><span>51.68%</span><div class=\"bar\"><div class=\"segment segment-win\" style=\"width:90.20%\"></div></div></td><td><span>1.65%</span><div class=\"bar\"><div class=\"segment segment-tie\" style=\"width:66.11%\"></div></div></td><td><span>11.21%</span><div class=\"bar\"><div class=\"segment segment-fire\" style=\"width:74.60%\"></div></div></td></tr><tr><td class=\"cell-icon-small\"><a href=\"/heroes/winston\"><div class=\"image-with-corner\"><img alt=\"Winston\" class=\"image-hero image-hero-winston image-small\" src=\"/assets/images/heroes/winston.png?v=b7dfc34\"/><div class=\"corner\"><img alt=\"Tank\" class=\"image-role image-inline\" src=\"/assets/images/roles/tank.png?v=b7dfc34\"/></div></div></a></td><td class=\"cell-medium r-none-mobile\"><span><a href=\"/heroes/winston\">Winston</a><small>Tank</small></span></td><td><span>2.60%</span><div class=\"bar\"><div class=\"segment segment-game\" style=\"width:23.30%\"></div></div></td><td><span>48.63%</span><div class=\"bar\"><div class=\"segment segment-win\" style=\"width:84.89%\"></div></div></td><td><span>1.58%</span><div class=\"bar\"><div class=\"segment segment-tie\" style=\"width:63.28%\"></div></div></td><td><span>5.81%</span><div class=\"bar\"><div class=\"segment segment-fire\" style=\"width:38.68%\"></div></div></td></tr><tr><td class=\"cell-icon-small\"><a href=\"/heroes/junkrat\"><div class=\"image-with-corner\"><img alt=\"Junkrat\" class=\"image-hero image-hero-junkrat image-small\" src=\"/assets/images/heroes/junkrat.png?v=b7dfc34\"/><div class=\"corner\"><img alt=\"Defense\" class=\"image-role image-inline\" src=\"/assets/images/roles/defense.png?v=b7dfc34\"/></div></div></a></td><td class=\"cell-medium r-none-mobile\"><span><a href=\"/heroes/junkrat\">Junkrat</a><small>Defense</small></span></td><td><span>2.55%</span><div class=\"bar\"><div class=\"segment segment-game\" style=\"width:22.82%\"></div></div></td><td><span>52.49%</span><div class=\"bar\"><div class=\"segment segment-win\" style=\"width:91.62%\"></div></div></td><td><span>2.36%</span><div class=\"bar\"><div class=\"segment segment-tie\" style=\"width:94.89%\"></div></div></td><td><span>11.12%</span><div class=\"bar\"><div class=\"segment segment-fire\" style=\"width:73.99%\"></div></div></td></tr><tr><td class=\"cell-icon-small\"><a href=\"/heroes/wreckingball\"><div class=\"image-with-corner\"><img alt=\"Wrecking Ball\" class=\"image-hero image-hero-wreckingball image-small\" src=\"/assets/images/heroes/wreckingball.png?v=b7dfc34\"/><div class=\"corner\"><img alt=\"Tank\" class=\"image-role image-inline\" src=\"/assets/images/roles/tank.png?v=b7dfc34\"/></div></div></a></td><td class=\"cell-medium r-none-mobile\"><span><a href=\"/heroes/wreckingball\">Wrecking Ball</a><small>Tank</small></span></td><td><span>2.28%</span><div class=\"bar\"><div class=\"segment segment-game\" style=\"width:20.36%\"></div></div></td><td><span>49.84%</span><div class=\"bar\"><div class=\"segment segment-win\" style=\"width:86.99%\"></div></div></td><td><span>1.58%</span><div class=\"bar\"><div class=\"segment segment-tie\" style=\"width:63.37%\"></div></div></td><td><span>2.75%</span><div class=\"bar\"><div class=\"segment segment-fire\" style=\"width:18.29%\"></div></div></td></tr><tr><td class=\"cell-icon-small\"><a href=\"/heroes/orisa\"><div class=\"image-with-corner\"><img alt=\"Orisa\" class=\"image-hero image-hero-orisa image-small\" src=\"/assets/images/heroes/orisa.png?v=b7dfc34\"/><div class=\"corner\"><img alt=\"Tank\" class=\"image-role image-inline\" src=\"/assets/images/roles/tank.png?v=b7dfc34\"/></div></div></a></td><td class=\"cell-medium r-none-mobile\"><span><a href=\"/heroes/orisa\">Orisa</a><small>Tank</small></span></td><td><span>1.98%</span><div class=\"bar\"><div class=\"segment segment-game\" style=\"width:17.75%\"></div></div></td><td><span>49.11%</span><div class=\"bar\"><div class=\"segment segment-win\" style=\"width:85.72%\"></div></div></td><td><span>1.83%</span><div class=\"bar\"><div class=\"segment segment-tie\" style=\"width:73.49%\"></div></div></td><td><span>5.76%</span><div class=\"bar\"><div class=\"segment segment-fire\" style=\"width:38.35%\"></div></div></td></tr><tr><td class=\"cell-icon-small\"><a href=\"/heroes/hanzo\"><div class=\"image-with-corner\"><img alt=\"Hanzo\" class=\"image-hero image-hero-hanzo image-small\" src=\"/assets/images/heroes/hanzo.png?v=b7dfc34\"/><div class=\"corner\"><img alt=\"Defense\" class=\"image-role image-inline\" src=\"/assets/images/roles/defense.png?v=b7dfc34\"/></div></div></a></td><td class=\"cell-medium r-none-mobile\"><span><a href=\"/heroes/hanzo\">Hanzo</a><small>Defense</small></span></td><td><span>1.61%</span><div class=\"bar\"><div class=\"segment segment-game\" style=\"width:14.37%\"></div></div></td><td><span>48.42%</span><div class=\"bar\"><div class=\"segment segment-win\" style=\"width:84.52%\"></div></div></td><td><span>1.90%</span><div class=\"bar\"><div class=\"segment segment-tie\" style=\"width:76.28%\"></div></div></td><td><span>10.44%</span><div class=\"bar\"><div class=\"segment segment-fire\" style=\"width:69.48%\"></div></div></td></tr><tr><td class=\"cell-icon-small\"><a href=\"/heroes/pharah\"><div class=\"image-with-corner\"><img alt=\"Pharah\" class=\"image-hero image-hero-pharah image-small\" src=\"/assets/images/heroes/pharah.png?v=b7dfc34\"/><div class=\"corner\"><img alt=\"Offense\" class=\"image-role image-inline\" src=\"/assets/images/roles/offense.png?v=b7dfc34\"/></div></div></a></td><td class=\"cell-medium r-none-mobile\"><span><a href=\"/heroes/pharah\">Pharah</a><small>Offense</small></span></td><td><span>1.57%</span><div class=\"bar\"><div class=\"segment segment-game\" style=\"width:14.06%\"></div></div></td><td><span>53.46%</span><div class=\"bar\"><div class=\"segment segment-win\" style=\"width:93.30%\"></div></div></td><td><span>1.69%</span><div class=\"bar\"><div class=\"segment segment-tie\" style=\"width:67.88%\"></div></div></td><td><span>14.08%</span><div class=\"bar\"><div class=\"segment segment-fire\" style=\"width:93.69%\"></div></div></td></tr><tr><td class=\"cell-icon-small\"><a href=\"/heroes/widowmaker\"><div class=\"image-with-corner\"><img alt=\"Widowmaker\" class=\"image-hero image-hero-widowmaker image-small\" src=\"/assets/images/heroes/widowmaker.png?v=b7dfc34\"/><div class=\"corner\"><img alt=\"Defense\" class=\"image-role image-inline\" src=\"/assets/images/roles/defense.png?v=b7dfc34\"/></div></div></a></td><td class=\"cell-medium r-none-mobile\"><span><a href=\"/heroes/widowmaker\">Widowmaker</a><small>Defense</small></span></td><td><span>1.54%</span><div class=\"bar\"><div class=\"segment segment-game\" style=\"width:13.74%\"></div></div></td><td><span>50.20%</span><div class=\"bar\"><div class=\"segment segment-win\" style=\"width:87.62%\"></div></div></td><td><span>1.47%</span><div class=\"bar\"><div class=\"segment segment-tie\" style=\"width:59.17%\"></div></div></td><td><span>6.52%</span><div class=\"bar\"><div class=\"segment segment-fire\" style=\"width:43.38%\"></div></div></td></tr><tr><td class=\"cell-icon-small\"><a href=\"/heroes/soldier76\"><div class=\"image-with-corner\"><img alt=\"Soldier: 76\" class=\"image-hero image-hero-soldier76 image-small\" src=\"/assets/images/heroes/soldier76.png?v=b7dfc34\"/><div class=\"corner\"><img alt=\"Offense\" class=\"image-role image-inline\" src=\"/assets/images/roles/offense.png?v=b7dfc34\"/></div></div></a></td><td class=\"cell-medium r-none-mobile\"><span><a href=\"/heroes/soldier76\">Soldier: 76</a><small>Offense</small></span></td><td><span>1.50%</span><div class=\"bar\"><div class=\"segment segment-game\" style=\"width:13.40%\"></div></div></td><td><span>48.93%</span><div class=\"bar\"><div class=\"segment segment-win\" style=\"width:85.41%\"></div></div></td><td><span>1.67%</span><div class=\"bar\"><div class=\"segment segment-tie\" style=\"width:67.16%\"></div></div></td><td><span>9.22%</span><div class=\"bar\"><div class=\"segment segment-fire\" style=\"width:61.33%\"></div></div></td></tr><tr><td class=\"cell-icon-small\"><a href=\"/heroes/tracer\"><div class=\"image-with-corner\"><img alt=\"Tracer\" class=\"image-hero image-hero-tracer image-small\" src=\"/assets/images/heroes/tracer.png?v=b7dfc34\"/><div class=\"corner\"><img alt=\"Offense\" class=\"image-role image-inline\" src=\"/assets/images/roles/offense.png?v=b7dfc34\"/></div></div></a></td><td class=\"cell-medium r-none-mobile\"><span><a href=\"/heroes/tracer\">Tracer</a><small>Offense</small></span></td><td><span>1.48%</span><div class=\"bar\"><div class=\"segment segment-game\" style=\"width:13.20%\"></div></div></td><td><span>48.66%</span><div class=\"bar\"><div class=\"segment segment-win\" style=\"width:84.94%\"></div></div></td><td><span>1.36%</span><div class=\"bar\"><div class=\"segment segment-tie\" style=\"width:54.59%\"></div></div></td><td><span>6.24%</span><div class=\"bar\"><div class=\"segment segment-fire\" style=\"width:41.50%\"></div></div></td></tr><tr><td class=\"cell-icon-small\"><a href=\"/heroes/doomfist\"><div class=\"image-with-corner\"><img alt=\"Doomfist\" class=\"image-hero image-hero-doomfist image-small\" src=\"/assets/images/heroes/doomfist.png?v=b7dfc34\"/><div class=\"corner\"><img alt=\"Offense\" class=\"image-role image-inline\" src=\"/assets/images/roles/offense.png?v=b7dfc34\"/></div></div></a></td><td class=\"cell-medium r-none-mobile\"><span><a href=\"/heroes/doomfist\">Doomfist</a><small>Offense</small></span></td><td><span>1.47%</span><div class=\"bar\"><div class=\"segment segment-game\" style=\"width:13.16%\"></div></div></td><td><span>52.06%</span><div class=\"bar\"><div class=\"segment segment-win\" style=\"width:90.87%\"></div></div></td><td><span>1.59%</span><div class=\"bar\"><div class=\"segment segment-tie\" style=\"width:63.84%\"></div></div></td><td><span>6.97%</span><div class=\"bar\"><div class=\"segment segment-fire\" style=\"width:46.37%\"></div></div></td></tr><tr><td class=\"cell-icon-small\"><a href=\"/heroes/zenyatta\"><div class=\"image-with-corner\"><img alt=\"Zenyatta\" class=\"image-hero image-hero-zenyatta image-small\" src=\"/assets/images/heroes/zenyatta.png?v=b7dfc34\"/><div class=\"corner\"><img alt=\"Support\" class=\"image-role image-inline\" src=\"/assets/images/roles/support.png?v=b7dfc34\"/></div></div></a></td><td class=\"cell-medium r-none-mobile\"><span><a href=\"/heroes/zenyatta\">Zenyatta</a><small>Support</small></span></td><td><span>1.43%</span><div class=\"bar\"><div class=\"segment segment-game\" style=\"width:12.82%\"></div></div></td><td><span>53.25%</span><div class=\"bar\"><div class=\"segment segment-win\" style=\"width:92.95%\"></div></div></td><td><span>1.68%</span><div class=\"bar\"><div class=\"segment segment-tie\" style=\"width:67.48%\"></div></div></td><td><span>7.51%</span><div class=\"bar\"><div class=\"segment segment-fire\" style=\"width:49.95%\"></div></div></td></tr><tr><td class=\"cell-icon-small\"><a href=\"/heroes/dva\"><div class=\"image-with-corner\"><img alt=\"D.Va\" class=\"image-hero image-hero-dva image-small\" src=\"/assets/images/heroes/dva.png?v=b7dfc34\"/><div class=\"corner\"><img alt=\"Tank\" class=\"image-role image-inline\" src=\"/assets/images/roles/tank.png?v=b7dfc34\"/></div></div></a></td><td class=\"cell-medium r-none-mobile\"><span><a href=\"/heroes/dva\">D.Va</a><small>Tank</small></span></td><td><span>1.34%</span><div class=\"bar\"><div class=\"segment segment-game\" style=\"width:12.01%\"></div></div></td><td><span>47.84%</span><div class=\"bar\"><div class=\"segment segment-win\" style=\"width:83.50%\"></div></div></td><td><span>1.70%</span><div class=\"bar\"><div class=\"segment segment-tie\" style=\"width:68.10%\"></div></div></td><td><span>6.48%</span><div class=\"bar\"><div class=\"segment segment-fire\" style=\"width:43.08%\"></div></div></td></tr><tr><td class=\"cell-icon-small\"><a href=\"/heroes/reaper\"><div class=\"image-with-corner\"><img alt=\"Reaper\" class=\"image-hero image-hero-reaper image-small\" src=\"/assets/images/heroes/reaper.png?v=b7dfc34\"/><div class=\"corner\"><img alt=\"Offense\" class=\"image-role image-inline\" src=\"/assets/images/roles/offense.png?v=b7dfc34\"/></div></div></a></td><td class=\"cell-medium r-none-mobile\"><span><a href=\"/heroes/reaper\">Reaper</a><small>Offense</small></span></td><td><span>1.26%</span><div class=\"bar\"><div class=\"segment segment-game\" style=\"width:11.25%\"></div></div></td><td><span>48.90%</span><div class=\"bar\"><div class=\"segment segment-win\" style=\"width:85.36%\"></div></div></td><td><span>1.54%</span><div class=\"bar\"><div class=\"segment segment-tie\" style=\"width:61.99%\"></div></div></td><td><span>12.74%</span><div class=\"bar\"><div class=\"segment segment-fire\" style=\"width:84.73%\"></div></div></td></tr><tr><td class=\"cell-icon-small\"><a href=\"/heroes/torbjorn\"><div class=\"image-with-corner\"><img alt=\"Torbjörn\" class=\"image-hero image-hero-torbjorn image-small\" src=\"/assets/images/heroes/torbjorn.png?v=b7dfc34\"/><div class=\"corner\"><img alt=\"Defense\" class=\"image-role image-inline\" src=\"/assets/images/roles/defense.png?v=b7dfc34\"/></div></div></a></td><td class=\"cell-medium r-none-mobile\"><span><a href=\"/heroes/torbjorn\">Torbjörn</a><small>Defense</small></span></td><td><span>0.93%</span><div class=\"bar\"><div class=\"segment segment-game\" style=\"width:8.34%\"></div></div></td><td><span>56.70%</span><div class=\"bar\"><div class=\"segment segment-win\" style=\"width:98.97%\"></div></div></td><td><span>2.31%</span><div class=\"bar\"><div class=\"segment segment-tie\" style=\"width:92.65%\"></div></div></td><td><span>7.09%</span><div class=\"bar\"><div class=\"segment segment-fire\" style=\"width:47.14%\"></div></div></td></tr><tr><td class=\"cell-icon-small\"><a href=\"/heroes/echo\"><div class=\"image-with-corner\"><img alt=\"Echo\" class=\"image-hero image-hero-echo image-small\" src=\"/assets/images/heroes/echo.png?v=b7dfc34\"/><div class=\"corner\"><img alt=\"Offense\" class=\"image-role image-inline\" src=\"/assets/images/roles/offense.png?v=b7dfc34\"/></div></div></a></td><td class=\"cell-medium r-none-mobile\"><span><a href=\"/heroes/echo\">Echo</a><small>Offense</small></span></td><td><span>0.69%</span><div class=\"bar\"><div class=\"segment segment-game\" style=\"width:6.17%\"></div></div></td><td><span>49.25%</span><div class=\"bar\"><div class=\"segment segment-win\" style=\"width:85.97%\"></div></div></td><td><span>1.80%</span><div class=\"bar\"><div class=\"segment segment-tie\" style=\"width:72.05%\"></div></div></td><td><span>6.90%</span><div class=\"bar\"><div class=\"segment segment-fire\" style=\"width:45.89%\"></div></div></td></tr><tr><td class=\"cell-icon-small\"><a href=\"/heroes/sombra\"><div class=\"image-with-corner\"><img alt=\"Sombra\" class=\"image-hero image-hero-sombra image-small\" src=\"/assets/images/heroes/sombra.png?v=b7dfc34\"/><div class=\"corner\"><img alt=\"Offense\" class=\"image-role image-inline\" src=\"/assets/images/roles/offense.png?v=b7dfc34\"/></div></div></a></td><td class=\"cell-medium r-none-mobile\"><span><a href=\"/heroes/sombra\">Sombra</a><small>Offense</small></span></td><td><span>0.63%</span><div class=\"bar\"><div class=\"segment segment-game\" style=\"width:5.64%\"></div></div></td><td><span>47.12%</span><div class=\"bar\"><div class=\"segment segment-win\" style=\"width:82.24%\"></div></div></td><td><span>1.77%</span><div class=\"bar\"><div class=\"segment segment-tie\" style=\"width:70.99%\"></div></div></td><td><span>11.59%</span><div class=\"bar\"><div class=\"segment segment-fire\" style=\"width:77.13%\"></div></div></td></tr><tr><td class=\"cell-icon-small\"><a href=\"/heroes/symmetra\"><div class=\"image-with-corner\"><img alt=\"Symmetra\" class=\"image-hero image-hero-symmetra image-small\" src=\"/assets/images/heroes/symmetra.png?v=b7dfc34\"/><div class=\"corner\"><img alt=\"Support\" class=\"image-role image-inline\" src=\"/assets/images/roles/support.png?v=b7dfc34\"/></div></div></a></td><td class=\"cell-medium r-none-mobile\"><span><a href=\"/heroes/symmetra\">Symmetra</a><small>Support</small></span></td><td><span>0.59%</span><div class=\"bar\"><div class=\"segment segment-game\" style=\"width:5.32%\"></div></div></td><td><span>57.29%</span><div class=\"bar\"><div class=\"segment segment-win\" style=\"width:100.00%\"></div></div></td><td><span>2.49%</span><div class=\"bar\"><div class=\"segment segment-tie\" style=\"width:100.00%\"></div></div></td><td><span>8.37%</span><div class=\"bar\"><div class=\"segment segment-fire\" style=\"width:55.69%\"></div></div></td></tr><tr><td class=\"cell-icon-small\"><a href=\"/heroes/mei\"><div class=\"image-with-corner\"><img alt=\"Mei\" class=\"image-hero image-hero-mei image-small\" src=\"/assets/images/heroes/mei.png?v=b7dfc34\"/><div class=\"corner\"><img alt=\"Defense\" class=\"image-role image-inline\" src=\"/assets/images/roles/defense.png?v=b7dfc34\"/></div></div></a></td><td class=\"cell-medium r-none-mobile\"><span><a href=\"/heroes/mei\">Mei</a><small>Defense</small></span></td><td><span>0.46%</span><div class=\"bar\"><div class=\"segment segment-game\" style=\"width:4.08%\"></div></div></td><td><span>47.73%</span><div class=\"bar\"><div class=\"segment segment-win\" style=\"width:83.31%\"></div></div></td><td><span>2.13%</span><div class=\"bar\"><div class=\"segment segment-tie\" style=\"width:85.35%\"></div></div></td><td><span>6.80%</span><div class=\"bar\"><div class=\"segment segment-fire\" style=\"width:45.23%\"></div></div></td></tr><tr><td class=\"cell-icon-small\"><a href=\"/heroes/bastion\"><div class=\"image-with-corner\"><img alt=\"Bastion\" class=\"image-hero image-hero-bastion image-small\" src=\"/assets/images/heroes/bastion.png?v=b7dfc34\"/><div class=\"corner\"><img alt=\"Defense\" class=\"image-role image-inline\" src=\"/assets/images/roles/defense.png?v=b7dfc34\"/></div></div></a></td><td class=\"cell-medium r-none-mobile\"><span><a href=\"/heroes/bastion\">Bastion</a><small>Defense</small></span></td><td><span>0.26%</span><div class=\"bar\"><div class=\"segment segment-game\" style=\"width:2.34%\"></div></div></td><td><span>52.45%</span><div class=\"bar\"><div class=\"segment segment-win\" style=\"width:91.56%\"></div></div></td><td><span>2.17%</span><div class=\"bar\"><div class=\"segment segment-tie\" style=\"width:87.21%\"></div></div></td><td><span>15.03%</span><div class=\"bar\"><div class=\"segment segment-fire\" style=\"width:100.00%\"></div></div></td></tr></tbody></table></div></div></div><!-- end cached fragment --><div class=\"elo-placement leaderboard_b\" data-area=\"ros\" data-site=\"overbuff\" data-space=\"leaderboard_b\" data-type=\"elo-placement\"></div></div></div></div><div class=\"layout-footer\"><div class=\"container\"><div class=\"links\"><ul class=\"u-inline-list\"><li><a class=\"\" href=\"/about\">About</a></li><li><a class=\"\" href=\"/pages/privacy\">Privacy</a></li><li><a class=\"\" href=\"https://elo.workable.com\">Hiring</a></li><li><a class=\"color-hover-brand-dotabuff\" href=\"https://www.dotabuff.com\">Dotabuff</a></li><li><a class=\"color-hover-brand-fortbuff\" href=\"https://www.fortbuff.com\">Fortbuff</a></li><li><a class=\"color-hover-brand-dotabuff\" href=\"https://www.valorbuff.com\">Valorbuff</a></li><li><a class=\"color-hover-brand-dotabuff\" href=\"https://www.trackdota.com\">TrackDota</a></li><li class=\"social\"><a class=\"color-brand-discord\" href=\"https://discord.gg/p8TcrN7\"><i class=\"fa fa-discord\"></i></a><a class=\"color-brand-twitter\" href=\"https://twitter.com/overbuff\"><i class=\"fa fa-twitter\"></i></a><a class=\"color-brand-facebook\" href=\"https://www.facebook.com/overbuff\"><i class=\"fa fa-facebook\"></i></a></li></ul></div><div class=\"legal\"><p>© 2020 <a class=\"\" href=\"https://elo.io\">Elo Entertainment Inc</a>. Overwatch © 2020 Blizzard.</p></div></div></div></div><script type=\"text/javascript\">var _qevents = _qevents || []; (function() { var elem = document.createElement('script'); elem.src = (document.location.protocol == \"https:\" ? \"https://secure\" : \"http://edge\") + \".quantserve.com/quant.js\"; elem.async = true; elem.type = \"text/javascript\"; var scpt = document.getElementsByTagName('script')[0]; scpt.parentNode.insertBefore(elem, scpt); })(); _qevents.push({qacct:\"p-kE_YTEQhq5e4s\"});</script><noscript><div style=\"display:none;\"><img alt=\"Quantcast\" border=\"0\" height=\"1\" src=\"//pixel.quantserve.com/pixel/p-kE_YTEQhq5e4s.gif\" width=\"1\"/></div></noscript></body></html>"
      ]
     },
     "execution_count": 199,
     "metadata": {},
     "output_type": "execute_result"
    }
   ],
   "source": [
    "over_sopa.find"
   ]
  },
  {
   "cell_type": "code",
   "execution_count": 206,
   "metadata": {},
   "outputs": [
    {
     "data": {
      "text/plain": [
       "<table class=\"table-data table-sortable\"><thead><tr><th class=\"cell-icon-small\"></th><th class=\"cell-medium r-none-mobile\"><a class=\"sortable\">Hero<!-- --> <!-- --> </a></th><th><a class=\"sortable sorted\">Pick Rate<!-- --> <!-- --> <i class=\"fa fa-caret-down\"></i></a></th><th><a class=\"sortable\">Win Rate<!-- --> <!-- --> </a></th><th><a class=\"sortable\">Tie Rate<!-- --> <!-- --> </a></th><th><a class=\"sortable\">On Fire<!-- --> <!-- --> </a></th></tr></thead><tbody><tr><td class=\"cell-icon-small\"><a href=\"/heroes/ana\"><div class=\"image-with-corner\"><img alt=\"Ana\" class=\"image-hero image-hero-ana image-small\" src=\"/assets/images/heroes/ana.png?v=b7dfc34\"/><div class=\"corner\"><img alt=\"Support\" class=\"image-role image-inline\" src=\"/assets/images/roles/support.png?v=b7dfc34\"/></div></div></a></td><td class=\"cell-medium r-none-mobile\"><span><a href=\"/heroes/ana\">Ana</a><small>Support</small></span></td><td><span>11.18%</span><div class=\"bar\"><div class=\"segment segment-game\" style=\"width:100.00%\"></div></div></td><td><span>50.07%</span><div class=\"bar\"><div class=\"segment segment-win\" style=\"width:87.39%\"></div></div></td><td><span>2.01%</span><div class=\"bar\"><div class=\"segment segment-tie\" style=\"width:80.69%\"></div></div></td><td><span>9.34%</span><div class=\"bar\"><div class=\"segment segment-fire\" style=\"width:62.12%\"></div></div></td></tr><tr><td class=\"cell-icon-small\"><a href=\"/heroes/reinhardt\"><div class=\"image-with-corner\"><img alt=\"Reinhardt\" class=\"image-hero image-hero-reinhardt image-small\" src=\"/assets/images/heroes/reinhardt.png?v=b7dfc34\"/><div class=\"corner\"><img alt=\"Tank\" class=\"image-role image-inline\" src=\"/assets/images/roles/tank.png?v=b7dfc34\"/></div></div></a></td><td class=\"cell-medium r-none-mobile\"><span><a href=\"/heroes/reinhardt\">Reinhardt</a><small>Tank</small></span></td><td><span>10.32%</span><div class=\"bar\"><div class=\"segment segment-game\" style=\"width:92.28%\"></div></div></td><td><span>51.52%</span><div class=\"bar\"><div class=\"segment segment-win\" style=\"width:89.92%\"></div></div></td><td><span>2.24%</span><div class=\"bar\"><div class=\"segment segment-tie\" style=\"width:89.92%\"></div></div></td><td><span>6.71%</span><div class=\"bar\"><div class=\"segment segment-fire\" style=\"width:44.65%\"></div></div></td></tr><tr><td class=\"cell-icon-small\"><a href=\"/heroes/zarya\"><div class=\"image-with-corner\"><img alt=\"Zarya\" class=\"image-hero image-hero-zarya image-small\" src=\"/assets/images/heroes/zarya.png?v=b7dfc34\"/><div class=\"corner\"><img alt=\"Tank\" class=\"image-role image-inline\" src=\"/assets/images/roles/tank.png?v=b7dfc34\"/></div></div></a></td><td class=\"cell-medium r-none-mobile\"><span><a href=\"/heroes/zarya\">Zarya</a><small>Tank</small></span></td><td><span>7.45%</span><div class=\"bar\"><div class=\"segment segment-game\" style=\"width:66.69%\"></div></div></td><td><span>52.62%</span><div class=\"bar\"><div class=\"segment segment-win\" style=\"width:91.84%\"></div></div></td><td><span>2.13%</span><div class=\"bar\"><div class=\"segment segment-tie\" style=\"width:85.54%\"></div></div></td><td><span>12.00%</span><div class=\"bar\"><div class=\"segment segment-fire\" style=\"width:79.84%\"></div></div></td></tr><tr><td class=\"cell-icon-small\"><a href=\"/heroes/moira\"><div class=\"image-with-corner\"><img alt=\"Moira\" class=\"image-hero image-hero-moira image-small\" src=\"/assets/images/heroes/moira.png?v=b7dfc34\"/><div class=\"corner\"><img alt=\"Support\" class=\"image-role image-inline\" src=\"/assets/images/roles/support.png?v=b7dfc34\"/></div></div></a></td><td class=\"cell-medium r-none-mobile\"><span><a href=\"/heroes/moira\">Moira</a><small>Support</small></span></td><td><span>6.89%</span><div class=\"bar\"><div class=\"segment segment-game\" style=\"width:61.62%\"></div></div></td><td><span>49.93%</span><div class=\"bar\"><div class=\"segment segment-win\" style=\"width:87.14%\"></div></div></td><td><span>2.09%</span><div class=\"bar\"><div class=\"segment segment-tie\" style=\"width:83.97%\"></div></div></td><td><span>9.55%</span><div class=\"bar\"><div class=\"segment segment-fire\" style=\"width:63.54%\"></div></div></td></tr><tr><td class=\"cell-icon-small\"><a href=\"/heroes/mercy\"><div class=\"image-with-corner\"><img alt=\"Mercy\" class=\"image-hero image-hero-mercy image-small\" src=\"/assets/images/heroes/mercy.png?v=b7dfc34\"/><div class=\"corner\"><img alt=\"Support\" class=\"image-role image-inline\" src=\"/assets/images/roles/support.png?v=b7dfc34\"/></div></div></a></td><td class=\"cell-medium r-none-mobile\"><span><a href=\"/heroes/mercy\">Mercy</a><small>Support</small></span></td><td><span>6.34%</span><div class=\"bar\"><div class=\"segment segment-game\" style=\"width:56.69%\"></div></div></td><td><span>51.84%</span><div class=\"bar\"><div class=\"segment segment-win\" style=\"width:90.48%\"></div></div></td><td><span>2.09%</span><div class=\"bar\"><div class=\"segment segment-tie\" style=\"width:83.67%\"></div></div></td><td><span>2.23%</span><div class=\"bar\"><div class=\"segment segment-fire\" style=\"width:14.81%\"></div></div></td></tr><tr><td class=\"cell-icon-small\"><a href=\"/heroes/genji\"><div class=\"image-with-corner\"><img alt=\"Genji\" class=\"image-hero image-hero-genji image-small\" src=\"/assets/images/heroes/genji.png?v=b7dfc34\"/><div class=\"corner\"><img alt=\"Offense\" class=\"image-role image-inline\" src=\"/assets/images/roles/offense.png?v=b7dfc34\"/></div></div></a></td><td class=\"cell-medium r-none-mobile\"><span><a href=\"/heroes/genji\">Genji</a><small>Offense</small></span></td><td><span>6.11%</span><div class=\"bar\"><div class=\"segment segment-game\" style=\"width:54.65%\"></div></div></td><td><span>50.66%</span><div class=\"bar\"><div class=\"segment segment-win\" style=\"width:88.43%\"></div></div></td><td><span>1.86%</span><div class=\"bar\"><div class=\"segment segment-tie\" style=\"width:74.48%\"></div></div></td><td><span>11.82%</span><div class=\"bar\"><div class=\"segment segment-fire\" style=\"width:78.64%\"></div></div></td></tr><tr><td class=\"cell-icon-small\"><a href=\"/heroes/ashe\"><div class=\"image-with-corner\"><img alt=\"Ashe\" class=\"image-hero image-hero-ashe image-small\" src=\"/assets/images/heroes/ashe.png?v=b7dfc34\"/><div class=\"corner\"><img alt=\"Offense\" class=\"image-role image-inline\" src=\"/assets/images/roles/offense.png?v=b7dfc34\"/></div></div></a></td><td class=\"cell-medium r-none-mobile\"><span><a href=\"/heroes/ashe\">Ashe</a><small>Offense</small></span></td><td><span>4.84%</span><div class=\"bar\"><div class=\"segment segment-game\" style=\"width:43.28%\"></div></div></td><td><span>53.09%</span><div class=\"bar\"><div class=\"segment segment-win\" style=\"width:92.66%\"></div></div></td><td><span>1.93%</span><div class=\"bar\"><div class=\"segment segment-tie\" style=\"width:77.29%\"></div></div></td><td><span>9.37%</span><div class=\"bar\"><div class=\"segment segment-fire\" style=\"width:62.31%\"></div></div></td></tr><tr><td class=\"cell-icon-small\"><a href=\"/heroes/sigma\"><div class=\"image-with-corner\"><img alt=\"Sigma\" class=\"image-hero image-hero-sigma image-small\" src=\"/assets/images/heroes/sigma.png?v=b7dfc34\"/><div class=\"corner\"><img alt=\"Tank\" class=\"image-role image-inline\" src=\"/assets/images/roles/tank.png?v=b7dfc34\"/></div></div></a></td><td class=\"cell-medium r-none-mobile\"><span><a href=\"/heroes/sigma\">Sigma</a><small>Tank</small></span></td><td><span>4.41%</span><div class=\"bar\"><div class=\"segment segment-game\" style=\"width:39.47%\"></div></div></td><td><span>50.80%</span><div class=\"bar\"><div class=\"segment segment-win\" style=\"width:88.67%\"></div></div></td><td><span>2.03%</span><div class=\"bar\"><div class=\"segment segment-tie\" style=\"width:81.61%\"></div></div></td><td><span>12.07%</span><div class=\"bar\"><div class=\"segment segment-fire\" style=\"width:80.27%\"></div></div></td></tr><tr><td class=\"cell-icon-small\"><a href=\"/heroes/mccree\"><div class=\"image-with-corner\"><img alt=\"McCree\" class=\"image-hero image-hero-mccree image-small\" src=\"/assets/images/heroes/mccree.png?v=b7dfc34\"/><div class=\"corner\"><img alt=\"Offense\" class=\"image-role image-inline\" src=\"/assets/images/roles/offense.png?v=b7dfc34\"/></div></div></a></td><td class=\"cell-medium r-none-mobile\"><span><a href=\"/heroes/mccree\">McCree</a><small>Offense</small></span></td><td><span>4.04%</span><div class=\"bar\"><div class=\"segment segment-game\" style=\"width:36.13%\"></div></div></td><td><span>46.45%</span><div class=\"bar\"><div class=\"segment segment-win\" style=\"width:81.07%\"></div></div></td><td><span>1.57%</span><div class=\"bar\"><div class=\"segment segment-tie\" style=\"width:63.09%\"></div></div></td><td><span>7.98%</span><div class=\"bar\"><div class=\"segment segment-fire\" style=\"width:53.10%\"></div></div></td></tr><tr><td class=\"cell-icon-small\"><a href=\"/heroes/roadhog\"><div class=\"image-with-corner\"><img alt=\"Roadhog\" class=\"image-hero image-hero-roadhog image-small\" src=\"/assets/images/heroes/roadhog.png?v=b7dfc34\"/><div class=\"corner\"><img alt=\"Tank\" class=\"image-role image-inline\" src=\"/assets/images/roles/tank.png?v=b7dfc34\"/></div></div></a></td><td class=\"cell-medium r-none-mobile\"><span><a href=\"/heroes/roadhog\">Roadhog</a><small>Tank</small></span></td><td><span>3.33%</span><div class=\"bar\"><div class=\"segment segment-game\" style=\"width:29.75%\"></div></div></td><td><span>49.71%</span><div class=\"bar\"><div class=\"segment segment-win\" style=\"width:86.76%\"></div></div></td><td><span>1.58%</span><div class=\"bar\"><div class=\"segment segment-tie\" style=\"width:63.40%\"></div></div></td><td><span>9.18%</span><div class=\"bar\"><div class=\"segment segment-fire\" style=\"width:61.07%\"></div></div></td></tr><tr><td class=\"cell-icon-small\"><a href=\"/heroes/brigitte\"><div class=\"image-with-corner\"><img alt=\"Brigitte\" class=\"image-hero image-hero-brigitte image-small\" src=\"/assets/images/heroes/brigitte.png?v=b7dfc34\"/><div class=\"corner\"><img alt=\"Support\" class=\"image-role image-inline\" src=\"/assets/images/roles/support.png?v=b7dfc34\"/></div></div></a></td><td class=\"cell-medium r-none-mobile\"><span><a href=\"/heroes/brigitte\">Brigitte</a><small>Support</small></span></td><td><span>3.07%</span><div class=\"bar\"><div class=\"segment segment-game\" style=\"width:27.45%\"></div></div></td><td><span>53.84%</span><div class=\"bar\"><div class=\"segment segment-win\" style=\"width:93.98%\"></div></div></td><td><span>1.80%</span><div class=\"bar\"><div class=\"segment segment-tie\" style=\"width:72.16%\"></div></div></td><td><span>6.43%</span><div class=\"bar\"><div class=\"segment segment-fire\" style=\"width:42.78%\"></div></div></td></tr><tr><td class=\"cell-icon-small\"><a href=\"/heroes/baptiste\"><div class=\"image-with-corner\"><img alt=\"Baptiste\" class=\"image-hero image-hero-baptiste image-small\" src=\"/assets/images/heroes/baptiste.png?v=b7dfc34\"/><div class=\"corner\"><img alt=\"Support\" class=\"image-role image-inline\" src=\"/assets/images/roles/support.png?v=b7dfc34\"/></div></div></a></td><td class=\"cell-medium r-none-mobile\"><span><a href=\"/heroes/baptiste\">Baptiste</a><small>Support</small></span></td><td><span>2.93%</span><div class=\"bar\"><div class=\"segment segment-game\" style=\"width:26.22%\"></div></div></td><td><span>47.89%</span><div class=\"bar\"><div class=\"segment segment-win\" style=\"width:83.58%\"></div></div></td><td><span>2.37%</span><div class=\"bar\"><div class=\"segment segment-tie\" style=\"width:95.11%\"></div></div></td><td><span>11.26%</span><div class=\"bar\"><div class=\"segment segment-fire\" style=\"width:74.88%\"></div></div></td></tr><tr><td class=\"cell-icon-small\"><a href=\"/heroes/lucio\"><div class=\"image-with-corner\"><img alt=\"Lúcio\" class=\"image-hero image-hero-lucio image-small\" src=\"/assets/images/heroes/lucio.png?v=b7dfc34\"/><div class=\"corner\"><img alt=\"Support\" class=\"image-role image-inline\" src=\"/assets/images/roles/support.png?v=b7dfc34\"/></div></div></a></td><td class=\"cell-medium r-none-mobile\"><span><a href=\"/heroes/lucio\">Lúcio</a><small>Support</small></span></td><td><span>2.93%</span><div class=\"bar\"><div class=\"segment segment-game\" style=\"width:26.19%\"></div></div></td><td><span>51.68%</span><div class=\"bar\"><div class=\"segment segment-win\" style=\"width:90.20%\"></div></div></td><td><span>1.65%</span><div class=\"bar\"><div class=\"segment segment-tie\" style=\"width:66.11%\"></div></div></td><td><span>11.21%</span><div class=\"bar\"><div class=\"segment segment-fire\" style=\"width:74.60%\"></div></div></td></tr><tr><td class=\"cell-icon-small\"><a href=\"/heroes/winston\"><div class=\"image-with-corner\"><img alt=\"Winston\" class=\"image-hero image-hero-winston image-small\" src=\"/assets/images/heroes/winston.png?v=b7dfc34\"/><div class=\"corner\"><img alt=\"Tank\" class=\"image-role image-inline\" src=\"/assets/images/roles/tank.png?v=b7dfc34\"/></div></div></a></td><td class=\"cell-medium r-none-mobile\"><span><a href=\"/heroes/winston\">Winston</a><small>Tank</small></span></td><td><span>2.60%</span><div class=\"bar\"><div class=\"segment segment-game\" style=\"width:23.30%\"></div></div></td><td><span>48.63%</span><div class=\"bar\"><div class=\"segment segment-win\" style=\"width:84.89%\"></div></div></td><td><span>1.58%</span><div class=\"bar\"><div class=\"segment segment-tie\" style=\"width:63.28%\"></div></div></td><td><span>5.81%</span><div class=\"bar\"><div class=\"segment segment-fire\" style=\"width:38.68%\"></div></div></td></tr><tr><td class=\"cell-icon-small\"><a href=\"/heroes/junkrat\"><div class=\"image-with-corner\"><img alt=\"Junkrat\" class=\"image-hero image-hero-junkrat image-small\" src=\"/assets/images/heroes/junkrat.png?v=b7dfc34\"/><div class=\"corner\"><img alt=\"Defense\" class=\"image-role image-inline\" src=\"/assets/images/roles/defense.png?v=b7dfc34\"/></div></div></a></td><td class=\"cell-medium r-none-mobile\"><span><a href=\"/heroes/junkrat\">Junkrat</a><small>Defense</small></span></td><td><span>2.55%</span><div class=\"bar\"><div class=\"segment segment-game\" style=\"width:22.82%\"></div></div></td><td><span>52.49%</span><div class=\"bar\"><div class=\"segment segment-win\" style=\"width:91.62%\"></div></div></td><td><span>2.36%</span><div class=\"bar\"><div class=\"segment segment-tie\" style=\"width:94.89%\"></div></div></td><td><span>11.12%</span><div class=\"bar\"><div class=\"segment segment-fire\" style=\"width:73.99%\"></div></div></td></tr><tr><td class=\"cell-icon-small\"><a href=\"/heroes/wreckingball\"><div class=\"image-with-corner\"><img alt=\"Wrecking Ball\" class=\"image-hero image-hero-wreckingball image-small\" src=\"/assets/images/heroes/wreckingball.png?v=b7dfc34\"/><div class=\"corner\"><img alt=\"Tank\" class=\"image-role image-inline\" src=\"/assets/images/roles/tank.png?v=b7dfc34\"/></div></div></a></td><td class=\"cell-medium r-none-mobile\"><span><a href=\"/heroes/wreckingball\">Wrecking Ball</a><small>Tank</small></span></td><td><span>2.28%</span><div class=\"bar\"><div class=\"segment segment-game\" style=\"width:20.36%\"></div></div></td><td><span>49.84%</span><div class=\"bar\"><div class=\"segment segment-win\" style=\"width:86.99%\"></div></div></td><td><span>1.58%</span><div class=\"bar\"><div class=\"segment segment-tie\" style=\"width:63.37%\"></div></div></td><td><span>2.75%</span><div class=\"bar\"><div class=\"segment segment-fire\" style=\"width:18.29%\"></div></div></td></tr><tr><td class=\"cell-icon-small\"><a href=\"/heroes/orisa\"><div class=\"image-with-corner\"><img alt=\"Orisa\" class=\"image-hero image-hero-orisa image-small\" src=\"/assets/images/heroes/orisa.png?v=b7dfc34\"/><div class=\"corner\"><img alt=\"Tank\" class=\"image-role image-inline\" src=\"/assets/images/roles/tank.png?v=b7dfc34\"/></div></div></a></td><td class=\"cell-medium r-none-mobile\"><span><a href=\"/heroes/orisa\">Orisa</a><small>Tank</small></span></td><td><span>1.98%</span><div class=\"bar\"><div class=\"segment segment-game\" style=\"width:17.75%\"></div></div></td><td><span>49.11%</span><div class=\"bar\"><div class=\"segment segment-win\" style=\"width:85.72%\"></div></div></td><td><span>1.83%</span><div class=\"bar\"><div class=\"segment segment-tie\" style=\"width:73.49%\"></div></div></td><td><span>5.76%</span><div class=\"bar\"><div class=\"segment segment-fire\" style=\"width:38.35%\"></div></div></td></tr><tr><td class=\"cell-icon-small\"><a href=\"/heroes/hanzo\"><div class=\"image-with-corner\"><img alt=\"Hanzo\" class=\"image-hero image-hero-hanzo image-small\" src=\"/assets/images/heroes/hanzo.png?v=b7dfc34\"/><div class=\"corner\"><img alt=\"Defense\" class=\"image-role image-inline\" src=\"/assets/images/roles/defense.png?v=b7dfc34\"/></div></div></a></td><td class=\"cell-medium r-none-mobile\"><span><a href=\"/heroes/hanzo\">Hanzo</a><small>Defense</small></span></td><td><span>1.61%</span><div class=\"bar\"><div class=\"segment segment-game\" style=\"width:14.37%\"></div></div></td><td><span>48.42%</span><div class=\"bar\"><div class=\"segment segment-win\" style=\"width:84.52%\"></div></div></td><td><span>1.90%</span><div class=\"bar\"><div class=\"segment segment-tie\" style=\"width:76.28%\"></div></div></td><td><span>10.44%</span><div class=\"bar\"><div class=\"segment segment-fire\" style=\"width:69.48%\"></div></div></td></tr><tr><td class=\"cell-icon-small\"><a href=\"/heroes/pharah\"><div class=\"image-with-corner\"><img alt=\"Pharah\" class=\"image-hero image-hero-pharah image-small\" src=\"/assets/images/heroes/pharah.png?v=b7dfc34\"/><div class=\"corner\"><img alt=\"Offense\" class=\"image-role image-inline\" src=\"/assets/images/roles/offense.png?v=b7dfc34\"/></div></div></a></td><td class=\"cell-medium r-none-mobile\"><span><a href=\"/heroes/pharah\">Pharah</a><small>Offense</small></span></td><td><span>1.57%</span><div class=\"bar\"><div class=\"segment segment-game\" style=\"width:14.06%\"></div></div></td><td><span>53.46%</span><div class=\"bar\"><div class=\"segment segment-win\" style=\"width:93.30%\"></div></div></td><td><span>1.69%</span><div class=\"bar\"><div class=\"segment segment-tie\" style=\"width:67.88%\"></div></div></td><td><span>14.08%</span><div class=\"bar\"><div class=\"segment segment-fire\" style=\"width:93.69%\"></div></div></td></tr><tr><td class=\"cell-icon-small\"><a href=\"/heroes/widowmaker\"><div class=\"image-with-corner\"><img alt=\"Widowmaker\" class=\"image-hero image-hero-widowmaker image-small\" src=\"/assets/images/heroes/widowmaker.png?v=b7dfc34\"/><div class=\"corner\"><img alt=\"Defense\" class=\"image-role image-inline\" src=\"/assets/images/roles/defense.png?v=b7dfc34\"/></div></div></a></td><td class=\"cell-medium r-none-mobile\"><span><a href=\"/heroes/widowmaker\">Widowmaker</a><small>Defense</small></span></td><td><span>1.54%</span><div class=\"bar\"><div class=\"segment segment-game\" style=\"width:13.74%\"></div></div></td><td><span>50.20%</span><div class=\"bar\"><div class=\"segment segment-win\" style=\"width:87.62%\"></div></div></td><td><span>1.47%</span><div class=\"bar\"><div class=\"segment segment-tie\" style=\"width:59.17%\"></div></div></td><td><span>6.52%</span><div class=\"bar\"><div class=\"segment segment-fire\" style=\"width:43.38%\"></div></div></td></tr><tr><td class=\"cell-icon-small\"><a href=\"/heroes/soldier76\"><div class=\"image-with-corner\"><img alt=\"Soldier: 76\" class=\"image-hero image-hero-soldier76 image-small\" src=\"/assets/images/heroes/soldier76.png?v=b7dfc34\"/><div class=\"corner\"><img alt=\"Offense\" class=\"image-role image-inline\" src=\"/assets/images/roles/offense.png?v=b7dfc34\"/></div></div></a></td><td class=\"cell-medium r-none-mobile\"><span><a href=\"/heroes/soldier76\">Soldier: 76</a><small>Offense</small></span></td><td><span>1.50%</span><div class=\"bar\"><div class=\"segment segment-game\" style=\"width:13.40%\"></div></div></td><td><span>48.93%</span><div class=\"bar\"><div class=\"segment segment-win\" style=\"width:85.41%\"></div></div></td><td><span>1.67%</span><div class=\"bar\"><div class=\"segment segment-tie\" style=\"width:67.16%\"></div></div></td><td><span>9.22%</span><div class=\"bar\"><div class=\"segment segment-fire\" style=\"width:61.33%\"></div></div></td></tr><tr><td class=\"cell-icon-small\"><a href=\"/heroes/tracer\"><div class=\"image-with-corner\"><img alt=\"Tracer\" class=\"image-hero image-hero-tracer image-small\" src=\"/assets/images/heroes/tracer.png?v=b7dfc34\"/><div class=\"corner\"><img alt=\"Offense\" class=\"image-role image-inline\" src=\"/assets/images/roles/offense.png?v=b7dfc34\"/></div></div></a></td><td class=\"cell-medium r-none-mobile\"><span><a href=\"/heroes/tracer\">Tracer</a><small>Offense</small></span></td><td><span>1.48%</span><div class=\"bar\"><div class=\"segment segment-game\" style=\"width:13.20%\"></div></div></td><td><span>48.66%</span><div class=\"bar\"><div class=\"segment segment-win\" style=\"width:84.94%\"></div></div></td><td><span>1.36%</span><div class=\"bar\"><div class=\"segment segment-tie\" style=\"width:54.59%\"></div></div></td><td><span>6.24%</span><div class=\"bar\"><div class=\"segment segment-fire\" style=\"width:41.50%\"></div></div></td></tr><tr><td class=\"cell-icon-small\"><a href=\"/heroes/doomfist\"><div class=\"image-with-corner\"><img alt=\"Doomfist\" class=\"image-hero image-hero-doomfist image-small\" src=\"/assets/images/heroes/doomfist.png?v=b7dfc34\"/><div class=\"corner\"><img alt=\"Offense\" class=\"image-role image-inline\" src=\"/assets/images/roles/offense.png?v=b7dfc34\"/></div></div></a></td><td class=\"cell-medium r-none-mobile\"><span><a href=\"/heroes/doomfist\">Doomfist</a><small>Offense</small></span></td><td><span>1.47%</span><div class=\"bar\"><div class=\"segment segment-game\" style=\"width:13.16%\"></div></div></td><td><span>52.06%</span><div class=\"bar\"><div class=\"segment segment-win\" style=\"width:90.87%\"></div></div></td><td><span>1.59%</span><div class=\"bar\"><div class=\"segment segment-tie\" style=\"width:63.84%\"></div></div></td><td><span>6.97%</span><div class=\"bar\"><div class=\"segment segment-fire\" style=\"width:46.37%\"></div></div></td></tr><tr><td class=\"cell-icon-small\"><a href=\"/heroes/zenyatta\"><div class=\"image-with-corner\"><img alt=\"Zenyatta\" class=\"image-hero image-hero-zenyatta image-small\" src=\"/assets/images/heroes/zenyatta.png?v=b7dfc34\"/><div class=\"corner\"><img alt=\"Support\" class=\"image-role image-inline\" src=\"/assets/images/roles/support.png?v=b7dfc34\"/></div></div></a></td><td class=\"cell-medium r-none-mobile\"><span><a href=\"/heroes/zenyatta\">Zenyatta</a><small>Support</small></span></td><td><span>1.43%</span><div class=\"bar\"><div class=\"segment segment-game\" style=\"width:12.82%\"></div></div></td><td><span>53.25%</span><div class=\"bar\"><div class=\"segment segment-win\" style=\"width:92.95%\"></div></div></td><td><span>1.68%</span><div class=\"bar\"><div class=\"segment segment-tie\" style=\"width:67.48%\"></div></div></td><td><span>7.51%</span><div class=\"bar\"><div class=\"segment segment-fire\" style=\"width:49.95%\"></div></div></td></tr><tr><td class=\"cell-icon-small\"><a href=\"/heroes/dva\"><div class=\"image-with-corner\"><img alt=\"D.Va\" class=\"image-hero image-hero-dva image-small\" src=\"/assets/images/heroes/dva.png?v=b7dfc34\"/><div class=\"corner\"><img alt=\"Tank\" class=\"image-role image-inline\" src=\"/assets/images/roles/tank.png?v=b7dfc34\"/></div></div></a></td><td class=\"cell-medium r-none-mobile\"><span><a href=\"/heroes/dva\">D.Va</a><small>Tank</small></span></td><td><span>1.34%</span><div class=\"bar\"><div class=\"segment segment-game\" style=\"width:12.01%\"></div></div></td><td><span>47.84%</span><div class=\"bar\"><div class=\"segment segment-win\" style=\"width:83.50%\"></div></div></td><td><span>1.70%</span><div class=\"bar\"><div class=\"segment segment-tie\" style=\"width:68.10%\"></div></div></td><td><span>6.48%</span><div class=\"bar\"><div class=\"segment segment-fire\" style=\"width:43.08%\"></div></div></td></tr><tr><td class=\"cell-icon-small\"><a href=\"/heroes/reaper\"><div class=\"image-with-corner\"><img alt=\"Reaper\" class=\"image-hero image-hero-reaper image-small\" src=\"/assets/images/heroes/reaper.png?v=b7dfc34\"/><div class=\"corner\"><img alt=\"Offense\" class=\"image-role image-inline\" src=\"/assets/images/roles/offense.png?v=b7dfc34\"/></div></div></a></td><td class=\"cell-medium r-none-mobile\"><span><a href=\"/heroes/reaper\">Reaper</a><small>Offense</small></span></td><td><span>1.26%</span><div class=\"bar\"><div class=\"segment segment-game\" style=\"width:11.25%\"></div></div></td><td><span>48.90%</span><div class=\"bar\"><div class=\"segment segment-win\" style=\"width:85.36%\"></div></div></td><td><span>1.54%</span><div class=\"bar\"><div class=\"segment segment-tie\" style=\"width:61.99%\"></div></div></td><td><span>12.74%</span><div class=\"bar\"><div class=\"segment segment-fire\" style=\"width:84.73%\"></div></div></td></tr><tr><td class=\"cell-icon-small\"><a href=\"/heroes/torbjorn\"><div class=\"image-with-corner\"><img alt=\"Torbjörn\" class=\"image-hero image-hero-torbjorn image-small\" src=\"/assets/images/heroes/torbjorn.png?v=b7dfc34\"/><div class=\"corner\"><img alt=\"Defense\" class=\"image-role image-inline\" src=\"/assets/images/roles/defense.png?v=b7dfc34\"/></div></div></a></td><td class=\"cell-medium r-none-mobile\"><span><a href=\"/heroes/torbjorn\">Torbjörn</a><small>Defense</small></span></td><td><span>0.93%</span><div class=\"bar\"><div class=\"segment segment-game\" style=\"width:8.34%\"></div></div></td><td><span>56.70%</span><div class=\"bar\"><div class=\"segment segment-win\" style=\"width:98.97%\"></div></div></td><td><span>2.31%</span><div class=\"bar\"><div class=\"segment segment-tie\" style=\"width:92.65%\"></div></div></td><td><span>7.09%</span><div class=\"bar\"><div class=\"segment segment-fire\" style=\"width:47.14%\"></div></div></td></tr><tr><td class=\"cell-icon-small\"><a href=\"/heroes/echo\"><div class=\"image-with-corner\"><img alt=\"Echo\" class=\"image-hero image-hero-echo image-small\" src=\"/assets/images/heroes/echo.png?v=b7dfc34\"/><div class=\"corner\"><img alt=\"Offense\" class=\"image-role image-inline\" src=\"/assets/images/roles/offense.png?v=b7dfc34\"/></div></div></a></td><td class=\"cell-medium r-none-mobile\"><span><a href=\"/heroes/echo\">Echo</a><small>Offense</small></span></td><td><span>0.69%</span><div class=\"bar\"><div class=\"segment segment-game\" style=\"width:6.17%\"></div></div></td><td><span>49.25%</span><div class=\"bar\"><div class=\"segment segment-win\" style=\"width:85.97%\"></div></div></td><td><span>1.80%</span><div class=\"bar\"><div class=\"segment segment-tie\" style=\"width:72.05%\"></div></div></td><td><span>6.90%</span><div class=\"bar\"><div class=\"segment segment-fire\" style=\"width:45.89%\"></div></div></td></tr><tr><td class=\"cell-icon-small\"><a href=\"/heroes/sombra\"><div class=\"image-with-corner\"><img alt=\"Sombra\" class=\"image-hero image-hero-sombra image-small\" src=\"/assets/images/heroes/sombra.png?v=b7dfc34\"/><div class=\"corner\"><img alt=\"Offense\" class=\"image-role image-inline\" src=\"/assets/images/roles/offense.png?v=b7dfc34\"/></div></div></a></td><td class=\"cell-medium r-none-mobile\"><span><a href=\"/heroes/sombra\">Sombra</a><small>Offense</small></span></td><td><span>0.63%</span><div class=\"bar\"><div class=\"segment segment-game\" style=\"width:5.64%\"></div></div></td><td><span>47.12%</span><div class=\"bar\"><div class=\"segment segment-win\" style=\"width:82.24%\"></div></div></td><td><span>1.77%</span><div class=\"bar\"><div class=\"segment segment-tie\" style=\"width:70.99%\"></div></div></td><td><span>11.59%</span><div class=\"bar\"><div class=\"segment segment-fire\" style=\"width:77.13%\"></div></div></td></tr><tr><td class=\"cell-icon-small\"><a href=\"/heroes/symmetra\"><div class=\"image-with-corner\"><img alt=\"Symmetra\" class=\"image-hero image-hero-symmetra image-small\" src=\"/assets/images/heroes/symmetra.png?v=b7dfc34\"/><div class=\"corner\"><img alt=\"Support\" class=\"image-role image-inline\" src=\"/assets/images/roles/support.png?v=b7dfc34\"/></div></div></a></td><td class=\"cell-medium r-none-mobile\"><span><a href=\"/heroes/symmetra\">Symmetra</a><small>Support</small></span></td><td><span>0.59%</span><div class=\"bar\"><div class=\"segment segment-game\" style=\"width:5.32%\"></div></div></td><td><span>57.29%</span><div class=\"bar\"><div class=\"segment segment-win\" style=\"width:100.00%\"></div></div></td><td><span>2.49%</span><div class=\"bar\"><div class=\"segment segment-tie\" style=\"width:100.00%\"></div></div></td><td><span>8.37%</span><div class=\"bar\"><div class=\"segment segment-fire\" style=\"width:55.69%\"></div></div></td></tr><tr><td class=\"cell-icon-small\"><a href=\"/heroes/mei\"><div class=\"image-with-corner\"><img alt=\"Mei\" class=\"image-hero image-hero-mei image-small\" src=\"/assets/images/heroes/mei.png?v=b7dfc34\"/><div class=\"corner\"><img alt=\"Defense\" class=\"image-role image-inline\" src=\"/assets/images/roles/defense.png?v=b7dfc34\"/></div></div></a></td><td class=\"cell-medium r-none-mobile\"><span><a href=\"/heroes/mei\">Mei</a><small>Defense</small></span></td><td><span>0.46%</span><div class=\"bar\"><div class=\"segment segment-game\" style=\"width:4.08%\"></div></div></td><td><span>47.73%</span><div class=\"bar\"><div class=\"segment segment-win\" style=\"width:83.31%\"></div></div></td><td><span>2.13%</span><div class=\"bar\"><div class=\"segment segment-tie\" style=\"width:85.35%\"></div></div></td><td><span>6.80%</span><div class=\"bar\"><div class=\"segment segment-fire\" style=\"width:45.23%\"></div></div></td></tr><tr><td class=\"cell-icon-small\"><a href=\"/heroes/bastion\"><div class=\"image-with-corner\"><img alt=\"Bastion\" class=\"image-hero image-hero-bastion image-small\" src=\"/assets/images/heroes/bastion.png?v=b7dfc34\"/><div class=\"corner\"><img alt=\"Defense\" class=\"image-role image-inline\" src=\"/assets/images/roles/defense.png?v=b7dfc34\"/></div></div></a></td><td class=\"cell-medium r-none-mobile\"><span><a href=\"/heroes/bastion\">Bastion</a><small>Defense</small></span></td><td><span>0.26%</span><div class=\"bar\"><div class=\"segment segment-game\" style=\"width:2.34%\"></div></div></td><td><span>52.45%</span><div class=\"bar\"><div class=\"segment segment-win\" style=\"width:91.56%\"></div></div></td><td><span>2.17%</span><div class=\"bar\"><div class=\"segment segment-tie\" style=\"width:87.21%\"></div></div></td><td><span>15.03%</span><div class=\"bar\"><div class=\"segment segment-fire\" style=\"width:100.00%\"></div></div></td></tr></tbody></table>"
      ]
     },
     "execution_count": 206,
     "metadata": {},
     "output_type": "execute_result"
    }
   ],
   "source": [
    "table = over_sopa.find('table',{'class':'table-data'})\n",
    "table"
   ]
  },
  {
   "cell_type": "code",
   "execution_count": 202,
   "metadata": {},
   "outputs": [],
   "source": [
    "cabecera = table.findAll('th')"
   ]
  },
  {
   "cell_type": "code",
   "execution_count": 210,
   "metadata": {},
   "outputs": [],
   "source": [
    "cabe_txt = [i.text for i in cabecera]"
   ]
  },
  {
   "cell_type": "code",
   "execution_count": 211,
   "metadata": {},
   "outputs": [
    {
     "data": {
      "text/plain": [
       "['', 'Hero  ', 'Pick Rate  ', 'Win Rate  ', 'Tie Rate  ', 'On Fire  ']"
      ]
     },
     "execution_count": 211,
     "metadata": {},
     "output_type": "execute_result"
    }
   ],
   "source": [
    "cabe_txt"
   ]
  },
  {
   "cell_type": "code",
   "execution_count": 212,
   "metadata": {},
   "outputs": [
    {
     "data": {
      "text/plain": [
       "''"
      ]
     },
     "execution_count": 212,
     "metadata": {},
     "output_type": "execute_result"
    }
   ],
   "source": [
    "cabe_txt.pop(0)"
   ]
  },
  {
   "cell_type": "code",
   "execution_count": 213,
   "metadata": {},
   "outputs": [],
   "source": [
    "cabe_clean = [i.strip() for i in cabe_txt]"
   ]
  },
  {
   "cell_type": "code",
   "execution_count": 214,
   "metadata": {},
   "outputs": [
    {
     "data": {
      "text/plain": [
       "['Hero', 'Pick Rate', 'Win Rate', 'Tie Rate', 'On Fire']"
      ]
     },
     "execution_count": 214,
     "metadata": {},
     "output_type": "execute_result"
    }
   ],
   "source": [
    "cabe_clean"
   ]
  },
  {
   "cell_type": "code",
   "execution_count": 234,
   "metadata": {},
   "outputs": [
    {
     "data": {
      "text/plain": [
       "[<tr><th class=\"cell-icon-small\"></th><th class=\"cell-medium r-none-mobile\"><a class=\"sortable\">Hero<!-- --> <!-- --> </a></th><th><a class=\"sortable sorted\">Pick Rate<!-- --> <!-- --> <i class=\"fa fa-caret-down\"></i></a></th><th><a class=\"sortable\">Win Rate<!-- --> <!-- --> </a></th><th><a class=\"sortable\">Tie Rate<!-- --> <!-- --> </a></th><th><a class=\"sortable\">On Fire<!-- --> <!-- --> </a></th></tr>,\n",
       " <tr><td class=\"cell-icon-small\"><a href=\"/heroes/ana\"><div class=\"image-with-corner\"><img alt=\"Ana\" class=\"image-hero image-hero-ana image-small\" src=\"/assets/images/heroes/ana.png?v=b7dfc34\"/><div class=\"corner\"><img alt=\"Support\" class=\"image-role image-inline\" src=\"/assets/images/roles/support.png?v=b7dfc34\"/></div></div></a></td><td class=\"cell-medium r-none-mobile\"><span><a href=\"/heroes/ana\">Ana</a><small>Support</small></span></td><td><span>11.18%</span><div class=\"bar\"><div class=\"segment segment-game\" style=\"width:100.00%\"></div></div></td><td><span>50.07%</span><div class=\"bar\"><div class=\"segment segment-win\" style=\"width:87.39%\"></div></div></td><td><span>2.01%</span><div class=\"bar\"><div class=\"segment segment-tie\" style=\"width:80.69%\"></div></div></td><td><span>9.34%</span><div class=\"bar\"><div class=\"segment segment-fire\" style=\"width:62.12%\"></div></div></td></tr>,\n",
       " <tr><td class=\"cell-icon-small\"><a href=\"/heroes/reinhardt\"><div class=\"image-with-corner\"><img alt=\"Reinhardt\" class=\"image-hero image-hero-reinhardt image-small\" src=\"/assets/images/heroes/reinhardt.png?v=b7dfc34\"/><div class=\"corner\"><img alt=\"Tank\" class=\"image-role image-inline\" src=\"/assets/images/roles/tank.png?v=b7dfc34\"/></div></div></a></td><td class=\"cell-medium r-none-mobile\"><span><a href=\"/heroes/reinhardt\">Reinhardt</a><small>Tank</small></span></td><td><span>10.32%</span><div class=\"bar\"><div class=\"segment segment-game\" style=\"width:92.28%\"></div></div></td><td><span>51.52%</span><div class=\"bar\"><div class=\"segment segment-win\" style=\"width:89.92%\"></div></div></td><td><span>2.24%</span><div class=\"bar\"><div class=\"segment segment-tie\" style=\"width:89.92%\"></div></div></td><td><span>6.71%</span><div class=\"bar\"><div class=\"segment segment-fire\" style=\"width:44.65%\"></div></div></td></tr>,\n",
       " <tr><td class=\"cell-icon-small\"><a href=\"/heroes/zarya\"><div class=\"image-with-corner\"><img alt=\"Zarya\" class=\"image-hero image-hero-zarya image-small\" src=\"/assets/images/heroes/zarya.png?v=b7dfc34\"/><div class=\"corner\"><img alt=\"Tank\" class=\"image-role image-inline\" src=\"/assets/images/roles/tank.png?v=b7dfc34\"/></div></div></a></td><td class=\"cell-medium r-none-mobile\"><span><a href=\"/heroes/zarya\">Zarya</a><small>Tank</small></span></td><td><span>7.45%</span><div class=\"bar\"><div class=\"segment segment-game\" style=\"width:66.69%\"></div></div></td><td><span>52.62%</span><div class=\"bar\"><div class=\"segment segment-win\" style=\"width:91.84%\"></div></div></td><td><span>2.13%</span><div class=\"bar\"><div class=\"segment segment-tie\" style=\"width:85.54%\"></div></div></td><td><span>12.00%</span><div class=\"bar\"><div class=\"segment segment-fire\" style=\"width:79.84%\"></div></div></td></tr>,\n",
       " <tr><td class=\"cell-icon-small\"><a href=\"/heroes/moira\"><div class=\"image-with-corner\"><img alt=\"Moira\" class=\"image-hero image-hero-moira image-small\" src=\"/assets/images/heroes/moira.png?v=b7dfc34\"/><div class=\"corner\"><img alt=\"Support\" class=\"image-role image-inline\" src=\"/assets/images/roles/support.png?v=b7dfc34\"/></div></div></a></td><td class=\"cell-medium r-none-mobile\"><span><a href=\"/heroes/moira\">Moira</a><small>Support</small></span></td><td><span>6.89%</span><div class=\"bar\"><div class=\"segment segment-game\" style=\"width:61.62%\"></div></div></td><td><span>49.93%</span><div class=\"bar\"><div class=\"segment segment-win\" style=\"width:87.14%\"></div></div></td><td><span>2.09%</span><div class=\"bar\"><div class=\"segment segment-tie\" style=\"width:83.97%\"></div></div></td><td><span>9.55%</span><div class=\"bar\"><div class=\"segment segment-fire\" style=\"width:63.54%\"></div></div></td></tr>,\n",
       " <tr><td class=\"cell-icon-small\"><a href=\"/heroes/mercy\"><div class=\"image-with-corner\"><img alt=\"Mercy\" class=\"image-hero image-hero-mercy image-small\" src=\"/assets/images/heroes/mercy.png?v=b7dfc34\"/><div class=\"corner\"><img alt=\"Support\" class=\"image-role image-inline\" src=\"/assets/images/roles/support.png?v=b7dfc34\"/></div></div></a></td><td class=\"cell-medium r-none-mobile\"><span><a href=\"/heroes/mercy\">Mercy</a><small>Support</small></span></td><td><span>6.34%</span><div class=\"bar\"><div class=\"segment segment-game\" style=\"width:56.69%\"></div></div></td><td><span>51.84%</span><div class=\"bar\"><div class=\"segment segment-win\" style=\"width:90.48%\"></div></div></td><td><span>2.09%</span><div class=\"bar\"><div class=\"segment segment-tie\" style=\"width:83.67%\"></div></div></td><td><span>2.23%</span><div class=\"bar\"><div class=\"segment segment-fire\" style=\"width:14.81%\"></div></div></td></tr>,\n",
       " <tr><td class=\"cell-icon-small\"><a href=\"/heroes/genji\"><div class=\"image-with-corner\"><img alt=\"Genji\" class=\"image-hero image-hero-genji image-small\" src=\"/assets/images/heroes/genji.png?v=b7dfc34\"/><div class=\"corner\"><img alt=\"Offense\" class=\"image-role image-inline\" src=\"/assets/images/roles/offense.png?v=b7dfc34\"/></div></div></a></td><td class=\"cell-medium r-none-mobile\"><span><a href=\"/heroes/genji\">Genji</a><small>Offense</small></span></td><td><span>6.11%</span><div class=\"bar\"><div class=\"segment segment-game\" style=\"width:54.65%\"></div></div></td><td><span>50.66%</span><div class=\"bar\"><div class=\"segment segment-win\" style=\"width:88.43%\"></div></div></td><td><span>1.86%</span><div class=\"bar\"><div class=\"segment segment-tie\" style=\"width:74.48%\"></div></div></td><td><span>11.82%</span><div class=\"bar\"><div class=\"segment segment-fire\" style=\"width:78.64%\"></div></div></td></tr>,\n",
       " <tr><td class=\"cell-icon-small\"><a href=\"/heroes/ashe\"><div class=\"image-with-corner\"><img alt=\"Ashe\" class=\"image-hero image-hero-ashe image-small\" src=\"/assets/images/heroes/ashe.png?v=b7dfc34\"/><div class=\"corner\"><img alt=\"Offense\" class=\"image-role image-inline\" src=\"/assets/images/roles/offense.png?v=b7dfc34\"/></div></div></a></td><td class=\"cell-medium r-none-mobile\"><span><a href=\"/heroes/ashe\">Ashe</a><small>Offense</small></span></td><td><span>4.84%</span><div class=\"bar\"><div class=\"segment segment-game\" style=\"width:43.28%\"></div></div></td><td><span>53.09%</span><div class=\"bar\"><div class=\"segment segment-win\" style=\"width:92.66%\"></div></div></td><td><span>1.93%</span><div class=\"bar\"><div class=\"segment segment-tie\" style=\"width:77.29%\"></div></div></td><td><span>9.37%</span><div class=\"bar\"><div class=\"segment segment-fire\" style=\"width:62.31%\"></div></div></td></tr>,\n",
       " <tr><td class=\"cell-icon-small\"><a href=\"/heroes/sigma\"><div class=\"image-with-corner\"><img alt=\"Sigma\" class=\"image-hero image-hero-sigma image-small\" src=\"/assets/images/heroes/sigma.png?v=b7dfc34\"/><div class=\"corner\"><img alt=\"Tank\" class=\"image-role image-inline\" src=\"/assets/images/roles/tank.png?v=b7dfc34\"/></div></div></a></td><td class=\"cell-medium r-none-mobile\"><span><a href=\"/heroes/sigma\">Sigma</a><small>Tank</small></span></td><td><span>4.41%</span><div class=\"bar\"><div class=\"segment segment-game\" style=\"width:39.47%\"></div></div></td><td><span>50.80%</span><div class=\"bar\"><div class=\"segment segment-win\" style=\"width:88.67%\"></div></div></td><td><span>2.03%</span><div class=\"bar\"><div class=\"segment segment-tie\" style=\"width:81.61%\"></div></div></td><td><span>12.07%</span><div class=\"bar\"><div class=\"segment segment-fire\" style=\"width:80.27%\"></div></div></td></tr>,\n",
       " <tr><td class=\"cell-icon-small\"><a href=\"/heroes/mccree\"><div class=\"image-with-corner\"><img alt=\"McCree\" class=\"image-hero image-hero-mccree image-small\" src=\"/assets/images/heroes/mccree.png?v=b7dfc34\"/><div class=\"corner\"><img alt=\"Offense\" class=\"image-role image-inline\" src=\"/assets/images/roles/offense.png?v=b7dfc34\"/></div></div></a></td><td class=\"cell-medium r-none-mobile\"><span><a href=\"/heroes/mccree\">McCree</a><small>Offense</small></span></td><td><span>4.04%</span><div class=\"bar\"><div class=\"segment segment-game\" style=\"width:36.13%\"></div></div></td><td><span>46.45%</span><div class=\"bar\"><div class=\"segment segment-win\" style=\"width:81.07%\"></div></div></td><td><span>1.57%</span><div class=\"bar\"><div class=\"segment segment-tie\" style=\"width:63.09%\"></div></div></td><td><span>7.98%</span><div class=\"bar\"><div class=\"segment segment-fire\" style=\"width:53.10%\"></div></div></td></tr>,\n",
       " <tr><td class=\"cell-icon-small\"><a href=\"/heroes/roadhog\"><div class=\"image-with-corner\"><img alt=\"Roadhog\" class=\"image-hero image-hero-roadhog image-small\" src=\"/assets/images/heroes/roadhog.png?v=b7dfc34\"/><div class=\"corner\"><img alt=\"Tank\" class=\"image-role image-inline\" src=\"/assets/images/roles/tank.png?v=b7dfc34\"/></div></div></a></td><td class=\"cell-medium r-none-mobile\"><span><a href=\"/heroes/roadhog\">Roadhog</a><small>Tank</small></span></td><td><span>3.33%</span><div class=\"bar\"><div class=\"segment segment-game\" style=\"width:29.75%\"></div></div></td><td><span>49.71%</span><div class=\"bar\"><div class=\"segment segment-win\" style=\"width:86.76%\"></div></div></td><td><span>1.58%</span><div class=\"bar\"><div class=\"segment segment-tie\" style=\"width:63.40%\"></div></div></td><td><span>9.18%</span><div class=\"bar\"><div class=\"segment segment-fire\" style=\"width:61.07%\"></div></div></td></tr>,\n",
       " <tr><td class=\"cell-icon-small\"><a href=\"/heroes/brigitte\"><div class=\"image-with-corner\"><img alt=\"Brigitte\" class=\"image-hero image-hero-brigitte image-small\" src=\"/assets/images/heroes/brigitte.png?v=b7dfc34\"/><div class=\"corner\"><img alt=\"Support\" class=\"image-role image-inline\" src=\"/assets/images/roles/support.png?v=b7dfc34\"/></div></div></a></td><td class=\"cell-medium r-none-mobile\"><span><a href=\"/heroes/brigitte\">Brigitte</a><small>Support</small></span></td><td><span>3.07%</span><div class=\"bar\"><div class=\"segment segment-game\" style=\"width:27.45%\"></div></div></td><td><span>53.84%</span><div class=\"bar\"><div class=\"segment segment-win\" style=\"width:93.98%\"></div></div></td><td><span>1.80%</span><div class=\"bar\"><div class=\"segment segment-tie\" style=\"width:72.16%\"></div></div></td><td><span>6.43%</span><div class=\"bar\"><div class=\"segment segment-fire\" style=\"width:42.78%\"></div></div></td></tr>,\n",
       " <tr><td class=\"cell-icon-small\"><a href=\"/heroes/baptiste\"><div class=\"image-with-corner\"><img alt=\"Baptiste\" class=\"image-hero image-hero-baptiste image-small\" src=\"/assets/images/heroes/baptiste.png?v=b7dfc34\"/><div class=\"corner\"><img alt=\"Support\" class=\"image-role image-inline\" src=\"/assets/images/roles/support.png?v=b7dfc34\"/></div></div></a></td><td class=\"cell-medium r-none-mobile\"><span><a href=\"/heroes/baptiste\">Baptiste</a><small>Support</small></span></td><td><span>2.93%</span><div class=\"bar\"><div class=\"segment segment-game\" style=\"width:26.22%\"></div></div></td><td><span>47.89%</span><div class=\"bar\"><div class=\"segment segment-win\" style=\"width:83.58%\"></div></div></td><td><span>2.37%</span><div class=\"bar\"><div class=\"segment segment-tie\" style=\"width:95.11%\"></div></div></td><td><span>11.26%</span><div class=\"bar\"><div class=\"segment segment-fire\" style=\"width:74.88%\"></div></div></td></tr>,\n",
       " <tr><td class=\"cell-icon-small\"><a href=\"/heroes/lucio\"><div class=\"image-with-corner\"><img alt=\"Lúcio\" class=\"image-hero image-hero-lucio image-small\" src=\"/assets/images/heroes/lucio.png?v=b7dfc34\"/><div class=\"corner\"><img alt=\"Support\" class=\"image-role image-inline\" src=\"/assets/images/roles/support.png?v=b7dfc34\"/></div></div></a></td><td class=\"cell-medium r-none-mobile\"><span><a href=\"/heroes/lucio\">Lúcio</a><small>Support</small></span></td><td><span>2.93%</span><div class=\"bar\"><div class=\"segment segment-game\" style=\"width:26.19%\"></div></div></td><td><span>51.68%</span><div class=\"bar\"><div class=\"segment segment-win\" style=\"width:90.20%\"></div></div></td><td><span>1.65%</span><div class=\"bar\"><div class=\"segment segment-tie\" style=\"width:66.11%\"></div></div></td><td><span>11.21%</span><div class=\"bar\"><div class=\"segment segment-fire\" style=\"width:74.60%\"></div></div></td></tr>,\n",
       " <tr><td class=\"cell-icon-small\"><a href=\"/heroes/winston\"><div class=\"image-with-corner\"><img alt=\"Winston\" class=\"image-hero image-hero-winston image-small\" src=\"/assets/images/heroes/winston.png?v=b7dfc34\"/><div class=\"corner\"><img alt=\"Tank\" class=\"image-role image-inline\" src=\"/assets/images/roles/tank.png?v=b7dfc34\"/></div></div></a></td><td class=\"cell-medium r-none-mobile\"><span><a href=\"/heroes/winston\">Winston</a><small>Tank</small></span></td><td><span>2.60%</span><div class=\"bar\"><div class=\"segment segment-game\" style=\"width:23.30%\"></div></div></td><td><span>48.63%</span><div class=\"bar\"><div class=\"segment segment-win\" style=\"width:84.89%\"></div></div></td><td><span>1.58%</span><div class=\"bar\"><div class=\"segment segment-tie\" style=\"width:63.28%\"></div></div></td><td><span>5.81%</span><div class=\"bar\"><div class=\"segment segment-fire\" style=\"width:38.68%\"></div></div></td></tr>,\n",
       " <tr><td class=\"cell-icon-small\"><a href=\"/heroes/junkrat\"><div class=\"image-with-corner\"><img alt=\"Junkrat\" class=\"image-hero image-hero-junkrat image-small\" src=\"/assets/images/heroes/junkrat.png?v=b7dfc34\"/><div class=\"corner\"><img alt=\"Defense\" class=\"image-role image-inline\" src=\"/assets/images/roles/defense.png?v=b7dfc34\"/></div></div></a></td><td class=\"cell-medium r-none-mobile\"><span><a href=\"/heroes/junkrat\">Junkrat</a><small>Defense</small></span></td><td><span>2.55%</span><div class=\"bar\"><div class=\"segment segment-game\" style=\"width:22.82%\"></div></div></td><td><span>52.49%</span><div class=\"bar\"><div class=\"segment segment-win\" style=\"width:91.62%\"></div></div></td><td><span>2.36%</span><div class=\"bar\"><div class=\"segment segment-tie\" style=\"width:94.89%\"></div></div></td><td><span>11.12%</span><div class=\"bar\"><div class=\"segment segment-fire\" style=\"width:73.99%\"></div></div></td></tr>,\n",
       " <tr><td class=\"cell-icon-small\"><a href=\"/heroes/wreckingball\"><div class=\"image-with-corner\"><img alt=\"Wrecking Ball\" class=\"image-hero image-hero-wreckingball image-small\" src=\"/assets/images/heroes/wreckingball.png?v=b7dfc34\"/><div class=\"corner\"><img alt=\"Tank\" class=\"image-role image-inline\" src=\"/assets/images/roles/tank.png?v=b7dfc34\"/></div></div></a></td><td class=\"cell-medium r-none-mobile\"><span><a href=\"/heroes/wreckingball\">Wrecking Ball</a><small>Tank</small></span></td><td><span>2.28%</span><div class=\"bar\"><div class=\"segment segment-game\" style=\"width:20.36%\"></div></div></td><td><span>49.84%</span><div class=\"bar\"><div class=\"segment segment-win\" style=\"width:86.99%\"></div></div></td><td><span>1.58%</span><div class=\"bar\"><div class=\"segment segment-tie\" style=\"width:63.37%\"></div></div></td><td><span>2.75%</span><div class=\"bar\"><div class=\"segment segment-fire\" style=\"width:18.29%\"></div></div></td></tr>,\n",
       " <tr><td class=\"cell-icon-small\"><a href=\"/heroes/orisa\"><div class=\"image-with-corner\"><img alt=\"Orisa\" class=\"image-hero image-hero-orisa image-small\" src=\"/assets/images/heroes/orisa.png?v=b7dfc34\"/><div class=\"corner\"><img alt=\"Tank\" class=\"image-role image-inline\" src=\"/assets/images/roles/tank.png?v=b7dfc34\"/></div></div></a></td><td class=\"cell-medium r-none-mobile\"><span><a href=\"/heroes/orisa\">Orisa</a><small>Tank</small></span></td><td><span>1.98%</span><div class=\"bar\"><div class=\"segment segment-game\" style=\"width:17.75%\"></div></div></td><td><span>49.11%</span><div class=\"bar\"><div class=\"segment segment-win\" style=\"width:85.72%\"></div></div></td><td><span>1.83%</span><div class=\"bar\"><div class=\"segment segment-tie\" style=\"width:73.49%\"></div></div></td><td><span>5.76%</span><div class=\"bar\"><div class=\"segment segment-fire\" style=\"width:38.35%\"></div></div></td></tr>,\n",
       " <tr><td class=\"cell-icon-small\"><a href=\"/heroes/hanzo\"><div class=\"image-with-corner\"><img alt=\"Hanzo\" class=\"image-hero image-hero-hanzo image-small\" src=\"/assets/images/heroes/hanzo.png?v=b7dfc34\"/><div class=\"corner\"><img alt=\"Defense\" class=\"image-role image-inline\" src=\"/assets/images/roles/defense.png?v=b7dfc34\"/></div></div></a></td><td class=\"cell-medium r-none-mobile\"><span><a href=\"/heroes/hanzo\">Hanzo</a><small>Defense</small></span></td><td><span>1.61%</span><div class=\"bar\"><div class=\"segment segment-game\" style=\"width:14.37%\"></div></div></td><td><span>48.42%</span><div class=\"bar\"><div class=\"segment segment-win\" style=\"width:84.52%\"></div></div></td><td><span>1.90%</span><div class=\"bar\"><div class=\"segment segment-tie\" style=\"width:76.28%\"></div></div></td><td><span>10.44%</span><div class=\"bar\"><div class=\"segment segment-fire\" style=\"width:69.48%\"></div></div></td></tr>,\n",
       " <tr><td class=\"cell-icon-small\"><a href=\"/heroes/pharah\"><div class=\"image-with-corner\"><img alt=\"Pharah\" class=\"image-hero image-hero-pharah image-small\" src=\"/assets/images/heroes/pharah.png?v=b7dfc34\"/><div class=\"corner\"><img alt=\"Offense\" class=\"image-role image-inline\" src=\"/assets/images/roles/offense.png?v=b7dfc34\"/></div></div></a></td><td class=\"cell-medium r-none-mobile\"><span><a href=\"/heroes/pharah\">Pharah</a><small>Offense</small></span></td><td><span>1.57%</span><div class=\"bar\"><div class=\"segment segment-game\" style=\"width:14.06%\"></div></div></td><td><span>53.46%</span><div class=\"bar\"><div class=\"segment segment-win\" style=\"width:93.30%\"></div></div></td><td><span>1.69%</span><div class=\"bar\"><div class=\"segment segment-tie\" style=\"width:67.88%\"></div></div></td><td><span>14.08%</span><div class=\"bar\"><div class=\"segment segment-fire\" style=\"width:93.69%\"></div></div></td></tr>,\n",
       " <tr><td class=\"cell-icon-small\"><a href=\"/heroes/widowmaker\"><div class=\"image-with-corner\"><img alt=\"Widowmaker\" class=\"image-hero image-hero-widowmaker image-small\" src=\"/assets/images/heroes/widowmaker.png?v=b7dfc34\"/><div class=\"corner\"><img alt=\"Defense\" class=\"image-role image-inline\" src=\"/assets/images/roles/defense.png?v=b7dfc34\"/></div></div></a></td><td class=\"cell-medium r-none-mobile\"><span><a href=\"/heroes/widowmaker\">Widowmaker</a><small>Defense</small></span></td><td><span>1.54%</span><div class=\"bar\"><div class=\"segment segment-game\" style=\"width:13.74%\"></div></div></td><td><span>50.20%</span><div class=\"bar\"><div class=\"segment segment-win\" style=\"width:87.62%\"></div></div></td><td><span>1.47%</span><div class=\"bar\"><div class=\"segment segment-tie\" style=\"width:59.17%\"></div></div></td><td><span>6.52%</span><div class=\"bar\"><div class=\"segment segment-fire\" style=\"width:43.38%\"></div></div></td></tr>,\n",
       " <tr><td class=\"cell-icon-small\"><a href=\"/heroes/soldier76\"><div class=\"image-with-corner\"><img alt=\"Soldier: 76\" class=\"image-hero image-hero-soldier76 image-small\" src=\"/assets/images/heroes/soldier76.png?v=b7dfc34\"/><div class=\"corner\"><img alt=\"Offense\" class=\"image-role image-inline\" src=\"/assets/images/roles/offense.png?v=b7dfc34\"/></div></div></a></td><td class=\"cell-medium r-none-mobile\"><span><a href=\"/heroes/soldier76\">Soldier: 76</a><small>Offense</small></span></td><td><span>1.50%</span><div class=\"bar\"><div class=\"segment segment-game\" style=\"width:13.40%\"></div></div></td><td><span>48.93%</span><div class=\"bar\"><div class=\"segment segment-win\" style=\"width:85.41%\"></div></div></td><td><span>1.67%</span><div class=\"bar\"><div class=\"segment segment-tie\" style=\"width:67.16%\"></div></div></td><td><span>9.22%</span><div class=\"bar\"><div class=\"segment segment-fire\" style=\"width:61.33%\"></div></div></td></tr>,\n",
       " <tr><td class=\"cell-icon-small\"><a href=\"/heroes/tracer\"><div class=\"image-with-corner\"><img alt=\"Tracer\" class=\"image-hero image-hero-tracer image-small\" src=\"/assets/images/heroes/tracer.png?v=b7dfc34\"/><div class=\"corner\"><img alt=\"Offense\" class=\"image-role image-inline\" src=\"/assets/images/roles/offense.png?v=b7dfc34\"/></div></div></a></td><td class=\"cell-medium r-none-mobile\"><span><a href=\"/heroes/tracer\">Tracer</a><small>Offense</small></span></td><td><span>1.48%</span><div class=\"bar\"><div class=\"segment segment-game\" style=\"width:13.20%\"></div></div></td><td><span>48.66%</span><div class=\"bar\"><div class=\"segment segment-win\" style=\"width:84.94%\"></div></div></td><td><span>1.36%</span><div class=\"bar\"><div class=\"segment segment-tie\" style=\"width:54.59%\"></div></div></td><td><span>6.24%</span><div class=\"bar\"><div class=\"segment segment-fire\" style=\"width:41.50%\"></div></div></td></tr>,\n",
       " <tr><td class=\"cell-icon-small\"><a href=\"/heroes/doomfist\"><div class=\"image-with-corner\"><img alt=\"Doomfist\" class=\"image-hero image-hero-doomfist image-small\" src=\"/assets/images/heroes/doomfist.png?v=b7dfc34\"/><div class=\"corner\"><img alt=\"Offense\" class=\"image-role image-inline\" src=\"/assets/images/roles/offense.png?v=b7dfc34\"/></div></div></a></td><td class=\"cell-medium r-none-mobile\"><span><a href=\"/heroes/doomfist\">Doomfist</a><small>Offense</small></span></td><td><span>1.47%</span><div class=\"bar\"><div class=\"segment segment-game\" style=\"width:13.16%\"></div></div></td><td><span>52.06%</span><div class=\"bar\"><div class=\"segment segment-win\" style=\"width:90.87%\"></div></div></td><td><span>1.59%</span><div class=\"bar\"><div class=\"segment segment-tie\" style=\"width:63.84%\"></div></div></td><td><span>6.97%</span><div class=\"bar\"><div class=\"segment segment-fire\" style=\"width:46.37%\"></div></div></td></tr>,\n",
       " <tr><td class=\"cell-icon-small\"><a href=\"/heroes/zenyatta\"><div class=\"image-with-corner\"><img alt=\"Zenyatta\" class=\"image-hero image-hero-zenyatta image-small\" src=\"/assets/images/heroes/zenyatta.png?v=b7dfc34\"/><div class=\"corner\"><img alt=\"Support\" class=\"image-role image-inline\" src=\"/assets/images/roles/support.png?v=b7dfc34\"/></div></div></a></td><td class=\"cell-medium r-none-mobile\"><span><a href=\"/heroes/zenyatta\">Zenyatta</a><small>Support</small></span></td><td><span>1.43%</span><div class=\"bar\"><div class=\"segment segment-game\" style=\"width:12.82%\"></div></div></td><td><span>53.25%</span><div class=\"bar\"><div class=\"segment segment-win\" style=\"width:92.95%\"></div></div></td><td><span>1.68%</span><div class=\"bar\"><div class=\"segment segment-tie\" style=\"width:67.48%\"></div></div></td><td><span>7.51%</span><div class=\"bar\"><div class=\"segment segment-fire\" style=\"width:49.95%\"></div></div></td></tr>,\n",
       " <tr><td class=\"cell-icon-small\"><a href=\"/heroes/dva\"><div class=\"image-with-corner\"><img alt=\"D.Va\" class=\"image-hero image-hero-dva image-small\" src=\"/assets/images/heroes/dva.png?v=b7dfc34\"/><div class=\"corner\"><img alt=\"Tank\" class=\"image-role image-inline\" src=\"/assets/images/roles/tank.png?v=b7dfc34\"/></div></div></a></td><td class=\"cell-medium r-none-mobile\"><span><a href=\"/heroes/dva\">D.Va</a><small>Tank</small></span></td><td><span>1.34%</span><div class=\"bar\"><div class=\"segment segment-game\" style=\"width:12.01%\"></div></div></td><td><span>47.84%</span><div class=\"bar\"><div class=\"segment segment-win\" style=\"width:83.50%\"></div></div></td><td><span>1.70%</span><div class=\"bar\"><div class=\"segment segment-tie\" style=\"width:68.10%\"></div></div></td><td><span>6.48%</span><div class=\"bar\"><div class=\"segment segment-fire\" style=\"width:43.08%\"></div></div></td></tr>,\n",
       " <tr><td class=\"cell-icon-small\"><a href=\"/heroes/reaper\"><div class=\"image-with-corner\"><img alt=\"Reaper\" class=\"image-hero image-hero-reaper image-small\" src=\"/assets/images/heroes/reaper.png?v=b7dfc34\"/><div class=\"corner\"><img alt=\"Offense\" class=\"image-role image-inline\" src=\"/assets/images/roles/offense.png?v=b7dfc34\"/></div></div></a></td><td class=\"cell-medium r-none-mobile\"><span><a href=\"/heroes/reaper\">Reaper</a><small>Offense</small></span></td><td><span>1.26%</span><div class=\"bar\"><div class=\"segment segment-game\" style=\"width:11.25%\"></div></div></td><td><span>48.90%</span><div class=\"bar\"><div class=\"segment segment-win\" style=\"width:85.36%\"></div></div></td><td><span>1.54%</span><div class=\"bar\"><div class=\"segment segment-tie\" style=\"width:61.99%\"></div></div></td><td><span>12.74%</span><div class=\"bar\"><div class=\"segment segment-fire\" style=\"width:84.73%\"></div></div></td></tr>,\n",
       " <tr><td class=\"cell-icon-small\"><a href=\"/heroes/torbjorn\"><div class=\"image-with-corner\"><img alt=\"Torbjörn\" class=\"image-hero image-hero-torbjorn image-small\" src=\"/assets/images/heroes/torbjorn.png?v=b7dfc34\"/><div class=\"corner\"><img alt=\"Defense\" class=\"image-role image-inline\" src=\"/assets/images/roles/defense.png?v=b7dfc34\"/></div></div></a></td><td class=\"cell-medium r-none-mobile\"><span><a href=\"/heroes/torbjorn\">Torbjörn</a><small>Defense</small></span></td><td><span>0.93%</span><div class=\"bar\"><div class=\"segment segment-game\" style=\"width:8.34%\"></div></div></td><td><span>56.70%</span><div class=\"bar\"><div class=\"segment segment-win\" style=\"width:98.97%\"></div></div></td><td><span>2.31%</span><div class=\"bar\"><div class=\"segment segment-tie\" style=\"width:92.65%\"></div></div></td><td><span>7.09%</span><div class=\"bar\"><div class=\"segment segment-fire\" style=\"width:47.14%\"></div></div></td></tr>,\n",
       " <tr><td class=\"cell-icon-small\"><a href=\"/heroes/echo\"><div class=\"image-with-corner\"><img alt=\"Echo\" class=\"image-hero image-hero-echo image-small\" src=\"/assets/images/heroes/echo.png?v=b7dfc34\"/><div class=\"corner\"><img alt=\"Offense\" class=\"image-role image-inline\" src=\"/assets/images/roles/offense.png?v=b7dfc34\"/></div></div></a></td><td class=\"cell-medium r-none-mobile\"><span><a href=\"/heroes/echo\">Echo</a><small>Offense</small></span></td><td><span>0.69%</span><div class=\"bar\"><div class=\"segment segment-game\" style=\"width:6.17%\"></div></div></td><td><span>49.25%</span><div class=\"bar\"><div class=\"segment segment-win\" style=\"width:85.97%\"></div></div></td><td><span>1.80%</span><div class=\"bar\"><div class=\"segment segment-tie\" style=\"width:72.05%\"></div></div></td><td><span>6.90%</span><div class=\"bar\"><div class=\"segment segment-fire\" style=\"width:45.89%\"></div></div></td></tr>,\n",
       " <tr><td class=\"cell-icon-small\"><a href=\"/heroes/sombra\"><div class=\"image-with-corner\"><img alt=\"Sombra\" class=\"image-hero image-hero-sombra image-small\" src=\"/assets/images/heroes/sombra.png?v=b7dfc34\"/><div class=\"corner\"><img alt=\"Offense\" class=\"image-role image-inline\" src=\"/assets/images/roles/offense.png?v=b7dfc34\"/></div></div></a></td><td class=\"cell-medium r-none-mobile\"><span><a href=\"/heroes/sombra\">Sombra</a><small>Offense</small></span></td><td><span>0.63%</span><div class=\"bar\"><div class=\"segment segment-game\" style=\"width:5.64%\"></div></div></td><td><span>47.12%</span><div class=\"bar\"><div class=\"segment segment-win\" style=\"width:82.24%\"></div></div></td><td><span>1.77%</span><div class=\"bar\"><div class=\"segment segment-tie\" style=\"width:70.99%\"></div></div></td><td><span>11.59%</span><div class=\"bar\"><div class=\"segment segment-fire\" style=\"width:77.13%\"></div></div></td></tr>,\n",
       " <tr><td class=\"cell-icon-small\"><a href=\"/heroes/symmetra\"><div class=\"image-with-corner\"><img alt=\"Symmetra\" class=\"image-hero image-hero-symmetra image-small\" src=\"/assets/images/heroes/symmetra.png?v=b7dfc34\"/><div class=\"corner\"><img alt=\"Support\" class=\"image-role image-inline\" src=\"/assets/images/roles/support.png?v=b7dfc34\"/></div></div></a></td><td class=\"cell-medium r-none-mobile\"><span><a href=\"/heroes/symmetra\">Symmetra</a><small>Support</small></span></td><td><span>0.59%</span><div class=\"bar\"><div class=\"segment segment-game\" style=\"width:5.32%\"></div></div></td><td><span>57.29%</span><div class=\"bar\"><div class=\"segment segment-win\" style=\"width:100.00%\"></div></div></td><td><span>2.49%</span><div class=\"bar\"><div class=\"segment segment-tie\" style=\"width:100.00%\"></div></div></td><td><span>8.37%</span><div class=\"bar\"><div class=\"segment segment-fire\" style=\"width:55.69%\"></div></div></td></tr>,\n",
       " <tr><td class=\"cell-icon-small\"><a href=\"/heroes/mei\"><div class=\"image-with-corner\"><img alt=\"Mei\" class=\"image-hero image-hero-mei image-small\" src=\"/assets/images/heroes/mei.png?v=b7dfc34\"/><div class=\"corner\"><img alt=\"Defense\" class=\"image-role image-inline\" src=\"/assets/images/roles/defense.png?v=b7dfc34\"/></div></div></a></td><td class=\"cell-medium r-none-mobile\"><span><a href=\"/heroes/mei\">Mei</a><small>Defense</small></span></td><td><span>0.46%</span><div class=\"bar\"><div class=\"segment segment-game\" style=\"width:4.08%\"></div></div></td><td><span>47.73%</span><div class=\"bar\"><div class=\"segment segment-win\" style=\"width:83.31%\"></div></div></td><td><span>2.13%</span><div class=\"bar\"><div class=\"segment segment-tie\" style=\"width:85.35%\"></div></div></td><td><span>6.80%</span><div class=\"bar\"><div class=\"segment segment-fire\" style=\"width:45.23%\"></div></div></td></tr>,\n",
       " <tr><td class=\"cell-icon-small\"><a href=\"/heroes/bastion\"><div class=\"image-with-corner\"><img alt=\"Bastion\" class=\"image-hero image-hero-bastion image-small\" src=\"/assets/images/heroes/bastion.png?v=b7dfc34\"/><div class=\"corner\"><img alt=\"Defense\" class=\"image-role image-inline\" src=\"/assets/images/roles/defense.png?v=b7dfc34\"/></div></div></a></td><td class=\"cell-medium r-none-mobile\"><span><a href=\"/heroes/bastion\">Bastion</a><small>Defense</small></span></td><td><span>0.26%</span><div class=\"bar\"><div class=\"segment segment-game\" style=\"width:2.34%\"></div></div></td><td><span>52.45%</span><div class=\"bar\"><div class=\"segment segment-win\" style=\"width:91.56%\"></div></div></td><td><span>2.17%</span><div class=\"bar\"><div class=\"segment segment-tie\" style=\"width:87.21%\"></div></div></td><td><span>15.03%</span><div class=\"bar\"><div class=\"segment segment-fire\" style=\"width:100.00%\"></div></div></td></tr>]"
      ]
     },
     "execution_count": 234,
     "metadata": {},
     "output_type": "execute_result"
    }
   ],
   "source": [
    "body = table.findAll('tr')\n",
    "body"
   ]
  },
  {
   "cell_type": "code",
   "execution_count": 220,
   "metadata": {},
   "outputs": [],
   "source": [
    "td_1 = body[1].findAll('td')"
   ]
  },
  {
   "cell_type": "code",
   "execution_count": 222,
   "metadata": {},
   "outputs": [],
   "source": [
    "td_1 = [i.text for i in td_1]"
   ]
  },
  {
   "cell_type": "code",
   "execution_count": 223,
   "metadata": {},
   "outputs": [
    {
     "data": {
      "text/plain": [
       "['', 'AnaSupport', '11.18%', '50.07%', '2.01%', '9.34%']"
      ]
     },
     "execution_count": 223,
     "metadata": {},
     "output_type": "execute_result"
    }
   ],
   "source": [
    "td_1"
   ]
  },
  {
   "cell_type": "code",
   "execution_count": 245,
   "metadata": {},
   "outputs": [],
   "source": [
    "td_complete = [i.findAll('td') for i in body]"
   ]
  },
  {
   "cell_type": "code",
   "execution_count": 246,
   "metadata": {},
   "outputs": [
    {
     "data": {
      "text/plain": [
       "[[],\n",
       " [<td class=\"cell-icon-small\"><a href=\"/heroes/ana\"><div class=\"image-with-corner\"><img alt=\"Ana\" class=\"image-hero image-hero-ana image-small\" src=\"/assets/images/heroes/ana.png?v=b7dfc34\"/><div class=\"corner\"><img alt=\"Support\" class=\"image-role image-inline\" src=\"/assets/images/roles/support.png?v=b7dfc34\"/></div></div></a></td>,\n",
       "  <td class=\"cell-medium r-none-mobile\"><span><a href=\"/heroes/ana\">Ana</a><small>Support</small></span></td>,\n",
       "  <td><span>11.18%</span><div class=\"bar\"><div class=\"segment segment-game\" style=\"width:100.00%\"></div></div></td>,\n",
       "  <td><span>50.07%</span><div class=\"bar\"><div class=\"segment segment-win\" style=\"width:87.39%\"></div></div></td>,\n",
       "  <td><span>2.01%</span><div class=\"bar\"><div class=\"segment segment-tie\" style=\"width:80.69%\"></div></div></td>,\n",
       "  <td><span>9.34%</span><div class=\"bar\"><div class=\"segment segment-fire\" style=\"width:62.12%\"></div></div></td>],\n",
       " [<td class=\"cell-icon-small\"><a href=\"/heroes/reinhardt\"><div class=\"image-with-corner\"><img alt=\"Reinhardt\" class=\"image-hero image-hero-reinhardt image-small\" src=\"/assets/images/heroes/reinhardt.png?v=b7dfc34\"/><div class=\"corner\"><img alt=\"Tank\" class=\"image-role image-inline\" src=\"/assets/images/roles/tank.png?v=b7dfc34\"/></div></div></a></td>,\n",
       "  <td class=\"cell-medium r-none-mobile\"><span><a href=\"/heroes/reinhardt\">Reinhardt</a><small>Tank</small></span></td>,\n",
       "  <td><span>10.32%</span><div class=\"bar\"><div class=\"segment segment-game\" style=\"width:92.28%\"></div></div></td>,\n",
       "  <td><span>51.52%</span><div class=\"bar\"><div class=\"segment segment-win\" style=\"width:89.92%\"></div></div></td>,\n",
       "  <td><span>2.24%</span><div class=\"bar\"><div class=\"segment segment-tie\" style=\"width:89.92%\"></div></div></td>,\n",
       "  <td><span>6.71%</span><div class=\"bar\"><div class=\"segment segment-fire\" style=\"width:44.65%\"></div></div></td>],\n",
       " [<td class=\"cell-icon-small\"><a href=\"/heroes/zarya\"><div class=\"image-with-corner\"><img alt=\"Zarya\" class=\"image-hero image-hero-zarya image-small\" src=\"/assets/images/heroes/zarya.png?v=b7dfc34\"/><div class=\"corner\"><img alt=\"Tank\" class=\"image-role image-inline\" src=\"/assets/images/roles/tank.png?v=b7dfc34\"/></div></div></a></td>,\n",
       "  <td class=\"cell-medium r-none-mobile\"><span><a href=\"/heroes/zarya\">Zarya</a><small>Tank</small></span></td>,\n",
       "  <td><span>7.45%</span><div class=\"bar\"><div class=\"segment segment-game\" style=\"width:66.69%\"></div></div></td>,\n",
       "  <td><span>52.62%</span><div class=\"bar\"><div class=\"segment segment-win\" style=\"width:91.84%\"></div></div></td>,\n",
       "  <td><span>2.13%</span><div class=\"bar\"><div class=\"segment segment-tie\" style=\"width:85.54%\"></div></div></td>,\n",
       "  <td><span>12.00%</span><div class=\"bar\"><div class=\"segment segment-fire\" style=\"width:79.84%\"></div></div></td>],\n",
       " [<td class=\"cell-icon-small\"><a href=\"/heroes/moira\"><div class=\"image-with-corner\"><img alt=\"Moira\" class=\"image-hero image-hero-moira image-small\" src=\"/assets/images/heroes/moira.png?v=b7dfc34\"/><div class=\"corner\"><img alt=\"Support\" class=\"image-role image-inline\" src=\"/assets/images/roles/support.png?v=b7dfc34\"/></div></div></a></td>,\n",
       "  <td class=\"cell-medium r-none-mobile\"><span><a href=\"/heroes/moira\">Moira</a><small>Support</small></span></td>,\n",
       "  <td><span>6.89%</span><div class=\"bar\"><div class=\"segment segment-game\" style=\"width:61.62%\"></div></div></td>,\n",
       "  <td><span>49.93%</span><div class=\"bar\"><div class=\"segment segment-win\" style=\"width:87.14%\"></div></div></td>,\n",
       "  <td><span>2.09%</span><div class=\"bar\"><div class=\"segment segment-tie\" style=\"width:83.97%\"></div></div></td>,\n",
       "  <td><span>9.55%</span><div class=\"bar\"><div class=\"segment segment-fire\" style=\"width:63.54%\"></div></div></td>],\n",
       " [<td class=\"cell-icon-small\"><a href=\"/heroes/mercy\"><div class=\"image-with-corner\"><img alt=\"Mercy\" class=\"image-hero image-hero-mercy image-small\" src=\"/assets/images/heroes/mercy.png?v=b7dfc34\"/><div class=\"corner\"><img alt=\"Support\" class=\"image-role image-inline\" src=\"/assets/images/roles/support.png?v=b7dfc34\"/></div></div></a></td>,\n",
       "  <td class=\"cell-medium r-none-mobile\"><span><a href=\"/heroes/mercy\">Mercy</a><small>Support</small></span></td>,\n",
       "  <td><span>6.34%</span><div class=\"bar\"><div class=\"segment segment-game\" style=\"width:56.69%\"></div></div></td>,\n",
       "  <td><span>51.84%</span><div class=\"bar\"><div class=\"segment segment-win\" style=\"width:90.48%\"></div></div></td>,\n",
       "  <td><span>2.09%</span><div class=\"bar\"><div class=\"segment segment-tie\" style=\"width:83.67%\"></div></div></td>,\n",
       "  <td><span>2.23%</span><div class=\"bar\"><div class=\"segment segment-fire\" style=\"width:14.81%\"></div></div></td>],\n",
       " [<td class=\"cell-icon-small\"><a href=\"/heroes/genji\"><div class=\"image-with-corner\"><img alt=\"Genji\" class=\"image-hero image-hero-genji image-small\" src=\"/assets/images/heroes/genji.png?v=b7dfc34\"/><div class=\"corner\"><img alt=\"Offense\" class=\"image-role image-inline\" src=\"/assets/images/roles/offense.png?v=b7dfc34\"/></div></div></a></td>,\n",
       "  <td class=\"cell-medium r-none-mobile\"><span><a href=\"/heroes/genji\">Genji</a><small>Offense</small></span></td>,\n",
       "  <td><span>6.11%</span><div class=\"bar\"><div class=\"segment segment-game\" style=\"width:54.65%\"></div></div></td>,\n",
       "  <td><span>50.66%</span><div class=\"bar\"><div class=\"segment segment-win\" style=\"width:88.43%\"></div></div></td>,\n",
       "  <td><span>1.86%</span><div class=\"bar\"><div class=\"segment segment-tie\" style=\"width:74.48%\"></div></div></td>,\n",
       "  <td><span>11.82%</span><div class=\"bar\"><div class=\"segment segment-fire\" style=\"width:78.64%\"></div></div></td>],\n",
       " [<td class=\"cell-icon-small\"><a href=\"/heroes/ashe\"><div class=\"image-with-corner\"><img alt=\"Ashe\" class=\"image-hero image-hero-ashe image-small\" src=\"/assets/images/heroes/ashe.png?v=b7dfc34\"/><div class=\"corner\"><img alt=\"Offense\" class=\"image-role image-inline\" src=\"/assets/images/roles/offense.png?v=b7dfc34\"/></div></div></a></td>,\n",
       "  <td class=\"cell-medium r-none-mobile\"><span><a href=\"/heroes/ashe\">Ashe</a><small>Offense</small></span></td>,\n",
       "  <td><span>4.84%</span><div class=\"bar\"><div class=\"segment segment-game\" style=\"width:43.28%\"></div></div></td>,\n",
       "  <td><span>53.09%</span><div class=\"bar\"><div class=\"segment segment-win\" style=\"width:92.66%\"></div></div></td>,\n",
       "  <td><span>1.93%</span><div class=\"bar\"><div class=\"segment segment-tie\" style=\"width:77.29%\"></div></div></td>,\n",
       "  <td><span>9.37%</span><div class=\"bar\"><div class=\"segment segment-fire\" style=\"width:62.31%\"></div></div></td>],\n",
       " [<td class=\"cell-icon-small\"><a href=\"/heroes/sigma\"><div class=\"image-with-corner\"><img alt=\"Sigma\" class=\"image-hero image-hero-sigma image-small\" src=\"/assets/images/heroes/sigma.png?v=b7dfc34\"/><div class=\"corner\"><img alt=\"Tank\" class=\"image-role image-inline\" src=\"/assets/images/roles/tank.png?v=b7dfc34\"/></div></div></a></td>,\n",
       "  <td class=\"cell-medium r-none-mobile\"><span><a href=\"/heroes/sigma\">Sigma</a><small>Tank</small></span></td>,\n",
       "  <td><span>4.41%</span><div class=\"bar\"><div class=\"segment segment-game\" style=\"width:39.47%\"></div></div></td>,\n",
       "  <td><span>50.80%</span><div class=\"bar\"><div class=\"segment segment-win\" style=\"width:88.67%\"></div></div></td>,\n",
       "  <td><span>2.03%</span><div class=\"bar\"><div class=\"segment segment-tie\" style=\"width:81.61%\"></div></div></td>,\n",
       "  <td><span>12.07%</span><div class=\"bar\"><div class=\"segment segment-fire\" style=\"width:80.27%\"></div></div></td>],\n",
       " [<td class=\"cell-icon-small\"><a href=\"/heroes/mccree\"><div class=\"image-with-corner\"><img alt=\"McCree\" class=\"image-hero image-hero-mccree image-small\" src=\"/assets/images/heroes/mccree.png?v=b7dfc34\"/><div class=\"corner\"><img alt=\"Offense\" class=\"image-role image-inline\" src=\"/assets/images/roles/offense.png?v=b7dfc34\"/></div></div></a></td>,\n",
       "  <td class=\"cell-medium r-none-mobile\"><span><a href=\"/heroes/mccree\">McCree</a><small>Offense</small></span></td>,\n",
       "  <td><span>4.04%</span><div class=\"bar\"><div class=\"segment segment-game\" style=\"width:36.13%\"></div></div></td>,\n",
       "  <td><span>46.45%</span><div class=\"bar\"><div class=\"segment segment-win\" style=\"width:81.07%\"></div></div></td>,\n",
       "  <td><span>1.57%</span><div class=\"bar\"><div class=\"segment segment-tie\" style=\"width:63.09%\"></div></div></td>,\n",
       "  <td><span>7.98%</span><div class=\"bar\"><div class=\"segment segment-fire\" style=\"width:53.10%\"></div></div></td>],\n",
       " [<td class=\"cell-icon-small\"><a href=\"/heroes/roadhog\"><div class=\"image-with-corner\"><img alt=\"Roadhog\" class=\"image-hero image-hero-roadhog image-small\" src=\"/assets/images/heroes/roadhog.png?v=b7dfc34\"/><div class=\"corner\"><img alt=\"Tank\" class=\"image-role image-inline\" src=\"/assets/images/roles/tank.png?v=b7dfc34\"/></div></div></a></td>,\n",
       "  <td class=\"cell-medium r-none-mobile\"><span><a href=\"/heroes/roadhog\">Roadhog</a><small>Tank</small></span></td>,\n",
       "  <td><span>3.33%</span><div class=\"bar\"><div class=\"segment segment-game\" style=\"width:29.75%\"></div></div></td>,\n",
       "  <td><span>49.71%</span><div class=\"bar\"><div class=\"segment segment-win\" style=\"width:86.76%\"></div></div></td>,\n",
       "  <td><span>1.58%</span><div class=\"bar\"><div class=\"segment segment-tie\" style=\"width:63.40%\"></div></div></td>,\n",
       "  <td><span>9.18%</span><div class=\"bar\"><div class=\"segment segment-fire\" style=\"width:61.07%\"></div></div></td>],\n",
       " [<td class=\"cell-icon-small\"><a href=\"/heroes/brigitte\"><div class=\"image-with-corner\"><img alt=\"Brigitte\" class=\"image-hero image-hero-brigitte image-small\" src=\"/assets/images/heroes/brigitte.png?v=b7dfc34\"/><div class=\"corner\"><img alt=\"Support\" class=\"image-role image-inline\" src=\"/assets/images/roles/support.png?v=b7dfc34\"/></div></div></a></td>,\n",
       "  <td class=\"cell-medium r-none-mobile\"><span><a href=\"/heroes/brigitte\">Brigitte</a><small>Support</small></span></td>,\n",
       "  <td><span>3.07%</span><div class=\"bar\"><div class=\"segment segment-game\" style=\"width:27.45%\"></div></div></td>,\n",
       "  <td><span>53.84%</span><div class=\"bar\"><div class=\"segment segment-win\" style=\"width:93.98%\"></div></div></td>,\n",
       "  <td><span>1.80%</span><div class=\"bar\"><div class=\"segment segment-tie\" style=\"width:72.16%\"></div></div></td>,\n",
       "  <td><span>6.43%</span><div class=\"bar\"><div class=\"segment segment-fire\" style=\"width:42.78%\"></div></div></td>],\n",
       " [<td class=\"cell-icon-small\"><a href=\"/heroes/baptiste\"><div class=\"image-with-corner\"><img alt=\"Baptiste\" class=\"image-hero image-hero-baptiste image-small\" src=\"/assets/images/heroes/baptiste.png?v=b7dfc34\"/><div class=\"corner\"><img alt=\"Support\" class=\"image-role image-inline\" src=\"/assets/images/roles/support.png?v=b7dfc34\"/></div></div></a></td>,\n",
       "  <td class=\"cell-medium r-none-mobile\"><span><a href=\"/heroes/baptiste\">Baptiste</a><small>Support</small></span></td>,\n",
       "  <td><span>2.93%</span><div class=\"bar\"><div class=\"segment segment-game\" style=\"width:26.22%\"></div></div></td>,\n",
       "  <td><span>47.89%</span><div class=\"bar\"><div class=\"segment segment-win\" style=\"width:83.58%\"></div></div></td>,\n",
       "  <td><span>2.37%</span><div class=\"bar\"><div class=\"segment segment-tie\" style=\"width:95.11%\"></div></div></td>,\n",
       "  <td><span>11.26%</span><div class=\"bar\"><div class=\"segment segment-fire\" style=\"width:74.88%\"></div></div></td>],\n",
       " [<td class=\"cell-icon-small\"><a href=\"/heroes/lucio\"><div class=\"image-with-corner\"><img alt=\"Lúcio\" class=\"image-hero image-hero-lucio image-small\" src=\"/assets/images/heroes/lucio.png?v=b7dfc34\"/><div class=\"corner\"><img alt=\"Support\" class=\"image-role image-inline\" src=\"/assets/images/roles/support.png?v=b7dfc34\"/></div></div></a></td>,\n",
       "  <td class=\"cell-medium r-none-mobile\"><span><a href=\"/heroes/lucio\">Lúcio</a><small>Support</small></span></td>,\n",
       "  <td><span>2.93%</span><div class=\"bar\"><div class=\"segment segment-game\" style=\"width:26.19%\"></div></div></td>,\n",
       "  <td><span>51.68%</span><div class=\"bar\"><div class=\"segment segment-win\" style=\"width:90.20%\"></div></div></td>,\n",
       "  <td><span>1.65%</span><div class=\"bar\"><div class=\"segment segment-tie\" style=\"width:66.11%\"></div></div></td>,\n",
       "  <td><span>11.21%</span><div class=\"bar\"><div class=\"segment segment-fire\" style=\"width:74.60%\"></div></div></td>],\n",
       " [<td class=\"cell-icon-small\"><a href=\"/heroes/winston\"><div class=\"image-with-corner\"><img alt=\"Winston\" class=\"image-hero image-hero-winston image-small\" src=\"/assets/images/heroes/winston.png?v=b7dfc34\"/><div class=\"corner\"><img alt=\"Tank\" class=\"image-role image-inline\" src=\"/assets/images/roles/tank.png?v=b7dfc34\"/></div></div></a></td>,\n",
       "  <td class=\"cell-medium r-none-mobile\"><span><a href=\"/heroes/winston\">Winston</a><small>Tank</small></span></td>,\n",
       "  <td><span>2.60%</span><div class=\"bar\"><div class=\"segment segment-game\" style=\"width:23.30%\"></div></div></td>,\n",
       "  <td><span>48.63%</span><div class=\"bar\"><div class=\"segment segment-win\" style=\"width:84.89%\"></div></div></td>,\n",
       "  <td><span>1.58%</span><div class=\"bar\"><div class=\"segment segment-tie\" style=\"width:63.28%\"></div></div></td>,\n",
       "  <td><span>5.81%</span><div class=\"bar\"><div class=\"segment segment-fire\" style=\"width:38.68%\"></div></div></td>],\n",
       " [<td class=\"cell-icon-small\"><a href=\"/heroes/junkrat\"><div class=\"image-with-corner\"><img alt=\"Junkrat\" class=\"image-hero image-hero-junkrat image-small\" src=\"/assets/images/heroes/junkrat.png?v=b7dfc34\"/><div class=\"corner\"><img alt=\"Defense\" class=\"image-role image-inline\" src=\"/assets/images/roles/defense.png?v=b7dfc34\"/></div></div></a></td>,\n",
       "  <td class=\"cell-medium r-none-mobile\"><span><a href=\"/heroes/junkrat\">Junkrat</a><small>Defense</small></span></td>,\n",
       "  <td><span>2.55%</span><div class=\"bar\"><div class=\"segment segment-game\" style=\"width:22.82%\"></div></div></td>,\n",
       "  <td><span>52.49%</span><div class=\"bar\"><div class=\"segment segment-win\" style=\"width:91.62%\"></div></div></td>,\n",
       "  <td><span>2.36%</span><div class=\"bar\"><div class=\"segment segment-tie\" style=\"width:94.89%\"></div></div></td>,\n",
       "  <td><span>11.12%</span><div class=\"bar\"><div class=\"segment segment-fire\" style=\"width:73.99%\"></div></div></td>],\n",
       " [<td class=\"cell-icon-small\"><a href=\"/heroes/wreckingball\"><div class=\"image-with-corner\"><img alt=\"Wrecking Ball\" class=\"image-hero image-hero-wreckingball image-small\" src=\"/assets/images/heroes/wreckingball.png?v=b7dfc34\"/><div class=\"corner\"><img alt=\"Tank\" class=\"image-role image-inline\" src=\"/assets/images/roles/tank.png?v=b7dfc34\"/></div></div></a></td>,\n",
       "  <td class=\"cell-medium r-none-mobile\"><span><a href=\"/heroes/wreckingball\">Wrecking Ball</a><small>Tank</small></span></td>,\n",
       "  <td><span>2.28%</span><div class=\"bar\"><div class=\"segment segment-game\" style=\"width:20.36%\"></div></div></td>,\n",
       "  <td><span>49.84%</span><div class=\"bar\"><div class=\"segment segment-win\" style=\"width:86.99%\"></div></div></td>,\n",
       "  <td><span>1.58%</span><div class=\"bar\"><div class=\"segment segment-tie\" style=\"width:63.37%\"></div></div></td>,\n",
       "  <td><span>2.75%</span><div class=\"bar\"><div class=\"segment segment-fire\" style=\"width:18.29%\"></div></div></td>],\n",
       " [<td class=\"cell-icon-small\"><a href=\"/heroes/orisa\"><div class=\"image-with-corner\"><img alt=\"Orisa\" class=\"image-hero image-hero-orisa image-small\" src=\"/assets/images/heroes/orisa.png?v=b7dfc34\"/><div class=\"corner\"><img alt=\"Tank\" class=\"image-role image-inline\" src=\"/assets/images/roles/tank.png?v=b7dfc34\"/></div></div></a></td>,\n",
       "  <td class=\"cell-medium r-none-mobile\"><span><a href=\"/heroes/orisa\">Orisa</a><small>Tank</small></span></td>,\n",
       "  <td><span>1.98%</span><div class=\"bar\"><div class=\"segment segment-game\" style=\"width:17.75%\"></div></div></td>,\n",
       "  <td><span>49.11%</span><div class=\"bar\"><div class=\"segment segment-win\" style=\"width:85.72%\"></div></div></td>,\n",
       "  <td><span>1.83%</span><div class=\"bar\"><div class=\"segment segment-tie\" style=\"width:73.49%\"></div></div></td>,\n",
       "  <td><span>5.76%</span><div class=\"bar\"><div class=\"segment segment-fire\" style=\"width:38.35%\"></div></div></td>],\n",
       " [<td class=\"cell-icon-small\"><a href=\"/heroes/hanzo\"><div class=\"image-with-corner\"><img alt=\"Hanzo\" class=\"image-hero image-hero-hanzo image-small\" src=\"/assets/images/heroes/hanzo.png?v=b7dfc34\"/><div class=\"corner\"><img alt=\"Defense\" class=\"image-role image-inline\" src=\"/assets/images/roles/defense.png?v=b7dfc34\"/></div></div></a></td>,\n",
       "  <td class=\"cell-medium r-none-mobile\"><span><a href=\"/heroes/hanzo\">Hanzo</a><small>Defense</small></span></td>,\n",
       "  <td><span>1.61%</span><div class=\"bar\"><div class=\"segment segment-game\" style=\"width:14.37%\"></div></div></td>,\n",
       "  <td><span>48.42%</span><div class=\"bar\"><div class=\"segment segment-win\" style=\"width:84.52%\"></div></div></td>,\n",
       "  <td><span>1.90%</span><div class=\"bar\"><div class=\"segment segment-tie\" style=\"width:76.28%\"></div></div></td>,\n",
       "  <td><span>10.44%</span><div class=\"bar\"><div class=\"segment segment-fire\" style=\"width:69.48%\"></div></div></td>],\n",
       " [<td class=\"cell-icon-small\"><a href=\"/heroes/pharah\"><div class=\"image-with-corner\"><img alt=\"Pharah\" class=\"image-hero image-hero-pharah image-small\" src=\"/assets/images/heroes/pharah.png?v=b7dfc34\"/><div class=\"corner\"><img alt=\"Offense\" class=\"image-role image-inline\" src=\"/assets/images/roles/offense.png?v=b7dfc34\"/></div></div></a></td>,\n",
       "  <td class=\"cell-medium r-none-mobile\"><span><a href=\"/heroes/pharah\">Pharah</a><small>Offense</small></span></td>,\n",
       "  <td><span>1.57%</span><div class=\"bar\"><div class=\"segment segment-game\" style=\"width:14.06%\"></div></div></td>,\n",
       "  <td><span>53.46%</span><div class=\"bar\"><div class=\"segment segment-win\" style=\"width:93.30%\"></div></div></td>,\n",
       "  <td><span>1.69%</span><div class=\"bar\"><div class=\"segment segment-tie\" style=\"width:67.88%\"></div></div></td>,\n",
       "  <td><span>14.08%</span><div class=\"bar\"><div class=\"segment segment-fire\" style=\"width:93.69%\"></div></div></td>],\n",
       " [<td class=\"cell-icon-small\"><a href=\"/heroes/widowmaker\"><div class=\"image-with-corner\"><img alt=\"Widowmaker\" class=\"image-hero image-hero-widowmaker image-small\" src=\"/assets/images/heroes/widowmaker.png?v=b7dfc34\"/><div class=\"corner\"><img alt=\"Defense\" class=\"image-role image-inline\" src=\"/assets/images/roles/defense.png?v=b7dfc34\"/></div></div></a></td>,\n",
       "  <td class=\"cell-medium r-none-mobile\"><span><a href=\"/heroes/widowmaker\">Widowmaker</a><small>Defense</small></span></td>,\n",
       "  <td><span>1.54%</span><div class=\"bar\"><div class=\"segment segment-game\" style=\"width:13.74%\"></div></div></td>,\n",
       "  <td><span>50.20%</span><div class=\"bar\"><div class=\"segment segment-win\" style=\"width:87.62%\"></div></div></td>,\n",
       "  <td><span>1.47%</span><div class=\"bar\"><div class=\"segment segment-tie\" style=\"width:59.17%\"></div></div></td>,\n",
       "  <td><span>6.52%</span><div class=\"bar\"><div class=\"segment segment-fire\" style=\"width:43.38%\"></div></div></td>],\n",
       " [<td class=\"cell-icon-small\"><a href=\"/heroes/soldier76\"><div class=\"image-with-corner\"><img alt=\"Soldier: 76\" class=\"image-hero image-hero-soldier76 image-small\" src=\"/assets/images/heroes/soldier76.png?v=b7dfc34\"/><div class=\"corner\"><img alt=\"Offense\" class=\"image-role image-inline\" src=\"/assets/images/roles/offense.png?v=b7dfc34\"/></div></div></a></td>,\n",
       "  <td class=\"cell-medium r-none-mobile\"><span><a href=\"/heroes/soldier76\">Soldier: 76</a><small>Offense</small></span></td>,\n",
       "  <td><span>1.50%</span><div class=\"bar\"><div class=\"segment segment-game\" style=\"width:13.40%\"></div></div></td>,\n",
       "  <td><span>48.93%</span><div class=\"bar\"><div class=\"segment segment-win\" style=\"width:85.41%\"></div></div></td>,\n",
       "  <td><span>1.67%</span><div class=\"bar\"><div class=\"segment segment-tie\" style=\"width:67.16%\"></div></div></td>,\n",
       "  <td><span>9.22%</span><div class=\"bar\"><div class=\"segment segment-fire\" style=\"width:61.33%\"></div></div></td>],\n",
       " [<td class=\"cell-icon-small\"><a href=\"/heroes/tracer\"><div class=\"image-with-corner\"><img alt=\"Tracer\" class=\"image-hero image-hero-tracer image-small\" src=\"/assets/images/heroes/tracer.png?v=b7dfc34\"/><div class=\"corner\"><img alt=\"Offense\" class=\"image-role image-inline\" src=\"/assets/images/roles/offense.png?v=b7dfc34\"/></div></div></a></td>,\n",
       "  <td class=\"cell-medium r-none-mobile\"><span><a href=\"/heroes/tracer\">Tracer</a><small>Offense</small></span></td>,\n",
       "  <td><span>1.48%</span><div class=\"bar\"><div class=\"segment segment-game\" style=\"width:13.20%\"></div></div></td>,\n",
       "  <td><span>48.66%</span><div class=\"bar\"><div class=\"segment segment-win\" style=\"width:84.94%\"></div></div></td>,\n",
       "  <td><span>1.36%</span><div class=\"bar\"><div class=\"segment segment-tie\" style=\"width:54.59%\"></div></div></td>,\n",
       "  <td><span>6.24%</span><div class=\"bar\"><div class=\"segment segment-fire\" style=\"width:41.50%\"></div></div></td>],\n",
       " [<td class=\"cell-icon-small\"><a href=\"/heroes/doomfist\"><div class=\"image-with-corner\"><img alt=\"Doomfist\" class=\"image-hero image-hero-doomfist image-small\" src=\"/assets/images/heroes/doomfist.png?v=b7dfc34\"/><div class=\"corner\"><img alt=\"Offense\" class=\"image-role image-inline\" src=\"/assets/images/roles/offense.png?v=b7dfc34\"/></div></div></a></td>,\n",
       "  <td class=\"cell-medium r-none-mobile\"><span><a href=\"/heroes/doomfist\">Doomfist</a><small>Offense</small></span></td>,\n",
       "  <td><span>1.47%</span><div class=\"bar\"><div class=\"segment segment-game\" style=\"width:13.16%\"></div></div></td>,\n",
       "  <td><span>52.06%</span><div class=\"bar\"><div class=\"segment segment-win\" style=\"width:90.87%\"></div></div></td>,\n",
       "  <td><span>1.59%</span><div class=\"bar\"><div class=\"segment segment-tie\" style=\"width:63.84%\"></div></div></td>,\n",
       "  <td><span>6.97%</span><div class=\"bar\"><div class=\"segment segment-fire\" style=\"width:46.37%\"></div></div></td>],\n",
       " [<td class=\"cell-icon-small\"><a href=\"/heroes/zenyatta\"><div class=\"image-with-corner\"><img alt=\"Zenyatta\" class=\"image-hero image-hero-zenyatta image-small\" src=\"/assets/images/heroes/zenyatta.png?v=b7dfc34\"/><div class=\"corner\"><img alt=\"Support\" class=\"image-role image-inline\" src=\"/assets/images/roles/support.png?v=b7dfc34\"/></div></div></a></td>,\n",
       "  <td class=\"cell-medium r-none-mobile\"><span><a href=\"/heroes/zenyatta\">Zenyatta</a><small>Support</small></span></td>,\n",
       "  <td><span>1.43%</span><div class=\"bar\"><div class=\"segment segment-game\" style=\"width:12.82%\"></div></div></td>,\n",
       "  <td><span>53.25%</span><div class=\"bar\"><div class=\"segment segment-win\" style=\"width:92.95%\"></div></div></td>,\n",
       "  <td><span>1.68%</span><div class=\"bar\"><div class=\"segment segment-tie\" style=\"width:67.48%\"></div></div></td>,\n",
       "  <td><span>7.51%</span><div class=\"bar\"><div class=\"segment segment-fire\" style=\"width:49.95%\"></div></div></td>],\n",
       " [<td class=\"cell-icon-small\"><a href=\"/heroes/dva\"><div class=\"image-with-corner\"><img alt=\"D.Va\" class=\"image-hero image-hero-dva image-small\" src=\"/assets/images/heroes/dva.png?v=b7dfc34\"/><div class=\"corner\"><img alt=\"Tank\" class=\"image-role image-inline\" src=\"/assets/images/roles/tank.png?v=b7dfc34\"/></div></div></a></td>,\n",
       "  <td class=\"cell-medium r-none-mobile\"><span><a href=\"/heroes/dva\">D.Va</a><small>Tank</small></span></td>,\n",
       "  <td><span>1.34%</span><div class=\"bar\"><div class=\"segment segment-game\" style=\"width:12.01%\"></div></div></td>,\n",
       "  <td><span>47.84%</span><div class=\"bar\"><div class=\"segment segment-win\" style=\"width:83.50%\"></div></div></td>,\n",
       "  <td><span>1.70%</span><div class=\"bar\"><div class=\"segment segment-tie\" style=\"width:68.10%\"></div></div></td>,\n",
       "  <td><span>6.48%</span><div class=\"bar\"><div class=\"segment segment-fire\" style=\"width:43.08%\"></div></div></td>],\n",
       " [<td class=\"cell-icon-small\"><a href=\"/heroes/reaper\"><div class=\"image-with-corner\"><img alt=\"Reaper\" class=\"image-hero image-hero-reaper image-small\" src=\"/assets/images/heroes/reaper.png?v=b7dfc34\"/><div class=\"corner\"><img alt=\"Offense\" class=\"image-role image-inline\" src=\"/assets/images/roles/offense.png?v=b7dfc34\"/></div></div></a></td>,\n",
       "  <td class=\"cell-medium r-none-mobile\"><span><a href=\"/heroes/reaper\">Reaper</a><small>Offense</small></span></td>,\n",
       "  <td><span>1.26%</span><div class=\"bar\"><div class=\"segment segment-game\" style=\"width:11.25%\"></div></div></td>,\n",
       "  <td><span>48.90%</span><div class=\"bar\"><div class=\"segment segment-win\" style=\"width:85.36%\"></div></div></td>,\n",
       "  <td><span>1.54%</span><div class=\"bar\"><div class=\"segment segment-tie\" style=\"width:61.99%\"></div></div></td>,\n",
       "  <td><span>12.74%</span><div class=\"bar\"><div class=\"segment segment-fire\" style=\"width:84.73%\"></div></div></td>],\n",
       " [<td class=\"cell-icon-small\"><a href=\"/heroes/torbjorn\"><div class=\"image-with-corner\"><img alt=\"Torbjörn\" class=\"image-hero image-hero-torbjorn image-small\" src=\"/assets/images/heroes/torbjorn.png?v=b7dfc34\"/><div class=\"corner\"><img alt=\"Defense\" class=\"image-role image-inline\" src=\"/assets/images/roles/defense.png?v=b7dfc34\"/></div></div></a></td>,\n",
       "  <td class=\"cell-medium r-none-mobile\"><span><a href=\"/heroes/torbjorn\">Torbjörn</a><small>Defense</small></span></td>,\n",
       "  <td><span>0.93%</span><div class=\"bar\"><div class=\"segment segment-game\" style=\"width:8.34%\"></div></div></td>,\n",
       "  <td><span>56.70%</span><div class=\"bar\"><div class=\"segment segment-win\" style=\"width:98.97%\"></div></div></td>,\n",
       "  <td><span>2.31%</span><div class=\"bar\"><div class=\"segment segment-tie\" style=\"width:92.65%\"></div></div></td>,\n",
       "  <td><span>7.09%</span><div class=\"bar\"><div class=\"segment segment-fire\" style=\"width:47.14%\"></div></div></td>],\n",
       " [<td class=\"cell-icon-small\"><a href=\"/heroes/echo\"><div class=\"image-with-corner\"><img alt=\"Echo\" class=\"image-hero image-hero-echo image-small\" src=\"/assets/images/heroes/echo.png?v=b7dfc34\"/><div class=\"corner\"><img alt=\"Offense\" class=\"image-role image-inline\" src=\"/assets/images/roles/offense.png?v=b7dfc34\"/></div></div></a></td>,\n",
       "  <td class=\"cell-medium r-none-mobile\"><span><a href=\"/heroes/echo\">Echo</a><small>Offense</small></span></td>,\n",
       "  <td><span>0.69%</span><div class=\"bar\"><div class=\"segment segment-game\" style=\"width:6.17%\"></div></div></td>,\n",
       "  <td><span>49.25%</span><div class=\"bar\"><div class=\"segment segment-win\" style=\"width:85.97%\"></div></div></td>,\n",
       "  <td><span>1.80%</span><div class=\"bar\"><div class=\"segment segment-tie\" style=\"width:72.05%\"></div></div></td>,\n",
       "  <td><span>6.90%</span><div class=\"bar\"><div class=\"segment segment-fire\" style=\"width:45.89%\"></div></div></td>],\n",
       " [<td class=\"cell-icon-small\"><a href=\"/heroes/sombra\"><div class=\"image-with-corner\"><img alt=\"Sombra\" class=\"image-hero image-hero-sombra image-small\" src=\"/assets/images/heroes/sombra.png?v=b7dfc34\"/><div class=\"corner\"><img alt=\"Offense\" class=\"image-role image-inline\" src=\"/assets/images/roles/offense.png?v=b7dfc34\"/></div></div></a></td>,\n",
       "  <td class=\"cell-medium r-none-mobile\"><span><a href=\"/heroes/sombra\">Sombra</a><small>Offense</small></span></td>,\n",
       "  <td><span>0.63%</span><div class=\"bar\"><div class=\"segment segment-game\" style=\"width:5.64%\"></div></div></td>,\n",
       "  <td><span>47.12%</span><div class=\"bar\"><div class=\"segment segment-win\" style=\"width:82.24%\"></div></div></td>,\n",
       "  <td><span>1.77%</span><div class=\"bar\"><div class=\"segment segment-tie\" style=\"width:70.99%\"></div></div></td>,\n",
       "  <td><span>11.59%</span><div class=\"bar\"><div class=\"segment segment-fire\" style=\"width:77.13%\"></div></div></td>],\n",
       " [<td class=\"cell-icon-small\"><a href=\"/heroes/symmetra\"><div class=\"image-with-corner\"><img alt=\"Symmetra\" class=\"image-hero image-hero-symmetra image-small\" src=\"/assets/images/heroes/symmetra.png?v=b7dfc34\"/><div class=\"corner\"><img alt=\"Support\" class=\"image-role image-inline\" src=\"/assets/images/roles/support.png?v=b7dfc34\"/></div></div></a></td>,\n",
       "  <td class=\"cell-medium r-none-mobile\"><span><a href=\"/heroes/symmetra\">Symmetra</a><small>Support</small></span></td>,\n",
       "  <td><span>0.59%</span><div class=\"bar\"><div class=\"segment segment-game\" style=\"width:5.32%\"></div></div></td>,\n",
       "  <td><span>57.29%</span><div class=\"bar\"><div class=\"segment segment-win\" style=\"width:100.00%\"></div></div></td>,\n",
       "  <td><span>2.49%</span><div class=\"bar\"><div class=\"segment segment-tie\" style=\"width:100.00%\"></div></div></td>,\n",
       "  <td><span>8.37%</span><div class=\"bar\"><div class=\"segment segment-fire\" style=\"width:55.69%\"></div></div></td>],\n",
       " [<td class=\"cell-icon-small\"><a href=\"/heroes/mei\"><div class=\"image-with-corner\"><img alt=\"Mei\" class=\"image-hero image-hero-mei image-small\" src=\"/assets/images/heroes/mei.png?v=b7dfc34\"/><div class=\"corner\"><img alt=\"Defense\" class=\"image-role image-inline\" src=\"/assets/images/roles/defense.png?v=b7dfc34\"/></div></div></a></td>,\n",
       "  <td class=\"cell-medium r-none-mobile\"><span><a href=\"/heroes/mei\">Mei</a><small>Defense</small></span></td>,\n",
       "  <td><span>0.46%</span><div class=\"bar\"><div class=\"segment segment-game\" style=\"width:4.08%\"></div></div></td>,\n",
       "  <td><span>47.73%</span><div class=\"bar\"><div class=\"segment segment-win\" style=\"width:83.31%\"></div></div></td>,\n",
       "  <td><span>2.13%</span><div class=\"bar\"><div class=\"segment segment-tie\" style=\"width:85.35%\"></div></div></td>,\n",
       "  <td><span>6.80%</span><div class=\"bar\"><div class=\"segment segment-fire\" style=\"width:45.23%\"></div></div></td>],\n",
       " [<td class=\"cell-icon-small\"><a href=\"/heroes/bastion\"><div class=\"image-with-corner\"><img alt=\"Bastion\" class=\"image-hero image-hero-bastion image-small\" src=\"/assets/images/heroes/bastion.png?v=b7dfc34\"/><div class=\"corner\"><img alt=\"Defense\" class=\"image-role image-inline\" src=\"/assets/images/roles/defense.png?v=b7dfc34\"/></div></div></a></td>,\n",
       "  <td class=\"cell-medium r-none-mobile\"><span><a href=\"/heroes/bastion\">Bastion</a><small>Defense</small></span></td>,\n",
       "  <td><span>0.26%</span><div class=\"bar\"><div class=\"segment segment-game\" style=\"width:2.34%\"></div></div></td>,\n",
       "  <td><span>52.45%</span><div class=\"bar\"><div class=\"segment segment-win\" style=\"width:91.56%\"></div></div></td>,\n",
       "  <td><span>2.17%</span><div class=\"bar\"><div class=\"segment segment-tie\" style=\"width:87.21%\"></div></div></td>,\n",
       "  <td><span>15.03%</span><div class=\"bar\"><div class=\"segment segment-fire\" style=\"width:100.00%\"></div></div></td>]]"
      ]
     },
     "execution_count": 246,
     "metadata": {},
     "output_type": "execute_result"
    }
   ],
   "source": [
    "td_complete"
   ]
  },
  {
   "cell_type": "code",
   "execution_count": 247,
   "metadata": {},
   "outputs": [
    {
     "data": {
      "text/plain": [
       "[]"
      ]
     },
     "execution_count": 247,
     "metadata": {},
     "output_type": "execute_result"
    }
   ],
   "source": [
    "td_complete.pop(0)"
   ]
  },
  {
   "cell_type": "code",
   "execution_count": 248,
   "metadata": {},
   "outputs": [
    {
     "data": {
      "text/plain": [
       "[[<td class=\"cell-icon-small\"><a href=\"/heroes/ana\"><div class=\"image-with-corner\"><img alt=\"Ana\" class=\"image-hero image-hero-ana image-small\" src=\"/assets/images/heroes/ana.png?v=b7dfc34\"/><div class=\"corner\"><img alt=\"Support\" class=\"image-role image-inline\" src=\"/assets/images/roles/support.png?v=b7dfc34\"/></div></div></a></td>,\n",
       "  <td class=\"cell-medium r-none-mobile\"><span><a href=\"/heroes/ana\">Ana</a><small>Support</small></span></td>,\n",
       "  <td><span>11.18%</span><div class=\"bar\"><div class=\"segment segment-game\" style=\"width:100.00%\"></div></div></td>,\n",
       "  <td><span>50.07%</span><div class=\"bar\"><div class=\"segment segment-win\" style=\"width:87.39%\"></div></div></td>,\n",
       "  <td><span>2.01%</span><div class=\"bar\"><div class=\"segment segment-tie\" style=\"width:80.69%\"></div></div></td>,\n",
       "  <td><span>9.34%</span><div class=\"bar\"><div class=\"segment segment-fire\" style=\"width:62.12%\"></div></div></td>],\n",
       " [<td class=\"cell-icon-small\"><a href=\"/heroes/reinhardt\"><div class=\"image-with-corner\"><img alt=\"Reinhardt\" class=\"image-hero image-hero-reinhardt image-small\" src=\"/assets/images/heroes/reinhardt.png?v=b7dfc34\"/><div class=\"corner\"><img alt=\"Tank\" class=\"image-role image-inline\" src=\"/assets/images/roles/tank.png?v=b7dfc34\"/></div></div></a></td>,\n",
       "  <td class=\"cell-medium r-none-mobile\"><span><a href=\"/heroes/reinhardt\">Reinhardt</a><small>Tank</small></span></td>,\n",
       "  <td><span>10.32%</span><div class=\"bar\"><div class=\"segment segment-game\" style=\"width:92.28%\"></div></div></td>,\n",
       "  <td><span>51.52%</span><div class=\"bar\"><div class=\"segment segment-win\" style=\"width:89.92%\"></div></div></td>,\n",
       "  <td><span>2.24%</span><div class=\"bar\"><div class=\"segment segment-tie\" style=\"width:89.92%\"></div></div></td>,\n",
       "  <td><span>6.71%</span><div class=\"bar\"><div class=\"segment segment-fire\" style=\"width:44.65%\"></div></div></td>],\n",
       " [<td class=\"cell-icon-small\"><a href=\"/heroes/zarya\"><div class=\"image-with-corner\"><img alt=\"Zarya\" class=\"image-hero image-hero-zarya image-small\" src=\"/assets/images/heroes/zarya.png?v=b7dfc34\"/><div class=\"corner\"><img alt=\"Tank\" class=\"image-role image-inline\" src=\"/assets/images/roles/tank.png?v=b7dfc34\"/></div></div></a></td>,\n",
       "  <td class=\"cell-medium r-none-mobile\"><span><a href=\"/heroes/zarya\">Zarya</a><small>Tank</small></span></td>,\n",
       "  <td><span>7.45%</span><div class=\"bar\"><div class=\"segment segment-game\" style=\"width:66.69%\"></div></div></td>,\n",
       "  <td><span>52.62%</span><div class=\"bar\"><div class=\"segment segment-win\" style=\"width:91.84%\"></div></div></td>,\n",
       "  <td><span>2.13%</span><div class=\"bar\"><div class=\"segment segment-tie\" style=\"width:85.54%\"></div></div></td>,\n",
       "  <td><span>12.00%</span><div class=\"bar\"><div class=\"segment segment-fire\" style=\"width:79.84%\"></div></div></td>],\n",
       " [<td class=\"cell-icon-small\"><a href=\"/heroes/moira\"><div class=\"image-with-corner\"><img alt=\"Moira\" class=\"image-hero image-hero-moira image-small\" src=\"/assets/images/heroes/moira.png?v=b7dfc34\"/><div class=\"corner\"><img alt=\"Support\" class=\"image-role image-inline\" src=\"/assets/images/roles/support.png?v=b7dfc34\"/></div></div></a></td>,\n",
       "  <td class=\"cell-medium r-none-mobile\"><span><a href=\"/heroes/moira\">Moira</a><small>Support</small></span></td>,\n",
       "  <td><span>6.89%</span><div class=\"bar\"><div class=\"segment segment-game\" style=\"width:61.62%\"></div></div></td>,\n",
       "  <td><span>49.93%</span><div class=\"bar\"><div class=\"segment segment-win\" style=\"width:87.14%\"></div></div></td>,\n",
       "  <td><span>2.09%</span><div class=\"bar\"><div class=\"segment segment-tie\" style=\"width:83.97%\"></div></div></td>,\n",
       "  <td><span>9.55%</span><div class=\"bar\"><div class=\"segment segment-fire\" style=\"width:63.54%\"></div></div></td>],\n",
       " [<td class=\"cell-icon-small\"><a href=\"/heroes/mercy\"><div class=\"image-with-corner\"><img alt=\"Mercy\" class=\"image-hero image-hero-mercy image-small\" src=\"/assets/images/heroes/mercy.png?v=b7dfc34\"/><div class=\"corner\"><img alt=\"Support\" class=\"image-role image-inline\" src=\"/assets/images/roles/support.png?v=b7dfc34\"/></div></div></a></td>,\n",
       "  <td class=\"cell-medium r-none-mobile\"><span><a href=\"/heroes/mercy\">Mercy</a><small>Support</small></span></td>,\n",
       "  <td><span>6.34%</span><div class=\"bar\"><div class=\"segment segment-game\" style=\"width:56.69%\"></div></div></td>,\n",
       "  <td><span>51.84%</span><div class=\"bar\"><div class=\"segment segment-win\" style=\"width:90.48%\"></div></div></td>,\n",
       "  <td><span>2.09%</span><div class=\"bar\"><div class=\"segment segment-tie\" style=\"width:83.67%\"></div></div></td>,\n",
       "  <td><span>2.23%</span><div class=\"bar\"><div class=\"segment segment-fire\" style=\"width:14.81%\"></div></div></td>],\n",
       " [<td class=\"cell-icon-small\"><a href=\"/heroes/genji\"><div class=\"image-with-corner\"><img alt=\"Genji\" class=\"image-hero image-hero-genji image-small\" src=\"/assets/images/heroes/genji.png?v=b7dfc34\"/><div class=\"corner\"><img alt=\"Offense\" class=\"image-role image-inline\" src=\"/assets/images/roles/offense.png?v=b7dfc34\"/></div></div></a></td>,\n",
       "  <td class=\"cell-medium r-none-mobile\"><span><a href=\"/heroes/genji\">Genji</a><small>Offense</small></span></td>,\n",
       "  <td><span>6.11%</span><div class=\"bar\"><div class=\"segment segment-game\" style=\"width:54.65%\"></div></div></td>,\n",
       "  <td><span>50.66%</span><div class=\"bar\"><div class=\"segment segment-win\" style=\"width:88.43%\"></div></div></td>,\n",
       "  <td><span>1.86%</span><div class=\"bar\"><div class=\"segment segment-tie\" style=\"width:74.48%\"></div></div></td>,\n",
       "  <td><span>11.82%</span><div class=\"bar\"><div class=\"segment segment-fire\" style=\"width:78.64%\"></div></div></td>],\n",
       " [<td class=\"cell-icon-small\"><a href=\"/heroes/ashe\"><div class=\"image-with-corner\"><img alt=\"Ashe\" class=\"image-hero image-hero-ashe image-small\" src=\"/assets/images/heroes/ashe.png?v=b7dfc34\"/><div class=\"corner\"><img alt=\"Offense\" class=\"image-role image-inline\" src=\"/assets/images/roles/offense.png?v=b7dfc34\"/></div></div></a></td>,\n",
       "  <td class=\"cell-medium r-none-mobile\"><span><a href=\"/heroes/ashe\">Ashe</a><small>Offense</small></span></td>,\n",
       "  <td><span>4.84%</span><div class=\"bar\"><div class=\"segment segment-game\" style=\"width:43.28%\"></div></div></td>,\n",
       "  <td><span>53.09%</span><div class=\"bar\"><div class=\"segment segment-win\" style=\"width:92.66%\"></div></div></td>,\n",
       "  <td><span>1.93%</span><div class=\"bar\"><div class=\"segment segment-tie\" style=\"width:77.29%\"></div></div></td>,\n",
       "  <td><span>9.37%</span><div class=\"bar\"><div class=\"segment segment-fire\" style=\"width:62.31%\"></div></div></td>],\n",
       " [<td class=\"cell-icon-small\"><a href=\"/heroes/sigma\"><div class=\"image-with-corner\"><img alt=\"Sigma\" class=\"image-hero image-hero-sigma image-small\" src=\"/assets/images/heroes/sigma.png?v=b7dfc34\"/><div class=\"corner\"><img alt=\"Tank\" class=\"image-role image-inline\" src=\"/assets/images/roles/tank.png?v=b7dfc34\"/></div></div></a></td>,\n",
       "  <td class=\"cell-medium r-none-mobile\"><span><a href=\"/heroes/sigma\">Sigma</a><small>Tank</small></span></td>,\n",
       "  <td><span>4.41%</span><div class=\"bar\"><div class=\"segment segment-game\" style=\"width:39.47%\"></div></div></td>,\n",
       "  <td><span>50.80%</span><div class=\"bar\"><div class=\"segment segment-win\" style=\"width:88.67%\"></div></div></td>,\n",
       "  <td><span>2.03%</span><div class=\"bar\"><div class=\"segment segment-tie\" style=\"width:81.61%\"></div></div></td>,\n",
       "  <td><span>12.07%</span><div class=\"bar\"><div class=\"segment segment-fire\" style=\"width:80.27%\"></div></div></td>],\n",
       " [<td class=\"cell-icon-small\"><a href=\"/heroes/mccree\"><div class=\"image-with-corner\"><img alt=\"McCree\" class=\"image-hero image-hero-mccree image-small\" src=\"/assets/images/heroes/mccree.png?v=b7dfc34\"/><div class=\"corner\"><img alt=\"Offense\" class=\"image-role image-inline\" src=\"/assets/images/roles/offense.png?v=b7dfc34\"/></div></div></a></td>,\n",
       "  <td class=\"cell-medium r-none-mobile\"><span><a href=\"/heroes/mccree\">McCree</a><small>Offense</small></span></td>,\n",
       "  <td><span>4.04%</span><div class=\"bar\"><div class=\"segment segment-game\" style=\"width:36.13%\"></div></div></td>,\n",
       "  <td><span>46.45%</span><div class=\"bar\"><div class=\"segment segment-win\" style=\"width:81.07%\"></div></div></td>,\n",
       "  <td><span>1.57%</span><div class=\"bar\"><div class=\"segment segment-tie\" style=\"width:63.09%\"></div></div></td>,\n",
       "  <td><span>7.98%</span><div class=\"bar\"><div class=\"segment segment-fire\" style=\"width:53.10%\"></div></div></td>],\n",
       " [<td class=\"cell-icon-small\"><a href=\"/heroes/roadhog\"><div class=\"image-with-corner\"><img alt=\"Roadhog\" class=\"image-hero image-hero-roadhog image-small\" src=\"/assets/images/heroes/roadhog.png?v=b7dfc34\"/><div class=\"corner\"><img alt=\"Tank\" class=\"image-role image-inline\" src=\"/assets/images/roles/tank.png?v=b7dfc34\"/></div></div></a></td>,\n",
       "  <td class=\"cell-medium r-none-mobile\"><span><a href=\"/heroes/roadhog\">Roadhog</a><small>Tank</small></span></td>,\n",
       "  <td><span>3.33%</span><div class=\"bar\"><div class=\"segment segment-game\" style=\"width:29.75%\"></div></div></td>,\n",
       "  <td><span>49.71%</span><div class=\"bar\"><div class=\"segment segment-win\" style=\"width:86.76%\"></div></div></td>,\n",
       "  <td><span>1.58%</span><div class=\"bar\"><div class=\"segment segment-tie\" style=\"width:63.40%\"></div></div></td>,\n",
       "  <td><span>9.18%</span><div class=\"bar\"><div class=\"segment segment-fire\" style=\"width:61.07%\"></div></div></td>],\n",
       " [<td class=\"cell-icon-small\"><a href=\"/heroes/brigitte\"><div class=\"image-with-corner\"><img alt=\"Brigitte\" class=\"image-hero image-hero-brigitte image-small\" src=\"/assets/images/heroes/brigitte.png?v=b7dfc34\"/><div class=\"corner\"><img alt=\"Support\" class=\"image-role image-inline\" src=\"/assets/images/roles/support.png?v=b7dfc34\"/></div></div></a></td>,\n",
       "  <td class=\"cell-medium r-none-mobile\"><span><a href=\"/heroes/brigitte\">Brigitte</a><small>Support</small></span></td>,\n",
       "  <td><span>3.07%</span><div class=\"bar\"><div class=\"segment segment-game\" style=\"width:27.45%\"></div></div></td>,\n",
       "  <td><span>53.84%</span><div class=\"bar\"><div class=\"segment segment-win\" style=\"width:93.98%\"></div></div></td>,\n",
       "  <td><span>1.80%</span><div class=\"bar\"><div class=\"segment segment-tie\" style=\"width:72.16%\"></div></div></td>,\n",
       "  <td><span>6.43%</span><div class=\"bar\"><div class=\"segment segment-fire\" style=\"width:42.78%\"></div></div></td>],\n",
       " [<td class=\"cell-icon-small\"><a href=\"/heroes/baptiste\"><div class=\"image-with-corner\"><img alt=\"Baptiste\" class=\"image-hero image-hero-baptiste image-small\" src=\"/assets/images/heroes/baptiste.png?v=b7dfc34\"/><div class=\"corner\"><img alt=\"Support\" class=\"image-role image-inline\" src=\"/assets/images/roles/support.png?v=b7dfc34\"/></div></div></a></td>,\n",
       "  <td class=\"cell-medium r-none-mobile\"><span><a href=\"/heroes/baptiste\">Baptiste</a><small>Support</small></span></td>,\n",
       "  <td><span>2.93%</span><div class=\"bar\"><div class=\"segment segment-game\" style=\"width:26.22%\"></div></div></td>,\n",
       "  <td><span>47.89%</span><div class=\"bar\"><div class=\"segment segment-win\" style=\"width:83.58%\"></div></div></td>,\n",
       "  <td><span>2.37%</span><div class=\"bar\"><div class=\"segment segment-tie\" style=\"width:95.11%\"></div></div></td>,\n",
       "  <td><span>11.26%</span><div class=\"bar\"><div class=\"segment segment-fire\" style=\"width:74.88%\"></div></div></td>],\n",
       " [<td class=\"cell-icon-small\"><a href=\"/heroes/lucio\"><div class=\"image-with-corner\"><img alt=\"Lúcio\" class=\"image-hero image-hero-lucio image-small\" src=\"/assets/images/heroes/lucio.png?v=b7dfc34\"/><div class=\"corner\"><img alt=\"Support\" class=\"image-role image-inline\" src=\"/assets/images/roles/support.png?v=b7dfc34\"/></div></div></a></td>,\n",
       "  <td class=\"cell-medium r-none-mobile\"><span><a href=\"/heroes/lucio\">Lúcio</a><small>Support</small></span></td>,\n",
       "  <td><span>2.93%</span><div class=\"bar\"><div class=\"segment segment-game\" style=\"width:26.19%\"></div></div></td>,\n",
       "  <td><span>51.68%</span><div class=\"bar\"><div class=\"segment segment-win\" style=\"width:90.20%\"></div></div></td>,\n",
       "  <td><span>1.65%</span><div class=\"bar\"><div class=\"segment segment-tie\" style=\"width:66.11%\"></div></div></td>,\n",
       "  <td><span>11.21%</span><div class=\"bar\"><div class=\"segment segment-fire\" style=\"width:74.60%\"></div></div></td>],\n",
       " [<td class=\"cell-icon-small\"><a href=\"/heroes/winston\"><div class=\"image-with-corner\"><img alt=\"Winston\" class=\"image-hero image-hero-winston image-small\" src=\"/assets/images/heroes/winston.png?v=b7dfc34\"/><div class=\"corner\"><img alt=\"Tank\" class=\"image-role image-inline\" src=\"/assets/images/roles/tank.png?v=b7dfc34\"/></div></div></a></td>,\n",
       "  <td class=\"cell-medium r-none-mobile\"><span><a href=\"/heroes/winston\">Winston</a><small>Tank</small></span></td>,\n",
       "  <td><span>2.60%</span><div class=\"bar\"><div class=\"segment segment-game\" style=\"width:23.30%\"></div></div></td>,\n",
       "  <td><span>48.63%</span><div class=\"bar\"><div class=\"segment segment-win\" style=\"width:84.89%\"></div></div></td>,\n",
       "  <td><span>1.58%</span><div class=\"bar\"><div class=\"segment segment-tie\" style=\"width:63.28%\"></div></div></td>,\n",
       "  <td><span>5.81%</span><div class=\"bar\"><div class=\"segment segment-fire\" style=\"width:38.68%\"></div></div></td>],\n",
       " [<td class=\"cell-icon-small\"><a href=\"/heroes/junkrat\"><div class=\"image-with-corner\"><img alt=\"Junkrat\" class=\"image-hero image-hero-junkrat image-small\" src=\"/assets/images/heroes/junkrat.png?v=b7dfc34\"/><div class=\"corner\"><img alt=\"Defense\" class=\"image-role image-inline\" src=\"/assets/images/roles/defense.png?v=b7dfc34\"/></div></div></a></td>,\n",
       "  <td class=\"cell-medium r-none-mobile\"><span><a href=\"/heroes/junkrat\">Junkrat</a><small>Defense</small></span></td>,\n",
       "  <td><span>2.55%</span><div class=\"bar\"><div class=\"segment segment-game\" style=\"width:22.82%\"></div></div></td>,\n",
       "  <td><span>52.49%</span><div class=\"bar\"><div class=\"segment segment-win\" style=\"width:91.62%\"></div></div></td>,\n",
       "  <td><span>2.36%</span><div class=\"bar\"><div class=\"segment segment-tie\" style=\"width:94.89%\"></div></div></td>,\n",
       "  <td><span>11.12%</span><div class=\"bar\"><div class=\"segment segment-fire\" style=\"width:73.99%\"></div></div></td>],\n",
       " [<td class=\"cell-icon-small\"><a href=\"/heroes/wreckingball\"><div class=\"image-with-corner\"><img alt=\"Wrecking Ball\" class=\"image-hero image-hero-wreckingball image-small\" src=\"/assets/images/heroes/wreckingball.png?v=b7dfc34\"/><div class=\"corner\"><img alt=\"Tank\" class=\"image-role image-inline\" src=\"/assets/images/roles/tank.png?v=b7dfc34\"/></div></div></a></td>,\n",
       "  <td class=\"cell-medium r-none-mobile\"><span><a href=\"/heroes/wreckingball\">Wrecking Ball</a><small>Tank</small></span></td>,\n",
       "  <td><span>2.28%</span><div class=\"bar\"><div class=\"segment segment-game\" style=\"width:20.36%\"></div></div></td>,\n",
       "  <td><span>49.84%</span><div class=\"bar\"><div class=\"segment segment-win\" style=\"width:86.99%\"></div></div></td>,\n",
       "  <td><span>1.58%</span><div class=\"bar\"><div class=\"segment segment-tie\" style=\"width:63.37%\"></div></div></td>,\n",
       "  <td><span>2.75%</span><div class=\"bar\"><div class=\"segment segment-fire\" style=\"width:18.29%\"></div></div></td>],\n",
       " [<td class=\"cell-icon-small\"><a href=\"/heroes/orisa\"><div class=\"image-with-corner\"><img alt=\"Orisa\" class=\"image-hero image-hero-orisa image-small\" src=\"/assets/images/heroes/orisa.png?v=b7dfc34\"/><div class=\"corner\"><img alt=\"Tank\" class=\"image-role image-inline\" src=\"/assets/images/roles/tank.png?v=b7dfc34\"/></div></div></a></td>,\n",
       "  <td class=\"cell-medium r-none-mobile\"><span><a href=\"/heroes/orisa\">Orisa</a><small>Tank</small></span></td>,\n",
       "  <td><span>1.98%</span><div class=\"bar\"><div class=\"segment segment-game\" style=\"width:17.75%\"></div></div></td>,\n",
       "  <td><span>49.11%</span><div class=\"bar\"><div class=\"segment segment-win\" style=\"width:85.72%\"></div></div></td>,\n",
       "  <td><span>1.83%</span><div class=\"bar\"><div class=\"segment segment-tie\" style=\"width:73.49%\"></div></div></td>,\n",
       "  <td><span>5.76%</span><div class=\"bar\"><div class=\"segment segment-fire\" style=\"width:38.35%\"></div></div></td>],\n",
       " [<td class=\"cell-icon-small\"><a href=\"/heroes/hanzo\"><div class=\"image-with-corner\"><img alt=\"Hanzo\" class=\"image-hero image-hero-hanzo image-small\" src=\"/assets/images/heroes/hanzo.png?v=b7dfc34\"/><div class=\"corner\"><img alt=\"Defense\" class=\"image-role image-inline\" src=\"/assets/images/roles/defense.png?v=b7dfc34\"/></div></div></a></td>,\n",
       "  <td class=\"cell-medium r-none-mobile\"><span><a href=\"/heroes/hanzo\">Hanzo</a><small>Defense</small></span></td>,\n",
       "  <td><span>1.61%</span><div class=\"bar\"><div class=\"segment segment-game\" style=\"width:14.37%\"></div></div></td>,\n",
       "  <td><span>48.42%</span><div class=\"bar\"><div class=\"segment segment-win\" style=\"width:84.52%\"></div></div></td>,\n",
       "  <td><span>1.90%</span><div class=\"bar\"><div class=\"segment segment-tie\" style=\"width:76.28%\"></div></div></td>,\n",
       "  <td><span>10.44%</span><div class=\"bar\"><div class=\"segment segment-fire\" style=\"width:69.48%\"></div></div></td>],\n",
       " [<td class=\"cell-icon-small\"><a href=\"/heroes/pharah\"><div class=\"image-with-corner\"><img alt=\"Pharah\" class=\"image-hero image-hero-pharah image-small\" src=\"/assets/images/heroes/pharah.png?v=b7dfc34\"/><div class=\"corner\"><img alt=\"Offense\" class=\"image-role image-inline\" src=\"/assets/images/roles/offense.png?v=b7dfc34\"/></div></div></a></td>,\n",
       "  <td class=\"cell-medium r-none-mobile\"><span><a href=\"/heroes/pharah\">Pharah</a><small>Offense</small></span></td>,\n",
       "  <td><span>1.57%</span><div class=\"bar\"><div class=\"segment segment-game\" style=\"width:14.06%\"></div></div></td>,\n",
       "  <td><span>53.46%</span><div class=\"bar\"><div class=\"segment segment-win\" style=\"width:93.30%\"></div></div></td>,\n",
       "  <td><span>1.69%</span><div class=\"bar\"><div class=\"segment segment-tie\" style=\"width:67.88%\"></div></div></td>,\n",
       "  <td><span>14.08%</span><div class=\"bar\"><div class=\"segment segment-fire\" style=\"width:93.69%\"></div></div></td>],\n",
       " [<td class=\"cell-icon-small\"><a href=\"/heroes/widowmaker\"><div class=\"image-with-corner\"><img alt=\"Widowmaker\" class=\"image-hero image-hero-widowmaker image-small\" src=\"/assets/images/heroes/widowmaker.png?v=b7dfc34\"/><div class=\"corner\"><img alt=\"Defense\" class=\"image-role image-inline\" src=\"/assets/images/roles/defense.png?v=b7dfc34\"/></div></div></a></td>,\n",
       "  <td class=\"cell-medium r-none-mobile\"><span><a href=\"/heroes/widowmaker\">Widowmaker</a><small>Defense</small></span></td>,\n",
       "  <td><span>1.54%</span><div class=\"bar\"><div class=\"segment segment-game\" style=\"width:13.74%\"></div></div></td>,\n",
       "  <td><span>50.20%</span><div class=\"bar\"><div class=\"segment segment-win\" style=\"width:87.62%\"></div></div></td>,\n",
       "  <td><span>1.47%</span><div class=\"bar\"><div class=\"segment segment-tie\" style=\"width:59.17%\"></div></div></td>,\n",
       "  <td><span>6.52%</span><div class=\"bar\"><div class=\"segment segment-fire\" style=\"width:43.38%\"></div></div></td>],\n",
       " [<td class=\"cell-icon-small\"><a href=\"/heroes/soldier76\"><div class=\"image-with-corner\"><img alt=\"Soldier: 76\" class=\"image-hero image-hero-soldier76 image-small\" src=\"/assets/images/heroes/soldier76.png?v=b7dfc34\"/><div class=\"corner\"><img alt=\"Offense\" class=\"image-role image-inline\" src=\"/assets/images/roles/offense.png?v=b7dfc34\"/></div></div></a></td>,\n",
       "  <td class=\"cell-medium r-none-mobile\"><span><a href=\"/heroes/soldier76\">Soldier: 76</a><small>Offense</small></span></td>,\n",
       "  <td><span>1.50%</span><div class=\"bar\"><div class=\"segment segment-game\" style=\"width:13.40%\"></div></div></td>,\n",
       "  <td><span>48.93%</span><div class=\"bar\"><div class=\"segment segment-win\" style=\"width:85.41%\"></div></div></td>,\n",
       "  <td><span>1.67%</span><div class=\"bar\"><div class=\"segment segment-tie\" style=\"width:67.16%\"></div></div></td>,\n",
       "  <td><span>9.22%</span><div class=\"bar\"><div class=\"segment segment-fire\" style=\"width:61.33%\"></div></div></td>],\n",
       " [<td class=\"cell-icon-small\"><a href=\"/heroes/tracer\"><div class=\"image-with-corner\"><img alt=\"Tracer\" class=\"image-hero image-hero-tracer image-small\" src=\"/assets/images/heroes/tracer.png?v=b7dfc34\"/><div class=\"corner\"><img alt=\"Offense\" class=\"image-role image-inline\" src=\"/assets/images/roles/offense.png?v=b7dfc34\"/></div></div></a></td>,\n",
       "  <td class=\"cell-medium r-none-mobile\"><span><a href=\"/heroes/tracer\">Tracer</a><small>Offense</small></span></td>,\n",
       "  <td><span>1.48%</span><div class=\"bar\"><div class=\"segment segment-game\" style=\"width:13.20%\"></div></div></td>,\n",
       "  <td><span>48.66%</span><div class=\"bar\"><div class=\"segment segment-win\" style=\"width:84.94%\"></div></div></td>,\n",
       "  <td><span>1.36%</span><div class=\"bar\"><div class=\"segment segment-tie\" style=\"width:54.59%\"></div></div></td>,\n",
       "  <td><span>6.24%</span><div class=\"bar\"><div class=\"segment segment-fire\" style=\"width:41.50%\"></div></div></td>],\n",
       " [<td class=\"cell-icon-small\"><a href=\"/heroes/doomfist\"><div class=\"image-with-corner\"><img alt=\"Doomfist\" class=\"image-hero image-hero-doomfist image-small\" src=\"/assets/images/heroes/doomfist.png?v=b7dfc34\"/><div class=\"corner\"><img alt=\"Offense\" class=\"image-role image-inline\" src=\"/assets/images/roles/offense.png?v=b7dfc34\"/></div></div></a></td>,\n",
       "  <td class=\"cell-medium r-none-mobile\"><span><a href=\"/heroes/doomfist\">Doomfist</a><small>Offense</small></span></td>,\n",
       "  <td><span>1.47%</span><div class=\"bar\"><div class=\"segment segment-game\" style=\"width:13.16%\"></div></div></td>,\n",
       "  <td><span>52.06%</span><div class=\"bar\"><div class=\"segment segment-win\" style=\"width:90.87%\"></div></div></td>,\n",
       "  <td><span>1.59%</span><div class=\"bar\"><div class=\"segment segment-tie\" style=\"width:63.84%\"></div></div></td>,\n",
       "  <td><span>6.97%</span><div class=\"bar\"><div class=\"segment segment-fire\" style=\"width:46.37%\"></div></div></td>],\n",
       " [<td class=\"cell-icon-small\"><a href=\"/heroes/zenyatta\"><div class=\"image-with-corner\"><img alt=\"Zenyatta\" class=\"image-hero image-hero-zenyatta image-small\" src=\"/assets/images/heroes/zenyatta.png?v=b7dfc34\"/><div class=\"corner\"><img alt=\"Support\" class=\"image-role image-inline\" src=\"/assets/images/roles/support.png?v=b7dfc34\"/></div></div></a></td>,\n",
       "  <td class=\"cell-medium r-none-mobile\"><span><a href=\"/heroes/zenyatta\">Zenyatta</a><small>Support</small></span></td>,\n",
       "  <td><span>1.43%</span><div class=\"bar\"><div class=\"segment segment-game\" style=\"width:12.82%\"></div></div></td>,\n",
       "  <td><span>53.25%</span><div class=\"bar\"><div class=\"segment segment-win\" style=\"width:92.95%\"></div></div></td>,\n",
       "  <td><span>1.68%</span><div class=\"bar\"><div class=\"segment segment-tie\" style=\"width:67.48%\"></div></div></td>,\n",
       "  <td><span>7.51%</span><div class=\"bar\"><div class=\"segment segment-fire\" style=\"width:49.95%\"></div></div></td>],\n",
       " [<td class=\"cell-icon-small\"><a href=\"/heroes/dva\"><div class=\"image-with-corner\"><img alt=\"D.Va\" class=\"image-hero image-hero-dva image-small\" src=\"/assets/images/heroes/dva.png?v=b7dfc34\"/><div class=\"corner\"><img alt=\"Tank\" class=\"image-role image-inline\" src=\"/assets/images/roles/tank.png?v=b7dfc34\"/></div></div></a></td>,\n",
       "  <td class=\"cell-medium r-none-mobile\"><span><a href=\"/heroes/dva\">D.Va</a><small>Tank</small></span></td>,\n",
       "  <td><span>1.34%</span><div class=\"bar\"><div class=\"segment segment-game\" style=\"width:12.01%\"></div></div></td>,\n",
       "  <td><span>47.84%</span><div class=\"bar\"><div class=\"segment segment-win\" style=\"width:83.50%\"></div></div></td>,\n",
       "  <td><span>1.70%</span><div class=\"bar\"><div class=\"segment segment-tie\" style=\"width:68.10%\"></div></div></td>,\n",
       "  <td><span>6.48%</span><div class=\"bar\"><div class=\"segment segment-fire\" style=\"width:43.08%\"></div></div></td>],\n",
       " [<td class=\"cell-icon-small\"><a href=\"/heroes/reaper\"><div class=\"image-with-corner\"><img alt=\"Reaper\" class=\"image-hero image-hero-reaper image-small\" src=\"/assets/images/heroes/reaper.png?v=b7dfc34\"/><div class=\"corner\"><img alt=\"Offense\" class=\"image-role image-inline\" src=\"/assets/images/roles/offense.png?v=b7dfc34\"/></div></div></a></td>,\n",
       "  <td class=\"cell-medium r-none-mobile\"><span><a href=\"/heroes/reaper\">Reaper</a><small>Offense</small></span></td>,\n",
       "  <td><span>1.26%</span><div class=\"bar\"><div class=\"segment segment-game\" style=\"width:11.25%\"></div></div></td>,\n",
       "  <td><span>48.90%</span><div class=\"bar\"><div class=\"segment segment-win\" style=\"width:85.36%\"></div></div></td>,\n",
       "  <td><span>1.54%</span><div class=\"bar\"><div class=\"segment segment-tie\" style=\"width:61.99%\"></div></div></td>,\n",
       "  <td><span>12.74%</span><div class=\"bar\"><div class=\"segment segment-fire\" style=\"width:84.73%\"></div></div></td>],\n",
       " [<td class=\"cell-icon-small\"><a href=\"/heroes/torbjorn\"><div class=\"image-with-corner\"><img alt=\"Torbjörn\" class=\"image-hero image-hero-torbjorn image-small\" src=\"/assets/images/heroes/torbjorn.png?v=b7dfc34\"/><div class=\"corner\"><img alt=\"Defense\" class=\"image-role image-inline\" src=\"/assets/images/roles/defense.png?v=b7dfc34\"/></div></div></a></td>,\n",
       "  <td class=\"cell-medium r-none-mobile\"><span><a href=\"/heroes/torbjorn\">Torbjörn</a><small>Defense</small></span></td>,\n",
       "  <td><span>0.93%</span><div class=\"bar\"><div class=\"segment segment-game\" style=\"width:8.34%\"></div></div></td>,\n",
       "  <td><span>56.70%</span><div class=\"bar\"><div class=\"segment segment-win\" style=\"width:98.97%\"></div></div></td>,\n",
       "  <td><span>2.31%</span><div class=\"bar\"><div class=\"segment segment-tie\" style=\"width:92.65%\"></div></div></td>,\n",
       "  <td><span>7.09%</span><div class=\"bar\"><div class=\"segment segment-fire\" style=\"width:47.14%\"></div></div></td>],\n",
       " [<td class=\"cell-icon-small\"><a href=\"/heroes/echo\"><div class=\"image-with-corner\"><img alt=\"Echo\" class=\"image-hero image-hero-echo image-small\" src=\"/assets/images/heroes/echo.png?v=b7dfc34\"/><div class=\"corner\"><img alt=\"Offense\" class=\"image-role image-inline\" src=\"/assets/images/roles/offense.png?v=b7dfc34\"/></div></div></a></td>,\n",
       "  <td class=\"cell-medium r-none-mobile\"><span><a href=\"/heroes/echo\">Echo</a><small>Offense</small></span></td>,\n",
       "  <td><span>0.69%</span><div class=\"bar\"><div class=\"segment segment-game\" style=\"width:6.17%\"></div></div></td>,\n",
       "  <td><span>49.25%</span><div class=\"bar\"><div class=\"segment segment-win\" style=\"width:85.97%\"></div></div></td>,\n",
       "  <td><span>1.80%</span><div class=\"bar\"><div class=\"segment segment-tie\" style=\"width:72.05%\"></div></div></td>,\n",
       "  <td><span>6.90%</span><div class=\"bar\"><div class=\"segment segment-fire\" style=\"width:45.89%\"></div></div></td>],\n",
       " [<td class=\"cell-icon-small\"><a href=\"/heroes/sombra\"><div class=\"image-with-corner\"><img alt=\"Sombra\" class=\"image-hero image-hero-sombra image-small\" src=\"/assets/images/heroes/sombra.png?v=b7dfc34\"/><div class=\"corner\"><img alt=\"Offense\" class=\"image-role image-inline\" src=\"/assets/images/roles/offense.png?v=b7dfc34\"/></div></div></a></td>,\n",
       "  <td class=\"cell-medium r-none-mobile\"><span><a href=\"/heroes/sombra\">Sombra</a><small>Offense</small></span></td>,\n",
       "  <td><span>0.63%</span><div class=\"bar\"><div class=\"segment segment-game\" style=\"width:5.64%\"></div></div></td>,\n",
       "  <td><span>47.12%</span><div class=\"bar\"><div class=\"segment segment-win\" style=\"width:82.24%\"></div></div></td>,\n",
       "  <td><span>1.77%</span><div class=\"bar\"><div class=\"segment segment-tie\" style=\"width:70.99%\"></div></div></td>,\n",
       "  <td><span>11.59%</span><div class=\"bar\"><div class=\"segment segment-fire\" style=\"width:77.13%\"></div></div></td>],\n",
       " [<td class=\"cell-icon-small\"><a href=\"/heroes/symmetra\"><div class=\"image-with-corner\"><img alt=\"Symmetra\" class=\"image-hero image-hero-symmetra image-small\" src=\"/assets/images/heroes/symmetra.png?v=b7dfc34\"/><div class=\"corner\"><img alt=\"Support\" class=\"image-role image-inline\" src=\"/assets/images/roles/support.png?v=b7dfc34\"/></div></div></a></td>,\n",
       "  <td class=\"cell-medium r-none-mobile\"><span><a href=\"/heroes/symmetra\">Symmetra</a><small>Support</small></span></td>,\n",
       "  <td><span>0.59%</span><div class=\"bar\"><div class=\"segment segment-game\" style=\"width:5.32%\"></div></div></td>,\n",
       "  <td><span>57.29%</span><div class=\"bar\"><div class=\"segment segment-win\" style=\"width:100.00%\"></div></div></td>,\n",
       "  <td><span>2.49%</span><div class=\"bar\"><div class=\"segment segment-tie\" style=\"width:100.00%\"></div></div></td>,\n",
       "  <td><span>8.37%</span><div class=\"bar\"><div class=\"segment segment-fire\" style=\"width:55.69%\"></div></div></td>],\n",
       " [<td class=\"cell-icon-small\"><a href=\"/heroes/mei\"><div class=\"image-with-corner\"><img alt=\"Mei\" class=\"image-hero image-hero-mei image-small\" src=\"/assets/images/heroes/mei.png?v=b7dfc34\"/><div class=\"corner\"><img alt=\"Defense\" class=\"image-role image-inline\" src=\"/assets/images/roles/defense.png?v=b7dfc34\"/></div></div></a></td>,\n",
       "  <td class=\"cell-medium r-none-mobile\"><span><a href=\"/heroes/mei\">Mei</a><small>Defense</small></span></td>,\n",
       "  <td><span>0.46%</span><div class=\"bar\"><div class=\"segment segment-game\" style=\"width:4.08%\"></div></div></td>,\n",
       "  <td><span>47.73%</span><div class=\"bar\"><div class=\"segment segment-win\" style=\"width:83.31%\"></div></div></td>,\n",
       "  <td><span>2.13%</span><div class=\"bar\"><div class=\"segment segment-tie\" style=\"width:85.35%\"></div></div></td>,\n",
       "  <td><span>6.80%</span><div class=\"bar\"><div class=\"segment segment-fire\" style=\"width:45.23%\"></div></div></td>],\n",
       " [<td class=\"cell-icon-small\"><a href=\"/heroes/bastion\"><div class=\"image-with-corner\"><img alt=\"Bastion\" class=\"image-hero image-hero-bastion image-small\" src=\"/assets/images/heroes/bastion.png?v=b7dfc34\"/><div class=\"corner\"><img alt=\"Defense\" class=\"image-role image-inline\" src=\"/assets/images/roles/defense.png?v=b7dfc34\"/></div></div></a></td>,\n",
       "  <td class=\"cell-medium r-none-mobile\"><span><a href=\"/heroes/bastion\">Bastion</a><small>Defense</small></span></td>,\n",
       "  <td><span>0.26%</span><div class=\"bar\"><div class=\"segment segment-game\" style=\"width:2.34%\"></div></div></td>,\n",
       "  <td><span>52.45%</span><div class=\"bar\"><div class=\"segment segment-win\" style=\"width:91.56%\"></div></div></td>,\n",
       "  <td><span>2.17%</span><div class=\"bar\"><div class=\"segment segment-tie\" style=\"width:87.21%\"></div></div></td>,\n",
       "  <td><span>15.03%</span><div class=\"bar\"><div class=\"segment segment-fire\" style=\"width:100.00%\"></div></div></td>]]"
      ]
     },
     "execution_count": 248,
     "metadata": {},
     "output_type": "execute_result"
    }
   ],
   "source": [
    "td_complete"
   ]
  },
  {
   "cell_type": "code",
   "execution_count": 250,
   "metadata": {},
   "outputs": [],
   "source": [
    "td_text = [[e.text for e in i] for i in td_complete]"
   ]
  },
  {
   "cell_type": "code",
   "execution_count": 251,
   "metadata": {},
   "outputs": [
    {
     "data": {
      "text/plain": [
       "[['', 'AnaSupport', '11.18%', '50.07%', '2.01%', '9.34%'],\n",
       " ['', 'ReinhardtTank', '10.32%', '51.52%', '2.24%', '6.71%'],\n",
       " ['', 'ZaryaTank', '7.45%', '52.62%', '2.13%', '12.00%'],\n",
       " ['', 'MoiraSupport', '6.89%', '49.93%', '2.09%', '9.55%'],\n",
       " ['', 'MercySupport', '6.34%', '51.84%', '2.09%', '2.23%'],\n",
       " ['', 'GenjiOffense', '6.11%', '50.66%', '1.86%', '11.82%'],\n",
       " ['', 'AsheOffense', '4.84%', '53.09%', '1.93%', '9.37%'],\n",
       " ['', 'SigmaTank', '4.41%', '50.80%', '2.03%', '12.07%'],\n",
       " ['', 'McCreeOffense', '4.04%', '46.45%', '1.57%', '7.98%'],\n",
       " ['', 'RoadhogTank', '3.33%', '49.71%', '1.58%', '9.18%'],\n",
       " ['', 'BrigitteSupport', '3.07%', '53.84%', '1.80%', '6.43%'],\n",
       " ['', 'BaptisteSupport', '2.93%', '47.89%', '2.37%', '11.26%'],\n",
       " ['', 'LúcioSupport', '2.93%', '51.68%', '1.65%', '11.21%'],\n",
       " ['', 'WinstonTank', '2.60%', '48.63%', '1.58%', '5.81%'],\n",
       " ['', 'JunkratDefense', '2.55%', '52.49%', '2.36%', '11.12%'],\n",
       " ['', 'Wrecking BallTank', '2.28%', '49.84%', '1.58%', '2.75%'],\n",
       " ['', 'OrisaTank', '1.98%', '49.11%', '1.83%', '5.76%'],\n",
       " ['', 'HanzoDefense', '1.61%', '48.42%', '1.90%', '10.44%'],\n",
       " ['', 'PharahOffense', '1.57%', '53.46%', '1.69%', '14.08%'],\n",
       " ['', 'WidowmakerDefense', '1.54%', '50.20%', '1.47%', '6.52%'],\n",
       " ['', 'Soldier: 76Offense', '1.50%', '48.93%', '1.67%', '9.22%'],\n",
       " ['', 'TracerOffense', '1.48%', '48.66%', '1.36%', '6.24%'],\n",
       " ['', 'DoomfistOffense', '1.47%', '52.06%', '1.59%', '6.97%'],\n",
       " ['', 'ZenyattaSupport', '1.43%', '53.25%', '1.68%', '7.51%'],\n",
       " ['', 'D.VaTank', '1.34%', '47.84%', '1.70%', '6.48%'],\n",
       " ['', 'ReaperOffense', '1.26%', '48.90%', '1.54%', '12.74%'],\n",
       " ['', 'TorbjörnDefense', '0.93%', '56.70%', '2.31%', '7.09%'],\n",
       " ['', 'EchoOffense', '0.69%', '49.25%', '1.80%', '6.90%'],\n",
       " ['', 'SombraOffense', '0.63%', '47.12%', '1.77%', '11.59%'],\n",
       " ['', 'SymmetraSupport', '0.59%', '57.29%', '2.49%', '8.37%'],\n",
       " ['', 'MeiDefense', '0.46%', '47.73%', '2.13%', '6.80%'],\n",
       " ['', 'BastionDefense', '0.26%', '52.45%', '2.17%', '15.03%']]"
      ]
     },
     "execution_count": 251,
     "metadata": {},
     "output_type": "execute_result"
    }
   ],
   "source": [
    "td_text"
   ]
  },
  {
   "cell_type": "code",
   "execution_count": 238,
   "metadata": {},
   "outputs": [
    {
     "data": {
      "text/plain": [
       "''"
      ]
     },
     "execution_count": 238,
     "metadata": {},
     "output_type": "execute_result"
    }
   ],
   "source": [
    "td_text[0].pop(0)"
   ]
  },
  {
   "cell_type": "code",
   "execution_count": 252,
   "metadata": {},
   "outputs": [],
   "source": [
    "td_vacios = [i.pop(0) for i in td_text]"
   ]
  },
  {
   "cell_type": "code",
   "execution_count": 253,
   "metadata": {
    "scrolled": true
   },
   "outputs": [
    {
     "data": {
      "text/plain": [
       "['',\n",
       " '',\n",
       " '',\n",
       " '',\n",
       " '',\n",
       " '',\n",
       " '',\n",
       " '',\n",
       " '',\n",
       " '',\n",
       " '',\n",
       " '',\n",
       " '',\n",
       " '',\n",
       " '',\n",
       " '',\n",
       " '',\n",
       " '',\n",
       " '',\n",
       " '',\n",
       " '',\n",
       " '',\n",
       " '',\n",
       " '',\n",
       " '',\n",
       " '',\n",
       " '',\n",
       " '',\n",
       " '',\n",
       " '',\n",
       " '',\n",
       " '']"
      ]
     },
     "execution_count": 253,
     "metadata": {},
     "output_type": "execute_result"
    }
   ],
   "source": [
    "td_vacios"
   ]
  },
  {
   "cell_type": "code",
   "execution_count": 254,
   "metadata": {},
   "outputs": [
    {
     "data": {
      "text/plain": [
       "[['AnaSupport', '11.18%', '50.07%', '2.01%', '9.34%'],\n",
       " ['ReinhardtTank', '10.32%', '51.52%', '2.24%', '6.71%'],\n",
       " ['ZaryaTank', '7.45%', '52.62%', '2.13%', '12.00%'],\n",
       " ['MoiraSupport', '6.89%', '49.93%', '2.09%', '9.55%'],\n",
       " ['MercySupport', '6.34%', '51.84%', '2.09%', '2.23%'],\n",
       " ['GenjiOffense', '6.11%', '50.66%', '1.86%', '11.82%'],\n",
       " ['AsheOffense', '4.84%', '53.09%', '1.93%', '9.37%'],\n",
       " ['SigmaTank', '4.41%', '50.80%', '2.03%', '12.07%'],\n",
       " ['McCreeOffense', '4.04%', '46.45%', '1.57%', '7.98%'],\n",
       " ['RoadhogTank', '3.33%', '49.71%', '1.58%', '9.18%'],\n",
       " ['BrigitteSupport', '3.07%', '53.84%', '1.80%', '6.43%'],\n",
       " ['BaptisteSupport', '2.93%', '47.89%', '2.37%', '11.26%'],\n",
       " ['LúcioSupport', '2.93%', '51.68%', '1.65%', '11.21%'],\n",
       " ['WinstonTank', '2.60%', '48.63%', '1.58%', '5.81%'],\n",
       " ['JunkratDefense', '2.55%', '52.49%', '2.36%', '11.12%'],\n",
       " ['Wrecking BallTank', '2.28%', '49.84%', '1.58%', '2.75%'],\n",
       " ['OrisaTank', '1.98%', '49.11%', '1.83%', '5.76%'],\n",
       " ['HanzoDefense', '1.61%', '48.42%', '1.90%', '10.44%'],\n",
       " ['PharahOffense', '1.57%', '53.46%', '1.69%', '14.08%'],\n",
       " ['WidowmakerDefense', '1.54%', '50.20%', '1.47%', '6.52%'],\n",
       " ['Soldier: 76Offense', '1.50%', '48.93%', '1.67%', '9.22%'],\n",
       " ['TracerOffense', '1.48%', '48.66%', '1.36%', '6.24%'],\n",
       " ['DoomfistOffense', '1.47%', '52.06%', '1.59%', '6.97%'],\n",
       " ['ZenyattaSupport', '1.43%', '53.25%', '1.68%', '7.51%'],\n",
       " ['D.VaTank', '1.34%', '47.84%', '1.70%', '6.48%'],\n",
       " ['ReaperOffense', '1.26%', '48.90%', '1.54%', '12.74%'],\n",
       " ['TorbjörnDefense', '0.93%', '56.70%', '2.31%', '7.09%'],\n",
       " ['EchoOffense', '0.69%', '49.25%', '1.80%', '6.90%'],\n",
       " ['SombraOffense', '0.63%', '47.12%', '1.77%', '11.59%'],\n",
       " ['SymmetraSupport', '0.59%', '57.29%', '2.49%', '8.37%'],\n",
       " ['MeiDefense', '0.46%', '47.73%', '2.13%', '6.80%'],\n",
       " ['BastionDefense', '0.26%', '52.45%', '2.17%', '15.03%']]"
      ]
     },
     "execution_count": 254,
     "metadata": {},
     "output_type": "execute_result"
    }
   ],
   "source": [
    "td_text"
   ]
  },
  {
   "cell_type": "code",
   "execution_count": 255,
   "metadata": {},
   "outputs": [
    {
     "data": {
      "text/plain": [
       "<table class=\"table-data table-sortable\"><thead><tr><th class=\"cell-icon-small\"></th><th class=\"cell-medium r-none-mobile\"><a class=\"sortable\">Hero<!-- --> <!-- --> </a></th><th><a class=\"sortable sorted\">Pick Rate<!-- --> <!-- --> <i class=\"fa fa-caret-down\"></i></a></th><th><a class=\"sortable\">Win Rate<!-- --> <!-- --> </a></th><th><a class=\"sortable\">Tie Rate<!-- --> <!-- --> </a></th><th><a class=\"sortable\">On Fire<!-- --> <!-- --> </a></th></tr></thead><tbody><tr><td class=\"cell-icon-small\"><a href=\"/heroes/ana\"><div class=\"image-with-corner\"><img alt=\"Ana\" class=\"image-hero image-hero-ana image-small\" src=\"/assets/images/heroes/ana.png?v=b7dfc34\"/><div class=\"corner\"><img alt=\"Support\" class=\"image-role image-inline\" src=\"/assets/images/roles/support.png?v=b7dfc34\"/></div></div></a></td><td class=\"cell-medium r-none-mobile\"><span><a href=\"/heroes/ana\">Ana</a><small>Support</small></span></td><td><span>11.18%</span><div class=\"bar\"><div class=\"segment segment-game\" style=\"width:100.00%\"></div></div></td><td><span>50.07%</span><div class=\"bar\"><div class=\"segment segment-win\" style=\"width:87.39%\"></div></div></td><td><span>2.01%</span><div class=\"bar\"><div class=\"segment segment-tie\" style=\"width:80.69%\"></div></div></td><td><span>9.34%</span><div class=\"bar\"><div class=\"segment segment-fire\" style=\"width:62.12%\"></div></div></td></tr><tr><td class=\"cell-icon-small\"><a href=\"/heroes/reinhardt\"><div class=\"image-with-corner\"><img alt=\"Reinhardt\" class=\"image-hero image-hero-reinhardt image-small\" src=\"/assets/images/heroes/reinhardt.png?v=b7dfc34\"/><div class=\"corner\"><img alt=\"Tank\" class=\"image-role image-inline\" src=\"/assets/images/roles/tank.png?v=b7dfc34\"/></div></div></a></td><td class=\"cell-medium r-none-mobile\"><span><a href=\"/heroes/reinhardt\">Reinhardt</a><small>Tank</small></span></td><td><span>10.32%</span><div class=\"bar\"><div class=\"segment segment-game\" style=\"width:92.28%\"></div></div></td><td><span>51.52%</span><div class=\"bar\"><div class=\"segment segment-win\" style=\"width:89.92%\"></div></div></td><td><span>2.24%</span><div class=\"bar\"><div class=\"segment segment-tie\" style=\"width:89.92%\"></div></div></td><td><span>6.71%</span><div class=\"bar\"><div class=\"segment segment-fire\" style=\"width:44.65%\"></div></div></td></tr><tr><td class=\"cell-icon-small\"><a href=\"/heroes/zarya\"><div class=\"image-with-corner\"><img alt=\"Zarya\" class=\"image-hero image-hero-zarya image-small\" src=\"/assets/images/heroes/zarya.png?v=b7dfc34\"/><div class=\"corner\"><img alt=\"Tank\" class=\"image-role image-inline\" src=\"/assets/images/roles/tank.png?v=b7dfc34\"/></div></div></a></td><td class=\"cell-medium r-none-mobile\"><span><a href=\"/heroes/zarya\">Zarya</a><small>Tank</small></span></td><td><span>7.45%</span><div class=\"bar\"><div class=\"segment segment-game\" style=\"width:66.69%\"></div></div></td><td><span>52.62%</span><div class=\"bar\"><div class=\"segment segment-win\" style=\"width:91.84%\"></div></div></td><td><span>2.13%</span><div class=\"bar\"><div class=\"segment segment-tie\" style=\"width:85.54%\"></div></div></td><td><span>12.00%</span><div class=\"bar\"><div class=\"segment segment-fire\" style=\"width:79.84%\"></div></div></td></tr><tr><td class=\"cell-icon-small\"><a href=\"/heroes/moira\"><div class=\"image-with-corner\"><img alt=\"Moira\" class=\"image-hero image-hero-moira image-small\" src=\"/assets/images/heroes/moira.png?v=b7dfc34\"/><div class=\"corner\"><img alt=\"Support\" class=\"image-role image-inline\" src=\"/assets/images/roles/support.png?v=b7dfc34\"/></div></div></a></td><td class=\"cell-medium r-none-mobile\"><span><a href=\"/heroes/moira\">Moira</a><small>Support</small></span></td><td><span>6.89%</span><div class=\"bar\"><div class=\"segment segment-game\" style=\"width:61.62%\"></div></div></td><td><span>49.93%</span><div class=\"bar\"><div class=\"segment segment-win\" style=\"width:87.14%\"></div></div></td><td><span>2.09%</span><div class=\"bar\"><div class=\"segment segment-tie\" style=\"width:83.97%\"></div></div></td><td><span>9.55%</span><div class=\"bar\"><div class=\"segment segment-fire\" style=\"width:63.54%\"></div></div></td></tr><tr><td class=\"cell-icon-small\"><a href=\"/heroes/mercy\"><div class=\"image-with-corner\"><img alt=\"Mercy\" class=\"image-hero image-hero-mercy image-small\" src=\"/assets/images/heroes/mercy.png?v=b7dfc34\"/><div class=\"corner\"><img alt=\"Support\" class=\"image-role image-inline\" src=\"/assets/images/roles/support.png?v=b7dfc34\"/></div></div></a></td><td class=\"cell-medium r-none-mobile\"><span><a href=\"/heroes/mercy\">Mercy</a><small>Support</small></span></td><td><span>6.34%</span><div class=\"bar\"><div class=\"segment segment-game\" style=\"width:56.69%\"></div></div></td><td><span>51.84%</span><div class=\"bar\"><div class=\"segment segment-win\" style=\"width:90.48%\"></div></div></td><td><span>2.09%</span><div class=\"bar\"><div class=\"segment segment-tie\" style=\"width:83.67%\"></div></div></td><td><span>2.23%</span><div class=\"bar\"><div class=\"segment segment-fire\" style=\"width:14.81%\"></div></div></td></tr><tr><td class=\"cell-icon-small\"><a href=\"/heroes/genji\"><div class=\"image-with-corner\"><img alt=\"Genji\" class=\"image-hero image-hero-genji image-small\" src=\"/assets/images/heroes/genji.png?v=b7dfc34\"/><div class=\"corner\"><img alt=\"Offense\" class=\"image-role image-inline\" src=\"/assets/images/roles/offense.png?v=b7dfc34\"/></div></div></a></td><td class=\"cell-medium r-none-mobile\"><span><a href=\"/heroes/genji\">Genji</a><small>Offense</small></span></td><td><span>6.11%</span><div class=\"bar\"><div class=\"segment segment-game\" style=\"width:54.65%\"></div></div></td><td><span>50.66%</span><div class=\"bar\"><div class=\"segment segment-win\" style=\"width:88.43%\"></div></div></td><td><span>1.86%</span><div class=\"bar\"><div class=\"segment segment-tie\" style=\"width:74.48%\"></div></div></td><td><span>11.82%</span><div class=\"bar\"><div class=\"segment segment-fire\" style=\"width:78.64%\"></div></div></td></tr><tr><td class=\"cell-icon-small\"><a href=\"/heroes/ashe\"><div class=\"image-with-corner\"><img alt=\"Ashe\" class=\"image-hero image-hero-ashe image-small\" src=\"/assets/images/heroes/ashe.png?v=b7dfc34\"/><div class=\"corner\"><img alt=\"Offense\" class=\"image-role image-inline\" src=\"/assets/images/roles/offense.png?v=b7dfc34\"/></div></div></a></td><td class=\"cell-medium r-none-mobile\"><span><a href=\"/heroes/ashe\">Ashe</a><small>Offense</small></span></td><td><span>4.84%</span><div class=\"bar\"><div class=\"segment segment-game\" style=\"width:43.28%\"></div></div></td><td><span>53.09%</span><div class=\"bar\"><div class=\"segment segment-win\" style=\"width:92.66%\"></div></div></td><td><span>1.93%</span><div class=\"bar\"><div class=\"segment segment-tie\" style=\"width:77.29%\"></div></div></td><td><span>9.37%</span><div class=\"bar\"><div class=\"segment segment-fire\" style=\"width:62.31%\"></div></div></td></tr><tr><td class=\"cell-icon-small\"><a href=\"/heroes/sigma\"><div class=\"image-with-corner\"><img alt=\"Sigma\" class=\"image-hero image-hero-sigma image-small\" src=\"/assets/images/heroes/sigma.png?v=b7dfc34\"/><div class=\"corner\"><img alt=\"Tank\" class=\"image-role image-inline\" src=\"/assets/images/roles/tank.png?v=b7dfc34\"/></div></div></a></td><td class=\"cell-medium r-none-mobile\"><span><a href=\"/heroes/sigma\">Sigma</a><small>Tank</small></span></td><td><span>4.41%</span><div class=\"bar\"><div class=\"segment segment-game\" style=\"width:39.47%\"></div></div></td><td><span>50.80%</span><div class=\"bar\"><div class=\"segment segment-win\" style=\"width:88.67%\"></div></div></td><td><span>2.03%</span><div class=\"bar\"><div class=\"segment segment-tie\" style=\"width:81.61%\"></div></div></td><td><span>12.07%</span><div class=\"bar\"><div class=\"segment segment-fire\" style=\"width:80.27%\"></div></div></td></tr><tr><td class=\"cell-icon-small\"><a href=\"/heroes/mccree\"><div class=\"image-with-corner\"><img alt=\"McCree\" class=\"image-hero image-hero-mccree image-small\" src=\"/assets/images/heroes/mccree.png?v=b7dfc34\"/><div class=\"corner\"><img alt=\"Offense\" class=\"image-role image-inline\" src=\"/assets/images/roles/offense.png?v=b7dfc34\"/></div></div></a></td><td class=\"cell-medium r-none-mobile\"><span><a href=\"/heroes/mccree\">McCree</a><small>Offense</small></span></td><td><span>4.04%</span><div class=\"bar\"><div class=\"segment segment-game\" style=\"width:36.13%\"></div></div></td><td><span>46.45%</span><div class=\"bar\"><div class=\"segment segment-win\" style=\"width:81.07%\"></div></div></td><td><span>1.57%</span><div class=\"bar\"><div class=\"segment segment-tie\" style=\"width:63.09%\"></div></div></td><td><span>7.98%</span><div class=\"bar\"><div class=\"segment segment-fire\" style=\"width:53.10%\"></div></div></td></tr><tr><td class=\"cell-icon-small\"><a href=\"/heroes/roadhog\"><div class=\"image-with-corner\"><img alt=\"Roadhog\" class=\"image-hero image-hero-roadhog image-small\" src=\"/assets/images/heroes/roadhog.png?v=b7dfc34\"/><div class=\"corner\"><img alt=\"Tank\" class=\"image-role image-inline\" src=\"/assets/images/roles/tank.png?v=b7dfc34\"/></div></div></a></td><td class=\"cell-medium r-none-mobile\"><span><a href=\"/heroes/roadhog\">Roadhog</a><small>Tank</small></span></td><td><span>3.33%</span><div class=\"bar\"><div class=\"segment segment-game\" style=\"width:29.75%\"></div></div></td><td><span>49.71%</span><div class=\"bar\"><div class=\"segment segment-win\" style=\"width:86.76%\"></div></div></td><td><span>1.58%</span><div class=\"bar\"><div class=\"segment segment-tie\" style=\"width:63.40%\"></div></div></td><td><span>9.18%</span><div class=\"bar\"><div class=\"segment segment-fire\" style=\"width:61.07%\"></div></div></td></tr><tr><td class=\"cell-icon-small\"><a href=\"/heroes/brigitte\"><div class=\"image-with-corner\"><img alt=\"Brigitte\" class=\"image-hero image-hero-brigitte image-small\" src=\"/assets/images/heroes/brigitte.png?v=b7dfc34\"/><div class=\"corner\"><img alt=\"Support\" class=\"image-role image-inline\" src=\"/assets/images/roles/support.png?v=b7dfc34\"/></div></div></a></td><td class=\"cell-medium r-none-mobile\"><span><a href=\"/heroes/brigitte\">Brigitte</a><small>Support</small></span></td><td><span>3.07%</span><div class=\"bar\"><div class=\"segment segment-game\" style=\"width:27.45%\"></div></div></td><td><span>53.84%</span><div class=\"bar\"><div class=\"segment segment-win\" style=\"width:93.98%\"></div></div></td><td><span>1.80%</span><div class=\"bar\"><div class=\"segment segment-tie\" style=\"width:72.16%\"></div></div></td><td><span>6.43%</span><div class=\"bar\"><div class=\"segment segment-fire\" style=\"width:42.78%\"></div></div></td></tr><tr><td class=\"cell-icon-small\"><a href=\"/heroes/baptiste\"><div class=\"image-with-corner\"><img alt=\"Baptiste\" class=\"image-hero image-hero-baptiste image-small\" src=\"/assets/images/heroes/baptiste.png?v=b7dfc34\"/><div class=\"corner\"><img alt=\"Support\" class=\"image-role image-inline\" src=\"/assets/images/roles/support.png?v=b7dfc34\"/></div></div></a></td><td class=\"cell-medium r-none-mobile\"><span><a href=\"/heroes/baptiste\">Baptiste</a><small>Support</small></span></td><td><span>2.93%</span><div class=\"bar\"><div class=\"segment segment-game\" style=\"width:26.22%\"></div></div></td><td><span>47.89%</span><div class=\"bar\"><div class=\"segment segment-win\" style=\"width:83.58%\"></div></div></td><td><span>2.37%</span><div class=\"bar\"><div class=\"segment segment-tie\" style=\"width:95.11%\"></div></div></td><td><span>11.26%</span><div class=\"bar\"><div class=\"segment segment-fire\" style=\"width:74.88%\"></div></div></td></tr><tr><td class=\"cell-icon-small\"><a href=\"/heroes/lucio\"><div class=\"image-with-corner\"><img alt=\"Lúcio\" class=\"image-hero image-hero-lucio image-small\" src=\"/assets/images/heroes/lucio.png?v=b7dfc34\"/><div class=\"corner\"><img alt=\"Support\" class=\"image-role image-inline\" src=\"/assets/images/roles/support.png?v=b7dfc34\"/></div></div></a></td><td class=\"cell-medium r-none-mobile\"><span><a href=\"/heroes/lucio\">Lúcio</a><small>Support</small></span></td><td><span>2.93%</span><div class=\"bar\"><div class=\"segment segment-game\" style=\"width:26.19%\"></div></div></td><td><span>51.68%</span><div class=\"bar\"><div class=\"segment segment-win\" style=\"width:90.20%\"></div></div></td><td><span>1.65%</span><div class=\"bar\"><div class=\"segment segment-tie\" style=\"width:66.11%\"></div></div></td><td><span>11.21%</span><div class=\"bar\"><div class=\"segment segment-fire\" style=\"width:74.60%\"></div></div></td></tr><tr><td class=\"cell-icon-small\"><a href=\"/heroes/winston\"><div class=\"image-with-corner\"><img alt=\"Winston\" class=\"image-hero image-hero-winston image-small\" src=\"/assets/images/heroes/winston.png?v=b7dfc34\"/><div class=\"corner\"><img alt=\"Tank\" class=\"image-role image-inline\" src=\"/assets/images/roles/tank.png?v=b7dfc34\"/></div></div></a></td><td class=\"cell-medium r-none-mobile\"><span><a href=\"/heroes/winston\">Winston</a><small>Tank</small></span></td><td><span>2.60%</span><div class=\"bar\"><div class=\"segment segment-game\" style=\"width:23.30%\"></div></div></td><td><span>48.63%</span><div class=\"bar\"><div class=\"segment segment-win\" style=\"width:84.89%\"></div></div></td><td><span>1.58%</span><div class=\"bar\"><div class=\"segment segment-tie\" style=\"width:63.28%\"></div></div></td><td><span>5.81%</span><div class=\"bar\"><div class=\"segment segment-fire\" style=\"width:38.68%\"></div></div></td></tr><tr><td class=\"cell-icon-small\"><a href=\"/heroes/junkrat\"><div class=\"image-with-corner\"><img alt=\"Junkrat\" class=\"image-hero image-hero-junkrat image-small\" src=\"/assets/images/heroes/junkrat.png?v=b7dfc34\"/><div class=\"corner\"><img alt=\"Defense\" class=\"image-role image-inline\" src=\"/assets/images/roles/defense.png?v=b7dfc34\"/></div></div></a></td><td class=\"cell-medium r-none-mobile\"><span><a href=\"/heroes/junkrat\">Junkrat</a><small>Defense</small></span></td><td><span>2.55%</span><div class=\"bar\"><div class=\"segment segment-game\" style=\"width:22.82%\"></div></div></td><td><span>52.49%</span><div class=\"bar\"><div class=\"segment segment-win\" style=\"width:91.62%\"></div></div></td><td><span>2.36%</span><div class=\"bar\"><div class=\"segment segment-tie\" style=\"width:94.89%\"></div></div></td><td><span>11.12%</span><div class=\"bar\"><div class=\"segment segment-fire\" style=\"width:73.99%\"></div></div></td></tr><tr><td class=\"cell-icon-small\"><a href=\"/heroes/wreckingball\"><div class=\"image-with-corner\"><img alt=\"Wrecking Ball\" class=\"image-hero image-hero-wreckingball image-small\" src=\"/assets/images/heroes/wreckingball.png?v=b7dfc34\"/><div class=\"corner\"><img alt=\"Tank\" class=\"image-role image-inline\" src=\"/assets/images/roles/tank.png?v=b7dfc34\"/></div></div></a></td><td class=\"cell-medium r-none-mobile\"><span><a href=\"/heroes/wreckingball\">Wrecking Ball</a><small>Tank</small></span></td><td><span>2.28%</span><div class=\"bar\"><div class=\"segment segment-game\" style=\"width:20.36%\"></div></div></td><td><span>49.84%</span><div class=\"bar\"><div class=\"segment segment-win\" style=\"width:86.99%\"></div></div></td><td><span>1.58%</span><div class=\"bar\"><div class=\"segment segment-tie\" style=\"width:63.37%\"></div></div></td><td><span>2.75%</span><div class=\"bar\"><div class=\"segment segment-fire\" style=\"width:18.29%\"></div></div></td></tr><tr><td class=\"cell-icon-small\"><a href=\"/heroes/orisa\"><div class=\"image-with-corner\"><img alt=\"Orisa\" class=\"image-hero image-hero-orisa image-small\" src=\"/assets/images/heroes/orisa.png?v=b7dfc34\"/><div class=\"corner\"><img alt=\"Tank\" class=\"image-role image-inline\" src=\"/assets/images/roles/tank.png?v=b7dfc34\"/></div></div></a></td><td class=\"cell-medium r-none-mobile\"><span><a href=\"/heroes/orisa\">Orisa</a><small>Tank</small></span></td><td><span>1.98%</span><div class=\"bar\"><div class=\"segment segment-game\" style=\"width:17.75%\"></div></div></td><td><span>49.11%</span><div class=\"bar\"><div class=\"segment segment-win\" style=\"width:85.72%\"></div></div></td><td><span>1.83%</span><div class=\"bar\"><div class=\"segment segment-tie\" style=\"width:73.49%\"></div></div></td><td><span>5.76%</span><div class=\"bar\"><div class=\"segment segment-fire\" style=\"width:38.35%\"></div></div></td></tr><tr><td class=\"cell-icon-small\"><a href=\"/heroes/hanzo\"><div class=\"image-with-corner\"><img alt=\"Hanzo\" class=\"image-hero image-hero-hanzo image-small\" src=\"/assets/images/heroes/hanzo.png?v=b7dfc34\"/><div class=\"corner\"><img alt=\"Defense\" class=\"image-role image-inline\" src=\"/assets/images/roles/defense.png?v=b7dfc34\"/></div></div></a></td><td class=\"cell-medium r-none-mobile\"><span><a href=\"/heroes/hanzo\">Hanzo</a><small>Defense</small></span></td><td><span>1.61%</span><div class=\"bar\"><div class=\"segment segment-game\" style=\"width:14.37%\"></div></div></td><td><span>48.42%</span><div class=\"bar\"><div class=\"segment segment-win\" style=\"width:84.52%\"></div></div></td><td><span>1.90%</span><div class=\"bar\"><div class=\"segment segment-tie\" style=\"width:76.28%\"></div></div></td><td><span>10.44%</span><div class=\"bar\"><div class=\"segment segment-fire\" style=\"width:69.48%\"></div></div></td></tr><tr><td class=\"cell-icon-small\"><a href=\"/heroes/pharah\"><div class=\"image-with-corner\"><img alt=\"Pharah\" class=\"image-hero image-hero-pharah image-small\" src=\"/assets/images/heroes/pharah.png?v=b7dfc34\"/><div class=\"corner\"><img alt=\"Offense\" class=\"image-role image-inline\" src=\"/assets/images/roles/offense.png?v=b7dfc34\"/></div></div></a></td><td class=\"cell-medium r-none-mobile\"><span><a href=\"/heroes/pharah\">Pharah</a><small>Offense</small></span></td><td><span>1.57%</span><div class=\"bar\"><div class=\"segment segment-game\" style=\"width:14.06%\"></div></div></td><td><span>53.46%</span><div class=\"bar\"><div class=\"segment segment-win\" style=\"width:93.30%\"></div></div></td><td><span>1.69%</span><div class=\"bar\"><div class=\"segment segment-tie\" style=\"width:67.88%\"></div></div></td><td><span>14.08%</span><div class=\"bar\"><div class=\"segment segment-fire\" style=\"width:93.69%\"></div></div></td></tr><tr><td class=\"cell-icon-small\"><a href=\"/heroes/widowmaker\"><div class=\"image-with-corner\"><img alt=\"Widowmaker\" class=\"image-hero image-hero-widowmaker image-small\" src=\"/assets/images/heroes/widowmaker.png?v=b7dfc34\"/><div class=\"corner\"><img alt=\"Defense\" class=\"image-role image-inline\" src=\"/assets/images/roles/defense.png?v=b7dfc34\"/></div></div></a></td><td class=\"cell-medium r-none-mobile\"><span><a href=\"/heroes/widowmaker\">Widowmaker</a><small>Defense</small></span></td><td><span>1.54%</span><div class=\"bar\"><div class=\"segment segment-game\" style=\"width:13.74%\"></div></div></td><td><span>50.20%</span><div class=\"bar\"><div class=\"segment segment-win\" style=\"width:87.62%\"></div></div></td><td><span>1.47%</span><div class=\"bar\"><div class=\"segment segment-tie\" style=\"width:59.17%\"></div></div></td><td><span>6.52%</span><div class=\"bar\"><div class=\"segment segment-fire\" style=\"width:43.38%\"></div></div></td></tr><tr><td class=\"cell-icon-small\"><a href=\"/heroes/soldier76\"><div class=\"image-with-corner\"><img alt=\"Soldier: 76\" class=\"image-hero image-hero-soldier76 image-small\" src=\"/assets/images/heroes/soldier76.png?v=b7dfc34\"/><div class=\"corner\"><img alt=\"Offense\" class=\"image-role image-inline\" src=\"/assets/images/roles/offense.png?v=b7dfc34\"/></div></div></a></td><td class=\"cell-medium r-none-mobile\"><span><a href=\"/heroes/soldier76\">Soldier: 76</a><small>Offense</small></span></td><td><span>1.50%</span><div class=\"bar\"><div class=\"segment segment-game\" style=\"width:13.40%\"></div></div></td><td><span>48.93%</span><div class=\"bar\"><div class=\"segment segment-win\" style=\"width:85.41%\"></div></div></td><td><span>1.67%</span><div class=\"bar\"><div class=\"segment segment-tie\" style=\"width:67.16%\"></div></div></td><td><span>9.22%</span><div class=\"bar\"><div class=\"segment segment-fire\" style=\"width:61.33%\"></div></div></td></tr><tr><td class=\"cell-icon-small\"><a href=\"/heroes/tracer\"><div class=\"image-with-corner\"><img alt=\"Tracer\" class=\"image-hero image-hero-tracer image-small\" src=\"/assets/images/heroes/tracer.png?v=b7dfc34\"/><div class=\"corner\"><img alt=\"Offense\" class=\"image-role image-inline\" src=\"/assets/images/roles/offense.png?v=b7dfc34\"/></div></div></a></td><td class=\"cell-medium r-none-mobile\"><span><a href=\"/heroes/tracer\">Tracer</a><small>Offense</small></span></td><td><span>1.48%</span><div class=\"bar\"><div class=\"segment segment-game\" style=\"width:13.20%\"></div></div></td><td><span>48.66%</span><div class=\"bar\"><div class=\"segment segment-win\" style=\"width:84.94%\"></div></div></td><td><span>1.36%</span><div class=\"bar\"><div class=\"segment segment-tie\" style=\"width:54.59%\"></div></div></td><td><span>6.24%</span><div class=\"bar\"><div class=\"segment segment-fire\" style=\"width:41.50%\"></div></div></td></tr><tr><td class=\"cell-icon-small\"><a href=\"/heroes/doomfist\"><div class=\"image-with-corner\"><img alt=\"Doomfist\" class=\"image-hero image-hero-doomfist image-small\" src=\"/assets/images/heroes/doomfist.png?v=b7dfc34\"/><div class=\"corner\"><img alt=\"Offense\" class=\"image-role image-inline\" src=\"/assets/images/roles/offense.png?v=b7dfc34\"/></div></div></a></td><td class=\"cell-medium r-none-mobile\"><span><a href=\"/heroes/doomfist\">Doomfist</a><small>Offense</small></span></td><td><span>1.47%</span><div class=\"bar\"><div class=\"segment segment-game\" style=\"width:13.16%\"></div></div></td><td><span>52.06%</span><div class=\"bar\"><div class=\"segment segment-win\" style=\"width:90.87%\"></div></div></td><td><span>1.59%</span><div class=\"bar\"><div class=\"segment segment-tie\" style=\"width:63.84%\"></div></div></td><td><span>6.97%</span><div class=\"bar\"><div class=\"segment segment-fire\" style=\"width:46.37%\"></div></div></td></tr><tr><td class=\"cell-icon-small\"><a href=\"/heroes/zenyatta\"><div class=\"image-with-corner\"><img alt=\"Zenyatta\" class=\"image-hero image-hero-zenyatta image-small\" src=\"/assets/images/heroes/zenyatta.png?v=b7dfc34\"/><div class=\"corner\"><img alt=\"Support\" class=\"image-role image-inline\" src=\"/assets/images/roles/support.png?v=b7dfc34\"/></div></div></a></td><td class=\"cell-medium r-none-mobile\"><span><a href=\"/heroes/zenyatta\">Zenyatta</a><small>Support</small></span></td><td><span>1.43%</span><div class=\"bar\"><div class=\"segment segment-game\" style=\"width:12.82%\"></div></div></td><td><span>53.25%</span><div class=\"bar\"><div class=\"segment segment-win\" style=\"width:92.95%\"></div></div></td><td><span>1.68%</span><div class=\"bar\"><div class=\"segment segment-tie\" style=\"width:67.48%\"></div></div></td><td><span>7.51%</span><div class=\"bar\"><div class=\"segment segment-fire\" style=\"width:49.95%\"></div></div></td></tr><tr><td class=\"cell-icon-small\"><a href=\"/heroes/dva\"><div class=\"image-with-corner\"><img alt=\"D.Va\" class=\"image-hero image-hero-dva image-small\" src=\"/assets/images/heroes/dva.png?v=b7dfc34\"/><div class=\"corner\"><img alt=\"Tank\" class=\"image-role image-inline\" src=\"/assets/images/roles/tank.png?v=b7dfc34\"/></div></div></a></td><td class=\"cell-medium r-none-mobile\"><span><a href=\"/heroes/dva\">D.Va</a><small>Tank</small></span></td><td><span>1.34%</span><div class=\"bar\"><div class=\"segment segment-game\" style=\"width:12.01%\"></div></div></td><td><span>47.84%</span><div class=\"bar\"><div class=\"segment segment-win\" style=\"width:83.50%\"></div></div></td><td><span>1.70%</span><div class=\"bar\"><div class=\"segment segment-tie\" style=\"width:68.10%\"></div></div></td><td><span>6.48%</span><div class=\"bar\"><div class=\"segment segment-fire\" style=\"width:43.08%\"></div></div></td></tr><tr><td class=\"cell-icon-small\"><a href=\"/heroes/reaper\"><div class=\"image-with-corner\"><img alt=\"Reaper\" class=\"image-hero image-hero-reaper image-small\" src=\"/assets/images/heroes/reaper.png?v=b7dfc34\"/><div class=\"corner\"><img alt=\"Offense\" class=\"image-role image-inline\" src=\"/assets/images/roles/offense.png?v=b7dfc34\"/></div></div></a></td><td class=\"cell-medium r-none-mobile\"><span><a href=\"/heroes/reaper\">Reaper</a><small>Offense</small></span></td><td><span>1.26%</span><div class=\"bar\"><div class=\"segment segment-game\" style=\"width:11.25%\"></div></div></td><td><span>48.90%</span><div class=\"bar\"><div class=\"segment segment-win\" style=\"width:85.36%\"></div></div></td><td><span>1.54%</span><div class=\"bar\"><div class=\"segment segment-tie\" style=\"width:61.99%\"></div></div></td><td><span>12.74%</span><div class=\"bar\"><div class=\"segment segment-fire\" style=\"width:84.73%\"></div></div></td></tr><tr><td class=\"cell-icon-small\"><a href=\"/heroes/torbjorn\"><div class=\"image-with-corner\"><img alt=\"Torbjörn\" class=\"image-hero image-hero-torbjorn image-small\" src=\"/assets/images/heroes/torbjorn.png?v=b7dfc34\"/><div class=\"corner\"><img alt=\"Defense\" class=\"image-role image-inline\" src=\"/assets/images/roles/defense.png?v=b7dfc34\"/></div></div></a></td><td class=\"cell-medium r-none-mobile\"><span><a href=\"/heroes/torbjorn\">Torbjörn</a><small>Defense</small></span></td><td><span>0.93%</span><div class=\"bar\"><div class=\"segment segment-game\" style=\"width:8.34%\"></div></div></td><td><span>56.70%</span><div class=\"bar\"><div class=\"segment segment-win\" style=\"width:98.97%\"></div></div></td><td><span>2.31%</span><div class=\"bar\"><div class=\"segment segment-tie\" style=\"width:92.65%\"></div></div></td><td><span>7.09%</span><div class=\"bar\"><div class=\"segment segment-fire\" style=\"width:47.14%\"></div></div></td></tr><tr><td class=\"cell-icon-small\"><a href=\"/heroes/echo\"><div class=\"image-with-corner\"><img alt=\"Echo\" class=\"image-hero image-hero-echo image-small\" src=\"/assets/images/heroes/echo.png?v=b7dfc34\"/><div class=\"corner\"><img alt=\"Offense\" class=\"image-role image-inline\" src=\"/assets/images/roles/offense.png?v=b7dfc34\"/></div></div></a></td><td class=\"cell-medium r-none-mobile\"><span><a href=\"/heroes/echo\">Echo</a><small>Offense</small></span></td><td><span>0.69%</span><div class=\"bar\"><div class=\"segment segment-game\" style=\"width:6.17%\"></div></div></td><td><span>49.25%</span><div class=\"bar\"><div class=\"segment segment-win\" style=\"width:85.97%\"></div></div></td><td><span>1.80%</span><div class=\"bar\"><div class=\"segment segment-tie\" style=\"width:72.05%\"></div></div></td><td><span>6.90%</span><div class=\"bar\"><div class=\"segment segment-fire\" style=\"width:45.89%\"></div></div></td></tr><tr><td class=\"cell-icon-small\"><a href=\"/heroes/sombra\"><div class=\"image-with-corner\"><img alt=\"Sombra\" class=\"image-hero image-hero-sombra image-small\" src=\"/assets/images/heroes/sombra.png?v=b7dfc34\"/><div class=\"corner\"><img alt=\"Offense\" class=\"image-role image-inline\" src=\"/assets/images/roles/offense.png?v=b7dfc34\"/></div></div></a></td><td class=\"cell-medium r-none-mobile\"><span><a href=\"/heroes/sombra\">Sombra</a><small>Offense</small></span></td><td><span>0.63%</span><div class=\"bar\"><div class=\"segment segment-game\" style=\"width:5.64%\"></div></div></td><td><span>47.12%</span><div class=\"bar\"><div class=\"segment segment-win\" style=\"width:82.24%\"></div></div></td><td><span>1.77%</span><div class=\"bar\"><div class=\"segment segment-tie\" style=\"width:70.99%\"></div></div></td><td><span>11.59%</span><div class=\"bar\"><div class=\"segment segment-fire\" style=\"width:77.13%\"></div></div></td></tr><tr><td class=\"cell-icon-small\"><a href=\"/heroes/symmetra\"><div class=\"image-with-corner\"><img alt=\"Symmetra\" class=\"image-hero image-hero-symmetra image-small\" src=\"/assets/images/heroes/symmetra.png?v=b7dfc34\"/><div class=\"corner\"><img alt=\"Support\" class=\"image-role image-inline\" src=\"/assets/images/roles/support.png?v=b7dfc34\"/></div></div></a></td><td class=\"cell-medium r-none-mobile\"><span><a href=\"/heroes/symmetra\">Symmetra</a><small>Support</small></span></td><td><span>0.59%</span><div class=\"bar\"><div class=\"segment segment-game\" style=\"width:5.32%\"></div></div></td><td><span>57.29%</span><div class=\"bar\"><div class=\"segment segment-win\" style=\"width:100.00%\"></div></div></td><td><span>2.49%</span><div class=\"bar\"><div class=\"segment segment-tie\" style=\"width:100.00%\"></div></div></td><td><span>8.37%</span><div class=\"bar\"><div class=\"segment segment-fire\" style=\"width:55.69%\"></div></div></td></tr><tr><td class=\"cell-icon-small\"><a href=\"/heroes/mei\"><div class=\"image-with-corner\"><img alt=\"Mei\" class=\"image-hero image-hero-mei image-small\" src=\"/assets/images/heroes/mei.png?v=b7dfc34\"/><div class=\"corner\"><img alt=\"Defense\" class=\"image-role image-inline\" src=\"/assets/images/roles/defense.png?v=b7dfc34\"/></div></div></a></td><td class=\"cell-medium r-none-mobile\"><span><a href=\"/heroes/mei\">Mei</a><small>Defense</small></span></td><td><span>0.46%</span><div class=\"bar\"><div class=\"segment segment-game\" style=\"width:4.08%\"></div></div></td><td><span>47.73%</span><div class=\"bar\"><div class=\"segment segment-win\" style=\"width:83.31%\"></div></div></td><td><span>2.13%</span><div class=\"bar\"><div class=\"segment segment-tie\" style=\"width:85.35%\"></div></div></td><td><span>6.80%</span><div class=\"bar\"><div class=\"segment segment-fire\" style=\"width:45.23%\"></div></div></td></tr><tr><td class=\"cell-icon-small\"><a href=\"/heroes/bastion\"><div class=\"image-with-corner\"><img alt=\"Bastion\" class=\"image-hero image-hero-bastion image-small\" src=\"/assets/images/heroes/bastion.png?v=b7dfc34\"/><div class=\"corner\"><img alt=\"Defense\" class=\"image-role image-inline\" src=\"/assets/images/roles/defense.png?v=b7dfc34\"/></div></div></a></td><td class=\"cell-medium r-none-mobile\"><span><a href=\"/heroes/bastion\">Bastion</a><small>Defense</small></span></td><td><span>0.26%</span><div class=\"bar\"><div class=\"segment segment-game\" style=\"width:2.34%\"></div></div></td><td><span>52.45%</span><div class=\"bar\"><div class=\"segment segment-win\" style=\"width:91.56%\"></div></div></td><td><span>2.17%</span><div class=\"bar\"><div class=\"segment segment-tie\" style=\"width:87.21%\"></div></div></td><td><span>15.03%</span><div class=\"bar\"><div class=\"segment segment-fire\" style=\"width:100.00%\"></div></div></td></tr></tbody></table>"
      ]
     },
     "execution_count": 255,
     "metadata": {},
     "output_type": "execute_result"
    }
   ],
   "source": [
    "table"
   ]
  },
  {
   "cell_type": "code",
   "execution_count": 265,
   "metadata": {},
   "outputs": [],
   "source": [
    "body_2 = table.findAll('tr')"
   ]
  },
  {
   "cell_type": "code",
   "execution_count": 266,
   "metadata": {},
   "outputs": [],
   "source": [
    "td = [i.findAll('td') for i in body_2]"
   ]
  },
  {
   "cell_type": "code",
   "execution_count": 267,
   "metadata": {},
   "outputs": [
    {
     "data": {
      "text/plain": [
       "[]"
      ]
     },
     "execution_count": 267,
     "metadata": {},
     "output_type": "execute_result"
    }
   ],
   "source": [
    "td.pop(0)"
   ]
  },
  {
   "cell_type": "code",
   "execution_count": 291,
   "metadata": {},
   "outputs": [],
   "source": [
    "nombres = [[e.find('a') for e in i ]for i in td]"
   ]
  },
  {
   "cell_type": "code",
   "execution_count": 292,
   "metadata": {},
   "outputs": [
    {
     "data": {
      "text/plain": [
       "[[<a href=\"/heroes/ana\"><div class=\"image-with-corner\"><img alt=\"Ana\" class=\"image-hero image-hero-ana image-small\" src=\"/assets/images/heroes/ana.png?v=b7dfc34\"/><div class=\"corner\"><img alt=\"Support\" class=\"image-role image-inline\" src=\"/assets/images/roles/support.png?v=b7dfc34\"/></div></div></a>,\n",
       "  <a href=\"/heroes/ana\">Ana</a>,\n",
       "  None,\n",
       "  None,\n",
       "  None,\n",
       "  None],\n",
       " [<a href=\"/heroes/reinhardt\"><div class=\"image-with-corner\"><img alt=\"Reinhardt\" class=\"image-hero image-hero-reinhardt image-small\" src=\"/assets/images/heroes/reinhardt.png?v=b7dfc34\"/><div class=\"corner\"><img alt=\"Tank\" class=\"image-role image-inline\" src=\"/assets/images/roles/tank.png?v=b7dfc34\"/></div></div></a>,\n",
       "  <a href=\"/heroes/reinhardt\">Reinhardt</a>,\n",
       "  None,\n",
       "  None,\n",
       "  None,\n",
       "  None],\n",
       " [<a href=\"/heroes/zarya\"><div class=\"image-with-corner\"><img alt=\"Zarya\" class=\"image-hero image-hero-zarya image-small\" src=\"/assets/images/heroes/zarya.png?v=b7dfc34\"/><div class=\"corner\"><img alt=\"Tank\" class=\"image-role image-inline\" src=\"/assets/images/roles/tank.png?v=b7dfc34\"/></div></div></a>,\n",
       "  <a href=\"/heroes/zarya\">Zarya</a>,\n",
       "  None,\n",
       "  None,\n",
       "  None,\n",
       "  None],\n",
       " [<a href=\"/heroes/moira\"><div class=\"image-with-corner\"><img alt=\"Moira\" class=\"image-hero image-hero-moira image-small\" src=\"/assets/images/heroes/moira.png?v=b7dfc34\"/><div class=\"corner\"><img alt=\"Support\" class=\"image-role image-inline\" src=\"/assets/images/roles/support.png?v=b7dfc34\"/></div></div></a>,\n",
       "  <a href=\"/heroes/moira\">Moira</a>,\n",
       "  None,\n",
       "  None,\n",
       "  None,\n",
       "  None],\n",
       " [<a href=\"/heroes/mercy\"><div class=\"image-with-corner\"><img alt=\"Mercy\" class=\"image-hero image-hero-mercy image-small\" src=\"/assets/images/heroes/mercy.png?v=b7dfc34\"/><div class=\"corner\"><img alt=\"Support\" class=\"image-role image-inline\" src=\"/assets/images/roles/support.png?v=b7dfc34\"/></div></div></a>,\n",
       "  <a href=\"/heroes/mercy\">Mercy</a>,\n",
       "  None,\n",
       "  None,\n",
       "  None,\n",
       "  None],\n",
       " [<a href=\"/heroes/genji\"><div class=\"image-with-corner\"><img alt=\"Genji\" class=\"image-hero image-hero-genji image-small\" src=\"/assets/images/heroes/genji.png?v=b7dfc34\"/><div class=\"corner\"><img alt=\"Offense\" class=\"image-role image-inline\" src=\"/assets/images/roles/offense.png?v=b7dfc34\"/></div></div></a>,\n",
       "  <a href=\"/heroes/genji\">Genji</a>,\n",
       "  None,\n",
       "  None,\n",
       "  None,\n",
       "  None],\n",
       " [<a href=\"/heroes/ashe\"><div class=\"image-with-corner\"><img alt=\"Ashe\" class=\"image-hero image-hero-ashe image-small\" src=\"/assets/images/heroes/ashe.png?v=b7dfc34\"/><div class=\"corner\"><img alt=\"Offense\" class=\"image-role image-inline\" src=\"/assets/images/roles/offense.png?v=b7dfc34\"/></div></div></a>,\n",
       "  <a href=\"/heroes/ashe\">Ashe</a>,\n",
       "  None,\n",
       "  None,\n",
       "  None,\n",
       "  None],\n",
       " [<a href=\"/heroes/sigma\"><div class=\"image-with-corner\"><img alt=\"Sigma\" class=\"image-hero image-hero-sigma image-small\" src=\"/assets/images/heroes/sigma.png?v=b7dfc34\"/><div class=\"corner\"><img alt=\"Tank\" class=\"image-role image-inline\" src=\"/assets/images/roles/tank.png?v=b7dfc34\"/></div></div></a>,\n",
       "  <a href=\"/heroes/sigma\">Sigma</a>,\n",
       "  None,\n",
       "  None,\n",
       "  None,\n",
       "  None],\n",
       " [<a href=\"/heroes/mccree\"><div class=\"image-with-corner\"><img alt=\"McCree\" class=\"image-hero image-hero-mccree image-small\" src=\"/assets/images/heroes/mccree.png?v=b7dfc34\"/><div class=\"corner\"><img alt=\"Offense\" class=\"image-role image-inline\" src=\"/assets/images/roles/offense.png?v=b7dfc34\"/></div></div></a>,\n",
       "  <a href=\"/heroes/mccree\">McCree</a>,\n",
       "  None,\n",
       "  None,\n",
       "  None,\n",
       "  None],\n",
       " [<a href=\"/heroes/roadhog\"><div class=\"image-with-corner\"><img alt=\"Roadhog\" class=\"image-hero image-hero-roadhog image-small\" src=\"/assets/images/heroes/roadhog.png?v=b7dfc34\"/><div class=\"corner\"><img alt=\"Tank\" class=\"image-role image-inline\" src=\"/assets/images/roles/tank.png?v=b7dfc34\"/></div></div></a>,\n",
       "  <a href=\"/heroes/roadhog\">Roadhog</a>,\n",
       "  None,\n",
       "  None,\n",
       "  None,\n",
       "  None],\n",
       " [<a href=\"/heroes/brigitte\"><div class=\"image-with-corner\"><img alt=\"Brigitte\" class=\"image-hero image-hero-brigitte image-small\" src=\"/assets/images/heroes/brigitte.png?v=b7dfc34\"/><div class=\"corner\"><img alt=\"Support\" class=\"image-role image-inline\" src=\"/assets/images/roles/support.png?v=b7dfc34\"/></div></div></a>,\n",
       "  <a href=\"/heroes/brigitte\">Brigitte</a>,\n",
       "  None,\n",
       "  None,\n",
       "  None,\n",
       "  None],\n",
       " [<a href=\"/heroes/baptiste\"><div class=\"image-with-corner\"><img alt=\"Baptiste\" class=\"image-hero image-hero-baptiste image-small\" src=\"/assets/images/heroes/baptiste.png?v=b7dfc34\"/><div class=\"corner\"><img alt=\"Support\" class=\"image-role image-inline\" src=\"/assets/images/roles/support.png?v=b7dfc34\"/></div></div></a>,\n",
       "  <a href=\"/heroes/baptiste\">Baptiste</a>,\n",
       "  None,\n",
       "  None,\n",
       "  None,\n",
       "  None],\n",
       " [<a href=\"/heroes/lucio\"><div class=\"image-with-corner\"><img alt=\"Lúcio\" class=\"image-hero image-hero-lucio image-small\" src=\"/assets/images/heroes/lucio.png?v=b7dfc34\"/><div class=\"corner\"><img alt=\"Support\" class=\"image-role image-inline\" src=\"/assets/images/roles/support.png?v=b7dfc34\"/></div></div></a>,\n",
       "  <a href=\"/heroes/lucio\">Lúcio</a>,\n",
       "  None,\n",
       "  None,\n",
       "  None,\n",
       "  None],\n",
       " [<a href=\"/heroes/winston\"><div class=\"image-with-corner\"><img alt=\"Winston\" class=\"image-hero image-hero-winston image-small\" src=\"/assets/images/heroes/winston.png?v=b7dfc34\"/><div class=\"corner\"><img alt=\"Tank\" class=\"image-role image-inline\" src=\"/assets/images/roles/tank.png?v=b7dfc34\"/></div></div></a>,\n",
       "  <a href=\"/heroes/winston\">Winston</a>,\n",
       "  None,\n",
       "  None,\n",
       "  None,\n",
       "  None],\n",
       " [<a href=\"/heroes/junkrat\"><div class=\"image-with-corner\"><img alt=\"Junkrat\" class=\"image-hero image-hero-junkrat image-small\" src=\"/assets/images/heroes/junkrat.png?v=b7dfc34\"/><div class=\"corner\"><img alt=\"Defense\" class=\"image-role image-inline\" src=\"/assets/images/roles/defense.png?v=b7dfc34\"/></div></div></a>,\n",
       "  <a href=\"/heroes/junkrat\">Junkrat</a>,\n",
       "  None,\n",
       "  None,\n",
       "  None,\n",
       "  None],\n",
       " [<a href=\"/heroes/wreckingball\"><div class=\"image-with-corner\"><img alt=\"Wrecking Ball\" class=\"image-hero image-hero-wreckingball image-small\" src=\"/assets/images/heroes/wreckingball.png?v=b7dfc34\"/><div class=\"corner\"><img alt=\"Tank\" class=\"image-role image-inline\" src=\"/assets/images/roles/tank.png?v=b7dfc34\"/></div></div></a>,\n",
       "  <a href=\"/heroes/wreckingball\">Wrecking Ball</a>,\n",
       "  None,\n",
       "  None,\n",
       "  None,\n",
       "  None],\n",
       " [<a href=\"/heroes/orisa\"><div class=\"image-with-corner\"><img alt=\"Orisa\" class=\"image-hero image-hero-orisa image-small\" src=\"/assets/images/heroes/orisa.png?v=b7dfc34\"/><div class=\"corner\"><img alt=\"Tank\" class=\"image-role image-inline\" src=\"/assets/images/roles/tank.png?v=b7dfc34\"/></div></div></a>,\n",
       "  <a href=\"/heroes/orisa\">Orisa</a>,\n",
       "  None,\n",
       "  None,\n",
       "  None,\n",
       "  None],\n",
       " [<a href=\"/heroes/hanzo\"><div class=\"image-with-corner\"><img alt=\"Hanzo\" class=\"image-hero image-hero-hanzo image-small\" src=\"/assets/images/heroes/hanzo.png?v=b7dfc34\"/><div class=\"corner\"><img alt=\"Defense\" class=\"image-role image-inline\" src=\"/assets/images/roles/defense.png?v=b7dfc34\"/></div></div></a>,\n",
       "  <a href=\"/heroes/hanzo\">Hanzo</a>,\n",
       "  None,\n",
       "  None,\n",
       "  None,\n",
       "  None],\n",
       " [<a href=\"/heroes/pharah\"><div class=\"image-with-corner\"><img alt=\"Pharah\" class=\"image-hero image-hero-pharah image-small\" src=\"/assets/images/heroes/pharah.png?v=b7dfc34\"/><div class=\"corner\"><img alt=\"Offense\" class=\"image-role image-inline\" src=\"/assets/images/roles/offense.png?v=b7dfc34\"/></div></div></a>,\n",
       "  <a href=\"/heroes/pharah\">Pharah</a>,\n",
       "  None,\n",
       "  None,\n",
       "  None,\n",
       "  None],\n",
       " [<a href=\"/heroes/widowmaker\"><div class=\"image-with-corner\"><img alt=\"Widowmaker\" class=\"image-hero image-hero-widowmaker image-small\" src=\"/assets/images/heroes/widowmaker.png?v=b7dfc34\"/><div class=\"corner\"><img alt=\"Defense\" class=\"image-role image-inline\" src=\"/assets/images/roles/defense.png?v=b7dfc34\"/></div></div></a>,\n",
       "  <a href=\"/heroes/widowmaker\">Widowmaker</a>,\n",
       "  None,\n",
       "  None,\n",
       "  None,\n",
       "  None],\n",
       " [<a href=\"/heroes/soldier76\"><div class=\"image-with-corner\"><img alt=\"Soldier: 76\" class=\"image-hero image-hero-soldier76 image-small\" src=\"/assets/images/heroes/soldier76.png?v=b7dfc34\"/><div class=\"corner\"><img alt=\"Offense\" class=\"image-role image-inline\" src=\"/assets/images/roles/offense.png?v=b7dfc34\"/></div></div></a>,\n",
       "  <a href=\"/heroes/soldier76\">Soldier: 76</a>,\n",
       "  None,\n",
       "  None,\n",
       "  None,\n",
       "  None],\n",
       " [<a href=\"/heroes/tracer\"><div class=\"image-with-corner\"><img alt=\"Tracer\" class=\"image-hero image-hero-tracer image-small\" src=\"/assets/images/heroes/tracer.png?v=b7dfc34\"/><div class=\"corner\"><img alt=\"Offense\" class=\"image-role image-inline\" src=\"/assets/images/roles/offense.png?v=b7dfc34\"/></div></div></a>,\n",
       "  <a href=\"/heroes/tracer\">Tracer</a>,\n",
       "  None,\n",
       "  None,\n",
       "  None,\n",
       "  None],\n",
       " [<a href=\"/heroes/doomfist\"><div class=\"image-with-corner\"><img alt=\"Doomfist\" class=\"image-hero image-hero-doomfist image-small\" src=\"/assets/images/heroes/doomfist.png?v=b7dfc34\"/><div class=\"corner\"><img alt=\"Offense\" class=\"image-role image-inline\" src=\"/assets/images/roles/offense.png?v=b7dfc34\"/></div></div></a>,\n",
       "  <a href=\"/heroes/doomfist\">Doomfist</a>,\n",
       "  None,\n",
       "  None,\n",
       "  None,\n",
       "  None],\n",
       " [<a href=\"/heroes/zenyatta\"><div class=\"image-with-corner\"><img alt=\"Zenyatta\" class=\"image-hero image-hero-zenyatta image-small\" src=\"/assets/images/heroes/zenyatta.png?v=b7dfc34\"/><div class=\"corner\"><img alt=\"Support\" class=\"image-role image-inline\" src=\"/assets/images/roles/support.png?v=b7dfc34\"/></div></div></a>,\n",
       "  <a href=\"/heroes/zenyatta\">Zenyatta</a>,\n",
       "  None,\n",
       "  None,\n",
       "  None,\n",
       "  None],\n",
       " [<a href=\"/heroes/dva\"><div class=\"image-with-corner\"><img alt=\"D.Va\" class=\"image-hero image-hero-dva image-small\" src=\"/assets/images/heroes/dva.png?v=b7dfc34\"/><div class=\"corner\"><img alt=\"Tank\" class=\"image-role image-inline\" src=\"/assets/images/roles/tank.png?v=b7dfc34\"/></div></div></a>,\n",
       "  <a href=\"/heroes/dva\">D.Va</a>,\n",
       "  None,\n",
       "  None,\n",
       "  None,\n",
       "  None],\n",
       " [<a href=\"/heroes/reaper\"><div class=\"image-with-corner\"><img alt=\"Reaper\" class=\"image-hero image-hero-reaper image-small\" src=\"/assets/images/heroes/reaper.png?v=b7dfc34\"/><div class=\"corner\"><img alt=\"Offense\" class=\"image-role image-inline\" src=\"/assets/images/roles/offense.png?v=b7dfc34\"/></div></div></a>,\n",
       "  <a href=\"/heroes/reaper\">Reaper</a>,\n",
       "  None,\n",
       "  None,\n",
       "  None,\n",
       "  None],\n",
       " [<a href=\"/heroes/torbjorn\"><div class=\"image-with-corner\"><img alt=\"Torbjörn\" class=\"image-hero image-hero-torbjorn image-small\" src=\"/assets/images/heroes/torbjorn.png?v=b7dfc34\"/><div class=\"corner\"><img alt=\"Defense\" class=\"image-role image-inline\" src=\"/assets/images/roles/defense.png?v=b7dfc34\"/></div></div></a>,\n",
       "  <a href=\"/heroes/torbjorn\">Torbjörn</a>,\n",
       "  None,\n",
       "  None,\n",
       "  None,\n",
       "  None],\n",
       " [<a href=\"/heroes/echo\"><div class=\"image-with-corner\"><img alt=\"Echo\" class=\"image-hero image-hero-echo image-small\" src=\"/assets/images/heroes/echo.png?v=b7dfc34\"/><div class=\"corner\"><img alt=\"Offense\" class=\"image-role image-inline\" src=\"/assets/images/roles/offense.png?v=b7dfc34\"/></div></div></a>,\n",
       "  <a href=\"/heroes/echo\">Echo</a>,\n",
       "  None,\n",
       "  None,\n",
       "  None,\n",
       "  None],\n",
       " [<a href=\"/heroes/sombra\"><div class=\"image-with-corner\"><img alt=\"Sombra\" class=\"image-hero image-hero-sombra image-small\" src=\"/assets/images/heroes/sombra.png?v=b7dfc34\"/><div class=\"corner\"><img alt=\"Offense\" class=\"image-role image-inline\" src=\"/assets/images/roles/offense.png?v=b7dfc34\"/></div></div></a>,\n",
       "  <a href=\"/heroes/sombra\">Sombra</a>,\n",
       "  None,\n",
       "  None,\n",
       "  None,\n",
       "  None],\n",
       " [<a href=\"/heroes/symmetra\"><div class=\"image-with-corner\"><img alt=\"Symmetra\" class=\"image-hero image-hero-symmetra image-small\" src=\"/assets/images/heroes/symmetra.png?v=b7dfc34\"/><div class=\"corner\"><img alt=\"Support\" class=\"image-role image-inline\" src=\"/assets/images/roles/support.png?v=b7dfc34\"/></div></div></a>,\n",
       "  <a href=\"/heroes/symmetra\">Symmetra</a>,\n",
       "  None,\n",
       "  None,\n",
       "  None,\n",
       "  None],\n",
       " [<a href=\"/heroes/mei\"><div class=\"image-with-corner\"><img alt=\"Mei\" class=\"image-hero image-hero-mei image-small\" src=\"/assets/images/heroes/mei.png?v=b7dfc34\"/><div class=\"corner\"><img alt=\"Defense\" class=\"image-role image-inline\" src=\"/assets/images/roles/defense.png?v=b7dfc34\"/></div></div></a>,\n",
       "  <a href=\"/heroes/mei\">Mei</a>,\n",
       "  None,\n",
       "  None,\n",
       "  None,\n",
       "  None],\n",
       " [<a href=\"/heroes/bastion\"><div class=\"image-with-corner\"><img alt=\"Bastion\" class=\"image-hero image-hero-bastion image-small\" src=\"/assets/images/heroes/bastion.png?v=b7dfc34\"/><div class=\"corner\"><img alt=\"Defense\" class=\"image-role image-inline\" src=\"/assets/images/roles/defense.png?v=b7dfc34\"/></div></div></a>,\n",
       "  <a href=\"/heroes/bastion\">Bastion</a>,\n",
       "  None,\n",
       "  None,\n",
       "  None,\n",
       "  None]]"
      ]
     },
     "execution_count": 292,
     "metadata": {},
     "output_type": "execute_result"
    }
   ],
   "source": [
    "nombres"
   ]
  },
  {
   "cell_type": "code",
   "execution_count": 281,
   "metadata": {},
   "outputs": [
    {
     "data": {
      "text/plain": [
       "'Ana'"
      ]
     },
     "execution_count": 281,
     "metadata": {},
     "output_type": "execute_result"
    }
   ],
   "source": [
    "nombres[0][1].text"
   ]
  },
  {
   "cell_type": "code",
   "execution_count": 282,
   "metadata": {},
   "outputs": [],
   "source": [
    "nombre_complete = [i[1].text for i in nombres]"
   ]
  },
  {
   "cell_type": "code",
   "execution_count": 283,
   "metadata": {},
   "outputs": [
    {
     "data": {
      "text/plain": [
       "['Ana',\n",
       " 'Reinhardt',\n",
       " 'Zarya',\n",
       " 'Moira',\n",
       " 'Mercy',\n",
       " 'Genji',\n",
       " 'Ashe',\n",
       " 'Sigma',\n",
       " 'McCree',\n",
       " 'Roadhog',\n",
       " 'Brigitte',\n",
       " 'Baptiste',\n",
       " 'Lúcio',\n",
       " 'Winston',\n",
       " 'Junkrat',\n",
       " 'Wrecking Ball',\n",
       " 'Orisa',\n",
       " 'Hanzo',\n",
       " 'Pharah',\n",
       " 'Widowmaker',\n",
       " 'Soldier: 76',\n",
       " 'Tracer',\n",
       " 'Doomfist',\n",
       " 'Zenyatta',\n",
       " 'D.Va',\n",
       " 'Reaper',\n",
       " 'Torbjörn',\n",
       " 'Echo',\n",
       " 'Sombra',\n",
       " 'Symmetra',\n",
       " 'Mei',\n",
       " 'Bastion']"
      ]
     },
     "execution_count": 283,
     "metadata": {},
     "output_type": "execute_result"
    }
   ],
   "source": [
    "nombre_complete"
   ]
  },
  {
   "cell_type": "code",
   "execution_count": 284,
   "metadata": {},
   "outputs": [],
   "source": [
    "roles = [[e.find('small') for e in i ]for i in td]"
   ]
  },
  {
   "cell_type": "code",
   "execution_count": 285,
   "metadata": {},
   "outputs": [
    {
     "data": {
      "text/plain": [
       "[[None, <small>Support</small>, None, None, None, None],\n",
       " [None, <small>Tank</small>, None, None, None, None],\n",
       " [None, <small>Tank</small>, None, None, None, None],\n",
       " [None, <small>Support</small>, None, None, None, None],\n",
       " [None, <small>Support</small>, None, None, None, None],\n",
       " [None, <small>Offense</small>, None, None, None, None],\n",
       " [None, <small>Offense</small>, None, None, None, None],\n",
       " [None, <small>Tank</small>, None, None, None, None],\n",
       " [None, <small>Offense</small>, None, None, None, None],\n",
       " [None, <small>Tank</small>, None, None, None, None],\n",
       " [None, <small>Support</small>, None, None, None, None],\n",
       " [None, <small>Support</small>, None, None, None, None],\n",
       " [None, <small>Support</small>, None, None, None, None],\n",
       " [None, <small>Tank</small>, None, None, None, None],\n",
       " [None, <small>Defense</small>, None, None, None, None],\n",
       " [None, <small>Tank</small>, None, None, None, None],\n",
       " [None, <small>Tank</small>, None, None, None, None],\n",
       " [None, <small>Defense</small>, None, None, None, None],\n",
       " [None, <small>Offense</small>, None, None, None, None],\n",
       " [None, <small>Defense</small>, None, None, None, None],\n",
       " [None, <small>Offense</small>, None, None, None, None],\n",
       " [None, <small>Offense</small>, None, None, None, None],\n",
       " [None, <small>Offense</small>, None, None, None, None],\n",
       " [None, <small>Support</small>, None, None, None, None],\n",
       " [None, <small>Tank</small>, None, None, None, None],\n",
       " [None, <small>Offense</small>, None, None, None, None],\n",
       " [None, <small>Defense</small>, None, None, None, None],\n",
       " [None, <small>Offense</small>, None, None, None, None],\n",
       " [None, <small>Offense</small>, None, None, None, None],\n",
       " [None, <small>Support</small>, None, None, None, None],\n",
       " [None, <small>Defense</small>, None, None, None, None],\n",
       " [None, <small>Defense</small>, None, None, None, None]]"
      ]
     },
     "execution_count": 285,
     "metadata": {},
     "output_type": "execute_result"
    }
   ],
   "source": [
    "roles"
   ]
  },
  {
   "cell_type": "code",
   "execution_count": 286,
   "metadata": {},
   "outputs": [],
   "source": [
    "rol_complete = [i[1].text for i in roles]"
   ]
  },
  {
   "cell_type": "code",
   "execution_count": 287,
   "metadata": {},
   "outputs": [
    {
     "data": {
      "text/plain": [
       "['Support',\n",
       " 'Tank',\n",
       " 'Tank',\n",
       " 'Support',\n",
       " 'Support',\n",
       " 'Offense',\n",
       " 'Offense',\n",
       " 'Tank',\n",
       " 'Offense',\n",
       " 'Tank',\n",
       " 'Support',\n",
       " 'Support',\n",
       " 'Support',\n",
       " 'Tank',\n",
       " 'Defense',\n",
       " 'Tank',\n",
       " 'Tank',\n",
       " 'Defense',\n",
       " 'Offense',\n",
       " 'Defense',\n",
       " 'Offense',\n",
       " 'Offense',\n",
       " 'Offense',\n",
       " 'Support',\n",
       " 'Tank',\n",
       " 'Offense',\n",
       " 'Defense',\n",
       " 'Offense',\n",
       " 'Offense',\n",
       " 'Support',\n",
       " 'Defense',\n",
       " 'Defense']"
      ]
     },
     "execution_count": 287,
     "metadata": {},
     "output_type": "execute_result"
    }
   ],
   "source": [
    "rol_complete"
   ]
  },
  {
   "cell_type": "code",
   "execution_count": 313,
   "metadata": {},
   "outputs": [
    {
     "data": {
      "text/plain": [
       "['Defense', 'Offense', 'Tank', 'Support']"
      ]
     },
     "execution_count": 313,
     "metadata": {},
     "output_type": "execute_result"
    }
   ],
   "source": [
    "roles_lst = list(set(rol_complete))\n",
    "list(roles_lst)"
   ]
  },
  {
   "cell_type": "code",
   "execution_count": 316,
   "metadata": {},
   "outputs": [
    {
     "data": {
      "text/plain": [
       "True"
      ]
     },
     "execution_count": 316,
     "metadata": {},
     "output_type": "execute_result"
    }
   ],
   "source": [
    "roles_lst[-1] in td_text[0][0]"
   ]
  },
  {
   "cell_type": "code",
   "execution_count": 319,
   "metadata": {},
   "outputs": [],
   "source": [
    "for i in td_text:\n",
    "    for e in roles_lst:\n",
    "        if e in i[0]:\n",
    "            i.append(e)"
   ]
  },
  {
   "cell_type": "code",
   "execution_count": 320,
   "metadata": {},
   "outputs": [
    {
     "data": {
      "text/plain": [
       "[['AnaSupport', '11.18%', '50.07%', '2.01%', '9.34%', 'Support'],\n",
       " ['ReinhardtTank', '10.32%', '51.52%', '2.24%', '6.71%', 'Tank'],\n",
       " ['ZaryaTank', '7.45%', '52.62%', '2.13%', '12.00%', 'Tank'],\n",
       " ['MoiraSupport', '6.89%', '49.93%', '2.09%', '9.55%', 'Support'],\n",
       " ['MercySupport', '6.34%', '51.84%', '2.09%', '2.23%', 'Support'],\n",
       " ['GenjiOffense', '6.11%', '50.66%', '1.86%', '11.82%', 'Offense'],\n",
       " ['AsheOffense', '4.84%', '53.09%', '1.93%', '9.37%', 'Offense'],\n",
       " ['SigmaTank', '4.41%', '50.80%', '2.03%', '12.07%', 'Tank'],\n",
       " ['McCreeOffense', '4.04%', '46.45%', '1.57%', '7.98%', 'Offense'],\n",
       " ['RoadhogTank', '3.33%', '49.71%', '1.58%', '9.18%', 'Tank'],\n",
       " ['BrigitteSupport', '3.07%', '53.84%', '1.80%', '6.43%', 'Support'],\n",
       " ['BaptisteSupport', '2.93%', '47.89%', '2.37%', '11.26%', 'Support'],\n",
       " ['LúcioSupport', '2.93%', '51.68%', '1.65%', '11.21%', 'Support'],\n",
       " ['WinstonTank', '2.60%', '48.63%', '1.58%', '5.81%', 'Tank'],\n",
       " ['JunkratDefense', '2.55%', '52.49%', '2.36%', '11.12%', 'Defense'],\n",
       " ['Wrecking BallTank', '2.28%', '49.84%', '1.58%', '2.75%', 'Tank'],\n",
       " ['OrisaTank', '1.98%', '49.11%', '1.83%', '5.76%', 'Tank'],\n",
       " ['HanzoDefense', '1.61%', '48.42%', '1.90%', '10.44%', 'Defense'],\n",
       " ['PharahOffense', '1.57%', '53.46%', '1.69%', '14.08%', 'Offense'],\n",
       " ['WidowmakerDefense', '1.54%', '50.20%', '1.47%', '6.52%', 'Defense'],\n",
       " ['Soldier: 76Offense', '1.50%', '48.93%', '1.67%', '9.22%', 'Offense'],\n",
       " ['TracerOffense', '1.48%', '48.66%', '1.36%', '6.24%', 'Offense'],\n",
       " ['DoomfistOffense', '1.47%', '52.06%', '1.59%', '6.97%', 'Offense'],\n",
       " ['ZenyattaSupport', '1.43%', '53.25%', '1.68%', '7.51%', 'Support'],\n",
       " ['D.VaTank', '1.34%', '47.84%', '1.70%', '6.48%', 'Tank'],\n",
       " ['ReaperOffense', '1.26%', '48.90%', '1.54%', '12.74%', 'Offense'],\n",
       " ['TorbjörnDefense', '0.93%', '56.70%', '2.31%', '7.09%', 'Defense'],\n",
       " ['EchoOffense', '0.69%', '49.25%', '1.80%', '6.90%', 'Offense'],\n",
       " ['SombraOffense', '0.63%', '47.12%', '1.77%', '11.59%', 'Offense'],\n",
       " ['SymmetraSupport', '0.59%', '57.29%', '2.49%', '8.37%', 'Support'],\n",
       " ['MeiDefense', '0.46%', '47.73%', '2.13%', '6.80%', 'Defense'],\n",
       " ['BastionDefense', '0.26%', '52.45%', '2.17%', '15.03%', 'Defense']]"
      ]
     },
     "execution_count": 320,
     "metadata": {},
     "output_type": "execute_result"
    }
   ],
   "source": [
    "td_text"
   ]
  },
  {
   "cell_type": "code",
   "execution_count": 328,
   "metadata": {},
   "outputs": [],
   "source": [
    "for i in td_text:\n",
    "    for e in roles_lst:\n",
    "        if e in i[0]:\n",
    "            i[0]= i[0].replace(e,'')"
   ]
  },
  {
   "cell_type": "code",
   "execution_count": 329,
   "metadata": {},
   "outputs": [
    {
     "data": {
      "text/plain": [
       "[['Ana', '11.18%', '50.07%', '2.01%', '9.34%', 'Support'],\n",
       " ['Reinhardt', '10.32%', '51.52%', '2.24%', '6.71%', 'Tank'],\n",
       " ['Zarya', '7.45%', '52.62%', '2.13%', '12.00%', 'Tank'],\n",
       " ['Moira', '6.89%', '49.93%', '2.09%', '9.55%', 'Support'],\n",
       " ['Mercy', '6.34%', '51.84%', '2.09%', '2.23%', 'Support'],\n",
       " ['Genji', '6.11%', '50.66%', '1.86%', '11.82%', 'Offense'],\n",
       " ['Ashe', '4.84%', '53.09%', '1.93%', '9.37%', 'Offense'],\n",
       " ['Sigma', '4.41%', '50.80%', '2.03%', '12.07%', 'Tank'],\n",
       " ['McCree', '4.04%', '46.45%', '1.57%', '7.98%', 'Offense'],\n",
       " ['Roadhog', '3.33%', '49.71%', '1.58%', '9.18%', 'Tank'],\n",
       " ['Brigitte', '3.07%', '53.84%', '1.80%', '6.43%', 'Support'],\n",
       " ['Baptiste', '2.93%', '47.89%', '2.37%', '11.26%', 'Support'],\n",
       " ['Lúcio', '2.93%', '51.68%', '1.65%', '11.21%', 'Support'],\n",
       " ['Winston', '2.60%', '48.63%', '1.58%', '5.81%', 'Tank'],\n",
       " ['Junkrat', '2.55%', '52.49%', '2.36%', '11.12%', 'Defense'],\n",
       " ['Wrecking Ball', '2.28%', '49.84%', '1.58%', '2.75%', 'Tank'],\n",
       " ['Orisa', '1.98%', '49.11%', '1.83%', '5.76%', 'Tank'],\n",
       " ['Hanzo', '1.61%', '48.42%', '1.90%', '10.44%', 'Defense'],\n",
       " ['Pharah', '1.57%', '53.46%', '1.69%', '14.08%', 'Offense'],\n",
       " ['Widowmaker', '1.54%', '50.20%', '1.47%', '6.52%', 'Defense'],\n",
       " ['Soldier: 76', '1.50%', '48.93%', '1.67%', '9.22%', 'Offense'],\n",
       " ['Tracer', '1.48%', '48.66%', '1.36%', '6.24%', 'Offense'],\n",
       " ['Doomfist', '1.47%', '52.06%', '1.59%', '6.97%', 'Offense'],\n",
       " ['Zenyatta', '1.43%', '53.25%', '1.68%', '7.51%', 'Support'],\n",
       " ['D.Va', '1.34%', '47.84%', '1.70%', '6.48%', 'Tank'],\n",
       " ['Reaper', '1.26%', '48.90%', '1.54%', '12.74%', 'Offense'],\n",
       " ['Torbjörn', '0.93%', '56.70%', '2.31%', '7.09%', 'Defense'],\n",
       " ['Echo', '0.69%', '49.25%', '1.80%', '6.90%', 'Offense'],\n",
       " ['Sombra', '0.63%', '47.12%', '1.77%', '11.59%', 'Offense'],\n",
       " ['Symmetra', '0.59%', '57.29%', '2.49%', '8.37%', 'Support'],\n",
       " ['Mei', '0.46%', '47.73%', '2.13%', '6.80%', 'Defense'],\n",
       " ['Bastion', '0.26%', '52.45%', '2.17%', '15.03%', 'Defense']]"
      ]
     },
     "execution_count": 329,
     "metadata": {},
     "output_type": "execute_result"
    }
   ],
   "source": [
    "td_text"
   ]
  },
  {
   "cell_type": "code",
   "execution_count": 334,
   "metadata": {},
   "outputs": [
    {
     "data": {
      "text/plain": [
       "['Hero', 'Pick Rate', 'Win Rate', 'Tie Rate', 'On Fire', 'Rol']"
      ]
     },
     "execution_count": 334,
     "metadata": {},
     "output_type": "execute_result"
    }
   ],
   "source": [
    "cabe_clean"
   ]
  },
  {
   "cell_type": "code",
   "execution_count": 332,
   "metadata": {},
   "outputs": [],
   "source": [
    "cabe_clean.append('Rol')"
   ]
  },
  {
   "cell_type": "code",
   "execution_count": 333,
   "metadata": {},
   "outputs": [
    {
     "data": {
      "text/html": [
       "<div>\n",
       "<style scoped>\n",
       "    .dataframe tbody tr th:only-of-type {\n",
       "        vertical-align: middle;\n",
       "    }\n",
       "\n",
       "    .dataframe tbody tr th {\n",
       "        vertical-align: top;\n",
       "    }\n",
       "\n",
       "    .dataframe thead th {\n",
       "        text-align: right;\n",
       "    }\n",
       "</style>\n",
       "<table border=\"1\" class=\"dataframe\">\n",
       "  <thead>\n",
       "    <tr style=\"text-align: right;\">\n",
       "      <th></th>\n",
       "      <th>Hero</th>\n",
       "      <th>Pick Rate</th>\n",
       "      <th>Win Rate</th>\n",
       "      <th>Tie Rate</th>\n",
       "      <th>On Fire</th>\n",
       "      <th>Rol</th>\n",
       "    </tr>\n",
       "  </thead>\n",
       "  <tbody>\n",
       "    <tr>\n",
       "      <td>0</td>\n",
       "      <td>Ana</td>\n",
       "      <td>11.18%</td>\n",
       "      <td>50.07%</td>\n",
       "      <td>2.01%</td>\n",
       "      <td>9.34%</td>\n",
       "      <td>Support</td>\n",
       "    </tr>\n",
       "    <tr>\n",
       "      <td>1</td>\n",
       "      <td>Reinhardt</td>\n",
       "      <td>10.32%</td>\n",
       "      <td>51.52%</td>\n",
       "      <td>2.24%</td>\n",
       "      <td>6.71%</td>\n",
       "      <td>Tank</td>\n",
       "    </tr>\n",
       "    <tr>\n",
       "      <td>2</td>\n",
       "      <td>Zarya</td>\n",
       "      <td>7.45%</td>\n",
       "      <td>52.62%</td>\n",
       "      <td>2.13%</td>\n",
       "      <td>12.00%</td>\n",
       "      <td>Tank</td>\n",
       "    </tr>\n",
       "    <tr>\n",
       "      <td>3</td>\n",
       "      <td>Moira</td>\n",
       "      <td>6.89%</td>\n",
       "      <td>49.93%</td>\n",
       "      <td>2.09%</td>\n",
       "      <td>9.55%</td>\n",
       "      <td>Support</td>\n",
       "    </tr>\n",
       "    <tr>\n",
       "      <td>4</td>\n",
       "      <td>Mercy</td>\n",
       "      <td>6.34%</td>\n",
       "      <td>51.84%</td>\n",
       "      <td>2.09%</td>\n",
       "      <td>2.23%</td>\n",
       "      <td>Support</td>\n",
       "    </tr>\n",
       "    <tr>\n",
       "      <td>5</td>\n",
       "      <td>Genji</td>\n",
       "      <td>6.11%</td>\n",
       "      <td>50.66%</td>\n",
       "      <td>1.86%</td>\n",
       "      <td>11.82%</td>\n",
       "      <td>Offense</td>\n",
       "    </tr>\n",
       "    <tr>\n",
       "      <td>6</td>\n",
       "      <td>Ashe</td>\n",
       "      <td>4.84%</td>\n",
       "      <td>53.09%</td>\n",
       "      <td>1.93%</td>\n",
       "      <td>9.37%</td>\n",
       "      <td>Offense</td>\n",
       "    </tr>\n",
       "    <tr>\n",
       "      <td>7</td>\n",
       "      <td>Sigma</td>\n",
       "      <td>4.41%</td>\n",
       "      <td>50.80%</td>\n",
       "      <td>2.03%</td>\n",
       "      <td>12.07%</td>\n",
       "      <td>Tank</td>\n",
       "    </tr>\n",
       "    <tr>\n",
       "      <td>8</td>\n",
       "      <td>McCree</td>\n",
       "      <td>4.04%</td>\n",
       "      <td>46.45%</td>\n",
       "      <td>1.57%</td>\n",
       "      <td>7.98%</td>\n",
       "      <td>Offense</td>\n",
       "    </tr>\n",
       "    <tr>\n",
       "      <td>9</td>\n",
       "      <td>Roadhog</td>\n",
       "      <td>3.33%</td>\n",
       "      <td>49.71%</td>\n",
       "      <td>1.58%</td>\n",
       "      <td>9.18%</td>\n",
       "      <td>Tank</td>\n",
       "    </tr>\n",
       "    <tr>\n",
       "      <td>10</td>\n",
       "      <td>Brigitte</td>\n",
       "      <td>3.07%</td>\n",
       "      <td>53.84%</td>\n",
       "      <td>1.80%</td>\n",
       "      <td>6.43%</td>\n",
       "      <td>Support</td>\n",
       "    </tr>\n",
       "    <tr>\n",
       "      <td>11</td>\n",
       "      <td>Baptiste</td>\n",
       "      <td>2.93%</td>\n",
       "      <td>47.89%</td>\n",
       "      <td>2.37%</td>\n",
       "      <td>11.26%</td>\n",
       "      <td>Support</td>\n",
       "    </tr>\n",
       "    <tr>\n",
       "      <td>12</td>\n",
       "      <td>Lúcio</td>\n",
       "      <td>2.93%</td>\n",
       "      <td>51.68%</td>\n",
       "      <td>1.65%</td>\n",
       "      <td>11.21%</td>\n",
       "      <td>Support</td>\n",
       "    </tr>\n",
       "    <tr>\n",
       "      <td>13</td>\n",
       "      <td>Winston</td>\n",
       "      <td>2.60%</td>\n",
       "      <td>48.63%</td>\n",
       "      <td>1.58%</td>\n",
       "      <td>5.81%</td>\n",
       "      <td>Tank</td>\n",
       "    </tr>\n",
       "    <tr>\n",
       "      <td>14</td>\n",
       "      <td>Junkrat</td>\n",
       "      <td>2.55%</td>\n",
       "      <td>52.49%</td>\n",
       "      <td>2.36%</td>\n",
       "      <td>11.12%</td>\n",
       "      <td>Defense</td>\n",
       "    </tr>\n",
       "    <tr>\n",
       "      <td>15</td>\n",
       "      <td>Wrecking Ball</td>\n",
       "      <td>2.28%</td>\n",
       "      <td>49.84%</td>\n",
       "      <td>1.58%</td>\n",
       "      <td>2.75%</td>\n",
       "      <td>Tank</td>\n",
       "    </tr>\n",
       "    <tr>\n",
       "      <td>16</td>\n",
       "      <td>Orisa</td>\n",
       "      <td>1.98%</td>\n",
       "      <td>49.11%</td>\n",
       "      <td>1.83%</td>\n",
       "      <td>5.76%</td>\n",
       "      <td>Tank</td>\n",
       "    </tr>\n",
       "    <tr>\n",
       "      <td>17</td>\n",
       "      <td>Hanzo</td>\n",
       "      <td>1.61%</td>\n",
       "      <td>48.42%</td>\n",
       "      <td>1.90%</td>\n",
       "      <td>10.44%</td>\n",
       "      <td>Defense</td>\n",
       "    </tr>\n",
       "    <tr>\n",
       "      <td>18</td>\n",
       "      <td>Pharah</td>\n",
       "      <td>1.57%</td>\n",
       "      <td>53.46%</td>\n",
       "      <td>1.69%</td>\n",
       "      <td>14.08%</td>\n",
       "      <td>Offense</td>\n",
       "    </tr>\n",
       "    <tr>\n",
       "      <td>19</td>\n",
       "      <td>Widowmaker</td>\n",
       "      <td>1.54%</td>\n",
       "      <td>50.20%</td>\n",
       "      <td>1.47%</td>\n",
       "      <td>6.52%</td>\n",
       "      <td>Defense</td>\n",
       "    </tr>\n",
       "    <tr>\n",
       "      <td>20</td>\n",
       "      <td>Soldier: 76</td>\n",
       "      <td>1.50%</td>\n",
       "      <td>48.93%</td>\n",
       "      <td>1.67%</td>\n",
       "      <td>9.22%</td>\n",
       "      <td>Offense</td>\n",
       "    </tr>\n",
       "    <tr>\n",
       "      <td>21</td>\n",
       "      <td>Tracer</td>\n",
       "      <td>1.48%</td>\n",
       "      <td>48.66%</td>\n",
       "      <td>1.36%</td>\n",
       "      <td>6.24%</td>\n",
       "      <td>Offense</td>\n",
       "    </tr>\n",
       "    <tr>\n",
       "      <td>22</td>\n",
       "      <td>Doomfist</td>\n",
       "      <td>1.47%</td>\n",
       "      <td>52.06%</td>\n",
       "      <td>1.59%</td>\n",
       "      <td>6.97%</td>\n",
       "      <td>Offense</td>\n",
       "    </tr>\n",
       "    <tr>\n",
       "      <td>23</td>\n",
       "      <td>Zenyatta</td>\n",
       "      <td>1.43%</td>\n",
       "      <td>53.25%</td>\n",
       "      <td>1.68%</td>\n",
       "      <td>7.51%</td>\n",
       "      <td>Support</td>\n",
       "    </tr>\n",
       "    <tr>\n",
       "      <td>24</td>\n",
       "      <td>D.Va</td>\n",
       "      <td>1.34%</td>\n",
       "      <td>47.84%</td>\n",
       "      <td>1.70%</td>\n",
       "      <td>6.48%</td>\n",
       "      <td>Tank</td>\n",
       "    </tr>\n",
       "    <tr>\n",
       "      <td>25</td>\n",
       "      <td>Reaper</td>\n",
       "      <td>1.26%</td>\n",
       "      <td>48.90%</td>\n",
       "      <td>1.54%</td>\n",
       "      <td>12.74%</td>\n",
       "      <td>Offense</td>\n",
       "    </tr>\n",
       "    <tr>\n",
       "      <td>26</td>\n",
       "      <td>Torbjörn</td>\n",
       "      <td>0.93%</td>\n",
       "      <td>56.70%</td>\n",
       "      <td>2.31%</td>\n",
       "      <td>7.09%</td>\n",
       "      <td>Defense</td>\n",
       "    </tr>\n",
       "    <tr>\n",
       "      <td>27</td>\n",
       "      <td>Echo</td>\n",
       "      <td>0.69%</td>\n",
       "      <td>49.25%</td>\n",
       "      <td>1.80%</td>\n",
       "      <td>6.90%</td>\n",
       "      <td>Offense</td>\n",
       "    </tr>\n",
       "    <tr>\n",
       "      <td>28</td>\n",
       "      <td>Sombra</td>\n",
       "      <td>0.63%</td>\n",
       "      <td>47.12%</td>\n",
       "      <td>1.77%</td>\n",
       "      <td>11.59%</td>\n",
       "      <td>Offense</td>\n",
       "    </tr>\n",
       "    <tr>\n",
       "      <td>29</td>\n",
       "      <td>Symmetra</td>\n",
       "      <td>0.59%</td>\n",
       "      <td>57.29%</td>\n",
       "      <td>2.49%</td>\n",
       "      <td>8.37%</td>\n",
       "      <td>Support</td>\n",
       "    </tr>\n",
       "    <tr>\n",
       "      <td>30</td>\n",
       "      <td>Mei</td>\n",
       "      <td>0.46%</td>\n",
       "      <td>47.73%</td>\n",
       "      <td>2.13%</td>\n",
       "      <td>6.80%</td>\n",
       "      <td>Defense</td>\n",
       "    </tr>\n",
       "    <tr>\n",
       "      <td>31</td>\n",
       "      <td>Bastion</td>\n",
       "      <td>0.26%</td>\n",
       "      <td>52.45%</td>\n",
       "      <td>2.17%</td>\n",
       "      <td>15.03%</td>\n",
       "      <td>Defense</td>\n",
       "    </tr>\n",
       "  </tbody>\n",
       "</table>\n",
       "</div>"
      ],
      "text/plain": [
       "             Hero Pick Rate Win Rate Tie Rate On Fire      Rol\n",
       "0             Ana    11.18%   50.07%    2.01%   9.34%  Support\n",
       "1       Reinhardt    10.32%   51.52%    2.24%   6.71%     Tank\n",
       "2           Zarya     7.45%   52.62%    2.13%  12.00%     Tank\n",
       "3           Moira     6.89%   49.93%    2.09%   9.55%  Support\n",
       "4           Mercy     6.34%   51.84%    2.09%   2.23%  Support\n",
       "5           Genji     6.11%   50.66%    1.86%  11.82%  Offense\n",
       "6            Ashe     4.84%   53.09%    1.93%   9.37%  Offense\n",
       "7           Sigma     4.41%   50.80%    2.03%  12.07%     Tank\n",
       "8          McCree     4.04%   46.45%    1.57%   7.98%  Offense\n",
       "9         Roadhog     3.33%   49.71%    1.58%   9.18%     Tank\n",
       "10       Brigitte     3.07%   53.84%    1.80%   6.43%  Support\n",
       "11       Baptiste     2.93%   47.89%    2.37%  11.26%  Support\n",
       "12          Lúcio     2.93%   51.68%    1.65%  11.21%  Support\n",
       "13        Winston     2.60%   48.63%    1.58%   5.81%     Tank\n",
       "14        Junkrat     2.55%   52.49%    2.36%  11.12%  Defense\n",
       "15  Wrecking Ball     2.28%   49.84%    1.58%   2.75%     Tank\n",
       "16          Orisa     1.98%   49.11%    1.83%   5.76%     Tank\n",
       "17          Hanzo     1.61%   48.42%    1.90%  10.44%  Defense\n",
       "18         Pharah     1.57%   53.46%    1.69%  14.08%  Offense\n",
       "19     Widowmaker     1.54%   50.20%    1.47%   6.52%  Defense\n",
       "20    Soldier: 76     1.50%   48.93%    1.67%   9.22%  Offense\n",
       "21         Tracer     1.48%   48.66%    1.36%   6.24%  Offense\n",
       "22       Doomfist     1.47%   52.06%    1.59%   6.97%  Offense\n",
       "23       Zenyatta     1.43%   53.25%    1.68%   7.51%  Support\n",
       "24           D.Va     1.34%   47.84%    1.70%   6.48%     Tank\n",
       "25         Reaper     1.26%   48.90%    1.54%  12.74%  Offense\n",
       "26       Torbjörn     0.93%   56.70%    2.31%   7.09%  Defense\n",
       "27           Echo     0.69%   49.25%    1.80%   6.90%  Offense\n",
       "28         Sombra     0.63%   47.12%    1.77%  11.59%  Offense\n",
       "29       Symmetra     0.59%   57.29%    2.49%   8.37%  Support\n",
       "30            Mei     0.46%   47.73%    2.13%   6.80%  Defense\n",
       "31        Bastion     0.26%   52.45%    2.17%  15.03%  Defense"
      ]
     },
     "execution_count": 333,
     "metadata": {},
     "output_type": "execute_result"
    }
   ],
   "source": [
    "pd.DataFrame(td_text,columns = cabe_clean)"
   ]
  },
  {
   "cell_type": "code",
   "execution_count": null,
   "metadata": {},
   "outputs": [],
   "source": []
  }
 ],
 "metadata": {
  "kernelspec": {
   "display_name": "Python 3",
   "language": "python",
   "name": "python3"
  },
  "language_info": {
   "codemirror_mode": {
    "name": "ipython",
    "version": 3
   },
   "file_extension": ".py",
   "mimetype": "text/x-python",
   "name": "python",
   "nbconvert_exporter": "python",
   "pygments_lexer": "ipython3",
   "version": "3.7.4"
  }
 },
 "nbformat": 4,
 "nbformat_minor": 2
}
