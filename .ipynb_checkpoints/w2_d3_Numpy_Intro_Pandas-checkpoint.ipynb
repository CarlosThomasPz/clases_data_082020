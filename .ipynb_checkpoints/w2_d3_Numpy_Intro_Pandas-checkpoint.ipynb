{
 "cells": [
  {
   "cell_type": "markdown",
   "metadata": {},
   "source": [
    "# Numpy  (numerical python)"
   ]
  },
  {
   "cell_type": "code",
   "execution_count": 1,
   "metadata": {},
   "outputs": [],
   "source": [
    "import numpy as np"
   ]
  },
  {
   "cell_type": "code",
   "execution_count": 18,
   "metadata": {},
   "outputs": [],
   "source": [
    "lst = [[1,2,3,6],[-35,2,3,4]]"
   ]
  },
  {
   "cell_type": "code",
   "execution_count": 19,
   "metadata": {},
   "outputs": [
    {
     "data": {
      "text/plain": [
       "2"
      ]
     },
     "execution_count": 19,
     "metadata": {},
     "output_type": "execute_result"
    }
   ],
   "source": [
    "len(lst)"
   ]
  },
  {
   "cell_type": "code",
   "execution_count": 20,
   "metadata": {},
   "outputs": [],
   "source": [
    "arr = np.array(lst)"
   ]
  },
  {
   "cell_type": "code",
   "execution_count": 21,
   "metadata": {},
   "outputs": [
    {
     "data": {
      "text/plain": [
       "(2, 4)"
      ]
     },
     "execution_count": 21,
     "metadata": {},
     "output_type": "execute_result"
    }
   ],
   "source": [
    "arr.shape"
   ]
  },
  {
   "cell_type": "code",
   "execution_count": 22,
   "metadata": {},
   "outputs": [
    {
     "data": {
      "text/plain": [
       "-1.75"
      ]
     },
     "execution_count": 22,
     "metadata": {},
     "output_type": "execute_result"
    }
   ],
   "source": [
    "arr.mean()"
   ]
  },
  {
   "cell_type": "code",
   "execution_count": 23,
   "metadata": {},
   "outputs": [
    {
     "data": {
      "text/plain": [
       "6"
      ]
     },
     "execution_count": 23,
     "metadata": {},
     "output_type": "execute_result"
    }
   ],
   "source": [
    "arr.max()"
   ]
  },
  {
   "cell_type": "code",
   "execution_count": 24,
   "metadata": {},
   "outputs": [
    {
     "data": {
      "text/plain": [
       "-35"
      ]
     },
     "execution_count": 24,
     "metadata": {},
     "output_type": "execute_result"
    }
   ],
   "source": [
    "arr.min()"
   ]
  },
  {
   "cell_type": "code",
   "execution_count": 25,
   "metadata": {},
   "outputs": [
    {
     "data": {
      "text/plain": [
       "array([[0.88338418, 0.44489124, 0.6839641 , 0.56246467],\n",
       "       [0.10165283, 0.43080579, 0.41930329, 0.31698336]])"
      ]
     },
     "execution_count": 25,
     "metadata": {},
     "output_type": "execute_result"
    }
   ],
   "source": [
    "a = np.random.random((2,4))\n",
    "a"
   ]
  },
  {
   "cell_type": "code",
   "execution_count": 30,
   "metadata": {},
   "outputs": [],
   "source": [
    "b = np.random.randint(0,100)"
   ]
  },
  {
   "cell_type": "code",
   "execution_count": 31,
   "metadata": {},
   "outputs": [
    {
     "data": {
      "text/plain": [
       "46"
      ]
     },
     "execution_count": 31,
     "metadata": {},
     "output_type": "execute_result"
    }
   ],
   "source": [
    "b"
   ]
  },
  {
   "cell_type": "code",
   "execution_count": 33,
   "metadata": {},
   "outputs": [],
   "source": [
    "n = np.random.randn(40)"
   ]
  },
  {
   "cell_type": "code",
   "execution_count": 36,
   "metadata": {},
   "outputs": [
    {
     "data": {
      "text/plain": [
       "(40,)"
      ]
     },
     "execution_count": 36,
     "metadata": {},
     "output_type": "execute_result"
    }
   ],
   "source": [
    "n.shape"
   ]
  },
  {
   "cell_type": "code",
   "execution_count": 37,
   "metadata": {},
   "outputs": [
    {
     "data": {
      "text/plain": [
       "8"
      ]
     },
     "execution_count": 37,
     "metadata": {},
     "output_type": "execute_result"
    }
   ],
   "source": [
    "a.size"
   ]
  },
  {
   "cell_type": "code",
   "execution_count": 38,
   "metadata": {},
   "outputs": [],
   "source": [
    "e = np.random.random((3,3,2))"
   ]
  },
  {
   "cell_type": "code",
   "execution_count": 41,
   "metadata": {},
   "outputs": [
    {
     "data": {
      "text/plain": [
       "array([[[0.36520862, 0.49079552],\n",
       "        [0.82126611, 0.80413352],\n",
       "        [0.49136544, 0.03244754]],\n",
       "\n",
       "       [[0.1130994 , 0.14003526],\n",
       "        [0.48693556, 0.11018398],\n",
       "        [0.72301585, 0.49081032]],\n",
       "\n",
       "       [[0.12134491, 0.11313969],\n",
       "        [0.16125254, 0.73544116],\n",
       "        [0.69563731, 0.21192317]]])"
      ]
     },
     "execution_count": 41,
     "metadata": {},
     "output_type": "execute_result"
    }
   ],
   "source": [
    "e"
   ]
  },
  {
   "cell_type": "code",
   "execution_count": 40,
   "metadata": {},
   "outputs": [
    {
     "data": {
      "text/plain": [
       "(3, 3, 2)"
      ]
     },
     "execution_count": 40,
     "metadata": {},
     "output_type": "execute_result"
    }
   ],
   "source": [
    "e.shape"
   ]
  },
  {
   "cell_type": "code",
   "execution_count": 42,
   "metadata": {},
   "outputs": [],
   "source": [
    "# tensor rango 4\n",
    "c=np.random.random((2,3,4,5))"
   ]
  },
  {
   "cell_type": "code",
   "execution_count": 44,
   "metadata": {},
   "outputs": [
    {
     "data": {
      "text/plain": [
       "array([[[[0.78858179, 0.06210274, 0.38381698, 0.01886818, 0.9333036 ],\n",
       "         [0.7638034 , 0.28382557, 0.12984602, 0.38507903, 0.11958195],\n",
       "         [0.09285373, 0.53127346, 0.22483843, 0.90662075, 0.1182086 ],\n",
       "         [0.9206134 , 0.61688716, 0.70922547, 0.27335269, 0.53691504]],\n",
       "\n",
       "        [[0.47256367, 0.24886476, 0.72955604, 0.04476553, 0.00289302],\n",
       "         [0.46648391, 0.73981897, 0.31240998, 0.77406668, 0.87689555],\n",
       "         [0.34532763, 0.75648353, 0.27206019, 0.90046618, 0.43486318],\n",
       "         [0.97629038, 0.7322684 , 0.66534774, 0.29103284, 0.98706294]],\n",
       "\n",
       "        [[0.09852516, 0.74229107, 0.43900107, 0.5678412 , 0.18188652],\n",
       "         [0.77122631, 0.47563387, 0.58827119, 0.76745676, 0.60746641],\n",
       "         [0.84165382, 0.23231611, 0.33769344, 0.8494476 , 0.69307842],\n",
       "         [0.17471244, 0.68103781, 0.04351028, 0.77921719, 0.08872063]]],\n",
       "\n",
       "\n",
       "       [[[0.5149087 , 0.92110894, 0.95462732, 0.37620527, 0.59008268],\n",
       "         [0.46806814, 0.88634865, 0.91816555, 0.09378653, 0.59059414],\n",
       "         [0.67539195, 0.31999164, 0.37714516, 0.48635566, 0.29982588],\n",
       "         [0.06477702, 0.17202815, 0.10287403, 0.11334579, 0.74127823]],\n",
       "\n",
       "        [[0.72125997, 0.18162995, 0.36726881, 0.98977199, 0.45942153],\n",
       "         [0.9219198 , 0.16188427, 0.80685305, 0.90152997, 0.53129764],\n",
       "         [0.12151421, 0.02015281, 0.90524441, 0.88176365, 0.56449549],\n",
       "         [0.44036631, 0.43293668, 0.41379148, 0.20622848, 0.64475831]],\n",
       "\n",
       "        [[0.94023624, 0.78312182, 0.52314502, 0.40689657, 0.5253141 ],\n",
       "         [0.21903021, 0.08647217, 0.70172905, 0.3429337 , 0.05703087],\n",
       "         [0.84758232, 0.8454834 , 0.19850728, 0.48466431, 0.03658775],\n",
       "         [0.95560993, 0.4783889 , 0.31179447, 0.3283414 , 0.24217469]]]])"
      ]
     },
     "execution_count": 44,
     "metadata": {},
     "output_type": "execute_result"
    }
   ],
   "source": [
    "c"
   ]
  },
  {
   "cell_type": "code",
   "execution_count": 48,
   "metadata": {},
   "outputs": [
    {
     "data": {
      "text/plain": [
       "0.7885817945300696"
      ]
     },
     "execution_count": 48,
     "metadata": {},
     "output_type": "execute_result"
    }
   ],
   "source": [
    "c[0][0][0][0]"
   ]
  },
  {
   "cell_type": "code",
   "execution_count": 51,
   "metadata": {},
   "outputs": [
    {
     "data": {
      "text/plain": [
       "array([[[0.78858179, 0.06210274, 0.38381698, 0.01886818, 0.9333036 ],\n",
       "        [0.7638034 , 0.28382557, 0.12984602, 0.38507903, 0.11958195],\n",
       "        [0.09285373, 0.53127346, 0.22483843, 0.90662075, 0.1182086 ],\n",
       "        [0.9206134 , 0.61688716, 0.70922547, 0.27335269, 0.53691504]]])"
      ]
     },
     "execution_count": 51,
     "metadata": {},
     "output_type": "execute_result"
    }
   ],
   "source": [
    "c[:1,0 ]"
   ]
  },
  {
   "cell_type": "code",
   "execution_count": 52,
   "metadata": {},
   "outputs": [
    {
     "data": {
      "text/plain": [
       "0.7885817945300696"
      ]
     },
     "execution_count": 52,
     "metadata": {},
     "output_type": "execute_result"
    }
   ],
   "source": [
    "c[0,0,0,0]"
   ]
  },
  {
   "cell_type": "code",
   "execution_count": 54,
   "metadata": {},
   "outputs": [
    {
     "ename": "TypeError",
     "evalue": "list indices must be integers or slices, not tuple",
     "output_type": "error",
     "traceback": [
      "\u001b[1;31m---------------------------------------------------------------------------\u001b[0m",
      "\u001b[1;31mTypeError\u001b[0m                                 Traceback (most recent call last)",
      "\u001b[1;32m<ipython-input-54-b901613b203a>\u001b[0m in \u001b[0;36m<module>\u001b[1;34m\u001b[0m\n\u001b[1;32m----> 1\u001b[1;33m \u001b[0mlst\u001b[0m\u001b[1;33m[\u001b[0m\u001b[1;36m0\u001b[0m\u001b[1;33m,\u001b[0m\u001b[1;36m0\u001b[0m\u001b[1;33m]\u001b[0m\u001b[1;33m\u001b[0m\u001b[1;33m\u001b[0m\u001b[0m\n\u001b[0m",
      "\u001b[1;31mTypeError\u001b[0m: list indices must be integers or slices, not tuple"
     ]
    }
   ],
   "source": [
    "lst[0,0]"
   ]
  },
  {
   "cell_type": "code",
   "execution_count": 56,
   "metadata": {},
   "outputs": [
    {
     "data": {
      "text/plain": [
       "array([[0.90274585, 0.27792145, 0.24649244, 0.94874544],\n",
       "       [0.09250593, 0.65241076, 0.91337268, 0.02142954]])"
      ]
     },
     "execution_count": 56,
     "metadata": {},
     "output_type": "execute_result"
    }
   ],
   "source": [
    "z = np.random.random((2,4))\n",
    "z"
   ]
  },
  {
   "cell_type": "code",
   "execution_count": 57,
   "metadata": {},
   "outputs": [
    {
     "data": {
      "text/plain": [
       "array([[1.78613003, 0.72281269, 0.93045655, 1.51121011],\n",
       "       [0.19415877, 1.08321655, 1.33267597, 0.33841289]])"
      ]
     },
     "execution_count": 57,
     "metadata": {},
     "output_type": "execute_result"
    }
   ],
   "source": [
    "a+z"
   ]
  },
  {
   "cell_type": "code",
   "execution_count": 61,
   "metadata": {},
   "outputs": [
    {
     "data": {
      "text/plain": [
       "array([[0.12494387, 0.65994035, 0.36853192, 0.47445344],\n",
       "       [0.69097872, 0.3030461 , 0.86445094, 0.31622228]])"
      ]
     },
     "execution_count": 61,
     "metadata": {},
     "output_type": "execute_result"
    }
   ],
   "source": [
    "z = np.random.random((2,4))\n",
    "z"
   ]
  },
  {
   "cell_type": "code",
   "execution_count": 62,
   "metadata": {},
   "outputs": [
    {
     "data": {
      "text/plain": [
       "array([[0.11037344, 0.29360168, 0.25206261, 0.2668633 ],\n",
       "       [0.07023994, 0.13055401, 0.36246712, 0.1002372 ]])"
      ]
     },
     "execution_count": 62,
     "metadata": {},
     "output_type": "execute_result"
    }
   ],
   "source": [
    "a*z"
   ]
  },
  {
   "cell_type": "code",
   "execution_count": 63,
   "metadata": {},
   "outputs": [],
   "source": [
    "m = np.array([1,2,3,4,5,6])"
   ]
  },
  {
   "cell_type": "code",
   "execution_count": 64,
   "metadata": {},
   "outputs": [],
   "source": [
    "k = np.array([7,8,9,10,11,12])"
   ]
  },
  {
   "cell_type": "code",
   "execution_count": 67,
   "metadata": {},
   "outputs": [
    {
     "name": "stdout",
     "output_type": "stream",
     "text": [
      "(6,) (6,)\n"
     ]
    }
   ],
   "source": [
    "print(k.shape, m.shape)"
   ]
  },
  {
   "cell_type": "code",
   "execution_count": 68,
   "metadata": {},
   "outputs": [
    {
     "data": {
      "text/plain": [
       "217"
      ]
     },
     "execution_count": 68,
     "metadata": {},
     "output_type": "execute_result"
    }
   ],
   "source": [
    "np.dot(m,k)"
   ]
  },
  {
   "cell_type": "code",
   "execution_count": 70,
   "metadata": {},
   "outputs": [
    {
     "data": {
      "text/plain": [
       "3.8434494594949644"
      ]
     },
     "execution_count": 70,
     "metadata": {},
     "output_type": "execute_result"
    }
   ],
   "source": [
    "a.sum()"
   ]
  },
  {
   "cell_type": "code",
   "execution_count": 71,
   "metadata": {},
   "outputs": [
    {
     "data": {
      "text/plain": [
       "array([0.98503701, 0.87569703, 1.10326739, 0.87944802])"
      ]
     },
     "execution_count": 71,
     "metadata": {},
     "output_type": "execute_result"
    }
   ],
   "source": [
    "np.sum(a, axis = 0)"
   ]
  },
  {
   "cell_type": "code",
   "execution_count": 72,
   "metadata": {},
   "outputs": [
    {
     "data": {
      "text/plain": [
       "array([[0.88338418, 0.44489124, 0.6839641 , 0.56246467],\n",
       "       [0.10165283, 0.43080579, 0.41930329, 0.31698336]])"
      ]
     },
     "execution_count": 72,
     "metadata": {},
     "output_type": "execute_result"
    }
   ],
   "source": [
    "a"
   ]
  },
  {
   "cell_type": "code",
   "execution_count": 74,
   "metadata": {},
   "outputs": [
    {
     "data": {
      "text/plain": [
       "array([2.57470419, 1.26874527])"
      ]
     },
     "execution_count": 74,
     "metadata": {},
     "output_type": "execute_result"
    }
   ],
   "source": [
    "np.sum(a,axis = 1)"
   ]
  },
  {
   "cell_type": "code",
   "execution_count": 75,
   "metadata": {},
   "outputs": [
    {
     "data": {
      "text/plain": [
       "array([[[1.30349049, 0.98321168, 1.3384443 , 0.39507345, 1.52338628],\n",
       "        [1.23187154, 1.17017422, 1.04801157, 0.47886556, 0.7101761 ],\n",
       "        [0.76824568, 0.85126509, 0.6019836 , 1.39297642, 0.41803447],\n",
       "        [0.98539042, 0.78891531, 0.8120995 , 0.38669848, 1.27819327]],\n",
       "\n",
       "       [[1.19382364, 0.43049471, 1.09682486, 1.03453752, 0.46231455],\n",
       "        [1.3884037 , 0.90170325, 1.11926303, 1.67559665, 1.40819319],\n",
       "        [0.46684184, 0.77663634, 1.1773046 , 1.78222984, 0.99935867],\n",
       "        [1.41665669, 1.16520508, 1.07913922, 0.49726132, 1.63182125]],\n",
       "\n",
       "       [[1.03876139, 1.52541289, 0.96214609, 0.97473777, 0.70720062],\n",
       "        [0.99025652, 0.56210604, 1.29000023, 1.11039046, 0.66449728],\n",
       "        [1.68923614, 1.07779951, 0.53620072, 1.33411191, 0.72966617],\n",
       "        [1.13032237, 1.15942671, 0.35530475, 1.10755859, 0.33089532]]])"
      ]
     },
     "execution_count": 75,
     "metadata": {},
     "output_type": "execute_result"
    }
   ],
   "source": [
    "np.sum(c, axis = 0)"
   ]
  },
  {
   "cell_type": "code",
   "execution_count": 101,
   "metadata": {},
   "outputs": [
    {
     "data": {
      "text/plain": [
       "1.3596706222987394"
      ]
     },
     "execution_count": 101,
     "metadata": {},
     "output_type": "execute_result"
    }
   ],
   "source": [
    "c[0,0,0,0]+c[0,1,0,0]+c[0,2,0,0]"
   ]
  },
  {
   "cell_type": "code",
   "execution_count": 79,
   "metadata": {},
   "outputs": [
    {
     "data": {
      "text/plain": [
       "array([[[1.35967062, 1.05325857, 1.5523741 , 0.63147491, 1.11808314],\n",
       "        [2.00151361, 1.49927842, 1.03052719, 1.92660247, 1.60394392],\n",
       "        [1.27983518, 1.5200731 , 0.83459206, 2.65653454, 1.2461502 ],\n",
       "        [2.07161623, 2.03019337, 1.41808348, 1.34360272, 1.61269861]],\n",
       "\n",
       "       [[2.17640491, 1.88586071, 1.84504115, 1.77287383, 1.57481831],\n",
       "        [1.60901815, 1.1347051 , 2.42674764, 1.33825019, 1.17892265],\n",
       "        [1.64448849, 1.18562785, 1.48089686, 1.85278363, 0.90090911],\n",
       "        [1.46075325, 1.08335373, 0.82845998, 0.64791567, 1.62821122]]])"
      ]
     },
     "execution_count": 79,
     "metadata": {},
     "output_type": "execute_result"
    }
   ],
   "source": [
    "np.sum(c, axis = 1)"
   ]
  },
  {
   "cell_type": "code",
   "execution_count": 117,
   "metadata": {},
   "outputs": [
    {
     "data": {
      "text/plain": [
       "array([[[2.56585232, 1.49408893, 1.4477269 , 1.58392065, 1.7080092 ],\n",
       "        [2.26066559, 2.47743566, 1.97937396, 2.01033124, 2.30171469],\n",
       "        [1.88611773, 2.13127887, 1.40847597, 2.96396275, 1.57115198]],\n",
       "\n",
       "       [[1.72314581, 2.29947737, 2.35281206, 1.06969325, 2.22178093],\n",
       "        [2.20506029, 0.79660372, 2.49315776, 2.97929409, 2.19997296],\n",
       "        [2.9624587 , 2.19346629, 1.73517581, 1.56283598, 0.86110741]]])"
      ]
     },
     "execution_count": 117,
     "metadata": {},
     "output_type": "execute_result"
    }
   ],
   "source": [
    "np.sum(c , axis = 2)"
   ]
  },
  {
   "cell_type": "code",
   "execution_count": 118,
   "metadata": {},
   "outputs": [
    {
     "data": {
      "text/plain": [
       "(2, 3, 5)"
      ]
     },
     "execution_count": 118,
     "metadata": {},
     "output_type": "execute_result"
    }
   ],
   "source": [
    "np.sum(c , axis = 2).shape"
   ]
  },
  {
   "cell_type": "code",
   "execution_count": 99,
   "metadata": {},
   "outputs": [
    {
     "data": {
      "text/plain": [
       "3.1696750948904335"
      ]
     },
     "execution_count": 99,
     "metadata": {},
     "output_type": "execute_result"
    }
   ],
   "source": [
    "c[0,1,1].sum()"
   ]
  },
  {
   "cell_type": "code",
   "execution_count": 114,
   "metadata": {},
   "outputs": [
    {
     "data": {
      "text/plain": [
       "0.46648390608598256"
      ]
     },
     "execution_count": 114,
     "metadata": {},
     "output_type": "execute_result"
    }
   ],
   "source": [
    "c[0,1,1,0]"
   ]
  },
  {
   "cell_type": "code",
   "execution_count": 125,
   "metadata": {},
   "outputs": [],
   "source": [
    "d = np.random.randint(1,10,[2,3,4,5])"
   ]
  },
  {
   "cell_type": "code",
   "execution_count": 142,
   "metadata": {},
   "outputs": [
    {
     "data": {
      "text/plain": [
       "(2, 3, 4, 5)"
      ]
     },
     "execution_count": 142,
     "metadata": {},
     "output_type": "execute_result"
    }
   ],
   "source": [
    "d.shape"
   ]
  },
  {
   "cell_type": "code",
   "execution_count": 143,
   "metadata": {},
   "outputs": [
    {
     "data": {
      "text/plain": [
       "array([[[[7, 5, 9, 5, 1],\n",
       "         [2, 9, 8, 5, 3],\n",
       "         [5, 1, 6, 5, 2],\n",
       "         [2, 4, 7, 6, 2]],\n",
       "\n",
       "        [[9, 5, 3, 3, 7],\n",
       "         [1, 3, 9, 8, 3],\n",
       "         [3, 8, 9, 7, 8],\n",
       "         [8, 7, 7, 9, 2]],\n",
       "\n",
       "        [[2, 9, 4, 1, 2],\n",
       "         [6, 8, 3, 8, 3],\n",
       "         [2, 4, 5, 3, 3],\n",
       "         [1, 3, 8, 9, 5]]],\n",
       "\n",
       "\n",
       "       [[[5, 5, 9, 1, 6],\n",
       "         [6, 7, 3, 7, 7],\n",
       "         [9, 2, 5, 2, 4],\n",
       "         [7, 5, 9, 5, 3]],\n",
       "\n",
       "        [[9, 7, 4, 5, 5],\n",
       "         [2, 9, 8, 3, 6],\n",
       "         [4, 8, 3, 7, 7],\n",
       "         [2, 4, 2, 4, 4]],\n",
       "\n",
       "        [[3, 7, 6, 6, 8],\n",
       "         [1, 8, 6, 8, 6],\n",
       "         [9, 3, 6, 1, 5],\n",
       "         [6, 2, 4, 7, 6]]]])"
      ]
     },
     "execution_count": 143,
     "metadata": {},
     "output_type": "execute_result"
    }
   ],
   "source": [
    "d"
   ]
  },
  {
   "cell_type": "code",
   "execution_count": 144,
   "metadata": {},
   "outputs": [
    {
     "data": {
      "text/plain": [
       "array([[[12, 10, 18,  6,  7],\n",
       "        [ 8, 16, 11, 12, 10],\n",
       "        [14,  3, 11,  7,  6],\n",
       "        [ 9,  9, 16, 11,  5]],\n",
       "\n",
       "       [[18, 12,  7,  8, 12],\n",
       "        [ 3, 12, 17, 11,  9],\n",
       "        [ 7, 16, 12, 14, 15],\n",
       "        [10, 11,  9, 13,  6]],\n",
       "\n",
       "       [[ 5, 16, 10,  7, 10],\n",
       "        [ 7, 16,  9, 16,  9],\n",
       "        [11,  7, 11,  4,  8],\n",
       "        [ 7,  5, 12, 16, 11]]])"
      ]
     },
     "execution_count": 144,
     "metadata": {},
     "output_type": "execute_result"
    }
   ],
   "source": [
    "np.sum(d,axis = 0) # se suman los dos arreglos principales elemento a elemento- suma de cajas"
   ]
  },
  {
   "cell_type": "code",
   "execution_count": 139,
   "metadata": {},
   "outputs": [
    {
     "data": {
      "text/plain": [
       "array([[[18, 19, 16,  9, 10],\n",
       "        [ 9, 20, 20, 21,  9],\n",
       "        [10, 13, 20, 15, 13],\n",
       "        [11, 14, 22, 24,  9]],\n",
       "\n",
       "       [[17, 19, 19, 12, 19],\n",
       "        [ 9, 24, 17, 18, 19],\n",
       "        [22, 13, 14, 10, 16],\n",
       "        [15, 11, 15, 16, 13]]])"
      ]
     },
     "execution_count": 139,
     "metadata": {},
     "output_type": "execute_result"
    }
   ],
   "source": [
    "np.sum(d,axis = 1) #Se suman de los valores internos de la segunda dimension"
   ]
  },
  {
   "cell_type": "code",
   "execution_count": 140,
   "metadata": {},
   "outputs": [
    {
     "data": {
      "text/plain": [
       "array([[[16, 19, 30, 21,  8],\n",
       "        [21, 23, 28, 27, 20],\n",
       "        [11, 24, 20, 21, 13]],\n",
       "\n",
       "       [[27, 19, 26, 15, 20],\n",
       "        [17, 28, 17, 19, 22],\n",
       "        [19, 20, 22, 22, 25]]])"
      ]
     },
     "execution_count": 140,
     "metadata": {},
     "output_type": "execute_result"
    }
   ],
   "source": [
    "np.sum(d,axis = 2) #Se suman filas de las matrices "
   ]
  },
  {
   "cell_type": "code",
   "execution_count": 145,
   "metadata": {},
   "outputs": [
    {
     "data": {
      "text/plain": [
       "array([[[27, 27, 19, 21],\n",
       "        [27, 24, 35, 33],\n",
       "        [18, 28, 17, 26]],\n",
       "\n",
       "       [[26, 30, 22, 29],\n",
       "        [30, 28, 29, 16],\n",
       "        [30, 29, 24, 25]]])"
      ]
     },
     "execution_count": 145,
     "metadata": {},
     "output_type": "execute_result"
    }
   ],
   "source": [
    "np.sum(d,axis = 3) #Se suman columnas de las matrices"
   ]
  },
  {
   "cell_type": "code",
   "execution_count": 146,
   "metadata": {},
   "outputs": [
    {
     "data": {
      "text/plain": [
       "array([[[[7, 5],\n",
       "         [9, 9],\n",
       "         [2, 3]],\n",
       "\n",
       "        [[2, 6],\n",
       "         [1, 2],\n",
       "         [6, 1]],\n",
       "\n",
       "        [[5, 9],\n",
       "         [3, 4],\n",
       "         [2, 9]],\n",
       "\n",
       "        [[2, 7],\n",
       "         [8, 2],\n",
       "         [1, 6]]],\n",
       "\n",
       "\n",
       "       [[[5, 5],\n",
       "         [5, 7],\n",
       "         [9, 7]],\n",
       "\n",
       "        [[9, 7],\n",
       "         [3, 9],\n",
       "         [8, 8]],\n",
       "\n",
       "        [[1, 2],\n",
       "         [8, 8],\n",
       "         [4, 3]],\n",
       "\n",
       "        [[4, 5],\n",
       "         [7, 4],\n",
       "         [3, 2]]],\n",
       "\n",
       "\n",
       "       [[[9, 9],\n",
       "         [3, 4],\n",
       "         [4, 6]],\n",
       "\n",
       "        [[8, 3],\n",
       "         [9, 8],\n",
       "         [3, 6]],\n",
       "\n",
       "        [[6, 5],\n",
       "         [9, 3],\n",
       "         [5, 6]],\n",
       "\n",
       "        [[7, 9],\n",
       "         [7, 2],\n",
       "         [8, 4]]],\n",
       "\n",
       "\n",
       "       [[[5, 1],\n",
       "         [3, 5],\n",
       "         [1, 6]],\n",
       "\n",
       "        [[5, 7],\n",
       "         [8, 3],\n",
       "         [8, 8]],\n",
       "\n",
       "        [[5, 2],\n",
       "         [7, 7],\n",
       "         [3, 1]],\n",
       "\n",
       "        [[6, 5],\n",
       "         [9, 4],\n",
       "         [9, 7]]],\n",
       "\n",
       "\n",
       "       [[[1, 6],\n",
       "         [7, 5],\n",
       "         [2, 8]],\n",
       "\n",
       "        [[3, 7],\n",
       "         [3, 6],\n",
       "         [3, 6]],\n",
       "\n",
       "        [[2, 4],\n",
       "         [8, 7],\n",
       "         [3, 5]],\n",
       "\n",
       "        [[2, 3],\n",
       "         [2, 4],\n",
       "         [5, 6]]]])"
      ]
     },
     "execution_count": 146,
     "metadata": {},
     "output_type": "execute_result"
    }
   ],
   "source": [
    "d.T"
   ]
  },
  {
   "cell_type": "code",
   "execution_count": null,
   "metadata": {},
   "outputs": [],
   "source": []
  }
 ],
 "metadata": {
  "kernelspec": {
   "display_name": "Python 3.7.4 64-bit",
   "language": "python",
   "name": "python37464bit456c2aecd4e54895bedac2416c319c0f"
  },
  "language_info": {
   "codemirror_mode": {
    "name": "ipython",
    "version": 3
   },
   "file_extension": ".py",
   "mimetype": "text/x-python",
   "name": "python",
   "nbconvert_exporter": "python",
   "pygments_lexer": "ipython3",
   "version": "3.7.4"
  }
 },
 "nbformat": 4,
 "nbformat_minor": 2
}
