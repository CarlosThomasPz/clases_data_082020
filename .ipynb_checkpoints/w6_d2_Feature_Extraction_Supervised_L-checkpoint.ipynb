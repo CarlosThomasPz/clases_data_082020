{
 "cells": [
  {
   "cell_type": "markdown",
   "metadata": {},
   "source": [
    "# Feature Extraction and Engineering"
   ]
  },
  {
   "cell_type": "code",
   "execution_count": 2,
   "metadata": {},
   "outputs": [],
   "source": [
    "import zipfile"
   ]
  },
  {
   "cell_type": "code",
   "execution_count": 4,
   "metadata": {},
   "outputs": [],
   "source": [
    "zf = zipfile.ZipFile('data/mahindra.zip')"
   ]
  },
  {
   "cell_type": "code",
   "execution_count": 6,
   "metadata": {},
   "outputs": [],
   "source": [
    "ctr = pd.read_csv(zf.open('test.csv'))"
   ]
  },
  {
   "cell_type": "code",
   "execution_count": 8,
   "metadata": {},
   "outputs": [
    {
     "data": {
      "text/html": [
       "<div>\n",
       "<style scoped>\n",
       "    .dataframe tbody tr th:only-of-type {\n",
       "        vertical-align: middle;\n",
       "    }\n",
       "\n",
       "    .dataframe tbody tr th {\n",
       "        vertical-align: top;\n",
       "    }\n",
       "\n",
       "    .dataframe thead th {\n",
       "        text-align: right;\n",
       "    }\n",
       "</style>\n",
       "<table border=\"1\" class=\"dataframe\">\n",
       "  <thead>\n",
       "    <tr style=\"text-align: right;\">\n",
       "      <th></th>\n",
       "      <th>reservation_id</th>\n",
       "      <th>booking_date</th>\n",
       "      <th>checkin_date</th>\n",
       "      <th>checkout_date</th>\n",
       "      <th>channel_code</th>\n",
       "      <th>main_product_code</th>\n",
       "      <th>numberofadults</th>\n",
       "      <th>numberofchildren</th>\n",
       "      <th>persontravellingid</th>\n",
       "      <th>resort_region_code</th>\n",
       "      <th>...</th>\n",
       "      <th>season_holidayed_code</th>\n",
       "      <th>state_code_residence</th>\n",
       "      <th>state_code_resort</th>\n",
       "      <th>total_pax</th>\n",
       "      <th>member_age_buckets</th>\n",
       "      <th>booking_type_code</th>\n",
       "      <th>memberid</th>\n",
       "      <th>cluster_code</th>\n",
       "      <th>reservationstatusid_code</th>\n",
       "      <th>resort_id</th>\n",
       "    </tr>\n",
       "  </thead>\n",
       "  <tbody>\n",
       "    <tr>\n",
       "      <th>0</th>\n",
       "      <td>7dae1ce6bc8f69481328f2be5c4943077dad5598b5f66d...</td>\n",
       "      <td>05/04/18</td>\n",
       "      <td>05/04/18</td>\n",
       "      <td>06/04/18</td>\n",
       "      <td>3</td>\n",
       "      <td>2</td>\n",
       "      <td>2</td>\n",
       "      <td>0</td>\n",
       "      <td>45</td>\n",
       "      <td>3</td>\n",
       "      <td>...</td>\n",
       "      <td>2.0</td>\n",
       "      <td>2.0</td>\n",
       "      <td>3</td>\n",
       "      <td>3</td>\n",
       "      <td>H</td>\n",
       "      <td>1</td>\n",
       "      <td>2114944930dcc42ce5b9b50ae965cf8a9c04e46be63d84...</td>\n",
       "      <td>A</td>\n",
       "      <td>C</td>\n",
       "      <td>9f14025af0065b30e47e23ebb3b491d39ae8ed17d33739...</td>\n",
       "    </tr>\n",
       "    <tr>\n",
       "      <th>1</th>\n",
       "      <td>fe0d4e444e1818436c88f72f1cf800536c2f785e59baeb...</td>\n",
       "      <td>24/05/15</td>\n",
       "      <td>23/06/15</td>\n",
       "      <td>27/06/15</td>\n",
       "      <td>1</td>\n",
       "      <td>2</td>\n",
       "      <td>4</td>\n",
       "      <td>0</td>\n",
       "      <td>45</td>\n",
       "      <td>1</td>\n",
       "      <td>...</td>\n",
       "      <td>2.0</td>\n",
       "      <td>2.0</td>\n",
       "      <td>4</td>\n",
       "      <td>2</td>\n",
       "      <td>H</td>\n",
       "      <td>1</td>\n",
       "      <td>2114944930dcc42ce5b9b50ae965cf8a9c04e46be63d84...</td>\n",
       "      <td>F</td>\n",
       "      <td>A</td>\n",
       "      <td>e7f6c011776e8db7cd330b54174fd76f7d0216b612387a...</td>\n",
       "    </tr>\n",
       "    <tr>\n",
       "      <th>2</th>\n",
       "      <td>540bd4285ad8168e8388f84ee74a82cd4f97dc0a404d3e...</td>\n",
       "      <td>21/07/15</td>\n",
       "      <td>07/08/15</td>\n",
       "      <td>10/08/15</td>\n",
       "      <td>3</td>\n",
       "      <td>2</td>\n",
       "      <td>3</td>\n",
       "      <td>0</td>\n",
       "      <td>45</td>\n",
       "      <td>2</td>\n",
       "      <td>...</td>\n",
       "      <td>4.0</td>\n",
       "      <td>2.0</td>\n",
       "      <td>2</td>\n",
       "      <td>3</td>\n",
       "      <td>H</td>\n",
       "      <td>1</td>\n",
       "      <td>2114944930dcc42ce5b9b50ae965cf8a9c04e46be63d84...</td>\n",
       "      <td>D</td>\n",
       "      <td>A</td>\n",
       "      <td>d4735e3a265e16eee03f59718b9b5d03019c07d8b6c51f...</td>\n",
       "    </tr>\n",
       "    <tr>\n",
       "      <th>3</th>\n",
       "      <td>09593c907ae262e46f655b4db9e14f54a19eadcfdd2679...</td>\n",
       "      <td>31/07/15</td>\n",
       "      <td>22/10/15</td>\n",
       "      <td>25/10/15</td>\n",
       "      <td>1</td>\n",
       "      <td>2</td>\n",
       "      <td>3</td>\n",
       "      <td>0</td>\n",
       "      <td>45</td>\n",
       "      <td>1</td>\n",
       "      <td>...</td>\n",
       "      <td>2.0</td>\n",
       "      <td>2.0</td>\n",
       "      <td>6</td>\n",
       "      <td>3</td>\n",
       "      <td>H</td>\n",
       "      <td>1</td>\n",
       "      <td>2114944930dcc42ce5b9b50ae965cf8a9c04e46be63d84...</td>\n",
       "      <td>F</td>\n",
       "      <td>A</td>\n",
       "      <td>49d180ecf56132819571bf39d9b7b342522a2ac6d23c14...</td>\n",
       "    </tr>\n",
       "    <tr>\n",
       "      <th>4</th>\n",
       "      <td>f4c50caac68051faf37551d70bb17eebef2a20e2244cb1...</td>\n",
       "      <td>01/07/16</td>\n",
       "      <td>01/10/16</td>\n",
       "      <td>05/10/16</td>\n",
       "      <td>1</td>\n",
       "      <td>2</td>\n",
       "      <td>4</td>\n",
       "      <td>0</td>\n",
       "      <td>45</td>\n",
       "      <td>1</td>\n",
       "      <td>...</td>\n",
       "      <td>2.0</td>\n",
       "      <td>2.0</td>\n",
       "      <td>11</td>\n",
       "      <td>2</td>\n",
       "      <td>H</td>\n",
       "      <td>1</td>\n",
       "      <td>2114944930dcc42ce5b9b50ae965cf8a9c04e46be63d84...</td>\n",
       "      <td>F</td>\n",
       "      <td>A</td>\n",
       "      <td>e29c9c180c6279b0b02abd6a1801c7c04082cf486ec027...</td>\n",
       "    </tr>\n",
       "  </tbody>\n",
       "</table>\n",
       "<p>5 rows × 23 columns</p>\n",
       "</div>"
      ],
      "text/plain": [
       "                                      reservation_id booking_date  \\\n",
       "0  7dae1ce6bc8f69481328f2be5c4943077dad5598b5f66d...     05/04/18   \n",
       "1  fe0d4e444e1818436c88f72f1cf800536c2f785e59baeb...     24/05/15   \n",
       "2  540bd4285ad8168e8388f84ee74a82cd4f97dc0a404d3e...     21/07/15   \n",
       "3  09593c907ae262e46f655b4db9e14f54a19eadcfdd2679...     31/07/15   \n",
       "4  f4c50caac68051faf37551d70bb17eebef2a20e2244cb1...     01/07/16   \n",
       "\n",
       "  checkin_date checkout_date  channel_code  main_product_code  numberofadults  \\\n",
       "0     05/04/18      06/04/18             3                  2               2   \n",
       "1     23/06/15      27/06/15             1                  2               4   \n",
       "2     07/08/15      10/08/15             3                  2               3   \n",
       "3     22/10/15      25/10/15             1                  2               3   \n",
       "4     01/10/16      05/10/16             1                  2               4   \n",
       "\n",
       "   numberofchildren  persontravellingid  resort_region_code  ...  \\\n",
       "0                 0                  45                   3  ...   \n",
       "1                 0                  45                   1  ...   \n",
       "2                 0                  45                   2  ...   \n",
       "3                 0                  45                   1  ...   \n",
       "4                 0                  45                   1  ...   \n",
       "\n",
       "   season_holidayed_code  state_code_residence  state_code_resort  total_pax  \\\n",
       "0                    2.0                   2.0                  3          3   \n",
       "1                    2.0                   2.0                  4          2   \n",
       "2                    4.0                   2.0                  2          3   \n",
       "3                    2.0                   2.0                  6          3   \n",
       "4                    2.0                   2.0                 11          2   \n",
       "\n",
       "   member_age_buckets  booking_type_code  \\\n",
       "0                   H                  1   \n",
       "1                   H                  1   \n",
       "2                   H                  1   \n",
       "3                   H                  1   \n",
       "4                   H                  1   \n",
       "\n",
       "                                            memberid cluster_code  \\\n",
       "0  2114944930dcc42ce5b9b50ae965cf8a9c04e46be63d84...            A   \n",
       "1  2114944930dcc42ce5b9b50ae965cf8a9c04e46be63d84...            F   \n",
       "2  2114944930dcc42ce5b9b50ae965cf8a9c04e46be63d84...            D   \n",
       "3  2114944930dcc42ce5b9b50ae965cf8a9c04e46be63d84...            F   \n",
       "4  2114944930dcc42ce5b9b50ae965cf8a9c04e46be63d84...            F   \n",
       "\n",
       "   reservationstatusid_code                                          resort_id  \n",
       "0                         C  9f14025af0065b30e47e23ebb3b491d39ae8ed17d33739...  \n",
       "1                         A  e7f6c011776e8db7cd330b54174fd76f7d0216b612387a...  \n",
       "2                         A  d4735e3a265e16eee03f59718b9b5d03019c07d8b6c51f...  \n",
       "3                         A  49d180ecf56132819571bf39d9b7b342522a2ac6d23c14...  \n",
       "4                         A  e29c9c180c6279b0b02abd6a1801c7c04082cf486ec027...  \n",
       "\n",
       "[5 rows x 23 columns]"
      ]
     },
     "execution_count": 8,
     "metadata": {},
     "output_type": "execute_result"
    }
   ],
   "source": [
    "ctr.head()"
   ]
  },
  {
   "cell_type": "code",
   "execution_count": 9,
   "metadata": {},
   "outputs": [
    {
     "data": {
      "text/plain": [
       "(146765, 23)"
      ]
     },
     "execution_count": 9,
     "metadata": {},
     "output_type": "execute_result"
    }
   ],
   "source": [
    "ctr.shape"
   ]
  },
  {
   "cell_type": "code",
   "execution_count": 10,
   "metadata": {
    "scrolled": true
   },
   "outputs": [
    {
     "name": "stdout",
     "output_type": "stream",
     "text": [
      "<class 'pandas.core.frame.DataFrame'>\n",
      "RangeIndex: 146765 entries, 0 to 146764\n",
      "Data columns (total 23 columns):\n",
      " #   Column                    Non-Null Count   Dtype  \n",
      "---  ------                    --------------   -----  \n",
      " 0   reservation_id            146765 non-null  object \n",
      " 1   booking_date              146765 non-null  object \n",
      " 2   checkin_date              146765 non-null  object \n",
      " 3   checkout_date             146765 non-null  object \n",
      " 4   channel_code              146765 non-null  int64  \n",
      " 5   main_product_code         146765 non-null  int64  \n",
      " 6   numberofadults            146765 non-null  int64  \n",
      " 7   numberofchildren          146765 non-null  int64  \n",
      " 8   persontravellingid        146765 non-null  int64  \n",
      " 9   resort_region_code        146765 non-null  int64  \n",
      " 10  resort_type_code          146765 non-null  int64  \n",
      " 11  room_type_booked_code     146765 non-null  int64  \n",
      " 12  roomnights                146765 non-null  int64  \n",
      " 13  season_holidayed_code     146730 non-null  float64\n",
      " 14  state_code_residence      144505 non-null  float64\n",
      " 15  state_code_resort         146765 non-null  int64  \n",
      " 16  total_pax                 146765 non-null  int64  \n",
      " 17  member_age_buckets        146765 non-null  object \n",
      " 18  booking_type_code         146765 non-null  int64  \n",
      " 19  memberid                  146765 non-null  object \n",
      " 20  cluster_code              146765 non-null  object \n",
      " 21  reservationstatusid_code  146765 non-null  object \n",
      " 22  resort_id                 146765 non-null  object \n",
      "dtypes: float64(2), int64(12), object(9)\n",
      "memory usage: 25.8+ MB\n"
     ]
    }
   ],
   "source": [
    "ctr.info()"
   ]
  },
  {
   "cell_type": "code",
   "execution_count": 11,
   "metadata": {
    "scrolled": true
   },
   "outputs": [
    {
     "name": "stdout",
     "output_type": "stream",
     "text": [
      "<class 'pandas.core.frame.DataFrame'>\n",
      "RangeIndex: 146765 entries, 0 to 146764\n",
      "Data columns (total 23 columns):\n",
      " #   Column                    Non-Null Count   Dtype   \n",
      "---  ------                    --------------   -----   \n",
      " 0   reservation_id            146765 non-null  category\n",
      " 1   booking_date              146765 non-null  category\n",
      " 2   checkin_date              146765 non-null  category\n",
      " 3   checkout_date             146765 non-null  category\n",
      " 4   channel_code              146765 non-null  int64   \n",
      " 5   main_product_code         146765 non-null  int64   \n",
      " 6   numberofadults            146765 non-null  int64   \n",
      " 7   numberofchildren          146765 non-null  int64   \n",
      " 8   persontravellingid        146765 non-null  int64   \n",
      " 9   resort_region_code        146765 non-null  int64   \n",
      " 10  resort_type_code          146765 non-null  int64   \n",
      " 11  room_type_booked_code     146765 non-null  int64   \n",
      " 12  roomnights                146765 non-null  int64   \n",
      " 13  season_holidayed_code     146730 non-null  float64 \n",
      " 14  state_code_residence      144505 non-null  float64 \n",
      " 15  state_code_resort         146765 non-null  int64   \n",
      " 16  total_pax                 146765 non-null  int64   \n",
      " 17  member_age_buckets        146765 non-null  category\n",
      " 18  booking_type_code         146765 non-null  int64   \n",
      " 19  memberid                  146765 non-null  category\n",
      " 20  cluster_code              146765 non-null  category\n",
      " 21  reservationstatusid_code  146765 non-null  category\n",
      " 22  resort_id                 146765 non-null  category\n",
      "dtypes: category(9), float64(2), int64(12)\n",
      "memory usage: 46.9 MB\n"
     ]
    }
   ],
   "source": [
    "for e in ctr.select_dtypes('object').columns:\n",
    "    ctr[e] = ctr[e].astype('category')\n",
    "\n",
    "ctr.info(memory_usage = 'deep')"
   ]
  },
  {
   "cell_type": "code",
   "execution_count": 12,
   "metadata": {
    "scrolled": true
   },
   "outputs": [
    {
     "name": "stdout",
     "output_type": "stream",
     "text": [
      "<class 'pandas.core.frame.DataFrame'>\n",
      "RangeIndex: 146765 entries, 0 to 146764\n",
      "Data columns (total 23 columns):\n",
      " #   Column                    Non-Null Count   Dtype   \n",
      "---  ------                    --------------   -----   \n",
      " 0   reservation_id            146765 non-null  category\n",
      " 1   booking_date              146765 non-null  category\n",
      " 2   checkin_date              146765 non-null  category\n",
      " 3   checkout_date             146765 non-null  category\n",
      " 4   channel_code              146765 non-null  int8    \n",
      " 5   main_product_code         146765 non-null  int8    \n",
      " 6   numberofadults            146765 non-null  int8    \n",
      " 7   numberofchildren          146765 non-null  int8    \n",
      " 8   persontravellingid        146765 non-null  int16   \n",
      " 9   resort_region_code        146765 non-null  int8    \n",
      " 10  resort_type_code          146765 non-null  int8    \n",
      " 11  room_type_booked_code     146765 non-null  int8    \n",
      " 12  roomnights                146765 non-null  int8    \n",
      " 13  season_holidayed_code     146730 non-null  float64 \n",
      " 14  state_code_residence      144505 non-null  float64 \n",
      " 15  state_code_resort         146765 non-null  int8    \n",
      " 16  total_pax                 146765 non-null  int8    \n",
      " 17  member_age_buckets        146765 non-null  category\n",
      " 18  booking_type_code         146765 non-null  int8    \n",
      " 19  memberid                  146765 non-null  category\n",
      " 20  cluster_code              146765 non-null  category\n",
      " 21  reservationstatusid_code  146765 non-null  category\n",
      " 22  resort_id                 146765 non-null  category\n",
      "dtypes: category(9), float64(2), int16(1), int8(11)\n",
      "memory usage: 35.2 MB\n"
     ]
    }
   ],
   "source": [
    "for e in ctr.select_dtypes('integer').columns:\n",
    "    ctr[e] = pd.to_numeric(ctr[e], downcast = 'integer')\n",
    "ctr.info(memory_usage = 'deep')"
   ]
  },
  {
   "cell_type": "code",
   "execution_count": 14,
   "metadata": {
    "scrolled": true
   },
   "outputs": [
    {
     "name": "stdout",
     "output_type": "stream",
     "text": [
      "<class 'pandas.core.frame.DataFrame'>\n",
      "RangeIndex: 146765 entries, 0 to 146764\n",
      "Data columns (total 23 columns):\n",
      " #   Column                    Non-Null Count   Dtype   \n",
      "---  ------                    --------------   -----   \n",
      " 0   reservation_id            146765 non-null  category\n",
      " 1   booking_date              146765 non-null  category\n",
      " 2   checkin_date              146765 non-null  category\n",
      " 3   checkout_date             146765 non-null  category\n",
      " 4   channel_code              146765 non-null  int8    \n",
      " 5   main_product_code         146765 non-null  int8    \n",
      " 6   numberofadults            146765 non-null  int8    \n",
      " 7   numberofchildren          146765 non-null  int8    \n",
      " 8   persontravellingid        146765 non-null  int16   \n",
      " 9   resort_region_code        146765 non-null  int8    \n",
      " 10  resort_type_code          146765 non-null  int8    \n",
      " 11  room_type_booked_code     146765 non-null  int8    \n",
      " 12  roomnights                146765 non-null  int8    \n",
      " 13  season_holidayed_code     146730 non-null  float32 \n",
      " 14  state_code_residence      144505 non-null  float32 \n",
      " 15  state_code_resort         146765 non-null  int8    \n",
      " 16  total_pax                 146765 non-null  int8    \n",
      " 17  member_age_buckets        146765 non-null  category\n",
      " 18  booking_type_code         146765 non-null  int8    \n",
      " 19  memberid                  146765 non-null  category\n",
      " 20  cluster_code              146765 non-null  category\n",
      " 21  reservationstatusid_code  146765 non-null  category\n",
      " 22  resort_id                 146765 non-null  category\n",
      "dtypes: category(9), float32(2), int16(1), int8(11)\n",
      "memory usage: 34.1 MB\n"
     ]
    }
   ],
   "source": [
    "for e in ctr.select_dtypes('float').columns:\n",
    "    ctr[e] =  pd.to_numeric(ctr[e], downcast = 'float')\n",
    "    \n",
    "ctr.info(memory_usage = 'deep')"
   ]
  },
  {
   "cell_type": "markdown",
   "metadata": {},
   "source": [
    "# Regresion-se busca un numero"
   ]
  },
  {
   "cell_type": "markdown",
   "metadata": {},
   "source": [
    "### Regresión lineal\n",
    "\n",
    "Se han de tener algunas suposiciones previas:\n",
    "\n",
    "+ Exogeneidad débil (predictores libres de error)\n",
    "+ Linealidad\n",
    "+ Homocedasticidad (Var=cte) y Esperanza nula (**E**=0), la esperanza es la media\n",
    "+ Independencia de los errores\n",
    "+ Falta de colinealidad (independencia lineal)\n",
    "\n",
    "$$y=\\beta_0+\\beta_1x_1+\\beta_2x_2+\\beta_3x_3+\\ldots+\\beta_nx_n+\\epsilon$$\n",
    "\n",
    "El objetivo de la regresion lineal es obtener los $\\beta$:\n",
    "+ Algebraicamente:\n",
    "\n",
    "$$\\vec{\\beta} = (X^{T}X)^{-1}X^{T}y$$\n",
    "\n",
    "+ Minimos cuadrados\n",
    "\n",
    "$$MSE = \\frac{1}{n} \\sum_{i=1}^{n} (y-\\hat{y})^{2}$$\n",
    "\n",
    "Ejemplo)\n",
    "\n",
    "$y = \\beta_0 + \\beta_1x_1 + \\epsilon$\n",
    "\n",
    "Entonces, derivando MSE e igualando a 0:\n",
    "\n",
    "$\\beta_0 = \\frac{\\sum y - \\beta_1\\sum x}{n} = \\bar{y} - \\beta_1\\bar{x}$\n",
    "\n",
    "$\\beta_1=\\frac{\\sum (x-\\hat{x})(y-\\hat{y})}{\\sum (x-\\hat{x})}$\n",
    "\n"
   ]
  },
  {
   "cell_type": "code",
   "execution_count": 5,
   "metadata": {},
   "outputs": [],
   "source": [
    "import matplotlib.pyplot as plt \n",
    "from mpl_toolkits.mplot3d import Axes3D\n",
    "%matplotlib inline        \n",
    "\n",
    "import numpy as np\n",
    "import pandas as pd \n",
    "\n",
    "from sklearn.datasets import make_circles, load_boston\n",
    "from sklearn.model_selection import train_test_split as tts\n",
    "\n",
    "from sklearn.linear_model import LinearRegression as LinReg\n",
    "from sklearn.linear_model import Lasso\n",
    "from sklearn.linear_model import Ridge\n",
    "from sklearn.linear_model import ElasticNet"
   ]
  },
  {
   "cell_type": "code",
   "execution_count": null,
   "metadata": {},
   "outputs": [],
   "source": []
  },
  {
   "cell_type": "code",
   "execution_count": null,
   "metadata": {},
   "outputs": [],
   "source": []
  },
  {
   "cell_type": "code",
   "execution_count": null,
   "metadata": {},
   "outputs": [],
   "source": []
  },
  {
   "cell_type": "code",
   "execution_count": null,
   "metadata": {},
   "outputs": [],
   "source": []
  },
  {
   "cell_type": "code",
   "execution_count": null,
   "metadata": {},
   "outputs": [],
   "source": []
  },
  {
   "cell_type": "code",
   "execution_count": null,
   "metadata": {},
   "outputs": [],
   "source": []
  },
  {
   "cell_type": "code",
   "execution_count": null,
   "metadata": {},
   "outputs": [],
   "source": []
  },
  {
   "cell_type": "code",
   "execution_count": null,
   "metadata": {},
   "outputs": [],
   "source": []
  },
  {
   "cell_type": "markdown",
   "metadata": {},
   "source": [
    "##### Regularización"
   ]
  },
  {
   "cell_type": "markdown",
   "metadata": {},
   "source": [
    "**Función de Coste o de Pérdida (J)** = Función a minimizar\n",
    "\n",
    "En el caso de la regresión lineal: \n",
    "$$J=MSE$$\n",
    "\n",
    "\n",
    "La regularización es una medida/penalización de la complejidad del modelo. Se añade un término a J que depende del tipo de regularización:\n",
    "\n",
    "$$J = MSE + \\alpha · T$$\n",
    "\n",
    "\n",
    "+ Lasso (L1, norma 1):\n",
    "\n",
    "$$T=\\frac{1}{n}\\sum_{i}  |\\beta_i|$$\n",
    "\n",
    "Muy útil si se sospecha que hay características irrelevantes. Se favorece $\\beta \\approx 0$\n",
    "\n",
    "+ Ridge (L2):\n",
    "\n",
    "$$T=\\frac{1}{2n}\\sum_{i}  \\beta_{i}^{2}$$\n",
    "\n",
    "Muy útil si se sospecha que existe correlación entre las características, minimiza esa correlación. Funciona mejor si todas son relevantes.\n",
    "\n",
    "+ ElasticNet (L1+L2):\n",
    "\n",
    "$$T=r·L1 + (1-r)·L2$$\n",
    "\n",
    "Se usa cuando hay muchas características."
   ]
  },
  {
   "cell_type": "code",
   "execution_count": null,
   "metadata": {},
   "outputs": [],
   "source": []
  },
  {
   "cell_type": "code",
   "execution_count": null,
   "metadata": {},
   "outputs": [],
   "source": []
  },
  {
   "cell_type": "code",
   "execution_count": null,
   "metadata": {},
   "outputs": [],
   "source": [
    "### Máquinas de Soporte Vectorial"
   ]
  },
  {
   "cell_type": "markdown",
   "metadata": {},
   "source": [
    "![](data\\2circles.jpg)"
   ]
  },
  {
   "cell_type": "markdown",
   "metadata": {},
   "source": [
    "![](data/2circles_ac.png)"
   ]
  },
  {
   "cell_type": "markdown",
   "metadata": {},
   "source": [
    "![](data/2circ_var.jpg)"
   ]
  },
  {
   "cell_type": "markdown",
   "metadata": {},
   "source": [
    "![](data/2circ_pol.jpg)"
   ]
  },
  {
   "cell_type": "markdown",
   "metadata": {},
   "source": [
    "![](data/kernel_trick.jpg)"
   ]
  },
  {
   "cell_type": "markdown",
   "metadata": {},
   "source": [
    "###### SVM\n",
    "\n",
    "![](data/svm.png)\n",
    "\n",
    "Genera un hiperplano (n-1)dimensional para separar los datos. Este primer plano es el llamado clasificador lineal (maximizando la distancia a los puntos).\n",
    "\n",
    "$$\\vec{\\omega}\\vec{x}-b=0$$\n",
    "\n",
    "donde :\n",
    "\n",
    "$\\omega$ es el vector normal al plano\n",
    "$x$ son los datos\n",
    "$b$ es el sesgo"
   ]
  },
  {
   "cell_type": "code",
   "execution_count": null,
   "metadata": {},
   "outputs": [],
   "source": []
  },
  {
   "cell_type": "code",
   "execution_count": null,
   "metadata": {},
   "outputs": [],
   "source": []
  },
  {
   "cell_type": "code",
   "execution_count": null,
   "metadata": {},
   "outputs": [],
   "source": []
  },
  {
   "cell_type": "code",
   "execution_count": null,
   "metadata": {},
   "outputs": [],
   "source": []
  },
  {
   "cell_type": "markdown",
   "metadata": {},
   "source": [
    "### Random Forest\n",
    "\n",
    "![](data/RF.jpg)\n",
    "\n",
    "Arboles de decisión.\n",
    "\n",
    "+ Pros:\n",
    "\n",
    "Modelos sencillos, se pueden visualizar. No necesitan preprocesar mucho los datos. Computacionalmente eficientes.\n",
    "\n",
    "+ Contras:\n",
    "\n",
    "Muy sensibles a pequeñas variaciones de los datos de entrada. Muy sensible a datos no balanceados. Muy dado al overfitting (poco sesgo, mucha varianza), más cuanto más profundo sea."
   ]
  },
  {
   "cell_type": "code",
   "execution_count": null,
   "metadata": {},
   "outputs": [],
   "source": []
  }
 ],
 "metadata": {
  "kernelspec": {
   "display_name": "Python 3",
   "language": "python",
   "name": "python3"
  },
  "language_info": {
   "codemirror_mode": {
    "name": "ipython",
    "version": 3
   },
   "file_extension": ".py",
   "mimetype": "text/x-python",
   "name": "python",
   "nbconvert_exporter": "python",
   "pygments_lexer": "ipython3",
   "version": "3.7.4"
  }
 },
 "nbformat": 4,
 "nbformat_minor": 4
}
