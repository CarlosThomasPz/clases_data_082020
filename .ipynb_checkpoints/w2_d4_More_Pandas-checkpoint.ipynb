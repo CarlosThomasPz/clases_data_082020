{
 "cells": [
  {
   "cell_type": "markdown",
   "metadata": {},
   "source": [
    "# Pandas Deep dive\n"
   ]
  },
  {
   "cell_type": "code",
   "execution_count": 1,
   "metadata": {},
   "outputs": [],
   "source": [
    "import pandas as pd\n",
    "import numpy as np\n"
   ]
  },
  {
   "cell_type": "code",
   "execution_count": 3,
   "metadata": {},
   "outputs": [
    {
     "data": {
      "text/plain": [
       "array([[0.87619969, 0.39750682, 0.86839001, 0.75203107],\n",
       "       [0.61199437, 0.77650103, 0.91152747, 0.86754079],\n",
       "       [0.35715679, 0.62571887, 0.22077119, 0.34722249],\n",
       "       [0.04156595, 0.82053126, 0.16912459, 0.33441127],\n",
       "       [0.96147871, 0.80522737, 0.21599506, 0.13054606],\n",
       "       [0.57172319, 0.64789825, 0.64395942, 0.30210125],\n",
       "       [0.63463621, 0.21765347, 0.30903749, 0.12761888],\n",
       "       [0.00742707, 0.19115056, 0.03486133, 0.30982385],\n",
       "       [0.53756037, 0.10918312, 0.26307686, 0.43865678],\n",
       "       [0.62852564, 0.43466898, 0.1512762 , 0.337192  ]])"
      ]
     },
     "execution_count": 3,
     "metadata": {},
     "output_type": "execute_result"
    }
   ],
   "source": [
    "#Un dataframe se puede construir con iterables, diccionarios, dataframes...\n",
    "a = np.random.random((10,4))\n",
    "a"
   ]
  },
  {
   "cell_type": "code",
   "execution_count": 4,
   "metadata": {},
   "outputs": [
    {
     "data": {
      "text/plain": [
       "(10, 4)"
      ]
     },
     "execution_count": 4,
     "metadata": {},
     "output_type": "execute_result"
    }
   ],
   "source": [
    "a.shape"
   ]
  },
  {
   "cell_type": "code",
   "execution_count": 5,
   "metadata": {},
   "outputs": [],
   "source": [
    "df = pd.DataFrame(a)"
   ]
  },
  {
   "cell_type": "code",
   "execution_count": 7,
   "metadata": {},
   "outputs": [
    {
     "data": {
      "text/plain": [
       "RangeIndex(start=0, stop=4, step=1)"
      ]
     },
     "execution_count": 7,
     "metadata": {},
     "output_type": "execute_result"
    }
   ],
   "source": [
    "df.columns"
   ]
  },
  {
   "cell_type": "code",
   "execution_count": 8,
   "metadata": {},
   "outputs": [],
   "source": [
    "df = pd.DataFrame(a, columns = ['uno','dos','tres','cuatro']) #Asignando columnas a un nuevo dataframe"
   ]
  },
  {
   "cell_type": "code",
   "execution_count": 9,
   "metadata": {},
   "outputs": [
    {
     "data": {
      "text/html": [
       "<div>\n",
       "<style scoped>\n",
       "    .dataframe tbody tr th:only-of-type {\n",
       "        vertical-align: middle;\n",
       "    }\n",
       "\n",
       "    .dataframe tbody tr th {\n",
       "        vertical-align: top;\n",
       "    }\n",
       "\n",
       "    .dataframe thead th {\n",
       "        text-align: right;\n",
       "    }\n",
       "</style>\n",
       "<table border=\"1\" class=\"dataframe\">\n",
       "  <thead>\n",
       "    <tr style=\"text-align: right;\">\n",
       "      <th></th>\n",
       "      <th>uno</th>\n",
       "      <th>dos</th>\n",
       "      <th>tres</th>\n",
       "      <th>cuatro</th>\n",
       "    </tr>\n",
       "  </thead>\n",
       "  <tbody>\n",
       "    <tr>\n",
       "      <td>0</td>\n",
       "      <td>0.876200</td>\n",
       "      <td>0.397507</td>\n",
       "      <td>0.868390</td>\n",
       "      <td>0.752031</td>\n",
       "    </tr>\n",
       "    <tr>\n",
       "      <td>1</td>\n",
       "      <td>0.611994</td>\n",
       "      <td>0.776501</td>\n",
       "      <td>0.911527</td>\n",
       "      <td>0.867541</td>\n",
       "    </tr>\n",
       "    <tr>\n",
       "      <td>2</td>\n",
       "      <td>0.357157</td>\n",
       "      <td>0.625719</td>\n",
       "      <td>0.220771</td>\n",
       "      <td>0.347222</td>\n",
       "    </tr>\n",
       "    <tr>\n",
       "      <td>3</td>\n",
       "      <td>0.041566</td>\n",
       "      <td>0.820531</td>\n",
       "      <td>0.169125</td>\n",
       "      <td>0.334411</td>\n",
       "    </tr>\n",
       "    <tr>\n",
       "      <td>4</td>\n",
       "      <td>0.961479</td>\n",
       "      <td>0.805227</td>\n",
       "      <td>0.215995</td>\n",
       "      <td>0.130546</td>\n",
       "    </tr>\n",
       "    <tr>\n",
       "      <td>5</td>\n",
       "      <td>0.571723</td>\n",
       "      <td>0.647898</td>\n",
       "      <td>0.643959</td>\n",
       "      <td>0.302101</td>\n",
       "    </tr>\n",
       "    <tr>\n",
       "      <td>6</td>\n",
       "      <td>0.634636</td>\n",
       "      <td>0.217653</td>\n",
       "      <td>0.309037</td>\n",
       "      <td>0.127619</td>\n",
       "    </tr>\n",
       "    <tr>\n",
       "      <td>7</td>\n",
       "      <td>0.007427</td>\n",
       "      <td>0.191151</td>\n",
       "      <td>0.034861</td>\n",
       "      <td>0.309824</td>\n",
       "    </tr>\n",
       "    <tr>\n",
       "      <td>8</td>\n",
       "      <td>0.537560</td>\n",
       "      <td>0.109183</td>\n",
       "      <td>0.263077</td>\n",
       "      <td>0.438657</td>\n",
       "    </tr>\n",
       "    <tr>\n",
       "      <td>9</td>\n",
       "      <td>0.628526</td>\n",
       "      <td>0.434669</td>\n",
       "      <td>0.151276</td>\n",
       "      <td>0.337192</td>\n",
       "    </tr>\n",
       "  </tbody>\n",
       "</table>\n",
       "</div>"
      ],
      "text/plain": [
       "        uno       dos      tres    cuatro\n",
       "0  0.876200  0.397507  0.868390  0.752031\n",
       "1  0.611994  0.776501  0.911527  0.867541\n",
       "2  0.357157  0.625719  0.220771  0.347222\n",
       "3  0.041566  0.820531  0.169125  0.334411\n",
       "4  0.961479  0.805227  0.215995  0.130546\n",
       "5  0.571723  0.647898  0.643959  0.302101\n",
       "6  0.634636  0.217653  0.309037  0.127619\n",
       "7  0.007427  0.191151  0.034861  0.309824\n",
       "8  0.537560  0.109183  0.263077  0.438657\n",
       "9  0.628526  0.434669  0.151276  0.337192"
      ]
     },
     "execution_count": 9,
     "metadata": {},
     "output_type": "execute_result"
    }
   ],
   "source": [
    "df"
   ]
  },
  {
   "cell_type": "code",
   "execution_count": 16,
   "metadata": {},
   "outputs": [
    {
     "data": {
      "text/plain": [
       "uno    0.961479\n",
       "dos    0.820531\n",
       "dtype: float64"
      ]
     },
     "execution_count": 16,
     "metadata": {},
     "output_type": "execute_result"
    }
   ],
   "source": [
    "df[['uno','dos']].max() #Podemos indexar columnas, y con doble corchete podemos indexar varias columnas"
   ]
  },
  {
   "cell_type": "code",
   "execution_count": 15,
   "metadata": {},
   "outputs": [
    {
     "ename": "AttributeError",
     "evalue": "'Series' object has no attribute 'dos'",
     "output_type": "error",
     "traceback": [
      "\u001b[1;31m---------------------------------------------------------------------------\u001b[0m",
      "\u001b[1;31mAttributeError\u001b[0m                            Traceback (most recent call last)",
      "\u001b[1;32m<ipython-input-15-8ee89b012ffd>\u001b[0m in \u001b[0;36m<module>\u001b[1;34m\u001b[0m\n\u001b[1;32m----> 1\u001b[1;33m \u001b[0mdf\u001b[0m\u001b[1;33m.\u001b[0m\u001b[0muno\u001b[0m\u001b[1;33m.\u001b[0m\u001b[0mdos\u001b[0m\u001b[1;33m.\u001b[0m\u001b[0mmax\u001b[0m\u001b[1;33m(\u001b[0m\u001b[1;33m)\u001b[0m\u001b[1;33m\u001b[0m\u001b[1;33m\u001b[0m\u001b[0m\n\u001b[0m",
      "\u001b[1;32m~\\AppData\\Roaming\\Python\\Python37\\site-packages\\pandas\\core\\generic.py\u001b[0m in \u001b[0;36m__getattr__\u001b[1;34m(self, name)\u001b[0m\n\u001b[0;32m   5177\u001b[0m             \u001b[1;32mif\u001b[0m \u001b[0mself\u001b[0m\u001b[1;33m.\u001b[0m\u001b[0m_info_axis\u001b[0m\u001b[1;33m.\u001b[0m\u001b[0m_can_hold_identifiers_and_holds_name\u001b[0m\u001b[1;33m(\u001b[0m\u001b[0mname\u001b[0m\u001b[1;33m)\u001b[0m\u001b[1;33m:\u001b[0m\u001b[1;33m\u001b[0m\u001b[1;33m\u001b[0m\u001b[0m\n\u001b[0;32m   5178\u001b[0m                 \u001b[1;32mreturn\u001b[0m \u001b[0mself\u001b[0m\u001b[1;33m[\u001b[0m\u001b[0mname\u001b[0m\u001b[1;33m]\u001b[0m\u001b[1;33m\u001b[0m\u001b[1;33m\u001b[0m\u001b[0m\n\u001b[1;32m-> 5179\u001b[1;33m             \u001b[1;32mreturn\u001b[0m \u001b[0mobject\u001b[0m\u001b[1;33m.\u001b[0m\u001b[0m__getattribute__\u001b[0m\u001b[1;33m(\u001b[0m\u001b[0mself\u001b[0m\u001b[1;33m,\u001b[0m \u001b[0mname\u001b[0m\u001b[1;33m)\u001b[0m\u001b[1;33m\u001b[0m\u001b[1;33m\u001b[0m\u001b[0m\n\u001b[0m\u001b[0;32m   5180\u001b[0m \u001b[1;33m\u001b[0m\u001b[0m\n\u001b[0;32m   5181\u001b[0m     \u001b[1;32mdef\u001b[0m \u001b[0m__setattr__\u001b[0m\u001b[1;33m(\u001b[0m\u001b[0mself\u001b[0m\u001b[1;33m,\u001b[0m \u001b[0mname\u001b[0m\u001b[1;33m,\u001b[0m \u001b[0mvalue\u001b[0m\u001b[1;33m)\u001b[0m\u001b[1;33m:\u001b[0m\u001b[1;33m\u001b[0m\u001b[1;33m\u001b[0m\u001b[0m\n",
      "\u001b[1;31mAttributeError\u001b[0m: 'Series' object has no attribute 'dos'"
     ]
    }
   ],
   "source": [
    "df.uno.dos.max()"
   ]
  },
  {
   "cell_type": "code",
   "execution_count": 17,
   "metadata": {},
   "outputs": [],
   "source": [
    "df['cinco'] = df['uno']/df['dos']"
   ]
  },
  {
   "cell_type": "code",
   "execution_count": 18,
   "metadata": {},
   "outputs": [
    {
     "data": {
      "text/html": [
       "<div>\n",
       "<style scoped>\n",
       "    .dataframe tbody tr th:only-of-type {\n",
       "        vertical-align: middle;\n",
       "    }\n",
       "\n",
       "    .dataframe tbody tr th {\n",
       "        vertical-align: top;\n",
       "    }\n",
       "\n",
       "    .dataframe thead th {\n",
       "        text-align: right;\n",
       "    }\n",
       "</style>\n",
       "<table border=\"1\" class=\"dataframe\">\n",
       "  <thead>\n",
       "    <tr style=\"text-align: right;\">\n",
       "      <th></th>\n",
       "      <th>uno</th>\n",
       "      <th>dos</th>\n",
       "      <th>tres</th>\n",
       "      <th>cuatro</th>\n",
       "      <th>cinco</th>\n",
       "    </tr>\n",
       "  </thead>\n",
       "  <tbody>\n",
       "    <tr>\n",
       "      <td>0</td>\n",
       "      <td>0.876200</td>\n",
       "      <td>0.397507</td>\n",
       "      <td>0.868390</td>\n",
       "      <td>0.752031</td>\n",
       "      <td>2.204238</td>\n",
       "    </tr>\n",
       "    <tr>\n",
       "      <td>1</td>\n",
       "      <td>0.611994</td>\n",
       "      <td>0.776501</td>\n",
       "      <td>0.911527</td>\n",
       "      <td>0.867541</td>\n",
       "      <td>0.788144</td>\n",
       "    </tr>\n",
       "    <tr>\n",
       "      <td>2</td>\n",
       "      <td>0.357157</td>\n",
       "      <td>0.625719</td>\n",
       "      <td>0.220771</td>\n",
       "      <td>0.347222</td>\n",
       "      <td>0.570794</td>\n",
       "    </tr>\n",
       "    <tr>\n",
       "      <td>3</td>\n",
       "      <td>0.041566</td>\n",
       "      <td>0.820531</td>\n",
       "      <td>0.169125</td>\n",
       "      <td>0.334411</td>\n",
       "      <td>0.050657</td>\n",
       "    </tr>\n",
       "    <tr>\n",
       "      <td>4</td>\n",
       "      <td>0.961479</td>\n",
       "      <td>0.805227</td>\n",
       "      <td>0.215995</td>\n",
       "      <td>0.130546</td>\n",
       "      <td>1.194046</td>\n",
       "    </tr>\n",
       "    <tr>\n",
       "      <td>5</td>\n",
       "      <td>0.571723</td>\n",
       "      <td>0.647898</td>\n",
       "      <td>0.643959</td>\n",
       "      <td>0.302101</td>\n",
       "      <td>0.882427</td>\n",
       "    </tr>\n",
       "    <tr>\n",
       "      <td>6</td>\n",
       "      <td>0.634636</td>\n",
       "      <td>0.217653</td>\n",
       "      <td>0.309037</td>\n",
       "      <td>0.127619</td>\n",
       "      <td>2.915810</td>\n",
       "    </tr>\n",
       "    <tr>\n",
       "      <td>7</td>\n",
       "      <td>0.007427</td>\n",
       "      <td>0.191151</td>\n",
       "      <td>0.034861</td>\n",
       "      <td>0.309824</td>\n",
       "      <td>0.038855</td>\n",
       "    </tr>\n",
       "    <tr>\n",
       "      <td>8</td>\n",
       "      <td>0.537560</td>\n",
       "      <td>0.109183</td>\n",
       "      <td>0.263077</td>\n",
       "      <td>0.438657</td>\n",
       "      <td>4.923475</td>\n",
       "    </tr>\n",
       "    <tr>\n",
       "      <td>9</td>\n",
       "      <td>0.628526</td>\n",
       "      <td>0.434669</td>\n",
       "      <td>0.151276</td>\n",
       "      <td>0.337192</td>\n",
       "      <td>1.445987</td>\n",
       "    </tr>\n",
       "  </tbody>\n",
       "</table>\n",
       "</div>"
      ],
      "text/plain": [
       "        uno       dos      tres    cuatro     cinco\n",
       "0  0.876200  0.397507  0.868390  0.752031  2.204238\n",
       "1  0.611994  0.776501  0.911527  0.867541  0.788144\n",
       "2  0.357157  0.625719  0.220771  0.347222  0.570794\n",
       "3  0.041566  0.820531  0.169125  0.334411  0.050657\n",
       "4  0.961479  0.805227  0.215995  0.130546  1.194046\n",
       "5  0.571723  0.647898  0.643959  0.302101  0.882427\n",
       "6  0.634636  0.217653  0.309037  0.127619  2.915810\n",
       "7  0.007427  0.191151  0.034861  0.309824  0.038855\n",
       "8  0.537560  0.109183  0.263077  0.438657  4.923475\n",
       "9  0.628526  0.434669  0.151276  0.337192  1.445987"
      ]
     },
     "execution_count": 18,
     "metadata": {},
     "output_type": "execute_result"
    }
   ],
   "source": [
    "df"
   ]
  },
  {
   "cell_type": "code",
   "execution_count": 20,
   "metadata": {},
   "outputs": [
    {
     "data": {
      "text/html": [
       "<div>\n",
       "<style scoped>\n",
       "    .dataframe tbody tr th:only-of-type {\n",
       "        vertical-align: middle;\n",
       "    }\n",
       "\n",
       "    .dataframe tbody tr th {\n",
       "        vertical-align: top;\n",
       "    }\n",
       "\n",
       "    .dataframe thead th {\n",
       "        text-align: right;\n",
       "    }\n",
       "</style>\n",
       "<table border=\"1\" class=\"dataframe\">\n",
       "  <thead>\n",
       "    <tr style=\"text-align: right;\">\n",
       "      <th></th>\n",
       "      <th>dos</th>\n",
       "      <th>tres</th>\n",
       "    </tr>\n",
       "  </thead>\n",
       "  <tbody>\n",
       "    <tr>\n",
       "      <td>5</td>\n",
       "      <td>0.647898</td>\n",
       "      <td>0.643959</td>\n",
       "    </tr>\n",
       "    <tr>\n",
       "      <td>6</td>\n",
       "      <td>0.217653</td>\n",
       "      <td>0.309037</td>\n",
       "    </tr>\n",
       "    <tr>\n",
       "      <td>7</td>\n",
       "      <td>0.191151</td>\n",
       "      <td>0.034861</td>\n",
       "    </tr>\n",
       "    <tr>\n",
       "      <td>8</td>\n",
       "      <td>0.109183</td>\n",
       "      <td>0.263077</td>\n",
       "    </tr>\n",
       "    <tr>\n",
       "      <td>9</td>\n",
       "      <td>0.434669</td>\n",
       "      <td>0.151276</td>\n",
       "    </tr>\n",
       "  </tbody>\n",
       "</table>\n",
       "</div>"
      ],
      "text/plain": [
       "        dos      tres\n",
       "5  0.647898  0.643959\n",
       "6  0.217653  0.309037\n",
       "7  0.191151  0.034861\n",
       "8  0.109183  0.263077\n",
       "9  0.434669  0.151276"
      ]
     },
     "execution_count": 20,
     "metadata": {},
     "output_type": "execute_result"
    }
   ],
   "source": [
    "df[['dos','tres']][5:]"
   ]
  },
  {
   "cell_type": "code",
   "execution_count": 22,
   "metadata": {},
   "outputs": [
    {
     "data": {
      "text/html": [
       "<div>\n",
       "<style scoped>\n",
       "    .dataframe tbody tr th:only-of-type {\n",
       "        vertical-align: middle;\n",
       "    }\n",
       "\n",
       "    .dataframe tbody tr th {\n",
       "        vertical-align: top;\n",
       "    }\n",
       "\n",
       "    .dataframe thead th {\n",
       "        text-align: right;\n",
       "    }\n",
       "</style>\n",
       "<table border=\"1\" class=\"dataframe\">\n",
       "  <thead>\n",
       "    <tr style=\"text-align: right;\">\n",
       "      <th></th>\n",
       "      <th>dos</th>\n",
       "      <th>tres</th>\n",
       "    </tr>\n",
       "  </thead>\n",
       "  <tbody>\n",
       "    <tr>\n",
       "      <td>5</td>\n",
       "      <td>0.647898</td>\n",
       "      <td>0.643959</td>\n",
       "    </tr>\n",
       "    <tr>\n",
       "      <td>6</td>\n",
       "      <td>0.217653</td>\n",
       "      <td>0.309037</td>\n",
       "    </tr>\n",
       "    <tr>\n",
       "      <td>7</td>\n",
       "      <td>0.191151</td>\n",
       "      <td>0.034861</td>\n",
       "    </tr>\n",
       "    <tr>\n",
       "      <td>8</td>\n",
       "      <td>0.109183</td>\n",
       "      <td>0.263077</td>\n",
       "    </tr>\n",
       "    <tr>\n",
       "      <td>9</td>\n",
       "      <td>0.434669</td>\n",
       "      <td>0.151276</td>\n",
       "    </tr>\n",
       "  </tbody>\n",
       "</table>\n",
       "</div>"
      ],
      "text/plain": [
       "        dos      tres\n",
       "5  0.647898  0.643959\n",
       "6  0.217653  0.309037\n",
       "7  0.191151  0.034861\n",
       "8  0.109183  0.263077\n",
       "9  0.434669  0.151276"
      ]
     },
     "execution_count": 22,
     "metadata": {},
     "output_type": "execute_result"
    }
   ],
   "source": [
    "df.loc[5:,['dos','tres']] #localizacion de elementos con 'loc' es con etiquetas\n"
   ]
  },
  {
   "cell_type": "code",
   "execution_count": 24,
   "metadata": {},
   "outputs": [
    {
     "data": {
      "text/html": [
       "<div>\n",
       "<style scoped>\n",
       "    .dataframe tbody tr th:only-of-type {\n",
       "        vertical-align: middle;\n",
       "    }\n",
       "\n",
       "    .dataframe tbody tr th {\n",
       "        vertical-align: top;\n",
       "    }\n",
       "\n",
       "    .dataframe thead th {\n",
       "        text-align: right;\n",
       "    }\n",
       "</style>\n",
       "<table border=\"1\" class=\"dataframe\">\n",
       "  <thead>\n",
       "    <tr style=\"text-align: right;\">\n",
       "      <th></th>\n",
       "      <th>dos</th>\n",
       "      <th>tres</th>\n",
       "    </tr>\n",
       "  </thead>\n",
       "  <tbody>\n",
       "    <tr>\n",
       "      <td>5</td>\n",
       "      <td>0.647898</td>\n",
       "      <td>0.643959</td>\n",
       "    </tr>\n",
       "    <tr>\n",
       "      <td>6</td>\n",
       "      <td>0.217653</td>\n",
       "      <td>0.309037</td>\n",
       "    </tr>\n",
       "    <tr>\n",
       "      <td>7</td>\n",
       "      <td>0.191151</td>\n",
       "      <td>0.034861</td>\n",
       "    </tr>\n",
       "    <tr>\n",
       "      <td>8</td>\n",
       "      <td>0.109183</td>\n",
       "      <td>0.263077</td>\n",
       "    </tr>\n",
       "    <tr>\n",
       "      <td>9</td>\n",
       "      <td>0.434669</td>\n",
       "      <td>0.151276</td>\n",
       "    </tr>\n",
       "  </tbody>\n",
       "</table>\n",
       "</div>"
      ],
      "text/plain": [
       "        dos      tres\n",
       "5  0.647898  0.643959\n",
       "6  0.217653  0.309037\n",
       "7  0.191151  0.034861\n",
       "8  0.109183  0.263077\n",
       "9  0.434669  0.151276"
      ]
     },
     "execution_count": 24,
     "metadata": {},
     "output_type": "execute_result"
    }
   ],
   "source": [
    "df.iloc[5:,[1,2]] #localizacion de elementos con 'iloc' es con numeros"
   ]
  },
  {
   "cell_type": "code",
   "execution_count": 29,
   "metadata": {},
   "outputs": [
    {
     "data": {
      "text/html": [
       "<div>\n",
       "<style scoped>\n",
       "    .dataframe tbody tr th:only-of-type {\n",
       "        vertical-align: middle;\n",
       "    }\n",
       "\n",
       "    .dataframe tbody tr th {\n",
       "        vertical-align: top;\n",
       "    }\n",
       "\n",
       "    .dataframe thead th {\n",
       "        text-align: right;\n",
       "    }\n",
       "</style>\n",
       "<table border=\"1\" class=\"dataframe\">\n",
       "  <thead>\n",
       "    <tr style=\"text-align: right;\">\n",
       "      <th></th>\n",
       "      <th>uno</th>\n",
       "      <th>dos</th>\n",
       "    </tr>\n",
       "  </thead>\n",
       "  <tbody>\n",
       "    <tr>\n",
       "      <td>3</td>\n",
       "      <td>0.041566</td>\n",
       "      <td>0.820531</td>\n",
       "    </tr>\n",
       "    <tr>\n",
       "      <td>7</td>\n",
       "      <td>0.007427</td>\n",
       "      <td>0.191151</td>\n",
       "    </tr>\n",
       "  </tbody>\n",
       "</table>\n",
       "</div>"
      ],
      "text/plain": [
       "        uno       dos\n",
       "3  0.041566  0.820531\n",
       "7  0.007427  0.191151"
      ]
     },
     "execution_count": 29,
     "metadata": {},
     "output_type": "execute_result"
    }
   ],
   "source": [
    "df[['uno','dos']][df['cinco'] < 0.5] #Se pueden filtrar filas con indexacion"
   ]
  },
  {
   "cell_type": "code",
   "execution_count": 32,
   "metadata": {},
   "outputs": [
    {
     "data": {
      "text/html": [
       "<div>\n",
       "<style scoped>\n",
       "    .dataframe tbody tr th:only-of-type {\n",
       "        vertical-align: middle;\n",
       "    }\n",
       "\n",
       "    .dataframe tbody tr th {\n",
       "        vertical-align: top;\n",
       "    }\n",
       "\n",
       "    .dataframe thead th {\n",
       "        text-align: right;\n",
       "    }\n",
       "</style>\n",
       "<table border=\"1\" class=\"dataframe\">\n",
       "  <thead>\n",
       "    <tr style=\"text-align: right;\">\n",
       "      <th></th>\n",
       "      <th>uno</th>\n",
       "      <th>dos</th>\n",
       "    </tr>\n",
       "  </thead>\n",
       "  <tbody>\n",
       "    <tr>\n",
       "      <td>1</td>\n",
       "      <td>0.611994</td>\n",
       "      <td>0.776501</td>\n",
       "    </tr>\n",
       "    <tr>\n",
       "      <td>2</td>\n",
       "      <td>0.357157</td>\n",
       "      <td>0.625719</td>\n",
       "    </tr>\n",
       "    <tr>\n",
       "      <td>4</td>\n",
       "      <td>0.961479</td>\n",
       "      <td>0.805227</td>\n",
       "    </tr>\n",
       "    <tr>\n",
       "      <td>5</td>\n",
       "      <td>0.571723</td>\n",
       "      <td>0.647898</td>\n",
       "    </tr>\n",
       "    <tr>\n",
       "      <td>9</td>\n",
       "      <td>0.628526</td>\n",
       "      <td>0.434669</td>\n",
       "    </tr>\n",
       "  </tbody>\n",
       "</table>\n",
       "</div>"
      ],
      "text/plain": [
       "        uno       dos\n",
       "1  0.611994  0.776501\n",
       "2  0.357157  0.625719\n",
       "4  0.961479  0.805227\n",
       "5  0.571723  0.647898\n",
       "9  0.628526  0.434669"
      ]
     },
     "execution_count": 32,
     "metadata": {},
     "output_type": "execute_result"
    }
   ],
   "source": [
    "df[['uno','dos']][(df['cinco'] > 0.5) & (df['cinco'] < 1.5)] # se pueden usar varias condicionales para filtar filas"
   ]
  },
  {
   "cell_type": "code",
   "execution_count": 36,
   "metadata": {},
   "outputs": [],
   "source": [
    "df.index = ['a','b','c','d','e','f','g','h','i','j']"
   ]
  },
  {
   "cell_type": "code",
   "execution_count": 47,
   "metadata": {},
   "outputs": [],
   "source": [
    "lst = ['a','b','c','d','e','f','g','h','i','j']"
   ]
  },
  {
   "cell_type": "code",
   "execution_count": 44,
   "metadata": {},
   "outputs": [],
   "source": [
    "df.reset_index(drop = True, inplace = True)"
   ]
  },
  {
   "cell_type": "code",
   "execution_count": 50,
   "metadata": {},
   "outputs": [
    {
     "data": {
      "text/html": [
       "<div>\n",
       "<style scoped>\n",
       "    .dataframe tbody tr th:only-of-type {\n",
       "        vertical-align: middle;\n",
       "    }\n",
       "\n",
       "    .dataframe tbody tr th {\n",
       "        vertical-align: top;\n",
       "    }\n",
       "\n",
       "    .dataframe thead th {\n",
       "        text-align: right;\n",
       "    }\n",
       "</style>\n",
       "<table border=\"1\" class=\"dataframe\">\n",
       "  <thead>\n",
       "    <tr style=\"text-align: right;\">\n",
       "      <th></th>\n",
       "      <th>uno</th>\n",
       "      <th>dos</th>\n",
       "      <th>tres</th>\n",
       "      <th>cuatro</th>\n",
       "      <th>cinco</th>\n",
       "    </tr>\n",
       "  </thead>\n",
       "  <tbody>\n",
       "    <tr>\n",
       "      <td>0</td>\n",
       "      <td>0.876200</td>\n",
       "      <td>0.397507</td>\n",
       "      <td>0.868390</td>\n",
       "      <td>0.752031</td>\n",
       "      <td>2.204238</td>\n",
       "    </tr>\n",
       "    <tr>\n",
       "      <td>1</td>\n",
       "      <td>0.611994</td>\n",
       "      <td>0.776501</td>\n",
       "      <td>0.911527</td>\n",
       "      <td>0.867541</td>\n",
       "      <td>0.788144</td>\n",
       "    </tr>\n",
       "    <tr>\n",
       "      <td>2</td>\n",
       "      <td>0.357157</td>\n",
       "      <td>0.625719</td>\n",
       "      <td>0.220771</td>\n",
       "      <td>0.347222</td>\n",
       "      <td>0.570794</td>\n",
       "    </tr>\n",
       "    <tr>\n",
       "      <td>3</td>\n",
       "      <td>0.041566</td>\n",
       "      <td>0.820531</td>\n",
       "      <td>0.169125</td>\n",
       "      <td>0.334411</td>\n",
       "      <td>0.050657</td>\n",
       "    </tr>\n",
       "    <tr>\n",
       "      <td>4</td>\n",
       "      <td>0.961479</td>\n",
       "      <td>0.805227</td>\n",
       "      <td>0.215995</td>\n",
       "      <td>0.130546</td>\n",
       "      <td>1.194046</td>\n",
       "    </tr>\n",
       "    <tr>\n",
       "      <td>5</td>\n",
       "      <td>0.571723</td>\n",
       "      <td>0.647898</td>\n",
       "      <td>0.643959</td>\n",
       "      <td>0.302101</td>\n",
       "      <td>0.882427</td>\n",
       "    </tr>\n",
       "    <tr>\n",
       "      <td>6</td>\n",
       "      <td>0.634636</td>\n",
       "      <td>0.217653</td>\n",
       "      <td>0.309037</td>\n",
       "      <td>0.127619</td>\n",
       "      <td>2.915810</td>\n",
       "    </tr>\n",
       "    <tr>\n",
       "      <td>7</td>\n",
       "      <td>0.007427</td>\n",
       "      <td>0.191151</td>\n",
       "      <td>0.034861</td>\n",
       "      <td>0.309824</td>\n",
       "      <td>0.038855</td>\n",
       "    </tr>\n",
       "    <tr>\n",
       "      <td>8</td>\n",
       "      <td>0.537560</td>\n",
       "      <td>0.109183</td>\n",
       "      <td>0.263077</td>\n",
       "      <td>0.438657</td>\n",
       "      <td>4.923475</td>\n",
       "    </tr>\n",
       "    <tr>\n",
       "      <td>9</td>\n",
       "      <td>0.628526</td>\n",
       "      <td>0.434669</td>\n",
       "      <td>0.151276</td>\n",
       "      <td>0.337192</td>\n",
       "      <td>1.445987</td>\n",
       "    </tr>\n",
       "  </tbody>\n",
       "</table>\n",
       "</div>"
      ],
      "text/plain": [
       "        uno       dos      tres    cuatro     cinco\n",
       "0  0.876200  0.397507  0.868390  0.752031  2.204238\n",
       "1  0.611994  0.776501  0.911527  0.867541  0.788144\n",
       "2  0.357157  0.625719  0.220771  0.347222  0.570794\n",
       "3  0.041566  0.820531  0.169125  0.334411  0.050657\n",
       "4  0.961479  0.805227  0.215995  0.130546  1.194046\n",
       "5  0.571723  0.647898  0.643959  0.302101  0.882427\n",
       "6  0.634636  0.217653  0.309037  0.127619  2.915810\n",
       "7  0.007427  0.191151  0.034861  0.309824  0.038855\n",
       "8  0.537560  0.109183  0.263077  0.438657  4.923475\n",
       "9  0.628526  0.434669  0.151276  0.337192  1.445987"
      ]
     },
     "execution_count": 50,
     "metadata": {},
     "output_type": "execute_result"
    }
   ],
   "source": [
    "df"
   ]
  },
  {
   "cell_type": "code",
   "execution_count": 53,
   "metadata": {},
   "outputs": [
    {
     "data": {
      "text/html": [
       "<div>\n",
       "<style scoped>\n",
       "    .dataframe tbody tr th:only-of-type {\n",
       "        vertical-align: middle;\n",
       "    }\n",
       "\n",
       "    .dataframe tbody tr th {\n",
       "        vertical-align: top;\n",
       "    }\n",
       "\n",
       "    .dataframe thead th {\n",
       "        text-align: right;\n",
       "    }\n",
       "</style>\n",
       "<table border=\"1\" class=\"dataframe\">\n",
       "  <thead>\n",
       "    <tr style=\"text-align: right;\">\n",
       "      <th></th>\n",
       "      <th>uno</th>\n",
       "      <th>dos</th>\n",
       "      <th>tres</th>\n",
       "      <th>cuatro</th>\n",
       "      <th>cinco</th>\n",
       "    </tr>\n",
       "  </thead>\n",
       "  <tbody>\n",
       "    <tr>\n",
       "      <td>a</td>\n",
       "      <td>NaN</td>\n",
       "      <td>NaN</td>\n",
       "      <td>NaN</td>\n",
       "      <td>NaN</td>\n",
       "      <td>NaN</td>\n",
       "    </tr>\n",
       "    <tr>\n",
       "      <td>b</td>\n",
       "      <td>NaN</td>\n",
       "      <td>NaN</td>\n",
       "      <td>NaN</td>\n",
       "      <td>NaN</td>\n",
       "      <td>NaN</td>\n",
       "    </tr>\n",
       "    <tr>\n",
       "      <td>c</td>\n",
       "      <td>NaN</td>\n",
       "      <td>NaN</td>\n",
       "      <td>NaN</td>\n",
       "      <td>NaN</td>\n",
       "      <td>NaN</td>\n",
       "    </tr>\n",
       "    <tr>\n",
       "      <td>d</td>\n",
       "      <td>NaN</td>\n",
       "      <td>NaN</td>\n",
       "      <td>NaN</td>\n",
       "      <td>NaN</td>\n",
       "      <td>NaN</td>\n",
       "    </tr>\n",
       "    <tr>\n",
       "      <td>e</td>\n",
       "      <td>NaN</td>\n",
       "      <td>NaN</td>\n",
       "      <td>NaN</td>\n",
       "      <td>NaN</td>\n",
       "      <td>NaN</td>\n",
       "    </tr>\n",
       "    <tr>\n",
       "      <td>f</td>\n",
       "      <td>NaN</td>\n",
       "      <td>NaN</td>\n",
       "      <td>NaN</td>\n",
       "      <td>NaN</td>\n",
       "      <td>NaN</td>\n",
       "    </tr>\n",
       "    <tr>\n",
       "      <td>g</td>\n",
       "      <td>NaN</td>\n",
       "      <td>NaN</td>\n",
       "      <td>NaN</td>\n",
       "      <td>NaN</td>\n",
       "      <td>NaN</td>\n",
       "    </tr>\n",
       "    <tr>\n",
       "      <td>h</td>\n",
       "      <td>NaN</td>\n",
       "      <td>NaN</td>\n",
       "      <td>NaN</td>\n",
       "      <td>NaN</td>\n",
       "      <td>NaN</td>\n",
       "    </tr>\n",
       "    <tr>\n",
       "      <td>i</td>\n",
       "      <td>NaN</td>\n",
       "      <td>NaN</td>\n",
       "      <td>NaN</td>\n",
       "      <td>NaN</td>\n",
       "      <td>NaN</td>\n",
       "    </tr>\n",
       "    <tr>\n",
       "      <td>j</td>\n",
       "      <td>NaN</td>\n",
       "      <td>NaN</td>\n",
       "      <td>NaN</td>\n",
       "      <td>NaN</td>\n",
       "      <td>NaN</td>\n",
       "    </tr>\n",
       "  </tbody>\n",
       "</table>\n",
       "</div>"
      ],
      "text/plain": [
       "   uno  dos  tres  cuatro  cinco\n",
       "a  NaN  NaN   NaN     NaN    NaN\n",
       "b  NaN  NaN   NaN     NaN    NaN\n",
       "c  NaN  NaN   NaN     NaN    NaN\n",
       "d  NaN  NaN   NaN     NaN    NaN\n",
       "e  NaN  NaN   NaN     NaN    NaN\n",
       "f  NaN  NaN   NaN     NaN    NaN\n",
       "g  NaN  NaN   NaN     NaN    NaN\n",
       "h  NaN  NaN   NaN     NaN    NaN\n",
       "i  NaN  NaN   NaN     NaN    NaN\n",
       "j  NaN  NaN   NaN     NaN    NaN"
      ]
     },
     "execution_count": 53,
     "metadata": {},
     "output_type": "execute_result"
    }
   ],
   "source": [
    "df.reindex(lst, fill_value= df.values)"
   ]
  },
  {
   "cell_type": "code",
   "execution_count": 49,
   "metadata": {},
   "outputs": [
    {
     "data": {
      "text/html": [
       "<div>\n",
       "<style scoped>\n",
       "    .dataframe tbody tr th:only-of-type {\n",
       "        vertical-align: middle;\n",
       "    }\n",
       "\n",
       "    .dataframe tbody tr th {\n",
       "        vertical-align: top;\n",
       "    }\n",
       "\n",
       "    .dataframe thead th {\n",
       "        text-align: right;\n",
       "    }\n",
       "</style>\n",
       "<table border=\"1\" class=\"dataframe\">\n",
       "  <thead>\n",
       "    <tr style=\"text-align: right;\">\n",
       "      <th></th>\n",
       "      <th>uno</th>\n",
       "      <th>dos</th>\n",
       "      <th>tres</th>\n",
       "      <th>cuatro</th>\n",
       "      <th>cinco</th>\n",
       "    </tr>\n",
       "  </thead>\n",
       "  <tbody>\n",
       "    <tr>\n",
       "      <td>0</td>\n",
       "      <td>0.876200</td>\n",
       "      <td>0.397507</td>\n",
       "      <td>0.868390</td>\n",
       "      <td>0.752031</td>\n",
       "      <td>2.204238</td>\n",
       "    </tr>\n",
       "    <tr>\n",
       "      <td>1</td>\n",
       "      <td>0.611994</td>\n",
       "      <td>0.776501</td>\n",
       "      <td>0.911527</td>\n",
       "      <td>0.867541</td>\n",
       "      <td>0.788144</td>\n",
       "    </tr>\n",
       "    <tr>\n",
       "      <td>2</td>\n",
       "      <td>0.357157</td>\n",
       "      <td>0.625719</td>\n",
       "      <td>0.220771</td>\n",
       "      <td>0.347222</td>\n",
       "      <td>0.570794</td>\n",
       "    </tr>\n",
       "    <tr>\n",
       "      <td>3</td>\n",
       "      <td>0.041566</td>\n",
       "      <td>0.820531</td>\n",
       "      <td>0.169125</td>\n",
       "      <td>0.334411</td>\n",
       "      <td>0.050657</td>\n",
       "    </tr>\n",
       "    <tr>\n",
       "      <td>4</td>\n",
       "      <td>0.961479</td>\n",
       "      <td>0.805227</td>\n",
       "      <td>0.215995</td>\n",
       "      <td>0.130546</td>\n",
       "      <td>1.194046</td>\n",
       "    </tr>\n",
       "    <tr>\n",
       "      <td>5</td>\n",
       "      <td>0.571723</td>\n",
       "      <td>0.647898</td>\n",
       "      <td>0.643959</td>\n",
       "      <td>0.302101</td>\n",
       "      <td>0.882427</td>\n",
       "    </tr>\n",
       "    <tr>\n",
       "      <td>6</td>\n",
       "      <td>0.634636</td>\n",
       "      <td>0.217653</td>\n",
       "      <td>0.309037</td>\n",
       "      <td>0.127619</td>\n",
       "      <td>2.915810</td>\n",
       "    </tr>\n",
       "    <tr>\n",
       "      <td>7</td>\n",
       "      <td>0.007427</td>\n",
       "      <td>0.191151</td>\n",
       "      <td>0.034861</td>\n",
       "      <td>0.309824</td>\n",
       "      <td>0.038855</td>\n",
       "    </tr>\n",
       "    <tr>\n",
       "      <td>8</td>\n",
       "      <td>0.537560</td>\n",
       "      <td>0.109183</td>\n",
       "      <td>0.263077</td>\n",
       "      <td>0.438657</td>\n",
       "      <td>4.923475</td>\n",
       "    </tr>\n",
       "    <tr>\n",
       "      <td>9</td>\n",
       "      <td>0.628526</td>\n",
       "      <td>0.434669</td>\n",
       "      <td>0.151276</td>\n",
       "      <td>0.337192</td>\n",
       "      <td>1.445987</td>\n",
       "    </tr>\n",
       "  </tbody>\n",
       "</table>\n",
       "</div>"
      ],
      "text/plain": [
       "        uno       dos      tres    cuatro     cinco\n",
       "0  0.876200  0.397507  0.868390  0.752031  2.204238\n",
       "1  0.611994  0.776501  0.911527  0.867541  0.788144\n",
       "2  0.357157  0.625719  0.220771  0.347222  0.570794\n",
       "3  0.041566  0.820531  0.169125  0.334411  0.050657\n",
       "4  0.961479  0.805227  0.215995  0.130546  1.194046\n",
       "5  0.571723  0.647898  0.643959  0.302101  0.882427\n",
       "6  0.634636  0.217653  0.309037  0.127619  2.915810\n",
       "7  0.007427  0.191151  0.034861  0.309824  0.038855\n",
       "8  0.537560  0.109183  0.263077  0.438657  4.923475\n",
       "9  0.628526  0.434669  0.151276  0.337192  1.445987"
      ]
     },
     "execution_count": 49,
     "metadata": {},
     "output_type": "execute_result"
    }
   ],
   "source": [
    "df"
   ]
  },
  {
   "cell_type": "code",
   "execution_count": 54,
   "metadata": {},
   "outputs": [],
   "source": [
    "hoteles=pd.DataFrame({'nombre':['Palace', 'Ritz', 0], \n",
    "                      'stars':[5,4,2], 'Precio':[800, 500, 100]})"
   ]
  },
  {
   "cell_type": "code",
   "execution_count": 55,
   "metadata": {},
   "outputs": [
    {
     "data": {
      "text/html": [
       "<div>\n",
       "<style scoped>\n",
       "    .dataframe tbody tr th:only-of-type {\n",
       "        vertical-align: middle;\n",
       "    }\n",
       "\n",
       "    .dataframe tbody tr th {\n",
       "        vertical-align: top;\n",
       "    }\n",
       "\n",
       "    .dataframe thead th {\n",
       "        text-align: right;\n",
       "    }\n",
       "</style>\n",
       "<table border=\"1\" class=\"dataframe\">\n",
       "  <thead>\n",
       "    <tr style=\"text-align: right;\">\n",
       "      <th></th>\n",
       "      <th>nombre</th>\n",
       "      <th>stars</th>\n",
       "      <th>Precio</th>\n",
       "    </tr>\n",
       "  </thead>\n",
       "  <tbody>\n",
       "    <tr>\n",
       "      <td>0</td>\n",
       "      <td>Palace</td>\n",
       "      <td>5</td>\n",
       "      <td>800</td>\n",
       "    </tr>\n",
       "    <tr>\n",
       "      <td>1</td>\n",
       "      <td>Ritz</td>\n",
       "      <td>4</td>\n",
       "      <td>500</td>\n",
       "    </tr>\n",
       "    <tr>\n",
       "      <td>2</td>\n",
       "      <td>0</td>\n",
       "      <td>2</td>\n",
       "      <td>100</td>\n",
       "    </tr>\n",
       "  </tbody>\n",
       "</table>\n",
       "</div>"
      ],
      "text/plain": [
       "   nombre  stars  Precio\n",
       "0  Palace      5     800\n",
       "1    Ritz      4     500\n",
       "2       0      2     100"
      ]
     },
     "execution_count": 55,
     "metadata": {},
     "output_type": "execute_result"
    }
   ],
   "source": [
    "hoteles"
   ]
  },
  {
   "cell_type": "code",
   "execution_count": 56,
   "metadata": {},
   "outputs": [
    {
     "data": {
      "text/plain": [
       "(3, 3)"
      ]
     },
     "execution_count": 56,
     "metadata": {},
     "output_type": "execute_result"
    }
   ],
   "source": [
    "hoteles.shape"
   ]
  },
  {
   "cell_type": "code",
   "execution_count": 68,
   "metadata": {},
   "outputs": [
    {
     "data": {
      "text/html": [
       "<div>\n",
       "<style scoped>\n",
       "    .dataframe tbody tr th:only-of-type {\n",
       "        vertical-align: middle;\n",
       "    }\n",
       "\n",
       "    .dataframe tbody tr th {\n",
       "        vertical-align: top;\n",
       "    }\n",
       "\n",
       "    .dataframe thead th {\n",
       "        text-align: right;\n",
       "    }\n",
       "</style>\n",
       "<table border=\"1\" class=\"dataframe\">\n",
       "  <thead>\n",
       "    <tr style=\"text-align: right;\">\n",
       "      <th></th>\n",
       "      <th>uno</th>\n",
       "      <th>dos</th>\n",
       "      <th>tres</th>\n",
       "      <th>cuatro</th>\n",
       "      <th>cinco</th>\n",
       "    </tr>\n",
       "  </thead>\n",
       "  <tbody>\n",
       "    <tr>\n",
       "      <td>0</td>\n",
       "      <td>0.8762</td>\n",
       "      <td>no hay data</td>\n",
       "      <td>0.86839</td>\n",
       "      <td>0.752031</td>\n",
       "      <td>2.20424</td>\n",
       "    </tr>\n",
       "    <tr>\n",
       "      <td>1</td>\n",
       "      <td>0.611994</td>\n",
       "      <td>0.776501</td>\n",
       "      <td>0.911527</td>\n",
       "      <td>0.867541</td>\n",
       "      <td>0.788144</td>\n",
       "    </tr>\n",
       "    <tr>\n",
       "      <td>2</td>\n",
       "      <td>no hay data</td>\n",
       "      <td>0.625719</td>\n",
       "      <td>no hay data</td>\n",
       "      <td>no hay data</td>\n",
       "      <td>0.570794</td>\n",
       "    </tr>\n",
       "    <tr>\n",
       "      <td>3</td>\n",
       "      <td>no hay data</td>\n",
       "      <td>0.820531</td>\n",
       "      <td>no hay data</td>\n",
       "      <td>no hay data</td>\n",
       "      <td>no hay data</td>\n",
       "    </tr>\n",
       "    <tr>\n",
       "      <td>4</td>\n",
       "      <td>0.961479</td>\n",
       "      <td>0.805227</td>\n",
       "      <td>no hay data</td>\n",
       "      <td>no hay data</td>\n",
       "      <td>1.19405</td>\n",
       "    </tr>\n",
       "    <tr>\n",
       "      <td>5</td>\n",
       "      <td>0.571723</td>\n",
       "      <td>0.647898</td>\n",
       "      <td>0.643959</td>\n",
       "      <td>no hay data</td>\n",
       "      <td>0.882427</td>\n",
       "    </tr>\n",
       "    <tr>\n",
       "      <td>6</td>\n",
       "      <td>0.634636</td>\n",
       "      <td>no hay data</td>\n",
       "      <td>no hay data</td>\n",
       "      <td>no hay data</td>\n",
       "      <td>2.91581</td>\n",
       "    </tr>\n",
       "    <tr>\n",
       "      <td>7</td>\n",
       "      <td>no hay data</td>\n",
       "      <td>no hay data</td>\n",
       "      <td>no hay data</td>\n",
       "      <td>no hay data</td>\n",
       "      <td>no hay data</td>\n",
       "    </tr>\n",
       "    <tr>\n",
       "      <td>8</td>\n",
       "      <td>0.53756</td>\n",
       "      <td>no hay data</td>\n",
       "      <td>no hay data</td>\n",
       "      <td>no hay data</td>\n",
       "      <td>4.92347</td>\n",
       "    </tr>\n",
       "    <tr>\n",
       "      <td>9</td>\n",
       "      <td>0.628526</td>\n",
       "      <td>no hay data</td>\n",
       "      <td>no hay data</td>\n",
       "      <td>no hay data</td>\n",
       "      <td>1.44599</td>\n",
       "    </tr>\n",
       "  </tbody>\n",
       "</table>\n",
       "</div>"
      ],
      "text/plain": [
       "           uno          dos         tres       cuatro        cinco\n",
       "0       0.8762  no hay data      0.86839     0.752031      2.20424\n",
       "1     0.611994     0.776501     0.911527     0.867541     0.788144\n",
       "2  no hay data     0.625719  no hay data  no hay data     0.570794\n",
       "3  no hay data     0.820531  no hay data  no hay data  no hay data\n",
       "4     0.961479     0.805227  no hay data  no hay data      1.19405\n",
       "5     0.571723     0.647898     0.643959  no hay data     0.882427\n",
       "6     0.634636  no hay data  no hay data  no hay data      2.91581\n",
       "7  no hay data  no hay data  no hay data  no hay data  no hay data\n",
       "8      0.53756  no hay data  no hay data  no hay data      4.92347\n",
       "9     0.628526  no hay data  no hay data  no hay data      1.44599"
      ]
     },
     "execution_count": 68,
     "metadata": {},
     "output_type": "execute_result"
    }
   ],
   "source": [
    "df[df > 0.5].fillna('no hay data') #filtro mas llenado de Nan"
   ]
  },
  {
   "cell_type": "code",
   "execution_count": 71,
   "metadata": {},
   "outputs": [],
   "source": [
    "hoteles['ratio'] = hoteles.stars/hoteles.Precio"
   ]
  },
  {
   "cell_type": "code",
   "execution_count": 81,
   "metadata": {},
   "outputs": [
    {
     "data": {
      "text/html": [
       "<div>\n",
       "<style scoped>\n",
       "    .dataframe tbody tr th:only-of-type {\n",
       "        vertical-align: middle;\n",
       "    }\n",
       "\n",
       "    .dataframe tbody tr th {\n",
       "        vertical-align: top;\n",
       "    }\n",
       "\n",
       "    .dataframe thead th {\n",
       "        text-align: right;\n",
       "    }\n",
       "</style>\n",
       "<table border=\"1\" class=\"dataframe\">\n",
       "  <thead>\n",
       "    <tr style=\"text-align: right;\">\n",
       "      <th></th>\n",
       "      <th>0</th>\n",
       "      <th>1</th>\n",
       "      <th>2</th>\n",
       "    </tr>\n",
       "  </thead>\n",
       "  <tbody>\n",
       "    <tr>\n",
       "      <td>nombre</td>\n",
       "      <td>Palace</td>\n",
       "      <td>Ritz</td>\n",
       "      <td>0</td>\n",
       "    </tr>\n",
       "    <tr>\n",
       "      <td>stars</td>\n",
       "      <td>5</td>\n",
       "      <td>4</td>\n",
       "      <td>2</td>\n",
       "    </tr>\n",
       "    <tr>\n",
       "      <td>Precio</td>\n",
       "      <td>800</td>\n",
       "      <td>500</td>\n",
       "      <td>100</td>\n",
       "    </tr>\n",
       "    <tr>\n",
       "      <td>ratio</td>\n",
       "      <td>0.00625</td>\n",
       "      <td>0.008</td>\n",
       "      <td>0.02</td>\n",
       "    </tr>\n",
       "  </tbody>\n",
       "</table>\n",
       "</div>"
      ],
      "text/plain": [
       "              0      1     2\n",
       "nombre   Palace   Ritz     0\n",
       "stars         5      4     2\n",
       "Precio      800    500   100\n",
       "ratio   0.00625  0.008  0.02"
      ]
     },
     "execution_count": 81,
     "metadata": {},
     "output_type": "execute_result"
    }
   ],
   "source": [
    "hoteles.T"
   ]
  },
  {
   "cell_type": "code",
   "execution_count": 78,
   "metadata": {},
   "outputs": [
    {
     "data": {
      "text/html": [
       "<div>\n",
       "<style scoped>\n",
       "    .dataframe tbody tr th:only-of-type {\n",
       "        vertical-align: middle;\n",
       "    }\n",
       "\n",
       "    .dataframe tbody tr th {\n",
       "        vertical-align: top;\n",
       "    }\n",
       "\n",
       "    .dataframe thead th {\n",
       "        text-align: right;\n",
       "    }\n",
       "</style>\n",
       "<table border=\"1\" class=\"dataframe\">\n",
       "  <thead>\n",
       "    <tr style=\"text-align: right;\">\n",
       "      <th></th>\n",
       "      <th>0</th>\n",
       "      <th>1</th>\n",
       "      <th>2</th>\n",
       "    </tr>\n",
       "  </thead>\n",
       "  <tbody>\n",
       "    <tr>\n",
       "      <td>nombre</td>\n",
       "      <td>Palace</td>\n",
       "      <td>Ritz</td>\n",
       "      <td>0</td>\n",
       "    </tr>\n",
       "    <tr>\n",
       "      <td>stars</td>\n",
       "      <td>5</td>\n",
       "      <td>4</td>\n",
       "      <td>2</td>\n",
       "    </tr>\n",
       "    <tr>\n",
       "      <td>Precio</td>\n",
       "      <td>800</td>\n",
       "      <td>500</td>\n",
       "      <td>100</td>\n",
       "    </tr>\n",
       "    <tr>\n",
       "      <td>ratio</td>\n",
       "      <td>0.00625</td>\n",
       "      <td>0.008</td>\n",
       "      <td>0.02</td>\n",
       "    </tr>\n",
       "  </tbody>\n",
       "</table>\n",
       "</div>"
      ],
      "text/plain": [
       "              0      1     2\n",
       "nombre   Palace   Ritz     0\n",
       "stars         5      4     2\n",
       "Precio      800    500   100\n",
       "ratio   0.00625  0.008  0.02"
      ]
     },
     "execution_count": 78,
     "metadata": {},
     "output_type": "execute_result"
    }
   ],
   "source": [
    "hoteles.transpose()"
   ]
  },
  {
   "cell_type": "code",
   "execution_count": 83,
   "metadata": {},
   "outputs": [
    {
     "data": {
      "text/plain": [
       "stars       11.00000\n",
       "Precio    1400.00000\n",
       "ratio        0.03425\n",
       "dtype: float64"
      ]
     },
     "execution_count": 83,
     "metadata": {},
     "output_type": "execute_result"
    }
   ],
   "source": [
    "hoteles.sum()"
   ]
  },
  {
   "cell_type": "code",
   "execution_count": 84,
   "metadata": {},
   "outputs": [
    {
     "data": {
      "text/plain": [
       "stars       3.666667\n",
       "Precio    466.666667\n",
       "ratio       0.011417\n",
       "dtype: float64"
      ]
     },
     "execution_count": 84,
     "metadata": {},
     "output_type": "execute_result"
    }
   ],
   "source": [
    "hoteles.mean()"
   ]
  },
  {
   "cell_type": "code",
   "execution_count": 85,
   "metadata": {},
   "outputs": [
    {
     "data": {
      "text/plain": [
       "stars       5.00\n",
       "Precio    800.00\n",
       "ratio       0.02\n",
       "dtype: float64"
      ]
     },
     "execution_count": 85,
     "metadata": {},
     "output_type": "execute_result"
    }
   ],
   "source": [
    "hoteles.max()"
   ]
  },
  {
   "cell_type": "code",
   "execution_count": 86,
   "metadata": {},
   "outputs": [
    {
     "data": {
      "text/plain": [
       "stars       2.00000\n",
       "Precio    100.00000\n",
       "ratio       0.00625\n",
       "dtype: float64"
      ]
     },
     "execution_count": 86,
     "metadata": {},
     "output_type": "execute_result"
    }
   ],
   "source": [
    "hoteles.min()"
   ]
  },
  {
   "cell_type": "code",
   "execution_count": 87,
   "metadata": {},
   "outputs": [
    {
     "name": "stdout",
     "output_type": "stream",
     "text": [
      "<class 'pandas.core.frame.DataFrame'>\n",
      "RangeIndex: 3 entries, 0 to 2\n",
      "Data columns (total 4 columns):\n",
      "nombre    3 non-null object\n",
      "stars     3 non-null int64\n",
      "Precio    3 non-null int64\n",
      "ratio     3 non-null float64\n",
      "dtypes: float64(1), int64(2), object(1)\n",
      "memory usage: 224.0+ bytes\n"
     ]
    }
   ],
   "source": [
    "hoteles.info()"
   ]
  },
  {
   "cell_type": "code",
   "execution_count": 88,
   "metadata": {},
   "outputs": [
    {
     "data": {
      "text/html": [
       "<div>\n",
       "<style scoped>\n",
       "    .dataframe tbody tr th:only-of-type {\n",
       "        vertical-align: middle;\n",
       "    }\n",
       "\n",
       "    .dataframe tbody tr th {\n",
       "        vertical-align: top;\n",
       "    }\n",
       "\n",
       "    .dataframe thead th {\n",
       "        text-align: right;\n",
       "    }\n",
       "</style>\n",
       "<table border=\"1\" class=\"dataframe\">\n",
       "  <thead>\n",
       "    <tr style=\"text-align: right;\">\n",
       "      <th></th>\n",
       "      <th>stars</th>\n",
       "      <th>Precio</th>\n",
       "      <th>ratio</th>\n",
       "    </tr>\n",
       "  </thead>\n",
       "  <tbody>\n",
       "    <tr>\n",
       "      <td>count</td>\n",
       "      <td>3.000000</td>\n",
       "      <td>3.000000</td>\n",
       "      <td>3.000000</td>\n",
       "    </tr>\n",
       "    <tr>\n",
       "      <td>mean</td>\n",
       "      <td>3.666667</td>\n",
       "      <td>466.666667</td>\n",
       "      <td>0.011417</td>\n",
       "    </tr>\n",
       "    <tr>\n",
       "      <td>std</td>\n",
       "      <td>1.527525</td>\n",
       "      <td>351.188458</td>\n",
       "      <td>0.007485</td>\n",
       "    </tr>\n",
       "    <tr>\n",
       "      <td>min</td>\n",
       "      <td>2.000000</td>\n",
       "      <td>100.000000</td>\n",
       "      <td>0.006250</td>\n",
       "    </tr>\n",
       "    <tr>\n",
       "      <td>25%</td>\n",
       "      <td>3.000000</td>\n",
       "      <td>300.000000</td>\n",
       "      <td>0.007125</td>\n",
       "    </tr>\n",
       "    <tr>\n",
       "      <td>50%</td>\n",
       "      <td>4.000000</td>\n",
       "      <td>500.000000</td>\n",
       "      <td>0.008000</td>\n",
       "    </tr>\n",
       "    <tr>\n",
       "      <td>75%</td>\n",
       "      <td>4.500000</td>\n",
       "      <td>650.000000</td>\n",
       "      <td>0.014000</td>\n",
       "    </tr>\n",
       "    <tr>\n",
       "      <td>max</td>\n",
       "      <td>5.000000</td>\n",
       "      <td>800.000000</td>\n",
       "      <td>0.020000</td>\n",
       "    </tr>\n",
       "  </tbody>\n",
       "</table>\n",
       "</div>"
      ],
      "text/plain": [
       "          stars      Precio     ratio\n",
       "count  3.000000    3.000000  3.000000\n",
       "mean   3.666667  466.666667  0.011417\n",
       "std    1.527525  351.188458  0.007485\n",
       "min    2.000000  100.000000  0.006250\n",
       "25%    3.000000  300.000000  0.007125\n",
       "50%    4.000000  500.000000  0.008000\n",
       "75%    4.500000  650.000000  0.014000\n",
       "max    5.000000  800.000000  0.020000"
      ]
     },
     "execution_count": 88,
     "metadata": {},
     "output_type": "execute_result"
    }
   ],
   "source": [
    "hoteles.describe()"
   ]
  },
  {
   "cell_type": "code",
   "execution_count": 93,
   "metadata": {},
   "outputs": [
    {
     "data": {
      "text/html": [
       "<div>\n",
       "<style scoped>\n",
       "    .dataframe tbody tr th:only-of-type {\n",
       "        vertical-align: middle;\n",
       "    }\n",
       "\n",
       "    .dataframe tbody tr th {\n",
       "        vertical-align: top;\n",
       "    }\n",
       "\n",
       "    .dataframe thead th {\n",
       "        text-align: right;\n",
       "    }\n",
       "</style>\n",
       "<table border=\"1\" class=\"dataframe\">\n",
       "  <thead>\n",
       "    <tr style=\"text-align: right;\">\n",
       "      <th></th>\n",
       "      <th>Nombre</th>\n",
       "      <th>Edad</th>\n",
       "      <th>Apellido</th>\n",
       "    </tr>\n",
       "  </thead>\n",
       "  <tbody>\n",
       "    <tr>\n",
       "      <td>0</td>\n",
       "      <td>Pepe</td>\n",
       "      <td>10</td>\n",
       "      <td>Perez</td>\n",
       "    </tr>\n",
       "    <tr>\n",
       "      <td>1</td>\n",
       "      <td>Juan</td>\n",
       "      <td>20</td>\n",
       "      <td>NaN</td>\n",
       "    </tr>\n",
       "    <tr>\n",
       "      <td>2</td>\n",
       "      <td>Luis</td>\n",
       "      <td>25</td>\n",
       "      <td>Martinez</td>\n",
       "    </tr>\n",
       "    <tr>\n",
       "      <td>3</td>\n",
       "      <td>Fran</td>\n",
       "      <td>15xº</td>\n",
       "      <td>Aguilar</td>\n",
       "    </tr>\n",
       "  </tbody>\n",
       "</table>\n",
       "</div>"
      ],
      "text/plain": [
       "  Nombre  Edad  Apellido\n",
       "0   Pepe    10     Perez\n",
       "1   Juan    20       NaN\n",
       "2   Luis    25  Martinez\n",
       "3   Fran  15xº   Aguilar"
      ]
     },
     "execution_count": 93,
     "metadata": {},
     "output_type": "execute_result"
    }
   ],
   "source": [
    "pd.read_csv('data/alumnos.csv', sep='-')"
   ]
  },
  {
   "cell_type": "code",
   "execution_count": 94,
   "metadata": {},
   "outputs": [],
   "source": [
    "import re"
   ]
  },
  {
   "cell_type": "code",
   "execution_count": 95,
   "metadata": {},
   "outputs": [],
   "source": [
    "n = 'DF1930-GDL1915'"
   ]
  },
  {
   "cell_type": "code",
   "execution_count": 96,
   "metadata": {},
   "outputs": [
    {
     "data": {
      "text/plain": [
       "['1930', '1915']"
      ]
     },
     "execution_count": 96,
     "metadata": {},
     "output_type": "execute_result"
    }
   ],
   "source": [
    "re.findall('\\d+',n)"
   ]
  },
  {
   "cell_type": "code",
   "execution_count": 98,
   "metadata": {},
   "outputs": [],
   "source": [
    "m = n.split('-')"
   ]
  },
  {
   "cell_type": "code",
   "execution_count": 104,
   "metadata": {},
   "outputs": [],
   "source": [
    "j = [re.findall('\\w+',i) for i in m]"
   ]
  },
  {
   "cell_type": "code",
   "execution_count": 105,
   "metadata": {},
   "outputs": [
    {
     "data": {
      "text/plain": [
       "['DF1930', 'GDL1915']"
      ]
     },
     "execution_count": 105,
     "metadata": {},
     "output_type": "execute_result"
    }
   ],
   "source": [
    "m"
   ]
  },
  {
   "cell_type": "code",
   "execution_count": 106,
   "metadata": {},
   "outputs": [
    {
     "data": {
      "text/plain": [
       "[['DF1930'], ['GDL1915']]"
      ]
     },
     "execution_count": 106,
     "metadata": {},
     "output_type": "execute_result"
    }
   ],
   "source": [
    "j"
   ]
  },
  {
   "cell_type": "code",
   "execution_count": 111,
   "metadata": {},
   "outputs": [],
   "source": [
    "d  =pd.read_json('data/alumnos_j.json')"
   ]
  },
  {
   "cell_type": "code",
   "execution_count": 116,
   "metadata": {},
   "outputs": [
    {
     "data": {
      "text/plain": [
       "'Beisbol'"
      ]
     },
     "execution_count": 116,
     "metadata": {},
     "output_type": "execute_result"
    }
   ],
   "source": [
    "d['aficiones'][0][0]['name']"
   ]
  },
  {
   "cell_type": "code",
   "execution_count": 137,
   "metadata": {},
   "outputs": [],
   "source": [
    "hoteles.to_csv('data/hoteles.csv', index = False)"
   ]
  },
  {
   "cell_type": "code",
   "execution_count": 138,
   "metadata": {},
   "outputs": [
    {
     "data": {
      "text/html": [
       "<div>\n",
       "<style scoped>\n",
       "    .dataframe tbody tr th:only-of-type {\n",
       "        vertical-align: middle;\n",
       "    }\n",
       "\n",
       "    .dataframe tbody tr th {\n",
       "        vertical-align: top;\n",
       "    }\n",
       "\n",
       "    .dataframe thead th {\n",
       "        text-align: right;\n",
       "    }\n",
       "</style>\n",
       "<table border=\"1\" class=\"dataframe\">\n",
       "  <thead>\n",
       "    <tr style=\"text-align: right;\">\n",
       "      <th></th>\n",
       "      <th>nombre</th>\n",
       "      <th>stars</th>\n",
       "      <th>Precio</th>\n",
       "      <th>ratio</th>\n",
       "    </tr>\n",
       "  </thead>\n",
       "  <tbody>\n",
       "    <tr>\n",
       "      <td>0</td>\n",
       "      <td>Palace</td>\n",
       "      <td>5</td>\n",
       "      <td>800</td>\n",
       "      <td>0.00625</td>\n",
       "    </tr>\n",
       "    <tr>\n",
       "      <td>1</td>\n",
       "      <td>Ritz</td>\n",
       "      <td>4</td>\n",
       "      <td>500</td>\n",
       "      <td>0.00800</td>\n",
       "    </tr>\n",
       "    <tr>\n",
       "      <td>2</td>\n",
       "      <td>0</td>\n",
       "      <td>2</td>\n",
       "      <td>100</td>\n",
       "      <td>0.02000</td>\n",
       "    </tr>\n",
       "  </tbody>\n",
       "</table>\n",
       "</div>"
      ],
      "text/plain": [
       "   nombre  stars  Precio    ratio\n",
       "0  Palace      5     800  0.00625\n",
       "1    Ritz      4     500  0.00800\n",
       "2       0      2     100  0.02000"
      ]
     },
     "execution_count": 138,
     "metadata": {},
     "output_type": "execute_result"
    }
   ],
   "source": [
    "hoteles_2 = pd.read_csv('data/hoteles.csv')\n",
    "hoteles_2"
   ]
  },
  {
   "cell_type": "code",
   "execution_count": 132,
   "metadata": {},
   "outputs": [],
   "source": [
    "import pickle"
   ]
  },
  {
   "cell_type": "code",
   "execution_count": 131,
   "metadata": {},
   "outputs": [],
   "source": [
    "lst = [1,2,3,4,4,5,6,7,7,8,8]"
   ]
  },
  {
   "cell_type": "code",
   "execution_count": 134,
   "metadata": {},
   "outputs": [],
   "source": [
    "with open('data/lst', 'wb') as f: #open nos ayuda a escribir y leer archivos ('CUALQUIER ARCHIVO') de manera binaria\n",
    "    pickle.dump(lst,f)"
   ]
  },
  {
   "cell_type": "code",
   "execution_count": 140,
   "metadata": {},
   "outputs": [
    {
     "data": {
      "text/plain": [
       "[1, 2, 3, 4, 4, 5, 6, 7, 7, 8, 8]"
      ]
     },
     "execution_count": 140,
     "metadata": {},
     "output_type": "execute_result"
    }
   ],
   "source": [
    "lst_new = pickle.load(open('data/lst','rb'))\n",
    "lst_new"
   ]
  },
  {
   "cell_type": "code",
   "execution_count": 141,
   "metadata": {},
   "outputs": [
    {
     "data": {
      "text/plain": [
       "[1, 2, 3, 4, 4, 5, 6, 7, 7, 8, 8]"
      ]
     },
     "execution_count": 141,
     "metadata": {},
     "output_type": "execute_result"
    }
   ],
   "source": [
    "lst_new_2 = pickle.load(open('data/lst.p','rb'))\n",
    "lst_new_2"
   ]
  },
  {
   "cell_type": "code",
   "execution_count": 142,
   "metadata": {},
   "outputs": [],
   "source": [
    "import warnings\n",
    "warnings.simplefilter('ignore')"
   ]
  },
  {
   "cell_type": "code",
   "execution_count": 143,
   "metadata": {},
   "outputs": [
    {
     "data": {
      "text/html": [
       "<div>\n",
       "<style scoped>\n",
       "    .dataframe tbody tr th:only-of-type {\n",
       "        vertical-align: middle;\n",
       "    }\n",
       "\n",
       "    .dataframe tbody tr th {\n",
       "        vertical-align: top;\n",
       "    }\n",
       "\n",
       "    .dataframe thead th {\n",
       "        text-align: right;\n",
       "    }\n",
       "</style>\n",
       "<table border=\"1\" class=\"dataframe\">\n",
       "  <thead>\n",
       "    <tr style=\"text-align: right;\">\n",
       "      <th></th>\n",
       "      <th>barrels08</th>\n",
       "      <th>barrelsA08</th>\n",
       "      <th>charge120</th>\n",
       "      <th>charge240</th>\n",
       "      <th>city08</th>\n",
       "      <th>city08U</th>\n",
       "      <th>cityA08</th>\n",
       "      <th>cityA08U</th>\n",
       "      <th>cityCD</th>\n",
       "      <th>cityE</th>\n",
       "      <th>...</th>\n",
       "      <th>mfrCode</th>\n",
       "      <th>c240Dscr</th>\n",
       "      <th>charge240b</th>\n",
       "      <th>c240bDscr</th>\n",
       "      <th>createdOn</th>\n",
       "      <th>modifiedOn</th>\n",
       "      <th>startStop</th>\n",
       "      <th>phevCity</th>\n",
       "      <th>phevHwy</th>\n",
       "      <th>phevComb</th>\n",
       "    </tr>\n",
       "  </thead>\n",
       "  <tbody>\n",
       "    <tr>\n",
       "      <td>0</td>\n",
       "      <td>15.695714</td>\n",
       "      <td>0.0</td>\n",
       "      <td>0.0</td>\n",
       "      <td>0.0</td>\n",
       "      <td>19</td>\n",
       "      <td>0.0</td>\n",
       "      <td>0</td>\n",
       "      <td>0.0</td>\n",
       "      <td>0.0</td>\n",
       "      <td>0.0</td>\n",
       "      <td>...</td>\n",
       "      <td>NaN</td>\n",
       "      <td>NaN</td>\n",
       "      <td>0.0</td>\n",
       "      <td>NaN</td>\n",
       "      <td>Tue Jan 01 00:00:00 EST 2013</td>\n",
       "      <td>Tue Jan 01 00:00:00 EST 2013</td>\n",
       "      <td>NaN</td>\n",
       "      <td>0</td>\n",
       "      <td>0</td>\n",
       "      <td>0</td>\n",
       "    </tr>\n",
       "    <tr>\n",
       "      <td>1</td>\n",
       "      <td>29.964545</td>\n",
       "      <td>0.0</td>\n",
       "      <td>0.0</td>\n",
       "      <td>0.0</td>\n",
       "      <td>9</td>\n",
       "      <td>0.0</td>\n",
       "      <td>0</td>\n",
       "      <td>0.0</td>\n",
       "      <td>0.0</td>\n",
       "      <td>0.0</td>\n",
       "      <td>...</td>\n",
       "      <td>NaN</td>\n",
       "      <td>NaN</td>\n",
       "      <td>0.0</td>\n",
       "      <td>NaN</td>\n",
       "      <td>Tue Jan 01 00:00:00 EST 2013</td>\n",
       "      <td>Tue Jan 01 00:00:00 EST 2013</td>\n",
       "      <td>NaN</td>\n",
       "      <td>0</td>\n",
       "      <td>0</td>\n",
       "      <td>0</td>\n",
       "    </tr>\n",
       "    <tr>\n",
       "      <td>2</td>\n",
       "      <td>12.207778</td>\n",
       "      <td>0.0</td>\n",
       "      <td>0.0</td>\n",
       "      <td>0.0</td>\n",
       "      <td>23</td>\n",
       "      <td>0.0</td>\n",
       "      <td>0</td>\n",
       "      <td>0.0</td>\n",
       "      <td>0.0</td>\n",
       "      <td>0.0</td>\n",
       "      <td>...</td>\n",
       "      <td>NaN</td>\n",
       "      <td>NaN</td>\n",
       "      <td>0.0</td>\n",
       "      <td>NaN</td>\n",
       "      <td>Tue Jan 01 00:00:00 EST 2013</td>\n",
       "      <td>Tue Jan 01 00:00:00 EST 2013</td>\n",
       "      <td>NaN</td>\n",
       "      <td>0</td>\n",
       "      <td>0</td>\n",
       "      <td>0</td>\n",
       "    </tr>\n",
       "    <tr>\n",
       "      <td>3</td>\n",
       "      <td>29.964545</td>\n",
       "      <td>0.0</td>\n",
       "      <td>0.0</td>\n",
       "      <td>0.0</td>\n",
       "      <td>10</td>\n",
       "      <td>0.0</td>\n",
       "      <td>0</td>\n",
       "      <td>0.0</td>\n",
       "      <td>0.0</td>\n",
       "      <td>0.0</td>\n",
       "      <td>...</td>\n",
       "      <td>NaN</td>\n",
       "      <td>NaN</td>\n",
       "      <td>0.0</td>\n",
       "      <td>NaN</td>\n",
       "      <td>Tue Jan 01 00:00:00 EST 2013</td>\n",
       "      <td>Tue Jan 01 00:00:00 EST 2013</td>\n",
       "      <td>NaN</td>\n",
       "      <td>0</td>\n",
       "      <td>0</td>\n",
       "      <td>0</td>\n",
       "    </tr>\n",
       "    <tr>\n",
       "      <td>4</td>\n",
       "      <td>17.347895</td>\n",
       "      <td>0.0</td>\n",
       "      <td>0.0</td>\n",
       "      <td>0.0</td>\n",
       "      <td>17</td>\n",
       "      <td>0.0</td>\n",
       "      <td>0</td>\n",
       "      <td>0.0</td>\n",
       "      <td>0.0</td>\n",
       "      <td>0.0</td>\n",
       "      <td>...</td>\n",
       "      <td>NaN</td>\n",
       "      <td>NaN</td>\n",
       "      <td>0.0</td>\n",
       "      <td>NaN</td>\n",
       "      <td>Tue Jan 01 00:00:00 EST 2013</td>\n",
       "      <td>Tue Jan 01 00:00:00 EST 2013</td>\n",
       "      <td>NaN</td>\n",
       "      <td>0</td>\n",
       "      <td>0</td>\n",
       "      <td>0</td>\n",
       "    </tr>\n",
       "  </tbody>\n",
       "</table>\n",
       "<p>5 rows × 83 columns</p>\n",
       "</div>"
      ],
      "text/plain": [
       "   barrels08  barrelsA08  charge120  charge240  city08  city08U  cityA08  \\\n",
       "0  15.695714         0.0        0.0        0.0      19      0.0        0   \n",
       "1  29.964545         0.0        0.0        0.0       9      0.0        0   \n",
       "2  12.207778         0.0        0.0        0.0      23      0.0        0   \n",
       "3  29.964545         0.0        0.0        0.0      10      0.0        0   \n",
       "4  17.347895         0.0        0.0        0.0      17      0.0        0   \n",
       "\n",
       "   cityA08U  cityCD  cityE  ...  mfrCode  c240Dscr  charge240b  c240bDscr  \\\n",
       "0       0.0     0.0    0.0  ...      NaN       NaN         0.0        NaN   \n",
       "1       0.0     0.0    0.0  ...      NaN       NaN         0.0        NaN   \n",
       "2       0.0     0.0    0.0  ...      NaN       NaN         0.0        NaN   \n",
       "3       0.0     0.0    0.0  ...      NaN       NaN         0.0        NaN   \n",
       "4       0.0     0.0    0.0  ...      NaN       NaN         0.0        NaN   \n",
       "\n",
       "                      createdOn                    modifiedOn  startStop  \\\n",
       "0  Tue Jan 01 00:00:00 EST 2013  Tue Jan 01 00:00:00 EST 2013        NaN   \n",
       "1  Tue Jan 01 00:00:00 EST 2013  Tue Jan 01 00:00:00 EST 2013        NaN   \n",
       "2  Tue Jan 01 00:00:00 EST 2013  Tue Jan 01 00:00:00 EST 2013        NaN   \n",
       "3  Tue Jan 01 00:00:00 EST 2013  Tue Jan 01 00:00:00 EST 2013        NaN   \n",
       "4  Tue Jan 01 00:00:00 EST 2013  Tue Jan 01 00:00:00 EST 2013        NaN   \n",
       "\n",
       "   phevCity  phevHwy  phevComb  \n",
       "0         0        0         0  \n",
       "1         0        0         0  \n",
       "2         0        0         0  \n",
       "3         0        0         0  \n",
       "4         0        0         0  \n",
       "\n",
       "[5 rows x 83 columns]"
      ]
     },
     "execution_count": 143,
     "metadata": {},
     "output_type": "execute_result"
    }
   ],
   "source": [
    "df=pd.read_csv('data/vehicles_messy.csv')  # cargar csv en dataframe\n",
    "\n",
    "df.head()"
   ]
  },
  {
   "cell_type": "code",
   "execution_count": 144,
   "metadata": {},
   "outputs": [
    {
     "data": {
      "text/plain": [
       "(37843, 83)"
      ]
     },
     "execution_count": 144,
     "metadata": {},
     "output_type": "execute_result"
    }
   ],
   "source": [
    "df.shape"
   ]
  },
  {
   "cell_type": "code",
   "execution_count": 145,
   "metadata": {},
   "outputs": [
    {
     "data": {
      "text/plain": [
       "Index(['barrels08', 'barrelsA08', 'charge120', 'charge240', 'city08',\n",
       "       'city08U', 'cityA08', 'cityA08U', 'cityCD', 'cityE', 'cityUF', 'co2',\n",
       "       'co2A', 'co2TailpipeAGpm', 'co2TailpipeGpm', 'comb08', 'comb08U',\n",
       "       'combA08', 'combA08U', 'combE', 'combinedCD', 'combinedUF', 'cylinders',\n",
       "       'displ', 'drive', 'engId', 'eng_dscr', 'feScore', 'fuelCost08',\n",
       "       'fuelCostA08', 'fuelType', 'fuelType1', 'ghgScore', 'ghgScoreA',\n",
       "       'highway08', 'highway08U', 'highwayA08', 'highwayA08U', 'highwayCD',\n",
       "       'highwayE', 'highwayUF', 'hlv', 'hpv', 'id', 'lv2', 'lv4', 'make',\n",
       "       'model', 'mpgData', 'phevBlended', 'pv2', 'pv4', 'range', 'rangeCity',\n",
       "       'rangeCityA', 'rangeHwy', 'rangeHwyA', 'trany', 'UCity', 'UCityA',\n",
       "       'UHighway', 'UHighwayA', 'VClass', 'year', 'youSaveSpend', 'guzzler',\n",
       "       'trans_dscr', 'tCharger', 'sCharger', 'atvType', 'fuelType2', 'rangeA',\n",
       "       'evMotor', 'mfrCode', 'c240Dscr', 'charge240b', 'c240bDscr',\n",
       "       'createdOn', 'modifiedOn', 'startStop', 'phevCity', 'phevHwy',\n",
       "       'phevComb'],\n",
       "      dtype='object')"
      ]
     },
     "execution_count": 145,
     "metadata": {},
     "output_type": "execute_result"
    }
   ],
   "source": [
    "df.columns"
   ]
  },
  {
   "cell_type": "code",
   "execution_count": 152,
   "metadata": {},
   "outputs": [
    {
     "data": {
      "text/plain": [
       "Chevrolet                        3795\n",
       "Ford                             3102\n",
       "Dodge                            2513\n",
       "GMC                              2389\n",
       "Toyota                           1919\n",
       "                                 ... \n",
       "Mahindra                            1\n",
       "Import Foreign Auto Sales Inc       1\n",
       "Goldacre                            1\n",
       "Aurora Cars Ltd                     1\n",
       "London Taxi                         1\n",
       "Name: make, Length: 133, dtype: int64"
      ]
     },
     "execution_count": 152,
     "metadata": {},
     "output_type": "execute_result"
    }
   ],
   "source": [
    "lst_make = df['make'].value_counts() #cuenta Valores unicos de make \n",
    "lst_make"
   ]
  },
  {
   "cell_type": "code",
   "execution_count": 148,
   "metadata": {},
   "outputs": [
    {
     "data": {
      "text/plain": [
       "F150 Pickup 2WD         207\n",
       "Truck 2WD               187\n",
       "F150 Pickup 4WD         185\n",
       "Jetta                   184\n",
       "Mustang                 184\n",
       "                       ... \n",
       "Tahoe 1500 2WD FFV        1\n",
       "308                       1\n",
       "Ghibli V6 SQ4 AWD         1\n",
       "Wagoneer Limited 4WD      1\n",
       "Mountaineer FFV 4WD       1\n",
       "Name: model, Length: 3692, dtype: int64"
      ]
     },
     "execution_count": 148,
     "metadata": {},
     "output_type": "execute_result"
    }
   ],
   "source": [
    "df['model'].value_counts()"
   ]
  },
  {
   "cell_type": "code",
   "execution_count": 156,
   "metadata": {},
   "outputs": [
    {
     "data": {
      "text/plain": [
       "dtype('float64')"
      ]
     },
     "execution_count": 156,
     "metadata": {},
     "output_type": "execute_result"
    }
   ],
   "source": [
    "df['cityCD'].dtypes"
   ]
  },
  {
   "cell_type": "code",
   "execution_count": 157,
   "metadata": {},
   "outputs": [
    {
     "name": "stdout",
     "output_type": "stream",
     "text": [
      "<class 'pandas.core.frame.DataFrame'>\n",
      "RangeIndex: 37843 entries, 0 to 37842\n",
      "Data columns (total 83 columns):\n",
      "barrels08          37843 non-null float64\n",
      "barrelsA08         37843 non-null float64\n",
      "charge120          37843 non-null float64\n",
      "charge240          37843 non-null float64\n",
      "city08             37843 non-null int64\n",
      "city08U            37843 non-null float64\n",
      "cityA08            37843 non-null int64\n",
      "cityA08U           37843 non-null float64\n",
      "cityCD             37843 non-null float64\n",
      "cityE              37843 non-null float64\n",
      "cityUF             37843 non-null float64\n",
      "co2                37843 non-null int64\n",
      "co2A               37843 non-null int64\n",
      "co2TailpipeAGpm    37843 non-null float64\n",
      "co2TailpipeGpm     37843 non-null float64\n",
      "comb08             37843 non-null int64\n",
      "comb08U            37843 non-null float64\n",
      "combA08            37843 non-null int64\n",
      "combA08U           37843 non-null float64\n",
      "combE              37843 non-null float64\n",
      "combinedCD         37843 non-null float64\n",
      "combinedUF         37843 non-null float64\n",
      "cylinders          37720 non-null float64\n",
      "displ              37723 non-null float64\n",
      "drive              36654 non-null object\n",
      "engId              37843 non-null int64\n",
      "eng_dscr           22440 non-null object\n",
      "feScore            37843 non-null int64\n",
      "fuelCost08         37843 non-null int64\n",
      "fuelCostA08        37843 non-null int64\n",
      "fuelType           37843 non-null object\n",
      "fuelType1          37843 non-null object\n",
      "ghgScore           37843 non-null int64\n",
      "ghgScoreA          37843 non-null int64\n",
      "highway08          37843 non-null int64\n",
      "highway08U         37843 non-null float64\n",
      "highwayA08         37843 non-null int64\n",
      "highwayA08U        37843 non-null float64\n",
      "highwayCD          37843 non-null float64\n",
      "highwayE           37843 non-null float64\n",
      "highwayUF          37843 non-null float64\n",
      "hlv                37843 non-null int64\n",
      "hpv                37843 non-null int64\n",
      "id                 37843 non-null int64\n",
      "lv2                37843 non-null int64\n",
      "lv4                37843 non-null int64\n",
      "make               37843 non-null object\n",
      "model              37843 non-null object\n",
      "mpgData            37843 non-null object\n",
      "phevBlended        37843 non-null bool\n",
      "pv2                37843 non-null int64\n",
      "pv4                37843 non-null int64\n",
      "range              37843 non-null int64\n",
      "rangeCity          37843 non-null float64\n",
      "rangeCityA         37843 non-null float64\n",
      "rangeHwy           37843 non-null float64\n",
      "rangeHwyA          37843 non-null float64\n",
      "trany              37832 non-null object\n",
      "UCity              37843 non-null float64\n",
      "UCityA             37843 non-null float64\n",
      "UHighway           37843 non-null float64\n",
      "UHighwayA          37843 non-null float64\n",
      "VClass             37843 non-null object\n",
      "year               37843 non-null int64\n",
      "youSaveSpend       37843 non-null int64\n",
      "guzzler            2281 non-null object\n",
      "trans_dscr         15047 non-null object\n",
      "tCharger           5186 non-null object\n",
      "sCharger           666 non-null object\n",
      "atvType            3072 non-null object\n",
      "fuelType2          1408 non-null object\n",
      "rangeA             1403 non-null object\n",
      "evMotor            562 non-null object\n",
      "mfrCode            7025 non-null object\n",
      "c240Dscr           37 non-null object\n",
      "charge240b         37843 non-null float64\n",
      "c240bDscr          36 non-null object\n",
      "createdOn          37843 non-null object\n",
      "modifiedOn         37843 non-null object\n",
      "startStop          6138 non-null object\n",
      "phevCity           37843 non-null int64\n",
      "phevHwy            37843 non-null int64\n",
      "phevComb           37843 non-null int64\n",
      "dtypes: bool(1), float64(32), int64(27), object(23)\n",
      "memory usage: 23.7+ MB\n"
     ]
    }
   ],
   "source": [
    "df.info()"
   ]
  },
  {
   "cell_type": "code",
   "execution_count": 159,
   "metadata": {},
   "outputs": [
    {
     "data": {
      "text/plain": [
       "G    1302\n",
       "T     964\n",
       "S      15\n",
       "Name: guzzler, dtype: int64"
      ]
     },
     "execution_count": 159,
     "metadata": {},
     "output_type": "execute_result"
    }
   ],
   "source": [
    "df['guzzler'].value_counts()"
   ]
  },
  {
   "cell_type": "code",
   "execution_count": 167,
   "metadata": {},
   "outputs": [
    {
     "ename": "KeyError",
     "evalue": "\"['guzzler'] not found in axis\"",
     "output_type": "error",
     "traceback": [
      "\u001b[1;31m---------------------------------------------------------------------------\u001b[0m",
      "\u001b[1;31mKeyError\u001b[0m                                  Traceback (most recent call last)",
      "\u001b[1;32m<ipython-input-167-e9f39be1166c>\u001b[0m in \u001b[0;36m<module>\u001b[1;34m\u001b[0m\n\u001b[1;32m----> 1\u001b[1;33m \u001b[0mdf\u001b[0m\u001b[1;33m.\u001b[0m\u001b[0mdrop\u001b[0m\u001b[1;33m(\u001b[0m\u001b[1;34m'guzzler'\u001b[0m\u001b[1;33m,\u001b[0m \u001b[0maxis\u001b[0m \u001b[1;33m=\u001b[0m \u001b[1;36m1\u001b[0m\u001b[1;33m,\u001b[0m \u001b[0minplace\u001b[0m \u001b[1;33m=\u001b[0m \u001b[1;32mTrue\u001b[0m\u001b[1;33m)\u001b[0m\u001b[1;31m#Se elimina la columna 'guzzler' especificando con axis = 1; axis =0 para filas\u001b[0m\u001b[1;33m\u001b[0m\u001b[1;33m\u001b[0m\u001b[0m\n\u001b[0m",
      "\u001b[1;32m~\\AppData\\Roaming\\Python\\Python37\\site-packages\\pandas\\core\\frame.py\u001b[0m in \u001b[0;36mdrop\u001b[1;34m(self, labels, axis, index, columns, level, inplace, errors)\u001b[0m\n\u001b[0;32m   4100\u001b[0m             \u001b[0mlevel\u001b[0m\u001b[1;33m=\u001b[0m\u001b[0mlevel\u001b[0m\u001b[1;33m,\u001b[0m\u001b[1;33m\u001b[0m\u001b[1;33m\u001b[0m\u001b[0m\n\u001b[0;32m   4101\u001b[0m             \u001b[0minplace\u001b[0m\u001b[1;33m=\u001b[0m\u001b[0minplace\u001b[0m\u001b[1;33m,\u001b[0m\u001b[1;33m\u001b[0m\u001b[1;33m\u001b[0m\u001b[0m\n\u001b[1;32m-> 4102\u001b[1;33m             \u001b[0merrors\u001b[0m\u001b[1;33m=\u001b[0m\u001b[0merrors\u001b[0m\u001b[1;33m,\u001b[0m\u001b[1;33m\u001b[0m\u001b[1;33m\u001b[0m\u001b[0m\n\u001b[0m\u001b[0;32m   4103\u001b[0m         )\n\u001b[0;32m   4104\u001b[0m \u001b[1;33m\u001b[0m\u001b[0m\n",
      "\u001b[1;32m~\\AppData\\Roaming\\Python\\Python37\\site-packages\\pandas\\core\\generic.py\u001b[0m in \u001b[0;36mdrop\u001b[1;34m(self, labels, axis, index, columns, level, inplace, errors)\u001b[0m\n\u001b[0;32m   3912\u001b[0m         \u001b[1;32mfor\u001b[0m \u001b[0maxis\u001b[0m\u001b[1;33m,\u001b[0m \u001b[0mlabels\u001b[0m \u001b[1;32min\u001b[0m \u001b[0maxes\u001b[0m\u001b[1;33m.\u001b[0m\u001b[0mitems\u001b[0m\u001b[1;33m(\u001b[0m\u001b[1;33m)\u001b[0m\u001b[1;33m:\u001b[0m\u001b[1;33m\u001b[0m\u001b[1;33m\u001b[0m\u001b[0m\n\u001b[0;32m   3913\u001b[0m             \u001b[1;32mif\u001b[0m \u001b[0mlabels\u001b[0m \u001b[1;32mis\u001b[0m \u001b[1;32mnot\u001b[0m \u001b[1;32mNone\u001b[0m\u001b[1;33m:\u001b[0m\u001b[1;33m\u001b[0m\u001b[1;33m\u001b[0m\u001b[0m\n\u001b[1;32m-> 3914\u001b[1;33m                 \u001b[0mobj\u001b[0m \u001b[1;33m=\u001b[0m \u001b[0mobj\u001b[0m\u001b[1;33m.\u001b[0m\u001b[0m_drop_axis\u001b[0m\u001b[1;33m(\u001b[0m\u001b[0mlabels\u001b[0m\u001b[1;33m,\u001b[0m \u001b[0maxis\u001b[0m\u001b[1;33m,\u001b[0m \u001b[0mlevel\u001b[0m\u001b[1;33m=\u001b[0m\u001b[0mlevel\u001b[0m\u001b[1;33m,\u001b[0m \u001b[0merrors\u001b[0m\u001b[1;33m=\u001b[0m\u001b[0merrors\u001b[0m\u001b[1;33m)\u001b[0m\u001b[1;33m\u001b[0m\u001b[1;33m\u001b[0m\u001b[0m\n\u001b[0m\u001b[0;32m   3915\u001b[0m \u001b[1;33m\u001b[0m\u001b[0m\n\u001b[0;32m   3916\u001b[0m         \u001b[1;32mif\u001b[0m \u001b[0minplace\u001b[0m\u001b[1;33m:\u001b[0m\u001b[1;33m\u001b[0m\u001b[1;33m\u001b[0m\u001b[0m\n",
      "\u001b[1;32m~\\AppData\\Roaming\\Python\\Python37\\site-packages\\pandas\\core\\generic.py\u001b[0m in \u001b[0;36m_drop_axis\u001b[1;34m(self, labels, axis, level, errors)\u001b[0m\n\u001b[0;32m   3944\u001b[0m                 \u001b[0mnew_axis\u001b[0m \u001b[1;33m=\u001b[0m \u001b[0maxis\u001b[0m\u001b[1;33m.\u001b[0m\u001b[0mdrop\u001b[0m\u001b[1;33m(\u001b[0m\u001b[0mlabels\u001b[0m\u001b[1;33m,\u001b[0m \u001b[0mlevel\u001b[0m\u001b[1;33m=\u001b[0m\u001b[0mlevel\u001b[0m\u001b[1;33m,\u001b[0m \u001b[0merrors\u001b[0m\u001b[1;33m=\u001b[0m\u001b[0merrors\u001b[0m\u001b[1;33m)\u001b[0m\u001b[1;33m\u001b[0m\u001b[1;33m\u001b[0m\u001b[0m\n\u001b[0;32m   3945\u001b[0m             \u001b[1;32melse\u001b[0m\u001b[1;33m:\u001b[0m\u001b[1;33m\u001b[0m\u001b[1;33m\u001b[0m\u001b[0m\n\u001b[1;32m-> 3946\u001b[1;33m                 \u001b[0mnew_axis\u001b[0m \u001b[1;33m=\u001b[0m \u001b[0maxis\u001b[0m\u001b[1;33m.\u001b[0m\u001b[0mdrop\u001b[0m\u001b[1;33m(\u001b[0m\u001b[0mlabels\u001b[0m\u001b[1;33m,\u001b[0m \u001b[0merrors\u001b[0m\u001b[1;33m=\u001b[0m\u001b[0merrors\u001b[0m\u001b[1;33m)\u001b[0m\u001b[1;33m\u001b[0m\u001b[1;33m\u001b[0m\u001b[0m\n\u001b[0m\u001b[0;32m   3947\u001b[0m             \u001b[0mresult\u001b[0m \u001b[1;33m=\u001b[0m \u001b[0mself\u001b[0m\u001b[1;33m.\u001b[0m\u001b[0mreindex\u001b[0m\u001b[1;33m(\u001b[0m\u001b[1;33m**\u001b[0m\u001b[1;33m{\u001b[0m\u001b[0maxis_name\u001b[0m\u001b[1;33m:\u001b[0m \u001b[0mnew_axis\u001b[0m\u001b[1;33m}\u001b[0m\u001b[1;33m)\u001b[0m\u001b[1;33m\u001b[0m\u001b[1;33m\u001b[0m\u001b[0m\n\u001b[0;32m   3948\u001b[0m \u001b[1;33m\u001b[0m\u001b[0m\n",
      "\u001b[1;32m~\\AppData\\Roaming\\Python\\Python37\\site-packages\\pandas\\core\\indexes\\base.py\u001b[0m in \u001b[0;36mdrop\u001b[1;34m(self, labels, errors)\u001b[0m\n\u001b[0;32m   5338\u001b[0m         \u001b[1;32mif\u001b[0m \u001b[0mmask\u001b[0m\u001b[1;33m.\u001b[0m\u001b[0many\u001b[0m\u001b[1;33m(\u001b[0m\u001b[1;33m)\u001b[0m\u001b[1;33m:\u001b[0m\u001b[1;33m\u001b[0m\u001b[1;33m\u001b[0m\u001b[0m\n\u001b[0;32m   5339\u001b[0m             \u001b[1;32mif\u001b[0m \u001b[0merrors\u001b[0m \u001b[1;33m!=\u001b[0m \u001b[1;34m\"ignore\"\u001b[0m\u001b[1;33m:\u001b[0m\u001b[1;33m\u001b[0m\u001b[1;33m\u001b[0m\u001b[0m\n\u001b[1;32m-> 5340\u001b[1;33m                 \u001b[1;32mraise\u001b[0m \u001b[0mKeyError\u001b[0m\u001b[1;33m(\u001b[0m\u001b[1;34m\"{} not found in axis\"\u001b[0m\u001b[1;33m.\u001b[0m\u001b[0mformat\u001b[0m\u001b[1;33m(\u001b[0m\u001b[0mlabels\u001b[0m\u001b[1;33m[\u001b[0m\u001b[0mmask\u001b[0m\u001b[1;33m]\u001b[0m\u001b[1;33m)\u001b[0m\u001b[1;33m)\u001b[0m\u001b[1;33m\u001b[0m\u001b[1;33m\u001b[0m\u001b[0m\n\u001b[0m\u001b[0;32m   5341\u001b[0m             \u001b[0mindexer\u001b[0m \u001b[1;33m=\u001b[0m \u001b[0mindexer\u001b[0m\u001b[1;33m[\u001b[0m\u001b[1;33m~\u001b[0m\u001b[0mmask\u001b[0m\u001b[1;33m]\u001b[0m\u001b[1;33m\u001b[0m\u001b[1;33m\u001b[0m\u001b[0m\n\u001b[0;32m   5342\u001b[0m         \u001b[1;32mreturn\u001b[0m \u001b[0mself\u001b[0m\u001b[1;33m.\u001b[0m\u001b[0mdelete\u001b[0m\u001b[1;33m(\u001b[0m\u001b[0mindexer\u001b[0m\u001b[1;33m)\u001b[0m\u001b[1;33m\u001b[0m\u001b[1;33m\u001b[0m\u001b[0m\n",
      "\u001b[1;31mKeyError\u001b[0m: \"['guzzler'] not found in axis\""
     ]
    }
   ],
   "source": [
    "df.drop('guzzler', axis = 1, inplace = True)#Se elimina la columna 'guzzler' especificando con axis = 1; axis =0 para filas"
   ]
  },
  {
   "cell_type": "code",
   "execution_count": 164,
   "metadata": {},
   "outputs": [],
   "source": [
    "df = df.drop('phevComb', axis = 1) #Se asigna a una nueva variable el dataframe con la columna elimanada, igual que se usara inplace\n"
   ]
  },
  {
   "cell_type": "code",
   "execution_count": 165,
   "metadata": {},
   "outputs": [
    {
     "data": {
      "text/plain": [
       "Index(['barrels08', 'barrelsA08', 'charge120', 'charge240', 'city08',\n",
       "       'city08U', 'cityA08', 'cityA08U', 'cityCD', 'cityE', 'cityUF', 'co2',\n",
       "       'co2A', 'co2TailpipeAGpm', 'co2TailpipeGpm', 'comb08', 'comb08U',\n",
       "       'combA08', 'combA08U', 'combE', 'combinedCD', 'combinedUF', 'cylinders',\n",
       "       'displ', 'drive', 'engId', 'eng_dscr', 'feScore', 'fuelCost08',\n",
       "       'fuelCostA08', 'fuelType', 'fuelType1', 'ghgScore', 'ghgScoreA',\n",
       "       'highway08', 'highway08U', 'highwayA08', 'highwayA08U', 'highwayCD',\n",
       "       'highwayE', 'highwayUF', 'hlv', 'hpv', 'id', 'lv2', 'lv4', 'make',\n",
       "       'model', 'mpgData', 'phevBlended', 'pv2', 'pv4', 'range', 'rangeCity',\n",
       "       'rangeCityA', 'rangeHwy', 'rangeHwyA', 'trany', 'UCity', 'UCityA',\n",
       "       'UHighway', 'UHighwayA', 'VClass', 'year', 'youSaveSpend', 'trans_dscr',\n",
       "       'tCharger', 'sCharger', 'atvType', 'fuelType2', 'rangeA', 'evMotor',\n",
       "       'mfrCode', 'c240Dscr', 'charge240b', 'c240bDscr', 'createdOn',\n",
       "       'modifiedOn', 'startStop', 'phevCity', 'phevHwy'],\n",
       "      dtype='object')"
      ]
     },
     "execution_count": 165,
     "metadata": {},
     "output_type": "execute_result"
    }
   ],
   "source": [
    "df.columns"
   ]
  },
  {
   "cell_type": "code",
   "execution_count": 168,
   "metadata": {},
   "outputs": [
    {
     "data": {
      "text/html": [
       "<div>\n",
       "<style scoped>\n",
       "    .dataframe tbody tr th:only-of-type {\n",
       "        vertical-align: middle;\n",
       "    }\n",
       "\n",
       "    .dataframe tbody tr th {\n",
       "        vertical-align: top;\n",
       "    }\n",
       "\n",
       "    .dataframe thead th {\n",
       "        text-align: right;\n",
       "    }\n",
       "</style>\n",
       "<table border=\"1\" class=\"dataframe\">\n",
       "  <thead>\n",
       "    <tr style=\"text-align: right;\">\n",
       "      <th></th>\n",
       "      <th>barrels08</th>\n",
       "      <th>barrelsA08</th>\n",
       "      <th>charge120</th>\n",
       "      <th>charge240</th>\n",
       "      <th>city08</th>\n",
       "      <th>city08U</th>\n",
       "      <th>cityA08</th>\n",
       "      <th>cityA08U</th>\n",
       "      <th>cityCD</th>\n",
       "      <th>cityE</th>\n",
       "      <th>...</th>\n",
       "      <th>evMotor</th>\n",
       "      <th>mfrCode</th>\n",
       "      <th>c240Dscr</th>\n",
       "      <th>charge240b</th>\n",
       "      <th>c240bDscr</th>\n",
       "      <th>createdOn</th>\n",
       "      <th>modifiedOn</th>\n",
       "      <th>startStop</th>\n",
       "      <th>phevCity</th>\n",
       "      <th>phevHwy</th>\n",
       "    </tr>\n",
       "  </thead>\n",
       "  <tbody>\n",
       "    <tr>\n",
       "      <td>0</td>\n",
       "      <td>15.695714</td>\n",
       "      <td>0.0</td>\n",
       "      <td>0.0</td>\n",
       "      <td>0.0</td>\n",
       "      <td>19</td>\n",
       "      <td>0.0</td>\n",
       "      <td>0</td>\n",
       "      <td>0.0</td>\n",
       "      <td>0.0</td>\n",
       "      <td>0.0</td>\n",
       "      <td>...</td>\n",
       "      <td>NaN</td>\n",
       "      <td>NaN</td>\n",
       "      <td>NaN</td>\n",
       "      <td>0.0</td>\n",
       "      <td>NaN</td>\n",
       "      <td>Tue Jan 01 00:00:00 EST 2013</td>\n",
       "      <td>Tue Jan 01 00:00:00 EST 2013</td>\n",
       "      <td>NaN</td>\n",
       "      <td>0</td>\n",
       "      <td>0</td>\n",
       "    </tr>\n",
       "    <tr>\n",
       "      <td>1</td>\n",
       "      <td>29.964545</td>\n",
       "      <td>0.0</td>\n",
       "      <td>0.0</td>\n",
       "      <td>0.0</td>\n",
       "      <td>9</td>\n",
       "      <td>0.0</td>\n",
       "      <td>0</td>\n",
       "      <td>0.0</td>\n",
       "      <td>0.0</td>\n",
       "      <td>0.0</td>\n",
       "      <td>...</td>\n",
       "      <td>NaN</td>\n",
       "      <td>NaN</td>\n",
       "      <td>NaN</td>\n",
       "      <td>0.0</td>\n",
       "      <td>NaN</td>\n",
       "      <td>Tue Jan 01 00:00:00 EST 2013</td>\n",
       "      <td>Tue Jan 01 00:00:00 EST 2013</td>\n",
       "      <td>NaN</td>\n",
       "      <td>0</td>\n",
       "      <td>0</td>\n",
       "    </tr>\n",
       "  </tbody>\n",
       "</table>\n",
       "<p>2 rows × 81 columns</p>\n",
       "</div>"
      ],
      "text/plain": [
       "   barrels08  barrelsA08  charge120  charge240  city08  city08U  cityA08  \\\n",
       "0  15.695714         0.0        0.0        0.0      19      0.0        0   \n",
       "1  29.964545         0.0        0.0        0.0       9      0.0        0   \n",
       "\n",
       "   cityA08U  cityCD  cityE  ...  evMotor  mfrCode  c240Dscr  charge240b  \\\n",
       "0       0.0     0.0    0.0  ...      NaN      NaN       NaN         0.0   \n",
       "1       0.0     0.0    0.0  ...      NaN      NaN       NaN         0.0   \n",
       "\n",
       "   c240bDscr                     createdOn                    modifiedOn  \\\n",
       "0        NaN  Tue Jan 01 00:00:00 EST 2013  Tue Jan 01 00:00:00 EST 2013   \n",
       "1        NaN  Tue Jan 01 00:00:00 EST 2013  Tue Jan 01 00:00:00 EST 2013   \n",
       "\n",
       "   startStop  phevCity  phevHwy  \n",
       "0        NaN         0        0  \n",
       "1        NaN         0        0  \n",
       "\n",
       "[2 rows x 81 columns]"
      ]
     },
     "execution_count": 168,
     "metadata": {},
     "output_type": "execute_result"
    }
   ],
   "source": [
    "df.head(2)"
   ]
  },
  {
   "cell_type": "code",
   "execution_count": 177,
   "metadata": {},
   "outputs": [],
   "source": [
    "df_2 = df.copy()"
   ]
  },
  {
   "cell_type": "code",
   "execution_count": 178,
   "metadata": {},
   "outputs": [],
   "source": [
    "df_2.drop(1, axis = 0,inplace = True)"
   ]
  },
  {
   "cell_type": "code",
   "execution_count": 184,
   "metadata": {},
   "outputs": [
    {
     "data": {
      "text/html": [
       "<div>\n",
       "<style scoped>\n",
       "    .dataframe tbody tr th:only-of-type {\n",
       "        vertical-align: middle;\n",
       "    }\n",
       "\n",
       "    .dataframe tbody tr th {\n",
       "        vertical-align: top;\n",
       "    }\n",
       "\n",
       "    .dataframe thead th {\n",
       "        text-align: right;\n",
       "    }\n",
       "</style>\n",
       "<table border=\"1\" class=\"dataframe\">\n",
       "  <thead>\n",
       "    <tr style=\"text-align: right;\">\n",
       "      <th></th>\n",
       "      <th>barrels08</th>\n",
       "      <th>barrelsA08</th>\n",
       "      <th>charge120</th>\n",
       "      <th>charge240</th>\n",
       "      <th>city08</th>\n",
       "      <th>city08U</th>\n",
       "      <th>cityA08</th>\n",
       "      <th>cityA08U</th>\n",
       "      <th>cityCD</th>\n",
       "      <th>cityE</th>\n",
       "      <th>...</th>\n",
       "      <th>evMotor</th>\n",
       "      <th>mfrCode</th>\n",
       "      <th>c240Dscr</th>\n",
       "      <th>charge240b</th>\n",
       "      <th>c240bDscr</th>\n",
       "      <th>createdOn</th>\n",
       "      <th>modifiedOn</th>\n",
       "      <th>startStop</th>\n",
       "      <th>phevCity</th>\n",
       "      <th>phevHwy</th>\n",
       "    </tr>\n",
       "  </thead>\n",
       "  <tbody>\n",
       "    <tr>\n",
       "      <td>0</td>\n",
       "      <td>29.964545</td>\n",
       "      <td>0.0</td>\n",
       "      <td>0.0</td>\n",
       "      <td>0.0</td>\n",
       "      <td>9</td>\n",
       "      <td>0.0</td>\n",
       "      <td>0</td>\n",
       "      <td>0.0</td>\n",
       "      <td>0.0</td>\n",
       "      <td>0.0</td>\n",
       "      <td>...</td>\n",
       "      <td>NaN</td>\n",
       "      <td>NaN</td>\n",
       "      <td>NaN</td>\n",
       "      <td>0.0</td>\n",
       "      <td>NaN</td>\n",
       "      <td>Tue Jan 01 00:00:00 EST 2013</td>\n",
       "      <td>Tue Jan 01 00:00:00 EST 2013</td>\n",
       "      <td>NaN</td>\n",
       "      <td>0</td>\n",
       "      <td>0</td>\n",
       "    </tr>\n",
       "    <tr>\n",
       "      <td>1</td>\n",
       "      <td>12.207778</td>\n",
       "      <td>0.0</td>\n",
       "      <td>0.0</td>\n",
       "      <td>0.0</td>\n",
       "      <td>23</td>\n",
       "      <td>0.0</td>\n",
       "      <td>0</td>\n",
       "      <td>0.0</td>\n",
       "      <td>0.0</td>\n",
       "      <td>0.0</td>\n",
       "      <td>...</td>\n",
       "      <td>NaN</td>\n",
       "      <td>NaN</td>\n",
       "      <td>NaN</td>\n",
       "      <td>0.0</td>\n",
       "      <td>NaN</td>\n",
       "      <td>Tue Jan 01 00:00:00 EST 2013</td>\n",
       "      <td>Tue Jan 01 00:00:00 EST 2013</td>\n",
       "      <td>NaN</td>\n",
       "      <td>0</td>\n",
       "      <td>0</td>\n",
       "    </tr>\n",
       "    <tr>\n",
       "      <td>2</td>\n",
       "      <td>29.964545</td>\n",
       "      <td>0.0</td>\n",
       "      <td>0.0</td>\n",
       "      <td>0.0</td>\n",
       "      <td>10</td>\n",
       "      <td>0.0</td>\n",
       "      <td>0</td>\n",
       "      <td>0.0</td>\n",
       "      <td>0.0</td>\n",
       "      <td>0.0</td>\n",
       "      <td>...</td>\n",
       "      <td>NaN</td>\n",
       "      <td>NaN</td>\n",
       "      <td>NaN</td>\n",
       "      <td>0.0</td>\n",
       "      <td>NaN</td>\n",
       "      <td>Tue Jan 01 00:00:00 EST 2013</td>\n",
       "      <td>Tue Jan 01 00:00:00 EST 2013</td>\n",
       "      <td>NaN</td>\n",
       "      <td>0</td>\n",
       "      <td>0</td>\n",
       "    </tr>\n",
       "    <tr>\n",
       "      <td>3</td>\n",
       "      <td>17.347895</td>\n",
       "      <td>0.0</td>\n",
       "      <td>0.0</td>\n",
       "      <td>0.0</td>\n",
       "      <td>17</td>\n",
       "      <td>0.0</td>\n",
       "      <td>0</td>\n",
       "      <td>0.0</td>\n",
       "      <td>0.0</td>\n",
       "      <td>0.0</td>\n",
       "      <td>...</td>\n",
       "      <td>NaN</td>\n",
       "      <td>NaN</td>\n",
       "      <td>NaN</td>\n",
       "      <td>0.0</td>\n",
       "      <td>NaN</td>\n",
       "      <td>Tue Jan 01 00:00:00 EST 2013</td>\n",
       "      <td>Tue Jan 01 00:00:00 EST 2013</td>\n",
       "      <td>NaN</td>\n",
       "      <td>0</td>\n",
       "      <td>0</td>\n",
       "    </tr>\n",
       "    <tr>\n",
       "      <td>4</td>\n",
       "      <td>14.982273</td>\n",
       "      <td>0.0</td>\n",
       "      <td>0.0</td>\n",
       "      <td>0.0</td>\n",
       "      <td>21</td>\n",
       "      <td>0.0</td>\n",
       "      <td>0</td>\n",
       "      <td>0.0</td>\n",
       "      <td>0.0</td>\n",
       "      <td>0.0</td>\n",
       "      <td>...</td>\n",
       "      <td>NaN</td>\n",
       "      <td>NaN</td>\n",
       "      <td>NaN</td>\n",
       "      <td>0.0</td>\n",
       "      <td>NaN</td>\n",
       "      <td>Tue Jan 01 00:00:00 EST 2013</td>\n",
       "      <td>Tue Jan 01 00:00:00 EST 2013</td>\n",
       "      <td>NaN</td>\n",
       "      <td>0</td>\n",
       "      <td>0</td>\n",
       "    </tr>\n",
       "    <tr>\n",
       "      <td>...</td>\n",
       "      <td>...</td>\n",
       "      <td>...</td>\n",
       "      <td>...</td>\n",
       "      <td>...</td>\n",
       "      <td>...</td>\n",
       "      <td>...</td>\n",
       "      <td>...</td>\n",
       "      <td>...</td>\n",
       "      <td>...</td>\n",
       "      <td>...</td>\n",
       "      <td>...</td>\n",
       "      <td>...</td>\n",
       "      <td>...</td>\n",
       "      <td>...</td>\n",
       "      <td>...</td>\n",
       "      <td>...</td>\n",
       "      <td>...</td>\n",
       "      <td>...</td>\n",
       "      <td>...</td>\n",
       "      <td>...</td>\n",
       "      <td>...</td>\n",
       "    </tr>\n",
       "    <tr>\n",
       "      <td>37837</td>\n",
       "      <td>14.982273</td>\n",
       "      <td>0.0</td>\n",
       "      <td>0.0</td>\n",
       "      <td>0.0</td>\n",
       "      <td>19</td>\n",
       "      <td>0.0</td>\n",
       "      <td>0</td>\n",
       "      <td>0.0</td>\n",
       "      <td>0.0</td>\n",
       "      <td>0.0</td>\n",
       "      <td>...</td>\n",
       "      <td>NaN</td>\n",
       "      <td>NaN</td>\n",
       "      <td>NaN</td>\n",
       "      <td>0.0</td>\n",
       "      <td>NaN</td>\n",
       "      <td>Tue Jan 01 00:00:00 EST 2013</td>\n",
       "      <td>Tue Jan 01 00:00:00 EST 2013</td>\n",
       "      <td>NaN</td>\n",
       "      <td>0</td>\n",
       "      <td>0</td>\n",
       "    </tr>\n",
       "    <tr>\n",
       "      <td>37838</td>\n",
       "      <td>14.330870</td>\n",
       "      <td>0.0</td>\n",
       "      <td>0.0</td>\n",
       "      <td>0.0</td>\n",
       "      <td>20</td>\n",
       "      <td>0.0</td>\n",
       "      <td>0</td>\n",
       "      <td>0.0</td>\n",
       "      <td>0.0</td>\n",
       "      <td>0.0</td>\n",
       "      <td>...</td>\n",
       "      <td>NaN</td>\n",
       "      <td>NaN</td>\n",
       "      <td>NaN</td>\n",
       "      <td>0.0</td>\n",
       "      <td>NaN</td>\n",
       "      <td>Tue Jan 01 00:00:00 EST 2013</td>\n",
       "      <td>Tue Jan 01 00:00:00 EST 2013</td>\n",
       "      <td>NaN</td>\n",
       "      <td>0</td>\n",
       "      <td>0</td>\n",
       "    </tr>\n",
       "    <tr>\n",
       "      <td>37839</td>\n",
       "      <td>15.695714</td>\n",
       "      <td>0.0</td>\n",
       "      <td>0.0</td>\n",
       "      <td>0.0</td>\n",
       "      <td>18</td>\n",
       "      <td>0.0</td>\n",
       "      <td>0</td>\n",
       "      <td>0.0</td>\n",
       "      <td>0.0</td>\n",
       "      <td>0.0</td>\n",
       "      <td>...</td>\n",
       "      <td>NaN</td>\n",
       "      <td>NaN</td>\n",
       "      <td>NaN</td>\n",
       "      <td>0.0</td>\n",
       "      <td>NaN</td>\n",
       "      <td>Tue Jan 01 00:00:00 EST 2013</td>\n",
       "      <td>Tue Jan 01 00:00:00 EST 2013</td>\n",
       "      <td>NaN</td>\n",
       "      <td>0</td>\n",
       "      <td>0</td>\n",
       "    </tr>\n",
       "    <tr>\n",
       "      <td>37840</td>\n",
       "      <td>15.695714</td>\n",
       "      <td>0.0</td>\n",
       "      <td>0.0</td>\n",
       "      <td>0.0</td>\n",
       "      <td>18</td>\n",
       "      <td>0.0</td>\n",
       "      <td>0</td>\n",
       "      <td>0.0</td>\n",
       "      <td>0.0</td>\n",
       "      <td>0.0</td>\n",
       "      <td>...</td>\n",
       "      <td>NaN</td>\n",
       "      <td>NaN</td>\n",
       "      <td>NaN</td>\n",
       "      <td>0.0</td>\n",
       "      <td>NaN</td>\n",
       "      <td>Tue Jan 01 00:00:00 EST 2013</td>\n",
       "      <td>Tue Jan 01 00:00:00 EST 2013</td>\n",
       "      <td>NaN</td>\n",
       "      <td>0</td>\n",
       "      <td>0</td>\n",
       "    </tr>\n",
       "    <tr>\n",
       "      <td>37841</td>\n",
       "      <td>18.311667</td>\n",
       "      <td>0.0</td>\n",
       "      <td>0.0</td>\n",
       "      <td>0.0</td>\n",
       "      <td>16</td>\n",
       "      <td>0.0</td>\n",
       "      <td>0</td>\n",
       "      <td>0.0</td>\n",
       "      <td>0.0</td>\n",
       "      <td>0.0</td>\n",
       "      <td>...</td>\n",
       "      <td>NaN</td>\n",
       "      <td>NaN</td>\n",
       "      <td>NaN</td>\n",
       "      <td>0.0</td>\n",
       "      <td>NaN</td>\n",
       "      <td>Tue Jan 01 00:00:00 EST 2013</td>\n",
       "      <td>Tue Jan 01 00:00:00 EST 2013</td>\n",
       "      <td>NaN</td>\n",
       "      <td>0</td>\n",
       "      <td>0</td>\n",
       "    </tr>\n",
       "  </tbody>\n",
       "</table>\n",
       "<p>37842 rows × 81 columns</p>\n",
       "</div>"
      ],
      "text/plain": [
       "       barrels08  barrelsA08  charge120  charge240  city08  city08U  cityA08  \\\n",
       "0      29.964545         0.0        0.0        0.0       9      0.0        0   \n",
       "1      12.207778         0.0        0.0        0.0      23      0.0        0   \n",
       "2      29.964545         0.0        0.0        0.0      10      0.0        0   \n",
       "3      17.347895         0.0        0.0        0.0      17      0.0        0   \n",
       "4      14.982273         0.0        0.0        0.0      21      0.0        0   \n",
       "...          ...         ...        ...        ...     ...      ...      ...   \n",
       "37837  14.982273         0.0        0.0        0.0      19      0.0        0   \n",
       "37838  14.330870         0.0        0.0        0.0      20      0.0        0   \n",
       "37839  15.695714         0.0        0.0        0.0      18      0.0        0   \n",
       "37840  15.695714         0.0        0.0        0.0      18      0.0        0   \n",
       "37841  18.311667         0.0        0.0        0.0      16      0.0        0   \n",
       "\n",
       "       cityA08U  cityCD  cityE  ...  evMotor  mfrCode  c240Dscr  charge240b  \\\n",
       "0           0.0     0.0    0.0  ...      NaN      NaN       NaN         0.0   \n",
       "1           0.0     0.0    0.0  ...      NaN      NaN       NaN         0.0   \n",
       "2           0.0     0.0    0.0  ...      NaN      NaN       NaN         0.0   \n",
       "3           0.0     0.0    0.0  ...      NaN      NaN       NaN         0.0   \n",
       "4           0.0     0.0    0.0  ...      NaN      NaN       NaN         0.0   \n",
       "...         ...     ...    ...  ...      ...      ...       ...         ...   \n",
       "37837       0.0     0.0    0.0  ...      NaN      NaN       NaN         0.0   \n",
       "37838       0.0     0.0    0.0  ...      NaN      NaN       NaN         0.0   \n",
       "37839       0.0     0.0    0.0  ...      NaN      NaN       NaN         0.0   \n",
       "37840       0.0     0.0    0.0  ...      NaN      NaN       NaN         0.0   \n",
       "37841       0.0     0.0    0.0  ...      NaN      NaN       NaN         0.0   \n",
       "\n",
       "       c240bDscr                     createdOn                    modifiedOn  \\\n",
       "0            NaN  Tue Jan 01 00:00:00 EST 2013  Tue Jan 01 00:00:00 EST 2013   \n",
       "1            NaN  Tue Jan 01 00:00:00 EST 2013  Tue Jan 01 00:00:00 EST 2013   \n",
       "2            NaN  Tue Jan 01 00:00:00 EST 2013  Tue Jan 01 00:00:00 EST 2013   \n",
       "3            NaN  Tue Jan 01 00:00:00 EST 2013  Tue Jan 01 00:00:00 EST 2013   \n",
       "4            NaN  Tue Jan 01 00:00:00 EST 2013  Tue Jan 01 00:00:00 EST 2013   \n",
       "...          ...                           ...                           ...   \n",
       "37837        NaN  Tue Jan 01 00:00:00 EST 2013  Tue Jan 01 00:00:00 EST 2013   \n",
       "37838        NaN  Tue Jan 01 00:00:00 EST 2013  Tue Jan 01 00:00:00 EST 2013   \n",
       "37839        NaN  Tue Jan 01 00:00:00 EST 2013  Tue Jan 01 00:00:00 EST 2013   \n",
       "37840        NaN  Tue Jan 01 00:00:00 EST 2013  Tue Jan 01 00:00:00 EST 2013   \n",
       "37841        NaN  Tue Jan 01 00:00:00 EST 2013  Tue Jan 01 00:00:00 EST 2013   \n",
       "\n",
       "       startStop  phevCity  phevHwy  \n",
       "0            NaN         0        0  \n",
       "1            NaN         0        0  \n",
       "2            NaN         0        0  \n",
       "3            NaN         0        0  \n",
       "4            NaN         0        0  \n",
       "...          ...       ...      ...  \n",
       "37837        NaN         0        0  \n",
       "37838        NaN         0        0  \n",
       "37839        NaN         0        0  \n",
       "37840        NaN         0        0  \n",
       "37841        NaN         0        0  \n",
       "\n",
       "[37842 rows x 81 columns]"
      ]
     },
     "execution_count": 184,
     "metadata": {},
     "output_type": "execute_result"
    }
   ],
   "source": [
    "df.reset_index(drop = True) #drop en reset_index elimina el indice que se estaba utilzando y lo reemplaza con un rango"
   ]
  },
  {
   "cell_type": "code",
   "execution_count": 186,
   "metadata": {},
   "outputs": [
    {
     "data": {
      "text/plain": [
       "barrels08         0\n",
       "barrelsA08        0\n",
       "charge120         0\n",
       "charge240         0\n",
       "city08            0\n",
       "              ...  \n",
       "createdOn         0\n",
       "modifiedOn        0\n",
       "startStop     31704\n",
       "phevCity          0\n",
       "phevHwy           0\n",
       "Length: 81, dtype: int64"
      ]
     },
     "execution_count": 186,
     "metadata": {},
     "output_type": "execute_result"
    }
   ],
   "source": [
    "df.isna().sum()"
   ]
  },
  {
   "cell_type": "code",
   "execution_count": 191,
   "metadata": {},
   "outputs": [
    {
     "data": {
      "text/plain": [
       "N    4462\n",
       "Y    1676\n",
       "Name: startStop, dtype: int64"
      ]
     },
     "execution_count": 191,
     "metadata": {},
     "output_type": "execute_result"
    }
   ],
   "source": [
    "df['startStop'].value_counts()"
   ]
  },
  {
   "cell_type": "code",
   "execution_count": 193,
   "metadata": {},
   "outputs": [],
   "source": [
    "df['startStop'].fillna('Key', inplace = True)"
   ]
  },
  {
   "cell_type": "code",
   "execution_count": 194,
   "metadata": {},
   "outputs": [
    {
     "data": {
      "text/plain": [
       "Key    31704\n",
       "N       4462\n",
       "Y       1676\n",
       "Name: startStop, dtype: int64"
      ]
     },
     "execution_count": 194,
     "metadata": {},
     "output_type": "execute_result"
    }
   ],
   "source": [
    "df['startStop'].value_counts()"
   ]
  },
  {
   "cell_type": "code",
   "execution_count": 196,
   "metadata": {},
   "outputs": [],
   "source": [
    "df_new = df[['make', 'model', 'fuelType', 'cylinders']]"
   ]
  },
  {
   "cell_type": "code",
   "execution_count": 197,
   "metadata": {
    "scrolled": true
   },
   "outputs": [
    {
     "data": {
      "text/html": [
       "<div>\n",
       "<style scoped>\n",
       "    .dataframe tbody tr th:only-of-type {\n",
       "        vertical-align: middle;\n",
       "    }\n",
       "\n",
       "    .dataframe tbody tr th {\n",
       "        vertical-align: top;\n",
       "    }\n",
       "\n",
       "    .dataframe thead th {\n",
       "        text-align: right;\n",
       "    }\n",
       "</style>\n",
       "<table border=\"1\" class=\"dataframe\">\n",
       "  <thead>\n",
       "    <tr style=\"text-align: right;\">\n",
       "      <th></th>\n",
       "      <th>make</th>\n",
       "      <th>model</th>\n",
       "      <th>fuelType</th>\n",
       "      <th>cylinders</th>\n",
       "    </tr>\n",
       "  </thead>\n",
       "  <tbody>\n",
       "    <tr>\n",
       "      <td>1</td>\n",
       "      <td>Ferrari</td>\n",
       "      <td>Testarossa</td>\n",
       "      <td>Regular</td>\n",
       "      <td>12.0</td>\n",
       "    </tr>\n",
       "    <tr>\n",
       "      <td>2</td>\n",
       "      <td>Dodge</td>\n",
       "      <td>Charger</td>\n",
       "      <td>Regular</td>\n",
       "      <td>4.0</td>\n",
       "    </tr>\n",
       "    <tr>\n",
       "      <td>3</td>\n",
       "      <td>Dodge</td>\n",
       "      <td>B150/B250 Wagon 2WD</td>\n",
       "      <td>Regular</td>\n",
       "      <td>8.0</td>\n",
       "    </tr>\n",
       "    <tr>\n",
       "      <td>4</td>\n",
       "      <td>Subaru</td>\n",
       "      <td>Legacy AWD Turbo</td>\n",
       "      <td>Premium</td>\n",
       "      <td>4.0</td>\n",
       "    </tr>\n",
       "    <tr>\n",
       "      <td>5</td>\n",
       "      <td>Subaru</td>\n",
       "      <td>Loyale</td>\n",
       "      <td>Regular</td>\n",
       "      <td>4.0</td>\n",
       "    </tr>\n",
       "    <tr>\n",
       "      <td>...</td>\n",
       "      <td>...</td>\n",
       "      <td>...</td>\n",
       "      <td>...</td>\n",
       "      <td>...</td>\n",
       "    </tr>\n",
       "    <tr>\n",
       "      <td>37838</td>\n",
       "      <td>Subaru</td>\n",
       "      <td>Legacy</td>\n",
       "      <td>Regular</td>\n",
       "      <td>4.0</td>\n",
       "    </tr>\n",
       "    <tr>\n",
       "      <td>37839</td>\n",
       "      <td>Subaru</td>\n",
       "      <td>Legacy</td>\n",
       "      <td>Regular</td>\n",
       "      <td>4.0</td>\n",
       "    </tr>\n",
       "    <tr>\n",
       "      <td>37840</td>\n",
       "      <td>Subaru</td>\n",
       "      <td>Legacy AWD</td>\n",
       "      <td>Regular</td>\n",
       "      <td>4.0</td>\n",
       "    </tr>\n",
       "    <tr>\n",
       "      <td>37841</td>\n",
       "      <td>Subaru</td>\n",
       "      <td>Legacy AWD</td>\n",
       "      <td>Regular</td>\n",
       "      <td>4.0</td>\n",
       "    </tr>\n",
       "    <tr>\n",
       "      <td>37842</td>\n",
       "      <td>Subaru</td>\n",
       "      <td>Legacy AWD Turbo</td>\n",
       "      <td>Premium</td>\n",
       "      <td>4.0</td>\n",
       "    </tr>\n",
       "  </tbody>\n",
       "</table>\n",
       "<p>37842 rows × 4 columns</p>\n",
       "</div>"
      ],
      "text/plain": [
       "          make                model fuelType  cylinders\n",
       "1      Ferrari           Testarossa  Regular       12.0\n",
       "2        Dodge              Charger  Regular        4.0\n",
       "3        Dodge  B150/B250 Wagon 2WD  Regular        8.0\n",
       "4       Subaru     Legacy AWD Turbo  Premium        4.0\n",
       "5       Subaru               Loyale  Regular        4.0\n",
       "...        ...                  ...      ...        ...\n",
       "37838   Subaru               Legacy  Regular        4.0\n",
       "37839   Subaru               Legacy  Regular        4.0\n",
       "37840   Subaru           Legacy AWD  Regular        4.0\n",
       "37841   Subaru           Legacy AWD  Regular        4.0\n",
       "37842   Subaru     Legacy AWD Turbo  Premium        4.0\n",
       "\n",
       "[37842 rows x 4 columns]"
      ]
     },
     "execution_count": 197,
     "metadata": {},
     "output_type": "execute_result"
    }
   ],
   "source": [
    "df_new"
   ]
  },
  {
   "cell_type": "code",
   "execution_count": 199,
   "metadata": {},
   "outputs": [
    {
     "data": {
      "text/plain": [
       "make           0\n",
       "model          0\n",
       "fuelType       0\n",
       "cylinders    123\n",
       "dtype: int64"
      ]
     },
     "execution_count": 199,
     "metadata": {},
     "output_type": "execute_result"
    }
   ],
   "source": [
    "df_new.isna().sum()"
   ]
  },
  {
   "cell_type": "code",
   "execution_count": 200,
   "metadata": {},
   "outputs": [],
   "source": [
    "df_new.fillna(0, inplace = True)"
   ]
  },
  {
   "cell_type": "code",
   "execution_count": 201,
   "metadata": {},
   "outputs": [
    {
     "data": {
      "text/plain": [
       "Regular                        25075\n",
       "Premium                        10004\n",
       "Gasoline or E85                 1204\n",
       "Diesel                          1101\n",
       "Premium or E85                   121\n",
       "Electricity                      120\n",
       "Midgrade                          74\n",
       "CNG                               60\n",
       "Premium and Electricity           20\n",
       "Gasoline or natural gas           20\n",
       "Premium Gas or Electricity        17\n",
       "Regular Gas and Electricity       16\n",
       "Gasoline or propane                8\n",
       "Regular Gas or Electricity         2\n",
       "Name: fuelType, dtype: int64"
      ]
     },
     "execution_count": 201,
     "metadata": {},
     "output_type": "execute_result"
    }
   ],
   "source": [
    "df_new['fuelType'].value_counts()"
   ]
  },
  {
   "cell_type": "code",
   "execution_count": 207,
   "metadata": {},
   "outputs": [
    {
     "data": {
      "text/plain": [
       "array(['Testarossa', 'Charger', 'B150/B250 Wagon 2WD', ...,\n",
       "       'Ferrari 348 TB/TS', 'XJRS Convertble', 'XJRS Coupe'], dtype=object)"
      ]
     },
     "execution_count": 207,
     "metadata": {},
     "output_type": "execute_result"
    }
   ],
   "source": [
    "df_new['model'].unique()"
   ]
  },
  {
   "cell_type": "code",
   "execution_count": 212,
   "metadata": {},
   "outputs": [
    {
     "data": {
      "text/html": [
       "<div>\n",
       "<style scoped>\n",
       "    .dataframe tbody tr th:only-of-type {\n",
       "        vertical-align: middle;\n",
       "    }\n",
       "\n",
       "    .dataframe tbody tr th {\n",
       "        vertical-align: top;\n",
       "    }\n",
       "\n",
       "    .dataframe thead th {\n",
       "        text-align: right;\n",
       "    }\n",
       "</style>\n",
       "<table border=\"1\" class=\"dataframe\">\n",
       "  <thead>\n",
       "    <tr style=\"text-align: right;\">\n",
       "      <th></th>\n",
       "      <th>make</th>\n",
       "      <th>model</th>\n",
       "      <th>fuelType</th>\n",
       "      <th>cylinders</th>\n",
       "      <th>Traccion</th>\n",
       "    </tr>\n",
       "  </thead>\n",
       "  <tbody>\n",
       "    <tr>\n",
       "      <td>1</td>\n",
       "      <td>Ferrari</td>\n",
       "      <td>Testarossa</td>\n",
       "      <td>Regular</td>\n",
       "      <td>12.0</td>\n",
       "      <td>False</td>\n",
       "    </tr>\n",
       "    <tr>\n",
       "      <td>2</td>\n",
       "      <td>Dodge</td>\n",
       "      <td>Charger</td>\n",
       "      <td>Regular</td>\n",
       "      <td>4.0</td>\n",
       "      <td>False</td>\n",
       "    </tr>\n",
       "    <tr>\n",
       "      <td>3</td>\n",
       "      <td>Dodge</td>\n",
       "      <td>B150/B250 Wagon 2WD</td>\n",
       "      <td>Regular</td>\n",
       "      <td>8.0</td>\n",
       "      <td>Traccion simple</td>\n",
       "    </tr>\n",
       "    <tr>\n",
       "      <td>4</td>\n",
       "      <td>Subaru</td>\n",
       "      <td>Legacy AWD Turbo</td>\n",
       "      <td>Premium</td>\n",
       "      <td>4.0</td>\n",
       "      <td>False</td>\n",
       "    </tr>\n",
       "    <tr>\n",
       "      <td>5</td>\n",
       "      <td>Subaru</td>\n",
       "      <td>Loyale</td>\n",
       "      <td>Regular</td>\n",
       "      <td>4.0</td>\n",
       "      <td>False</td>\n",
       "    </tr>\n",
       "    <tr>\n",
       "      <td>...</td>\n",
       "      <td>...</td>\n",
       "      <td>...</td>\n",
       "      <td>...</td>\n",
       "      <td>...</td>\n",
       "      <td>...</td>\n",
       "    </tr>\n",
       "    <tr>\n",
       "      <td>37838</td>\n",
       "      <td>Subaru</td>\n",
       "      <td>Legacy</td>\n",
       "      <td>Regular</td>\n",
       "      <td>4.0</td>\n",
       "      <td>False</td>\n",
       "    </tr>\n",
       "    <tr>\n",
       "      <td>37839</td>\n",
       "      <td>Subaru</td>\n",
       "      <td>Legacy</td>\n",
       "      <td>Regular</td>\n",
       "      <td>4.0</td>\n",
       "      <td>False</td>\n",
       "    </tr>\n",
       "    <tr>\n",
       "      <td>37840</td>\n",
       "      <td>Subaru</td>\n",
       "      <td>Legacy AWD</td>\n",
       "      <td>Regular</td>\n",
       "      <td>4.0</td>\n",
       "      <td>False</td>\n",
       "    </tr>\n",
       "    <tr>\n",
       "      <td>37841</td>\n",
       "      <td>Subaru</td>\n",
       "      <td>Legacy AWD</td>\n",
       "      <td>Regular</td>\n",
       "      <td>4.0</td>\n",
       "      <td>False</td>\n",
       "    </tr>\n",
       "    <tr>\n",
       "      <td>37842</td>\n",
       "      <td>Subaru</td>\n",
       "      <td>Legacy AWD Turbo</td>\n",
       "      <td>Premium</td>\n",
       "      <td>4.0</td>\n",
       "      <td>False</td>\n",
       "    </tr>\n",
       "  </tbody>\n",
       "</table>\n",
       "<p>37842 rows × 5 columns</p>\n",
       "</div>"
      ],
      "text/plain": [
       "          make                model fuelType  cylinders         Traccion\n",
       "1      Ferrari           Testarossa  Regular       12.0            False\n",
       "2        Dodge              Charger  Regular        4.0            False\n",
       "3        Dodge  B150/B250 Wagon 2WD  Regular        8.0  Traccion simple\n",
       "4       Subaru     Legacy AWD Turbo  Premium        4.0            False\n",
       "5       Subaru               Loyale  Regular        4.0            False\n",
       "...        ...                  ...      ...        ...              ...\n",
       "37838   Subaru               Legacy  Regular        4.0            False\n",
       "37839   Subaru               Legacy  Regular        4.0            False\n",
       "37840   Subaru           Legacy AWD  Regular        4.0            False\n",
       "37841   Subaru           Legacy AWD  Regular        4.0            False\n",
       "37842   Subaru     Legacy AWD Turbo  Premium        4.0            False\n",
       "\n",
       "[37842 rows x 5 columns]"
      ]
     },
     "execution_count": 212,
     "metadata": {},
     "output_type": "execute_result"
    }
   ],
   "source": [
    "df_new"
   ]
  },
  {
   "cell_type": "code",
   "execution_count": 209,
   "metadata": {},
   "outputs": [],
   "source": [
    "df_new['Traccion'] = df['model'].apply(lambda x: 'Traccion simple' if '2WD' in x else False)\n",
    "#Al aplicar una funcion lambda esta, itera sobre las filas y aplica lo definido en la funcion\n",
    "#Se usa apply"
   ]
  },
  {
   "cell_type": "code",
   "execution_count": 211,
   "metadata": {},
   "outputs": [
    {
     "data": {
      "text/plain": [
       "False              30761\n",
       "Traccion simple     7081\n",
       "Name: Traccion, dtype: int64"
      ]
     },
     "execution_count": 211,
     "metadata": {},
     "output_type": "execute_result"
    }
   ],
   "source": [
    "df_new['Traccion'].value_counts()"
   ]
  },
  {
   "cell_type": "code",
   "execution_count": 219,
   "metadata": {},
   "outputs": [],
   "source": [
    "def cambio_c(x): #x representa cada una de las filas del dataframe\n",
    "    return x*2"
   ]
  },
  {
   "cell_type": "code",
   "execution_count": 220,
   "metadata": {},
   "outputs": [],
   "source": [
    "df_new['cylinders_2']  = df['cylinders'].apply(cambio_c) #Se pueden usar funciones completas en vez lambda de igual manera"
   ]
  },
  {
   "cell_type": "code",
   "execution_count": 218,
   "metadata": {},
   "outputs": [
    {
     "data": {
      "text/html": [
       "<div>\n",
       "<style scoped>\n",
       "    .dataframe tbody tr th:only-of-type {\n",
       "        vertical-align: middle;\n",
       "    }\n",
       "\n",
       "    .dataframe tbody tr th {\n",
       "        vertical-align: top;\n",
       "    }\n",
       "\n",
       "    .dataframe thead th {\n",
       "        text-align: right;\n",
       "    }\n",
       "</style>\n",
       "<table border=\"1\" class=\"dataframe\">\n",
       "  <thead>\n",
       "    <tr style=\"text-align: right;\">\n",
       "      <th></th>\n",
       "      <th>make</th>\n",
       "      <th>model</th>\n",
       "      <th>fuelType</th>\n",
       "      <th>cylinders</th>\n",
       "      <th>Traccion</th>\n",
       "      <th>cylinders_2</th>\n",
       "    </tr>\n",
       "  </thead>\n",
       "  <tbody>\n",
       "    <tr>\n",
       "      <td>1</td>\n",
       "      <td>Ferrari</td>\n",
       "      <td>Testarossa</td>\n",
       "      <td>Regular</td>\n",
       "      <td>12.0</td>\n",
       "      <td>False</td>\n",
       "      <td>24.0</td>\n",
       "    </tr>\n",
       "    <tr>\n",
       "      <td>2</td>\n",
       "      <td>Dodge</td>\n",
       "      <td>Charger</td>\n",
       "      <td>Regular</td>\n",
       "      <td>4.0</td>\n",
       "      <td>False</td>\n",
       "      <td>8.0</td>\n",
       "    </tr>\n",
       "    <tr>\n",
       "      <td>3</td>\n",
       "      <td>Dodge</td>\n",
       "      <td>B150/B250 Wagon 2WD</td>\n",
       "      <td>Regular</td>\n",
       "      <td>8.0</td>\n",
       "      <td>Traccion simple</td>\n",
       "      <td>16.0</td>\n",
       "    </tr>\n",
       "    <tr>\n",
       "      <td>4</td>\n",
       "      <td>Subaru</td>\n",
       "      <td>Legacy AWD Turbo</td>\n",
       "      <td>Premium</td>\n",
       "      <td>4.0</td>\n",
       "      <td>False</td>\n",
       "      <td>8.0</td>\n",
       "    </tr>\n",
       "    <tr>\n",
       "      <td>5</td>\n",
       "      <td>Subaru</td>\n",
       "      <td>Loyale</td>\n",
       "      <td>Regular</td>\n",
       "      <td>4.0</td>\n",
       "      <td>False</td>\n",
       "      <td>8.0</td>\n",
       "    </tr>\n",
       "    <tr>\n",
       "      <td>...</td>\n",
       "      <td>...</td>\n",
       "      <td>...</td>\n",
       "      <td>...</td>\n",
       "      <td>...</td>\n",
       "      <td>...</td>\n",
       "      <td>...</td>\n",
       "    </tr>\n",
       "    <tr>\n",
       "      <td>37838</td>\n",
       "      <td>Subaru</td>\n",
       "      <td>Legacy</td>\n",
       "      <td>Regular</td>\n",
       "      <td>4.0</td>\n",
       "      <td>False</td>\n",
       "      <td>8.0</td>\n",
       "    </tr>\n",
       "    <tr>\n",
       "      <td>37839</td>\n",
       "      <td>Subaru</td>\n",
       "      <td>Legacy</td>\n",
       "      <td>Regular</td>\n",
       "      <td>4.0</td>\n",
       "      <td>False</td>\n",
       "      <td>8.0</td>\n",
       "    </tr>\n",
       "    <tr>\n",
       "      <td>37840</td>\n",
       "      <td>Subaru</td>\n",
       "      <td>Legacy AWD</td>\n",
       "      <td>Regular</td>\n",
       "      <td>4.0</td>\n",
       "      <td>False</td>\n",
       "      <td>8.0</td>\n",
       "    </tr>\n",
       "    <tr>\n",
       "      <td>37841</td>\n",
       "      <td>Subaru</td>\n",
       "      <td>Legacy AWD</td>\n",
       "      <td>Regular</td>\n",
       "      <td>4.0</td>\n",
       "      <td>False</td>\n",
       "      <td>8.0</td>\n",
       "    </tr>\n",
       "    <tr>\n",
       "      <td>37842</td>\n",
       "      <td>Subaru</td>\n",
       "      <td>Legacy AWD Turbo</td>\n",
       "      <td>Premium</td>\n",
       "      <td>4.0</td>\n",
       "      <td>False</td>\n",
       "      <td>8.0</td>\n",
       "    </tr>\n",
       "  </tbody>\n",
       "</table>\n",
       "<p>37842 rows × 6 columns</p>\n",
       "</div>"
      ],
      "text/plain": [
       "          make                model fuelType  cylinders         Traccion  \\\n",
       "1      Ferrari           Testarossa  Regular       12.0            False   \n",
       "2        Dodge              Charger  Regular        4.0            False   \n",
       "3        Dodge  B150/B250 Wagon 2WD  Regular        8.0  Traccion simple   \n",
       "4       Subaru     Legacy AWD Turbo  Premium        4.0            False   \n",
       "5       Subaru               Loyale  Regular        4.0            False   \n",
       "...        ...                  ...      ...        ...              ...   \n",
       "37838   Subaru               Legacy  Regular        4.0            False   \n",
       "37839   Subaru               Legacy  Regular        4.0            False   \n",
       "37840   Subaru           Legacy AWD  Regular        4.0            False   \n",
       "37841   Subaru           Legacy AWD  Regular        4.0            False   \n",
       "37842   Subaru     Legacy AWD Turbo  Premium        4.0            False   \n",
       "\n",
       "       cylinders_2  \n",
       "1             24.0  \n",
       "2              8.0  \n",
       "3             16.0  \n",
       "4              8.0  \n",
       "5              8.0  \n",
       "...            ...  \n",
       "37838          8.0  \n",
       "37839          8.0  \n",
       "37840          8.0  \n",
       "37841          8.0  \n",
       "37842          8.0  \n",
       "\n",
       "[37842 rows x 6 columns]"
      ]
     },
     "execution_count": 218,
     "metadata": {},
     "output_type": "execute_result"
    }
   ],
   "source": [
    "df_new"
   ]
  },
  {
   "cell_type": "code",
   "execution_count": 280,
   "metadata": {},
   "outputs": [],
   "source": [
    "df_new['trany'] = df['trany']"
   ]
  },
  {
   "cell_type": "code",
   "execution_count": 281,
   "metadata": {},
   "outputs": [
    {
     "data": {
      "text/plain": [
       "dtype('O')"
      ]
     },
     "execution_count": 281,
     "metadata": {},
     "output_type": "execute_result"
    }
   ],
   "source": [
    "df_new['trany'].dtypes"
   ]
  },
  {
   "cell_type": "code",
   "execution_count": 282,
   "metadata": {},
   "outputs": [
    {
     "data": {
      "text/plain": [
       "make            object\n",
       "model           object\n",
       "fuelType        object\n",
       "cylinders      float64\n",
       "Traccion        object\n",
       "cylinders_2    float64\n",
       "trany           object\n",
       "vel             object\n",
       "vel_2           object\n",
       "dtype: object"
      ]
     },
     "execution_count": 282,
     "metadata": {},
     "output_type": "execute_result"
    }
   ],
   "source": [
    "df_new.dtypes"
   ]
  },
  {
   "cell_type": "code",
   "execution_count": 283,
   "metadata": {},
   "outputs": [],
   "source": [
    "df_new['trany'] = df_new['trany'].astype('str')"
   ]
  },
  {
   "cell_type": "code",
   "execution_count": 284,
   "metadata": {},
   "outputs": [],
   "source": [
    "df_new['vel'] = df_new['trany'].apply(lambda x: x.split(' ')[-1])"
   ]
  },
  {
   "cell_type": "code",
   "execution_count": 285,
   "metadata": {},
   "outputs": [
    {
     "data": {
      "text/html": [
       "<div>\n",
       "<style scoped>\n",
       "    .dataframe tbody tr th:only-of-type {\n",
       "        vertical-align: middle;\n",
       "    }\n",
       "\n",
       "    .dataframe tbody tr th {\n",
       "        vertical-align: top;\n",
       "    }\n",
       "\n",
       "    .dataframe thead th {\n",
       "        text-align: right;\n",
       "    }\n",
       "</style>\n",
       "<table border=\"1\" class=\"dataframe\">\n",
       "  <thead>\n",
       "    <tr style=\"text-align: right;\">\n",
       "      <th></th>\n",
       "      <th>make</th>\n",
       "      <th>model</th>\n",
       "      <th>fuelType</th>\n",
       "      <th>cylinders</th>\n",
       "      <th>Traccion</th>\n",
       "      <th>cylinders_2</th>\n",
       "      <th>trany</th>\n",
       "      <th>vel</th>\n",
       "      <th>vel_2</th>\n",
       "    </tr>\n",
       "  </thead>\n",
       "  <tbody>\n",
       "    <tr>\n",
       "      <td>1</td>\n",
       "      <td>Ferrari</td>\n",
       "      <td>Testarossa</td>\n",
       "      <td>Regular</td>\n",
       "      <td>12.0</td>\n",
       "      <td>False</td>\n",
       "      <td>24.0</td>\n",
       "      <td>Manual 5-spd</td>\n",
       "      <td>5-spd</td>\n",
       "      <td>Manual</td>\n",
       "    </tr>\n",
       "    <tr>\n",
       "      <td>2</td>\n",
       "      <td>Dodge</td>\n",
       "      <td>Charger</td>\n",
       "      <td>Regular</td>\n",
       "      <td>4.0</td>\n",
       "      <td>False</td>\n",
       "      <td>8.0</td>\n",
       "      <td>Manual 5-spd</td>\n",
       "      <td>5-spd</td>\n",
       "      <td>Manual</td>\n",
       "    </tr>\n",
       "    <tr>\n",
       "      <td>3</td>\n",
       "      <td>Dodge</td>\n",
       "      <td>B150/B250 Wagon 2WD</td>\n",
       "      <td>Regular</td>\n",
       "      <td>8.0</td>\n",
       "      <td>Traccion simple</td>\n",
       "      <td>16.0</td>\n",
       "      <td>Automatic 3-spd</td>\n",
       "      <td>3-spd</td>\n",
       "      <td>Automatic</td>\n",
       "    </tr>\n",
       "    <tr>\n",
       "      <td>4</td>\n",
       "      <td>Subaru</td>\n",
       "      <td>Legacy AWD Turbo</td>\n",
       "      <td>Premium</td>\n",
       "      <td>4.0</td>\n",
       "      <td>False</td>\n",
       "      <td>8.0</td>\n",
       "      <td>Manual 5-spd</td>\n",
       "      <td>5-spd</td>\n",
       "      <td>Manual</td>\n",
       "    </tr>\n",
       "    <tr>\n",
       "      <td>5</td>\n",
       "      <td>Subaru</td>\n",
       "      <td>Loyale</td>\n",
       "      <td>Regular</td>\n",
       "      <td>4.0</td>\n",
       "      <td>False</td>\n",
       "      <td>8.0</td>\n",
       "      <td>Automatic 3-spd</td>\n",
       "      <td>3-spd</td>\n",
       "      <td>Automatic</td>\n",
       "    </tr>\n",
       "    <tr>\n",
       "      <td>...</td>\n",
       "      <td>...</td>\n",
       "      <td>...</td>\n",
       "      <td>...</td>\n",
       "      <td>...</td>\n",
       "      <td>...</td>\n",
       "      <td>...</td>\n",
       "      <td>...</td>\n",
       "      <td>...</td>\n",
       "      <td>...</td>\n",
       "    </tr>\n",
       "    <tr>\n",
       "      <td>37838</td>\n",
       "      <td>Subaru</td>\n",
       "      <td>Legacy</td>\n",
       "      <td>Regular</td>\n",
       "      <td>4.0</td>\n",
       "      <td>False</td>\n",
       "      <td>8.0</td>\n",
       "      <td>Automatic 4-spd</td>\n",
       "      <td>4-spd</td>\n",
       "      <td>Automatic</td>\n",
       "    </tr>\n",
       "    <tr>\n",
       "      <td>37839</td>\n",
       "      <td>Subaru</td>\n",
       "      <td>Legacy</td>\n",
       "      <td>Regular</td>\n",
       "      <td>4.0</td>\n",
       "      <td>False</td>\n",
       "      <td>8.0</td>\n",
       "      <td>Manual 5-spd</td>\n",
       "      <td>5-spd</td>\n",
       "      <td>Manual</td>\n",
       "    </tr>\n",
       "    <tr>\n",
       "      <td>37840</td>\n",
       "      <td>Subaru</td>\n",
       "      <td>Legacy AWD</td>\n",
       "      <td>Regular</td>\n",
       "      <td>4.0</td>\n",
       "      <td>False</td>\n",
       "      <td>8.0</td>\n",
       "      <td>Automatic 4-spd</td>\n",
       "      <td>4-spd</td>\n",
       "      <td>Automatic</td>\n",
       "    </tr>\n",
       "    <tr>\n",
       "      <td>37841</td>\n",
       "      <td>Subaru</td>\n",
       "      <td>Legacy AWD</td>\n",
       "      <td>Regular</td>\n",
       "      <td>4.0</td>\n",
       "      <td>False</td>\n",
       "      <td>8.0</td>\n",
       "      <td>Manual 5-spd</td>\n",
       "      <td>5-spd</td>\n",
       "      <td>Manual</td>\n",
       "    </tr>\n",
       "    <tr>\n",
       "      <td>37842</td>\n",
       "      <td>Subaru</td>\n",
       "      <td>Legacy AWD Turbo</td>\n",
       "      <td>Premium</td>\n",
       "      <td>4.0</td>\n",
       "      <td>False</td>\n",
       "      <td>8.0</td>\n",
       "      <td>Automatic 4-spd</td>\n",
       "      <td>4-spd</td>\n",
       "      <td>Automatic</td>\n",
       "    </tr>\n",
       "  </tbody>\n",
       "</table>\n",
       "<p>37842 rows × 9 columns</p>\n",
       "</div>"
      ],
      "text/plain": [
       "          make                model fuelType  cylinders         Traccion  \\\n",
       "1      Ferrari           Testarossa  Regular       12.0            False   \n",
       "2        Dodge              Charger  Regular        4.0            False   \n",
       "3        Dodge  B150/B250 Wagon 2WD  Regular        8.0  Traccion simple   \n",
       "4       Subaru     Legacy AWD Turbo  Premium        4.0            False   \n",
       "5       Subaru               Loyale  Regular        4.0            False   \n",
       "...        ...                  ...      ...        ...              ...   \n",
       "37838   Subaru               Legacy  Regular        4.0            False   \n",
       "37839   Subaru               Legacy  Regular        4.0            False   \n",
       "37840   Subaru           Legacy AWD  Regular        4.0            False   \n",
       "37841   Subaru           Legacy AWD  Regular        4.0            False   \n",
       "37842   Subaru     Legacy AWD Turbo  Premium        4.0            False   \n",
       "\n",
       "       cylinders_2            trany    vel      vel_2  \n",
       "1             24.0     Manual 5-spd  5-spd     Manual  \n",
       "2              8.0     Manual 5-spd  5-spd     Manual  \n",
       "3             16.0  Automatic 3-spd  3-spd  Automatic  \n",
       "4              8.0     Manual 5-spd  5-spd     Manual  \n",
       "5              8.0  Automatic 3-spd  3-spd  Automatic  \n",
       "...            ...              ...    ...        ...  \n",
       "37838          8.0  Automatic 4-spd  4-spd  Automatic  \n",
       "37839          8.0     Manual 5-spd  5-spd     Manual  \n",
       "37840          8.0  Automatic 4-spd  4-spd  Automatic  \n",
       "37841          8.0     Manual 5-spd  5-spd     Manual  \n",
       "37842          8.0  Automatic 4-spd  4-spd  Automatic  \n",
       "\n",
       "[37842 rows x 9 columns]"
      ]
     },
     "execution_count": 285,
     "metadata": {},
     "output_type": "execute_result"
    }
   ],
   "source": [
    "df_new"
   ]
  },
  {
   "cell_type": "code",
   "execution_count": 274,
   "metadata": {},
   "outputs": [],
   "source": [
    "df_new['vel_2'] = df_new['vel'].apply(lambda x: x[0])"
   ]
  },
  {
   "cell_type": "code",
   "execution_count": 279,
   "metadata": {},
   "outputs": [
    {
     "data": {
      "text/plain": [
       "'5-spd'"
      ]
     },
     "execution_count": 279,
     "metadata": {},
     "output_type": "execute_result"
    }
   ],
   "source": [
    "df_new.iloc[0,-2][1]"
   ]
  },
  {
   "cell_type": "code",
   "execution_count": 237,
   "metadata": {},
   "outputs": [],
   "source": [
    "df_new.drop('trany', inplace = True, axis  = 1)"
   ]
  },
  {
   "cell_type": "code",
   "execution_count": 238,
   "metadata": {},
   "outputs": [
    {
     "data": {
      "text/html": [
       "<div>\n",
       "<style scoped>\n",
       "    .dataframe tbody tr th:only-of-type {\n",
       "        vertical-align: middle;\n",
       "    }\n",
       "\n",
       "    .dataframe tbody tr th {\n",
       "        vertical-align: top;\n",
       "    }\n",
       "\n",
       "    .dataframe thead th {\n",
       "        text-align: right;\n",
       "    }\n",
       "</style>\n",
       "<table border=\"1\" class=\"dataframe\">\n",
       "  <thead>\n",
       "    <tr style=\"text-align: right;\">\n",
       "      <th></th>\n",
       "      <th>make</th>\n",
       "      <th>model</th>\n",
       "      <th>fuelType</th>\n",
       "      <th>cylinders</th>\n",
       "      <th>Traccion</th>\n",
       "      <th>cylinders_2</th>\n",
       "    </tr>\n",
       "  </thead>\n",
       "  <tbody>\n",
       "    <tr>\n",
       "      <td>1</td>\n",
       "      <td>Ferrari</td>\n",
       "      <td>Testarossa</td>\n",
       "      <td>Regular</td>\n",
       "      <td>12.0</td>\n",
       "      <td>False</td>\n",
       "      <td>24.0</td>\n",
       "    </tr>\n",
       "    <tr>\n",
       "      <td>2</td>\n",
       "      <td>Dodge</td>\n",
       "      <td>Charger</td>\n",
       "      <td>Regular</td>\n",
       "      <td>4.0</td>\n",
       "      <td>False</td>\n",
       "      <td>8.0</td>\n",
       "    </tr>\n",
       "    <tr>\n",
       "      <td>3</td>\n",
       "      <td>Dodge</td>\n",
       "      <td>B150/B250 Wagon 2WD</td>\n",
       "      <td>Regular</td>\n",
       "      <td>8.0</td>\n",
       "      <td>Traccion simple</td>\n",
       "      <td>16.0</td>\n",
       "    </tr>\n",
       "    <tr>\n",
       "      <td>4</td>\n",
       "      <td>Subaru</td>\n",
       "      <td>Legacy AWD Turbo</td>\n",
       "      <td>Premium</td>\n",
       "      <td>4.0</td>\n",
       "      <td>False</td>\n",
       "      <td>8.0</td>\n",
       "    </tr>\n",
       "    <tr>\n",
       "      <td>5</td>\n",
       "      <td>Subaru</td>\n",
       "      <td>Loyale</td>\n",
       "      <td>Regular</td>\n",
       "      <td>4.0</td>\n",
       "      <td>False</td>\n",
       "      <td>8.0</td>\n",
       "    </tr>\n",
       "    <tr>\n",
       "      <td>...</td>\n",
       "      <td>...</td>\n",
       "      <td>...</td>\n",
       "      <td>...</td>\n",
       "      <td>...</td>\n",
       "      <td>...</td>\n",
       "      <td>...</td>\n",
       "    </tr>\n",
       "    <tr>\n",
       "      <td>37838</td>\n",
       "      <td>Subaru</td>\n",
       "      <td>Legacy</td>\n",
       "      <td>Regular</td>\n",
       "      <td>4.0</td>\n",
       "      <td>False</td>\n",
       "      <td>8.0</td>\n",
       "    </tr>\n",
       "    <tr>\n",
       "      <td>37839</td>\n",
       "      <td>Subaru</td>\n",
       "      <td>Legacy</td>\n",
       "      <td>Regular</td>\n",
       "      <td>4.0</td>\n",
       "      <td>False</td>\n",
       "      <td>8.0</td>\n",
       "    </tr>\n",
       "    <tr>\n",
       "      <td>37840</td>\n",
       "      <td>Subaru</td>\n",
       "      <td>Legacy AWD</td>\n",
       "      <td>Regular</td>\n",
       "      <td>4.0</td>\n",
       "      <td>False</td>\n",
       "      <td>8.0</td>\n",
       "    </tr>\n",
       "    <tr>\n",
       "      <td>37841</td>\n",
       "      <td>Subaru</td>\n",
       "      <td>Legacy AWD</td>\n",
       "      <td>Regular</td>\n",
       "      <td>4.0</td>\n",
       "      <td>False</td>\n",
       "      <td>8.0</td>\n",
       "    </tr>\n",
       "    <tr>\n",
       "      <td>37842</td>\n",
       "      <td>Subaru</td>\n",
       "      <td>Legacy AWD Turbo</td>\n",
       "      <td>Premium</td>\n",
       "      <td>4.0</td>\n",
       "      <td>False</td>\n",
       "      <td>8.0</td>\n",
       "    </tr>\n",
       "  </tbody>\n",
       "</table>\n",
       "<p>37842 rows × 6 columns</p>\n",
       "</div>"
      ],
      "text/plain": [
       "          make                model fuelType  cylinders         Traccion  \\\n",
       "1      Ferrari           Testarossa  Regular       12.0            False   \n",
       "2        Dodge              Charger  Regular        4.0            False   \n",
       "3        Dodge  B150/B250 Wagon 2WD  Regular        8.0  Traccion simple   \n",
       "4       Subaru     Legacy AWD Turbo  Premium        4.0            False   \n",
       "5       Subaru               Loyale  Regular        4.0            False   \n",
       "...        ...                  ...      ...        ...              ...   \n",
       "37838   Subaru               Legacy  Regular        4.0            False   \n",
       "37839   Subaru               Legacy  Regular        4.0            False   \n",
       "37840   Subaru           Legacy AWD  Regular        4.0            False   \n",
       "37841   Subaru           Legacy AWD  Regular        4.0            False   \n",
       "37842   Subaru     Legacy AWD Turbo  Premium        4.0            False   \n",
       "\n",
       "       cylinders_2  \n",
       "1             24.0  \n",
       "2              8.0  \n",
       "3             16.0  \n",
       "4              8.0  \n",
       "5              8.0  \n",
       "...            ...  \n",
       "37838          8.0  \n",
       "37839          8.0  \n",
       "37840          8.0  \n",
       "37841          8.0  \n",
       "37842          8.0  \n",
       "\n",
       "[37842 rows x 6 columns]"
      ]
     },
     "execution_count": 238,
     "metadata": {},
     "output_type": "execute_result"
    }
   ],
   "source": [
    "df_new"
   ]
  },
  {
   "cell_type": "code",
   "execution_count": 288,
   "metadata": {},
   "outputs": [
    {
     "data": {
      "text/plain": [
       "Regular                        25075\n",
       "Premium                        10004\n",
       "Gasoline or E85                 1204\n",
       "Diesel                          1101\n",
       "Premium or E85                   121\n",
       "Electricity                      120\n",
       "Midgrade                          74\n",
       "CNG                               60\n",
       "Premium and Electricity           20\n",
       "Gasoline or natural gas           20\n",
       "Premium Gas or Electricity        17\n",
       "Regular Gas and Electricity       16\n",
       "Gasoline or propane                8\n",
       "Regular Gas or Electricity         2\n",
       "Name: fuelType, dtype: int64"
      ]
     },
     "execution_count": 288,
     "metadata": {},
     "output_type": "execute_result"
    }
   ],
   "source": [
    "df_new['fuelType'].value_counts()"
   ]
  },
  {
   "cell_type": "code",
   "execution_count": 300,
   "metadata": {},
   "outputs": [],
   "source": [
    "#Columna para tipo de auto; electrico, combustion, hibrido \n",
    "df_new['type_v'] = df['fuelType'].apply(lambda x: 'combustion' if x == 'Regular' else ('combustion' if x == 'Premium' else False)) "
   ]
  },
  {
   "cell_type": "code",
   "execution_count": 303,
   "metadata": {},
   "outputs": [
    {
     "data": {
      "text/plain": [
       "combustion    35079\n",
       "False          2763\n",
       "Name: type_v, dtype: int64"
      ]
     },
     "execution_count": 303,
     "metadata": {},
     "output_type": "execute_result"
    }
   ],
   "source": [
    "df_new['type_v'].value_counts()"
   ]
  },
  {
   "cell_type": "code",
   "execution_count": 320,
   "metadata": {},
   "outputs": [],
   "source": [
    "def comb(x):\n",
    "    if x['fuelType'] == 'Regular' :\n",
    "        return 'Combustion'\n",
    "    elif x['fuelType'] == 'Premium':\n",
    "        return 'Combustion'\n",
    "    else:\n",
    "        return 'Otro'"
   ]
  },
  {
   "cell_type": "code",
   "execution_count": 321,
   "metadata": {},
   "outputs": [],
   "source": [
    "df_new.drop('type_v', inplace = True , axis = 1)"
   ]
  },
  {
   "cell_type": "code",
   "execution_count": 324,
   "metadata": {},
   "outputs": [],
   "source": [
    "df_new['type_v'] = df_new.apply(lambda x: comb(x),axis = 1) #x funge como cada fila, y aplicamos a cada fila la funcion comb\n",
    "                                                        #Dicha revisa la columna 'fuelType' y con la condicional asigna una etiqueta\n",
    "    "
   ]
  },
  {
   "cell_type": "code",
   "execution_count": 325,
   "metadata": {},
   "outputs": [
    {
     "data": {
      "text/plain": [
       "Combustion    35079\n",
       "Otro           2763\n",
       "Name: type_v, dtype: int64"
      ]
     },
     "execution_count": 325,
     "metadata": {},
     "output_type": "execute_result"
    }
   ],
   "source": [
    "df_new['type_v'].value_counts()"
   ]
  },
  {
   "cell_type": "code",
   "execution_count": 329,
   "metadata": {},
   "outputs": [],
   "source": [
    "def comb_2(x):\n",
    "    if (x['fuelType'] == 'Regular') and (x['make'] == 'Ferrari') :\n",
    "        return 'Combustion - high_cost'\n",
    "    elif x['fuelType'] == 'Premium':\n",
    "        return 'Combustion - low_cost'\n",
    "    else:\n",
    "        return 'Otro'"
   ]
  },
  {
   "cell_type": "code",
   "execution_count": 330,
   "metadata": {},
   "outputs": [],
   "source": [
    "df_new['type_v_2'] = df_new.apply(lambda x: comb_2(x),axis = 1) "
   ]
  },
  {
   "cell_type": "code",
   "execution_count": 331,
   "metadata": {},
   "outputs": [
    {
     "data": {
      "text/html": [
       "<div>\n",
       "<style scoped>\n",
       "    .dataframe tbody tr th:only-of-type {\n",
       "        vertical-align: middle;\n",
       "    }\n",
       "\n",
       "    .dataframe tbody tr th {\n",
       "        vertical-align: top;\n",
       "    }\n",
       "\n",
       "    .dataframe thead th {\n",
       "        text-align: right;\n",
       "    }\n",
       "</style>\n",
       "<table border=\"1\" class=\"dataframe\">\n",
       "  <thead>\n",
       "    <tr style=\"text-align: right;\">\n",
       "      <th></th>\n",
       "      <th>make</th>\n",
       "      <th>model</th>\n",
       "      <th>fuelType</th>\n",
       "      <th>cylinders</th>\n",
       "      <th>Traccion</th>\n",
       "      <th>cylinders_2</th>\n",
       "      <th>trany</th>\n",
       "      <th>vel</th>\n",
       "      <th>vel_2</th>\n",
       "      <th>type_v</th>\n",
       "      <th>type_v_2</th>\n",
       "    </tr>\n",
       "  </thead>\n",
       "  <tbody>\n",
       "    <tr>\n",
       "      <td>1</td>\n",
       "      <td>Ferrari</td>\n",
       "      <td>Testarossa</td>\n",
       "      <td>Regular</td>\n",
       "      <td>12.0</td>\n",
       "      <td>False</td>\n",
       "      <td>24.0</td>\n",
       "      <td>Manual 5-spd</td>\n",
       "      <td>5-spd</td>\n",
       "      <td>Manual</td>\n",
       "      <td>Combustion</td>\n",
       "      <td>Combustion - high_cost</td>\n",
       "    </tr>\n",
       "    <tr>\n",
       "      <td>2</td>\n",
       "      <td>Dodge</td>\n",
       "      <td>Charger</td>\n",
       "      <td>Regular</td>\n",
       "      <td>4.0</td>\n",
       "      <td>False</td>\n",
       "      <td>8.0</td>\n",
       "      <td>Manual 5-spd</td>\n",
       "      <td>5-spd</td>\n",
       "      <td>Manual</td>\n",
       "      <td>Combustion</td>\n",
       "      <td>Otro</td>\n",
       "    </tr>\n",
       "    <tr>\n",
       "      <td>3</td>\n",
       "      <td>Dodge</td>\n",
       "      <td>B150/B250 Wagon 2WD</td>\n",
       "      <td>Regular</td>\n",
       "      <td>8.0</td>\n",
       "      <td>Traccion simple</td>\n",
       "      <td>16.0</td>\n",
       "      <td>Automatic 3-spd</td>\n",
       "      <td>3-spd</td>\n",
       "      <td>Automatic</td>\n",
       "      <td>Combustion</td>\n",
       "      <td>Otro</td>\n",
       "    </tr>\n",
       "    <tr>\n",
       "      <td>4</td>\n",
       "      <td>Subaru</td>\n",
       "      <td>Legacy AWD Turbo</td>\n",
       "      <td>Premium</td>\n",
       "      <td>4.0</td>\n",
       "      <td>False</td>\n",
       "      <td>8.0</td>\n",
       "      <td>Manual 5-spd</td>\n",
       "      <td>5-spd</td>\n",
       "      <td>Manual</td>\n",
       "      <td>Combustion</td>\n",
       "      <td>Combustion - low_cost</td>\n",
       "    </tr>\n",
       "    <tr>\n",
       "      <td>5</td>\n",
       "      <td>Subaru</td>\n",
       "      <td>Loyale</td>\n",
       "      <td>Regular</td>\n",
       "      <td>4.0</td>\n",
       "      <td>False</td>\n",
       "      <td>8.0</td>\n",
       "      <td>Automatic 3-spd</td>\n",
       "      <td>3-spd</td>\n",
       "      <td>Automatic</td>\n",
       "      <td>Combustion</td>\n",
       "      <td>Otro</td>\n",
       "    </tr>\n",
       "    <tr>\n",
       "      <td>...</td>\n",
       "      <td>...</td>\n",
       "      <td>...</td>\n",
       "      <td>...</td>\n",
       "      <td>...</td>\n",
       "      <td>...</td>\n",
       "      <td>...</td>\n",
       "      <td>...</td>\n",
       "      <td>...</td>\n",
       "      <td>...</td>\n",
       "      <td>...</td>\n",
       "      <td>...</td>\n",
       "    </tr>\n",
       "    <tr>\n",
       "      <td>37838</td>\n",
       "      <td>Subaru</td>\n",
       "      <td>Legacy</td>\n",
       "      <td>Regular</td>\n",
       "      <td>4.0</td>\n",
       "      <td>False</td>\n",
       "      <td>8.0</td>\n",
       "      <td>Automatic 4-spd</td>\n",
       "      <td>4-spd</td>\n",
       "      <td>Automatic</td>\n",
       "      <td>Combustion</td>\n",
       "      <td>Otro</td>\n",
       "    </tr>\n",
       "    <tr>\n",
       "      <td>37839</td>\n",
       "      <td>Subaru</td>\n",
       "      <td>Legacy</td>\n",
       "      <td>Regular</td>\n",
       "      <td>4.0</td>\n",
       "      <td>False</td>\n",
       "      <td>8.0</td>\n",
       "      <td>Manual 5-spd</td>\n",
       "      <td>5-spd</td>\n",
       "      <td>Manual</td>\n",
       "      <td>Combustion</td>\n",
       "      <td>Otro</td>\n",
       "    </tr>\n",
       "    <tr>\n",
       "      <td>37840</td>\n",
       "      <td>Subaru</td>\n",
       "      <td>Legacy AWD</td>\n",
       "      <td>Regular</td>\n",
       "      <td>4.0</td>\n",
       "      <td>False</td>\n",
       "      <td>8.0</td>\n",
       "      <td>Automatic 4-spd</td>\n",
       "      <td>4-spd</td>\n",
       "      <td>Automatic</td>\n",
       "      <td>Combustion</td>\n",
       "      <td>Otro</td>\n",
       "    </tr>\n",
       "    <tr>\n",
       "      <td>37841</td>\n",
       "      <td>Subaru</td>\n",
       "      <td>Legacy AWD</td>\n",
       "      <td>Regular</td>\n",
       "      <td>4.0</td>\n",
       "      <td>False</td>\n",
       "      <td>8.0</td>\n",
       "      <td>Manual 5-spd</td>\n",
       "      <td>5-spd</td>\n",
       "      <td>Manual</td>\n",
       "      <td>Combustion</td>\n",
       "      <td>Otro</td>\n",
       "    </tr>\n",
       "    <tr>\n",
       "      <td>37842</td>\n",
       "      <td>Subaru</td>\n",
       "      <td>Legacy AWD Turbo</td>\n",
       "      <td>Premium</td>\n",
       "      <td>4.0</td>\n",
       "      <td>False</td>\n",
       "      <td>8.0</td>\n",
       "      <td>Automatic 4-spd</td>\n",
       "      <td>4-spd</td>\n",
       "      <td>Automatic</td>\n",
       "      <td>Combustion</td>\n",
       "      <td>Combustion - low_cost</td>\n",
       "    </tr>\n",
       "  </tbody>\n",
       "</table>\n",
       "<p>37842 rows × 11 columns</p>\n",
       "</div>"
      ],
      "text/plain": [
       "          make                model fuelType  cylinders         Traccion  \\\n",
       "1      Ferrari           Testarossa  Regular       12.0            False   \n",
       "2        Dodge              Charger  Regular        4.0            False   \n",
       "3        Dodge  B150/B250 Wagon 2WD  Regular        8.0  Traccion simple   \n",
       "4       Subaru     Legacy AWD Turbo  Premium        4.0            False   \n",
       "5       Subaru               Loyale  Regular        4.0            False   \n",
       "...        ...                  ...      ...        ...              ...   \n",
       "37838   Subaru               Legacy  Regular        4.0            False   \n",
       "37839   Subaru               Legacy  Regular        4.0            False   \n",
       "37840   Subaru           Legacy AWD  Regular        4.0            False   \n",
       "37841   Subaru           Legacy AWD  Regular        4.0            False   \n",
       "37842   Subaru     Legacy AWD Turbo  Premium        4.0            False   \n",
       "\n",
       "       cylinders_2            trany    vel      vel_2      type_v  \\\n",
       "1             24.0     Manual 5-spd  5-spd     Manual  Combustion   \n",
       "2              8.0     Manual 5-spd  5-spd     Manual  Combustion   \n",
       "3             16.0  Automatic 3-spd  3-spd  Automatic  Combustion   \n",
       "4              8.0     Manual 5-spd  5-spd     Manual  Combustion   \n",
       "5              8.0  Automatic 3-spd  3-spd  Automatic  Combustion   \n",
       "...            ...              ...    ...        ...         ...   \n",
       "37838          8.0  Automatic 4-spd  4-spd  Automatic  Combustion   \n",
       "37839          8.0     Manual 5-spd  5-spd     Manual  Combustion   \n",
       "37840          8.0  Automatic 4-spd  4-spd  Automatic  Combustion   \n",
       "37841          8.0     Manual 5-spd  5-spd     Manual  Combustion   \n",
       "37842          8.0  Automatic 4-spd  4-spd  Automatic  Combustion   \n",
       "\n",
       "                     type_v_2  \n",
       "1      Combustion - high_cost  \n",
       "2                        Otro  \n",
       "3                        Otro  \n",
       "4       Combustion - low_cost  \n",
       "5                        Otro  \n",
       "...                       ...  \n",
       "37838                    Otro  \n",
       "37839                    Otro  \n",
       "37840                    Otro  \n",
       "37841                    Otro  \n",
       "37842   Combustion - low_cost  \n",
       "\n",
       "[37842 rows x 11 columns]"
      ]
     },
     "execution_count": 331,
     "metadata": {},
     "output_type": "execute_result"
    }
   ],
   "source": [
    "df_new"
   ]
  },
  {
   "cell_type": "code",
   "execution_count": null,
   "metadata": {},
   "outputs": [],
   "source": [
    "# metodos habituales de pandas\n",
    "\n",
    "df.head()         # printea la cabeza, por defecto 5 filas\n",
    "df.tail()         # pritea la cola, por defecto 5 filas\n",
    "df.describe()     # descripcion estadistica\n",
    "df.info()         # informacion del df\n",
    "df.info(memory_usage='deep')\n",
    "df.columns        # muestra columna\n",
    "df.index          # muestra indice\n",
    "df.dtypes         # muestra tipos de datos de las columnas\n",
    "df.plot()         # hace un grafico\n",
    "df.hist()         # hace un histograma\n",
    "df.col.value_counts() # cuenta los valores unicos de una columna\n",
    "df.col.unique()       # muestra valores unicos de una columna\n",
    "df.copy()             # copia el df\n",
    "df.drop()             # elimina columnas o filas (axis=0,1)\n",
    "df.dropna()           # elimina nulos\n",
    "df.fillna()           # rellena nulos\n",
    "df.shape              # dimensiones del df\n",
    "df._get_numeric_data()  # selecciona columnas numericas\n",
    "df.rename()             # renombre columnas\n",
    "df.str.replace()        # reemplaza columnas de strings\n",
    "df.astype(dtype='float32')  # cambia el tipo de dato\n",
    "df.iloc[]                   # localiza por indice\n",
    "df.loc[]                    # localiza por elemento\n",
    "df.ix[]                     # loc+iloc\n",
    "df.transpose()              # transpone el df\n",
    "df.T\n",
    "df.sample(n, frac)          # muestra del df\n",
    "df.col.sum()                # suma de una columna\n",
    "df.col.max()\n",
    "df.col.min()\n",
    "df[col]         # selecciona columna\n",
    "df.col\n",
    "df.isnull()    # valores nulos\n",
    "df.isna()\n",
    "df.drop_duplicates() # eliminar duplicados\n",
    "df.reset_index(inplace=True)  # resetea el indice y sobreescribe"
   ]
  }
 ],
 "metadata": {
  "kernelspec": {
   "display_name": "Python 3.7.4 64-bit",
   "language": "python",
   "name": "python37464bit456c2aecd4e54895bedac2416c319c0f"
  },
  "language_info": {
   "codemirror_mode": {
    "name": "ipython",
    "version": 3
   },
   "file_extension": ".py",
   "mimetype": "text/x-python",
   "name": "python",
   "nbconvert_exporter": "python",
   "pygments_lexer": "ipython3",
   "version": "3.7.4"
  }
 },
 "nbformat": 4,
 "nbformat_minor": 2
}
