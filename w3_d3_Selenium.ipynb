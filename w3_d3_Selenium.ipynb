{
 "cells": [
  {
   "cell_type": "markdown",
   "metadata": {},
   "source": [
    "# Web Scrapping Selenium"
   ]
  },
  {
   "cell_type": "code",
   "execution_count": 6,
   "metadata": {},
   "outputs": [],
   "source": [
    "from selenium import webdriver"
   ]
  },
  {
   "cell_type": "code",
   "execution_count": 12,
   "metadata": {},
   "outputs": [],
   "source": [
    "from selenium.webdriver.common.keys import Keys"
   ]
  },
  {
   "cell_type": "code",
   "execution_count": 78,
   "metadata": {},
   "outputs": [],
   "source": [
    "navegador = webdriver.Firefox()"
   ]
  },
  {
   "cell_type": "code",
   "execution_count": 79,
   "metadata": {},
   "outputs": [],
   "source": [
    "navegador.maximize_window()"
   ]
  },
  {
   "cell_type": "code",
   "execution_count": 10,
   "metadata": {},
   "outputs": [],
   "source": [
    "navegador.get('https://www.google.com')"
   ]
  },
  {
   "cell_type": "code",
   "execution_count": 11,
   "metadata": {},
   "outputs": [],
   "source": [
    "barra = navegador.find_element_by_xpath('/html/body/div/div[2]/form/div[2]/div[1]/div[1]/div/div[2]/input')"
   ]
  },
  {
   "cell_type": "code",
   "execution_count": 13,
   "metadata": {},
   "outputs": [],
   "source": [
    "barra.send_keys('ironhack')"
   ]
  },
  {
   "cell_type": "code",
   "execution_count": 14,
   "metadata": {},
   "outputs": [],
   "source": [
    "barra.send_keys(Keys.RETURN)"
   ]
  },
  {
   "cell_type": "code",
   "execution_count": 15,
   "metadata": {},
   "outputs": [],
   "source": [
    "primer_op = navegador.find_element_by_xpath('/html/body/div[7]/div[2]/div[9]/div[1]/div[2]/div/div[2]/div[2]/div/div/div[1]/div/div/div[1]/a/h3')"
   ]
  },
  {
   "cell_type": "code",
   "execution_count": 17,
   "metadata": {},
   "outputs": [],
   "source": [
    "primer_op.click()"
   ]
  },
  {
   "cell_type": "code",
   "execution_count": 18,
   "metadata": {},
   "outputs": [],
   "source": [
    "navegador.get('https://www.python.org')"
   ]
  },
  {
   "cell_type": "code",
   "execution_count": 20,
   "metadata": {},
   "outputs": [],
   "source": [
    "barra_py = navegador.find_element_by_id('id-search-field')"
   ]
  },
  {
   "cell_type": "code",
   "execution_count": 24,
   "metadata": {},
   "outputs": [],
   "source": [
    "barra_py.send_keys('pycon')"
   ]
  },
  {
   "cell_type": "code",
   "execution_count": 23,
   "metadata": {},
   "outputs": [],
   "source": [
    "barra_py.clear()"
   ]
  },
  {
   "cell_type": "code",
   "execution_count": 26,
   "metadata": {},
   "outputs": [],
   "source": [
    "barra_py.send_keys(Keys.RETURN)"
   ]
  },
  {
   "cell_type": "code",
   "execution_count": 80,
   "metadata": {},
   "outputs": [],
   "source": [
    "url_ataq = 'https://threatbutt.com/map/'"
   ]
  },
  {
   "cell_type": "code",
   "execution_count": 81,
   "metadata": {},
   "outputs": [],
   "source": [
    "navegador.get(url_ataq)"
   ]
  },
  {
   "cell_type": "code",
   "execution_count": 51,
   "metadata": {},
   "outputs": [
    {
     "data": {
      "text/plain": [
       "<selenium.webdriver.firefox.webelement.FirefoxWebElement (session=\"5125aceb-fb7a-4005-8823-f1081c1b2f79\", element=\"1912fab7-6191-4155-829f-d4f6da33ed56\")>"
      ]
     },
     "execution_count": 51,
     "metadata": {},
     "output_type": "execute_result"
    }
   ],
   "source": [
    "attack_frame = navegador.find_element_by_id('attackdiv')\n",
    "attack_frame #Al buscar elementos con selenium, se regresa elementos de selenium, apartir de ellos podemos sacar texto,\n",
    "#atributos, intercatuar, etc."
   ]
  },
  {
   "cell_type": "code",
   "execution_count": 52,
   "metadata": {},
   "outputs": [
    {
     "data": {
      "text/plain": [
       "\"usa (35.17.231.73) uses Default credentials on poorly configured IoT devices against usa (197.87.109.186) -- IT'S CYBER POMPEII !\""
      ]
     },
     "execution_count": 52,
     "metadata": {},
     "output_type": "execute_result"
    }
   ],
   "source": [
    "ataq = attack_frame.text.split('\\n')[-1]\n",
    "ataq"
   ]
  },
  {
   "cell_type": "code",
   "execution_count": 53,
   "metadata": {},
   "outputs": [
    {
     "data": {
      "text/plain": [
       "'usa'"
      ]
     },
     "execution_count": 53,
     "metadata": {},
     "output_type": "execute_result"
    }
   ],
   "source": [
    "nombre_ataq =  ataq.split('(')[0].strip()\n",
    "nombre_ataq"
   ]
  },
  {
   "cell_type": "code",
   "execution_count": 54,
   "metadata": {},
   "outputs": [
    {
     "data": {
      "text/plain": [
       "'35.17.231.73'"
      ]
     },
     "execution_count": 54,
     "metadata": {},
     "output_type": "execute_result"
    }
   ],
   "source": [
    "ip_ataq = ataq.split('(')[1].split(')')[0]\n",
    "ip_ataq"
   ]
  },
  {
   "cell_type": "code",
   "execution_count": 55,
   "metadata": {},
   "outputs": [
    {
     "data": {
      "text/plain": [
       "'usa'"
      ]
     },
     "execution_count": 55,
     "metadata": {},
     "output_type": "execute_result"
    }
   ],
   "source": [
    "victima = ataq.split('(')[1].split(')')[1][-4:].strip()\n",
    "victima"
   ]
  },
  {
   "cell_type": "code",
   "execution_count": 56,
   "metadata": {},
   "outputs": [
    {
     "data": {
      "text/plain": [
       "'197.87.109.186'"
      ]
     },
     "execution_count": 56,
     "metadata": {},
     "output_type": "execute_result"
    }
   ],
   "source": [
    "ip_victima = ataq.split('(')[2].split(')')[0]\n",
    "ip_victima"
   ]
  },
  {
   "cell_type": "code",
   "execution_count": 58,
   "metadata": {},
   "outputs": [],
   "source": [
    "import time"
   ]
  },
  {
   "cell_type": "code",
   "execution_count": 64,
   "metadata": {},
   "outputs": [
    {
     "data": {
      "text/plain": [
       "2020"
      ]
     },
     "execution_count": 64,
     "metadata": {},
     "output_type": "execute_result"
    }
   ],
   "source": [
    "time.localtime()[0]"
   ]
  },
  {
   "cell_type": "code",
   "execution_count": 84,
   "metadata": {},
   "outputs": [
    {
     "name": "stdout",
     "output_type": "stream",
     "text": [
      "timestamp 1597856160.9268699, atacante: ukr, con ip:49.22.250.216, esta atacando a: jpn con ip: 49.22.250.216\n",
      "timestamp 1597856162.9521568, atacante: usa, con ip:31.11.111.104, esta atacando a: nzl con ip: 31.11.111.104\n",
      "timestamp 1597856164.9798942, atacante: zaf, con ip:46.235.10.208, esta atacando a: nzl con ip: 46.235.10.208\n",
      "timestamp 1597856167.0175765, atacante: usa, con ip:27.244.92.149, esta atacando a: usa con ip: 27.244.92.149\n",
      "timestamp 1597856169.0522354, atacante: fra, con ip:128.54.250.207, esta atacando a: chn con ip: 128.54.250.207\n"
     ]
    }
   ],
   "source": [
    "while True:\n",
    "    navegador.get(url_ataq)    \n",
    "    count = 0\n",
    "    while count < 5:\n",
    "        time.sleep(2)\n",
    "        attack_frame = navegador.find_element_by_id('attackdiv')\n",
    "        ataq = attack_frame.text.split(\"\\n\")[-1]\n",
    "        \n",
    "        nombre_ataq = ataq.split(\"(\")[0].strip()\n",
    "        ip_ataq = ataq.split(\"(\")[1].split(\")\")[0]\n",
    "\n",
    "        victima = ataq.split(\"(\")[1].split(\")\")[1][-4:].strip()\n",
    "        ip_victim = ip_ataq = ataq.split(\"(\")[2].split(\")\")[0]\n",
    "        \n",
    "        print(f'timestamp {time.time()}, atacante: {nombre_ataq}, con ip:{ip_ataq}, esta atacando a: {victima} con ip: {ip_victim}')\n",
    "        \n",
    "        count+=1        \n",
    "    break\n"
   ]
  },
  {
   "cell_type": "code",
   "execution_count": 86,
   "metadata": {},
   "outputs": [],
   "source": [
    "import requests \n",
    "import xmltodict\n",
    "import re\n",
    "import time"
   ]
  },
  {
   "cell_type": "code",
   "execution_count": 150,
   "metadata": {},
   "outputs": [],
   "source": [
    "url = 'http://www.ssn.unam.mx/rss/ultimos-sismos.xml'\n",
    "resp = requests.get(url)\n",
    "data = xmltodict.parse(resp.content)"
   ]
  },
  {
   "cell_type": "code",
   "execution_count": 148,
   "metadata": {
    "scrolled": true
   },
   "outputs": [
    {
     "data": {
      "text/plain": [
       "b'<?xml version=\"1.0\"?>\\n\\t<rss version=\"2.0\" xmlns:geo=\"http://www.w3.org/2003/01/geo/wgs84_pos#\">\\n\\t<channel>\\n\\t<title>\\xc3\\x9altimos sismos registrados por el SSN</title>\\n\\t\\t<link>http://www.ssn.unam.mx</link>\\n\\t\\t<description>Reporte de los \\xc3\\xbaltimos sismos en M\\xc3\\xa9xico</description>\\n\\t\\t<item>\\n\\t\\t\\t<title>4.0, 11 km al SUR de  PINOTEPA NACIONAL, OAX  </title>\\n\\t\\t\\t<description><![CDATA[ <p>Fecha:2020-08-19 06:55:57 (Hora de M&eacute;xico)<br/>Lat/Lon: 16.24/-98.04<br/>Profundidad: 28.0 km </p> ]]></description>\\n\\t\\t\\t<link><![CDATA[ http://www2.ssn.unam.mx:8080/jsp/localizacion-de-sismo.jsp?latitud=16.24&longitud=-98.04&prf=28.0 km&ma=4.0&fecha=2020-08-19&hora=06:55:57&loc=11 km al SUR de  PINOTEPA NACIONAL, OAX  &evento=1 ]]></link>\\n\\t\\t\\t<geo:lat>16.24</geo:lat>\\n\\t\\t\\t<geo:long>-98.04</geo:long>\\n\\t\\t</item>\\n\\t\\t<item>\\n\\t\\t\\t<title>3.7, 18 km al SURESTE de  CACAHOATAN, CHIS        </title>\\n\\t\\t\\t<description><![CDATA[ <p>Fecha:2020-08-19 04:55:31 (Hora de M&eacute;xico)<br/>Lat/Lon: 14.85/-92.09<br/>Profundidad: 101.0 km </p> ]]></description>\\n\\t\\t\\t<link><![CDATA[ http://www2.ssn.unam.mx:8080/jsp/localizacion-de-sismo.jsp?latitud=14.85&longitud=-92.09&prf=101.0 km&ma=3.7&fecha=2020-08-19&hora=04:55:31&loc=18 km al SURESTE de  CACAHOATAN, CHIS        &evento=1 ]]></link>\\n\\t\\t\\t<geo:lat>14.85</geo:lat>\\n\\t\\t\\t<geo:long>-92.09</geo:long>\\n\\t\\t</item>\\n\\t\\t<item>\\n\\t\\t\\t<title>3.7, 88 km al NOROESTE de  SAN FELIPE, BC          </title>\\n\\t\\t\\t<description><![CDATA[ <p>Fecha:2020-08-19 04:29:56 (Hora de M&eacute;xico)<br/>Lat/Lon: 31.52/-115.56<br/>Profundidad: 19.0 km </p> ]]></description>\\n\\t\\t\\t<link><![CDATA[ http://www2.ssn.unam.mx:8080/jsp/localizacion-de-sismo.jsp?latitud=31.52&longitud=-115.56&prf=19.0 km&ma=3.7&fecha=2020-08-19&hora=04:29:56&loc=88 km al NOROESTE de  SAN FELIPE, BC          &evento=1 ]]></link>\\n\\t\\t\\t<geo:lat>31.52</geo:lat>\\n\\t\\t\\t<geo:long>-115.56</geo:long>\\n\\t\\t</item>\\n\\t\\t<item>\\n\\t\\t\\t<title>3.8, 9 km al NORTE de  NVO S J PARANGARICUTIRO, MI</title>\\n\\t\\t\\t<description><![CDATA[ <p>Fecha:2020-08-19 04:27:40 (Hora de M&eacute;xico)<br/>Lat/Lon: 19.5/-102.14<br/>Profundidad: 10.0 km </p> ]]></description>\\n\\t\\t\\t<link><![CDATA[ http://www2.ssn.unam.mx:8080/jsp/localizacion-de-sismo.jsp?latitud=19.5&longitud=-102.14&prf=10.0 km&ma=3.8&fecha=2020-08-19&hora=04:27:40&loc=9 km al NORTE de  NVO S J PARANGARICUTIRO, MI&evento=1 ]]></link>\\n\\t\\t\\t<geo:lat>19.5</geo:lat>\\n\\t\\t\\t<geo:long>-102.14</geo:long>\\n\\t\\t</item>\\n\\t\\t<item>\\n\\t\\t\\t<title>4.0, 6 km al SUR de  CINTALAPA, CHIS    </title>\\n\\t\\t\\t<description><![CDATA[ <p>Fecha:2020-08-19 03:52:50 (Hora de M&eacute;xico)<br/>Lat/Lon: 16.64/-93.71<br/>Profundidad: 154.0 km </p> ]]></description>\\n\\t\\t\\t<link><![CDATA[ http://www2.ssn.unam.mx:8080/jsp/localizacion-de-sismo.jsp?latitud=16.64&longitud=-93.71&prf=154.0 km&ma=4.0&fecha=2020-08-19&hora=03:52:50&loc=6 km al SUR de  CINTALAPA, CHIS    &evento=1 ]]></link>\\n\\t\\t\\t<geo:lat>16.64</geo:lat>\\n\\t\\t\\t<geo:long>-93.71</geo:long>\\n\\t\\t</item>\\n\\t\\t<item>\\n\\t\\t\\t<title>4.0, 37 km al SURESTE de  SALINA CRUZ, OAX         </title>\\n\\t\\t\\t<description><![CDATA[ <p>Fecha:2020-08-19 02:56:48 (Hora de M&eacute;xico)<br/>Lat/Lon: 15.92/-94.98<br/>Profundidad: 23.0 km </p> ]]></description>\\n\\t\\t\\t<link><![CDATA[ http://www2.ssn.unam.mx:8080/jsp/localizacion-de-sismo.jsp?latitud=15.92&longitud=-94.98&prf=23.0 km&ma=4.0&fecha=2020-08-19&hora=02:56:48&loc=37 km al SURESTE de  SALINA CRUZ, OAX         &evento=1 ]]></link>\\n\\t\\t\\t<geo:lat>15.92</geo:lat>\\n\\t\\t\\t<geo:long>-94.98</geo:long>\\n\\t\\t</item>\\n\\t\\t<item>\\n\\t\\t\\t<title>3.8, 94 km al SUROESTE de  MANZANILLO, COL         </title>\\n\\t\\t\\t<description><![CDATA[ <p>Fecha:2020-08-19 02:44:14 (Hora de M&eacute;xico)<br/>Lat/Lon: 18.42/-104.9<br/>Profundidad: 17.0 km </p> ]]></description>\\n\\t\\t\\t<link><![CDATA[ http://www2.ssn.unam.mx:8080/jsp/localizacion-de-sismo.jsp?latitud=18.42&longitud=-104.9&prf=17.0 km&ma=3.8&fecha=2020-08-19&hora=02:44:14&loc=94 km al SUROESTE de  MANZANILLO, COL         &evento=1 ]]></link>\\n\\t\\t\\t<geo:lat>18.42</geo:lat>\\n\\t\\t\\t<geo:long>-104.9</geo:long>\\n\\t\\t</item>\\n\\t\\t<item>\\n\\t\\t\\t<title>3.8, 19 km al SUR de  CRUCECITA, OAX         </title>\\n\\t\\t\\t<description><![CDATA[ <p>Fecha:2020-08-19 02:39:17 (Hora de M&eacute;xico)<br/>Lat/Lon: 15.6/-96.14<br/>Profundidad: 5.0 km </p> ]]></description>\\n\\t\\t\\t<link><![CDATA[ http://www2.ssn.unam.mx:8080/jsp/localizacion-de-sismo.jsp?latitud=15.6&longitud=-96.14&prf=5.0 km&ma=3.8&fecha=2020-08-19&hora=02:39:17&loc=19 km al SUR de  CRUCECITA, OAX         &evento=1 ]]></link>\\n\\t\\t\\t<geo:lat>15.6</geo:lat>\\n\\t\\t\\t<geo:long>-96.14</geo:long>\\n\\t\\t</item>\\n\\t\\t<item>\\n\\t\\t\\t<title>4.1, 138 km al SUROESTE de  TONALA, CHIS        </title>\\n\\t\\t\\t<description><![CDATA[ <p>Fecha:2020-08-19 02:32:52 (Hora de M&eacute;xico)<br/>Lat/Lon: 15.06/-94.49<br/>Profundidad: 17.0 km </p> ]]></description>\\n\\t\\t\\t<link><![CDATA[ http://www2.ssn.unam.mx:8080/jsp/localizacion-de-sismo.jsp?latitud=15.06&longitud=-94.49&prf=17.0 km&ma=4.1&fecha=2020-08-19&hora=02:32:52&loc=138 km al SUROESTE de  TONALA, CHIS        &evento=1 ]]></link>\\n\\t\\t\\t<geo:lat>15.06</geo:lat>\\n\\t\\t\\t<geo:long>-94.49</geo:long>\\n\\t\\t</item>\\n\\t\\t<item>\\n\\t\\t\\t<title>3.7, 87 km al SURESTE de  SALINA CRUZ, OAX         </title>\\n\\t\\t\\t<description><![CDATA[ <p>Fecha:2020-08-19 02:19:00 (Hora de M&eacute;xico)<br/>Lat/Lon: 15.46/-94.88<br/>Profundidad: 15.0 km </p> ]]></description>\\n\\t\\t\\t<link><![CDATA[ http://www2.ssn.unam.mx:8080/jsp/localizacion-de-sismo.jsp?latitud=15.46&longitud=-94.88&prf=15.0 km&ma=3.7&fecha=2020-08-19&hora=02:19:00&loc=87 km al SURESTE de  SALINA CRUZ, OAX         &evento=1 ]]></link>\\n\\t\\t\\t<geo:lat>15.46</geo:lat>\\n\\t\\t\\t<geo:long>-94.88</geo:long>\\n\\t\\t</item>\\n\\t\\t<item>\\n\\t\\t\\t<title>3.7, 10 km al NOROESTE de  TLACOLULA, OAX   </title>\\n\\t\\t\\t<description><![CDATA[ <p>Fecha:2020-08-19 01:39:59 (Hora de M&eacute;xico)<br/>Lat/Lon: 16.99/-96.56<br/>Profundidad: 68.0 km </p> ]]></description>\\n\\t\\t\\t<link><![CDATA[ http://www2.ssn.unam.mx:8080/jsp/localizacion-de-sismo.jsp?latitud=16.99&longitud=-96.56&prf=68.0 km&ma=3.7&fecha=2020-08-19&hora=01:39:59&loc=10 km al NOROESTE de  TLACOLULA, OAX   &evento=1 ]]></link>\\n\\t\\t\\t<geo:lat>16.99</geo:lat>\\n\\t\\t\\t<geo:long>-96.56</geo:long>\\n\\t\\t</item>\\n\\t\\t<item>\\n\\t\\t\\t<title>3.5, 15 km al NORTE de  ACAPULCO, GRO       </title>\\n\\t\\t\\t<description><![CDATA[ <p>Fecha:2020-08-19 01:39:04 (Hora de M&eacute;xico)<br/>Lat/Lon: 17.0/-99.88<br/>Profundidad: 12.0 km </p> ]]></description>\\n\\t\\t\\t<link><![CDATA[ http://www2.ssn.unam.mx:8080/jsp/localizacion-de-sismo.jsp?latitud=17.0&longitud=-99.88&prf=12.0 km&ma=3.5&fecha=2020-08-19&hora=01:39:04&loc=15 km al NORTE de  ACAPULCO, GRO       &evento=1 ]]></link>\\n\\t\\t\\t<geo:lat>17.0</geo:lat>\\n\\t\\t\\t<geo:long>-99.88</geo:long>\\n\\t\\t</item>\\n\\t\\t<item>\\n\\t\\t\\t<title>3.6, 38 km al SUR de  NUEVA ITALIA, MICH   </title>\\n\\t\\t\\t<description><![CDATA[ <p>Fecha:2020-08-19 01:38:50 (Hora de M&eacute;xico)<br/>Lat/Lon: 18.69/-102.18<br/>Profundidad: 43.0 km </p> ]]></description>\\n\\t\\t\\t<link><![CDATA[ http://www2.ssn.unam.mx:8080/jsp/localizacion-de-sismo.jsp?latitud=18.69&longitud=-102.18&prf=43.0 km&ma=3.6&fecha=2020-08-19&hora=01:38:50&loc=38 km al SUR de  NUEVA ITALIA, MICH   &evento=1 ]]></link>\\n\\t\\t\\t<geo:lat>18.69</geo:lat>\\n\\t\\t\\t<geo:long>-102.18</geo:long>\\n\\t\\t</item>\\n\\t\\t<item>\\n\\t\\t\\t<title>4.1, 26 km al SURESTE de  VILLAFLORES, CHIS        </title>\\n\\t\\t\\t<description><![CDATA[ <p>Fecha:2020-08-19 01:16:50 (Hora de M&eacute;xico)<br/>Lat/Lon: 16.07/-93.1<br/>Profundidad: 161.0 km </p> ]]></description>\\n\\t\\t\\t<link><![CDATA[ http://www2.ssn.unam.mx:8080/jsp/localizacion-de-sismo.jsp?latitud=16.07&longitud=-93.1&prf=161.0 km&ma=4.1&fecha=2020-08-19&hora=01:16:50&loc=26 km al SURESTE de  VILLAFLORES, CHIS        &evento=1 ]]></link>\\n\\t\\t\\t<geo:lat>16.07</geo:lat>\\n\\t\\t\\t<geo:long>-93.1</geo:long>\\n\\t\\t</item>\\n\\t\\t<item>\\n\\t\\t\\t<title>3.5, 13 km al SUROESTE de  OMETEPEC, GRO         </title>\\n\\t\\t\\t<description><![CDATA[ <p>Fecha:2020-08-19 01:08:47 (Hora de M&eacute;xico)<br/>Lat/Lon: 16.58/-98.48<br/>Profundidad: 10.0 km </p> ]]></description>\\n\\t\\t\\t<link><![CDATA[ http://www2.ssn.unam.mx:8080/jsp/localizacion-de-sismo.jsp?latitud=16.58&longitud=-98.48&prf=10.0 km&ma=3.5&fecha=2020-08-19&hora=01:08:47&loc=13 km al SUROESTE de  OMETEPEC, GRO         &evento=1 ]]></link>\\n\\t\\t\\t<geo:lat>16.58</geo:lat>\\n\\t\\t\\t<geo:long>-98.48</geo:long>\\n\\t\\t</item>\\n\\t</channel>\\n\\t</rss>'"
      ]
     },
     "execution_count": 148,
     "metadata": {},
     "output_type": "execute_result"
    }
   ],
   "source": [
    "resp.content"
   ]
  },
  {
   "cell_type": "code",
   "execution_count": 151,
   "metadata": {},
   "outputs": [
    {
     "data": {
      "text/plain": [
       "OrderedDict([('rss',\n",
       "              OrderedDict([('@version', '2.0'),\n",
       "                           ('@xmlns:geo',\n",
       "                            'http://www.w3.org/2003/01/geo/wgs84_pos#'),\n",
       "                           ('channel',\n",
       "                            OrderedDict([('title',\n",
       "                                          'Últimos sismos registrados por el SSN'),\n",
       "                                         ('link', 'http://www.ssn.unam.mx'),\n",
       "                                         ('description',\n",
       "                                          'Reporte de los últimos sismos en México'),\n",
       "                                         ('item',\n",
       "                                          [OrderedDict([('title',\n",
       "                                                         '4.0, 11 km al SUR de  PINOTEPA NACIONAL, OAX'),\n",
       "                                                        ('description',\n",
       "                                                         '<p>Fecha:2020-08-19 06:55:57 (Hora de M&eacute;xico)<br/>Lat/Lon: 16.24/-98.04<br/>Profundidad: 28.0 km </p>'),\n",
       "                                                        ('link',\n",
       "                                                         'http://www2.ssn.unam.mx:8080/jsp/localizacion-de-sismo.jsp?latitud=16.24&longitud=-98.04&prf=28.0 km&ma=4.0&fecha=2020-08-19&hora=06:55:57&loc=11 km al SUR de  PINOTEPA NACIONAL, OAX  &evento=1'),\n",
       "                                                        ('geo:lat', '16.24'),\n",
       "                                                        ('geo:long',\n",
       "                                                         '-98.04')]),\n",
       "                                           OrderedDict([('title',\n",
       "                                                         '3.7, 18 km al SURESTE de  CACAHOATAN, CHIS'),\n",
       "                                                        ('description',\n",
       "                                                         '<p>Fecha:2020-08-19 04:55:31 (Hora de M&eacute;xico)<br/>Lat/Lon: 14.85/-92.09<br/>Profundidad: 101.0 km </p>'),\n",
       "                                                        ('link',\n",
       "                                                         'http://www2.ssn.unam.mx:8080/jsp/localizacion-de-sismo.jsp?latitud=14.85&longitud=-92.09&prf=101.0 km&ma=3.7&fecha=2020-08-19&hora=04:55:31&loc=18 km al SURESTE de  CACAHOATAN, CHIS        &evento=1'),\n",
       "                                                        ('geo:lat', '14.85'),\n",
       "                                                        ('geo:long',\n",
       "                                                         '-92.09')]),\n",
       "                                           OrderedDict([('title',\n",
       "                                                         '3.7, 88 km al NOROESTE de  SAN FELIPE, BC'),\n",
       "                                                        ('description',\n",
       "                                                         '<p>Fecha:2020-08-19 04:29:56 (Hora de M&eacute;xico)<br/>Lat/Lon: 31.52/-115.56<br/>Profundidad: 19.0 km </p>'),\n",
       "                                                        ('link',\n",
       "                                                         'http://www2.ssn.unam.mx:8080/jsp/localizacion-de-sismo.jsp?latitud=31.52&longitud=-115.56&prf=19.0 km&ma=3.7&fecha=2020-08-19&hora=04:29:56&loc=88 km al NOROESTE de  SAN FELIPE, BC          &evento=1'),\n",
       "                                                        ('geo:lat', '31.52'),\n",
       "                                                        ('geo:long',\n",
       "                                                         '-115.56')]),\n",
       "                                           OrderedDict([('title',\n",
       "                                                         '3.8, 9 km al NORTE de  NVO S J PARANGARICUTIRO, MI'),\n",
       "                                                        ('description',\n",
       "                                                         '<p>Fecha:2020-08-19 04:27:40 (Hora de M&eacute;xico)<br/>Lat/Lon: 19.5/-102.14<br/>Profundidad: 10.0 km </p>'),\n",
       "                                                        ('link',\n",
       "                                                         'http://www2.ssn.unam.mx:8080/jsp/localizacion-de-sismo.jsp?latitud=19.5&longitud=-102.14&prf=10.0 km&ma=3.8&fecha=2020-08-19&hora=04:27:40&loc=9 km al NORTE de  NVO S J PARANGARICUTIRO, MI&evento=1'),\n",
       "                                                        ('geo:lat', '19.5'),\n",
       "                                                        ('geo:long',\n",
       "                                                         '-102.14')]),\n",
       "                                           OrderedDict([('title',\n",
       "                                                         '4.0, 6 km al SUR de  CINTALAPA, CHIS'),\n",
       "                                                        ('description',\n",
       "                                                         '<p>Fecha:2020-08-19 03:52:50 (Hora de M&eacute;xico)<br/>Lat/Lon: 16.64/-93.71<br/>Profundidad: 154.0 km </p>'),\n",
       "                                                        ('link',\n",
       "                                                         'http://www2.ssn.unam.mx:8080/jsp/localizacion-de-sismo.jsp?latitud=16.64&longitud=-93.71&prf=154.0 km&ma=4.0&fecha=2020-08-19&hora=03:52:50&loc=6 km al SUR de  CINTALAPA, CHIS    &evento=1'),\n",
       "                                                        ('geo:lat', '16.64'),\n",
       "                                                        ('geo:long',\n",
       "                                                         '-93.71')]),\n",
       "                                           OrderedDict([('title',\n",
       "                                                         '4.0, 37 km al SURESTE de  SALINA CRUZ, OAX'),\n",
       "                                                        ('description',\n",
       "                                                         '<p>Fecha:2020-08-19 02:56:48 (Hora de M&eacute;xico)<br/>Lat/Lon: 15.92/-94.98<br/>Profundidad: 23.0 km </p>'),\n",
       "                                                        ('link',\n",
       "                                                         'http://www2.ssn.unam.mx:8080/jsp/localizacion-de-sismo.jsp?latitud=15.92&longitud=-94.98&prf=23.0 km&ma=4.0&fecha=2020-08-19&hora=02:56:48&loc=37 km al SURESTE de  SALINA CRUZ, OAX         &evento=1'),\n",
       "                                                        ('geo:lat', '15.92'),\n",
       "                                                        ('geo:long',\n",
       "                                                         '-94.98')]),\n",
       "                                           OrderedDict([('title',\n",
       "                                                         '3.8, 94 km al SUROESTE de  MANZANILLO, COL'),\n",
       "                                                        ('description',\n",
       "                                                         '<p>Fecha:2020-08-19 02:44:14 (Hora de M&eacute;xico)<br/>Lat/Lon: 18.42/-104.9<br/>Profundidad: 17.0 km </p>'),\n",
       "                                                        ('link',\n",
       "                                                         'http://www2.ssn.unam.mx:8080/jsp/localizacion-de-sismo.jsp?latitud=18.42&longitud=-104.9&prf=17.0 km&ma=3.8&fecha=2020-08-19&hora=02:44:14&loc=94 km al SUROESTE de  MANZANILLO, COL         &evento=1'),\n",
       "                                                        ('geo:lat', '18.42'),\n",
       "                                                        ('geo:long',\n",
       "                                                         '-104.9')]),\n",
       "                                           OrderedDict([('title',\n",
       "                                                         '3.8, 19 km al SUR de  CRUCECITA, OAX'),\n",
       "                                                        ('description',\n",
       "                                                         '<p>Fecha:2020-08-19 02:39:17 (Hora de M&eacute;xico)<br/>Lat/Lon: 15.6/-96.14<br/>Profundidad: 5.0 km </p>'),\n",
       "                                                        ('link',\n",
       "                                                         'http://www2.ssn.unam.mx:8080/jsp/localizacion-de-sismo.jsp?latitud=15.6&longitud=-96.14&prf=5.0 km&ma=3.8&fecha=2020-08-19&hora=02:39:17&loc=19 km al SUR de  CRUCECITA, OAX         &evento=1'),\n",
       "                                                        ('geo:lat', '15.6'),\n",
       "                                                        ('geo:long',\n",
       "                                                         '-96.14')]),\n",
       "                                           OrderedDict([('title',\n",
       "                                                         '4.1, 138 km al SUROESTE de  TONALA, CHIS'),\n",
       "                                                        ('description',\n",
       "                                                         '<p>Fecha:2020-08-19 02:32:52 (Hora de M&eacute;xico)<br/>Lat/Lon: 15.06/-94.49<br/>Profundidad: 17.0 km </p>'),\n",
       "                                                        ('link',\n",
       "                                                         'http://www2.ssn.unam.mx:8080/jsp/localizacion-de-sismo.jsp?latitud=15.06&longitud=-94.49&prf=17.0 km&ma=4.1&fecha=2020-08-19&hora=02:32:52&loc=138 km al SUROESTE de  TONALA, CHIS        &evento=1'),\n",
       "                                                        ('geo:lat', '15.06'),\n",
       "                                                        ('geo:long',\n",
       "                                                         '-94.49')]),\n",
       "                                           OrderedDict([('title',\n",
       "                                                         '3.7, 87 km al SURESTE de  SALINA CRUZ, OAX'),\n",
       "                                                        ('description',\n",
       "                                                         '<p>Fecha:2020-08-19 02:19:00 (Hora de M&eacute;xico)<br/>Lat/Lon: 15.46/-94.88<br/>Profundidad: 15.0 km </p>'),\n",
       "                                                        ('link',\n",
       "                                                         'http://www2.ssn.unam.mx:8080/jsp/localizacion-de-sismo.jsp?latitud=15.46&longitud=-94.88&prf=15.0 km&ma=3.7&fecha=2020-08-19&hora=02:19:00&loc=87 km al SURESTE de  SALINA CRUZ, OAX         &evento=1'),\n",
       "                                                        ('geo:lat', '15.46'),\n",
       "                                                        ('geo:long',\n",
       "                                                         '-94.88')]),\n",
       "                                           OrderedDict([('title',\n",
       "                                                         '3.7, 10 km al NOROESTE de  TLACOLULA, OAX'),\n",
       "                                                        ('description',\n",
       "                                                         '<p>Fecha:2020-08-19 01:39:59 (Hora de M&eacute;xico)<br/>Lat/Lon: 16.99/-96.56<br/>Profundidad: 68.0 km </p>'),\n",
       "                                                        ('link',\n",
       "                                                         'http://www2.ssn.unam.mx:8080/jsp/localizacion-de-sismo.jsp?latitud=16.99&longitud=-96.56&prf=68.0 km&ma=3.7&fecha=2020-08-19&hora=01:39:59&loc=10 km al NOROESTE de  TLACOLULA, OAX   &evento=1'),\n",
       "                                                        ('geo:lat', '16.99'),\n",
       "                                                        ('geo:long',\n",
       "                                                         '-96.56')]),\n",
       "                                           OrderedDict([('title',\n",
       "                                                         '3.5, 15 km al NORTE de  ACAPULCO, GRO'),\n",
       "                                                        ('description',\n",
       "                                                         '<p>Fecha:2020-08-19 01:39:04 (Hora de M&eacute;xico)<br/>Lat/Lon: 17.0/-99.88<br/>Profundidad: 12.0 km </p>'),\n",
       "                                                        ('link',\n",
       "                                                         'http://www2.ssn.unam.mx:8080/jsp/localizacion-de-sismo.jsp?latitud=17.0&longitud=-99.88&prf=12.0 km&ma=3.5&fecha=2020-08-19&hora=01:39:04&loc=15 km al NORTE de  ACAPULCO, GRO       &evento=1'),\n",
       "                                                        ('geo:lat', '17.0'),\n",
       "                                                        ('geo:long',\n",
       "                                                         '-99.88')]),\n",
       "                                           OrderedDict([('title',\n",
       "                                                         '3.6, 38 km al SUR de  NUEVA ITALIA, MICH'),\n",
       "                                                        ('description',\n",
       "                                                         '<p>Fecha:2020-08-19 01:38:50 (Hora de M&eacute;xico)<br/>Lat/Lon: 18.69/-102.18<br/>Profundidad: 43.0 km </p>'),\n",
       "                                                        ('link',\n",
       "                                                         'http://www2.ssn.unam.mx:8080/jsp/localizacion-de-sismo.jsp?latitud=18.69&longitud=-102.18&prf=43.0 km&ma=3.6&fecha=2020-08-19&hora=01:38:50&loc=38 km al SUR de  NUEVA ITALIA, MICH   &evento=1'),\n",
       "                                                        ('geo:lat', '18.69'),\n",
       "                                                        ('geo:long',\n",
       "                                                         '-102.18')]),\n",
       "                                           OrderedDict([('title',\n",
       "                                                         '4.1, 26 km al SURESTE de  VILLAFLORES, CHIS'),\n",
       "                                                        ('description',\n",
       "                                                         '<p>Fecha:2020-08-19 01:16:50 (Hora de M&eacute;xico)<br/>Lat/Lon: 16.07/-93.1<br/>Profundidad: 161.0 km </p>'),\n",
       "                                                        ('link',\n",
       "                                                         'http://www2.ssn.unam.mx:8080/jsp/localizacion-de-sismo.jsp?latitud=16.07&longitud=-93.1&prf=161.0 km&ma=4.1&fecha=2020-08-19&hora=01:16:50&loc=26 km al SURESTE de  VILLAFLORES, CHIS        &evento=1'),\n",
       "                                                        ('geo:lat', '16.07'),\n",
       "                                                        ('geo:long',\n",
       "                                                         '-93.1')]),\n",
       "                                           OrderedDict([('title',\n",
       "                                                         '3.5, 13 km al SUROESTE de  OMETEPEC, GRO'),\n",
       "                                                        ('description',\n",
       "                                                         '<p>Fecha:2020-08-19 01:08:47 (Hora de M&eacute;xico)<br/>Lat/Lon: 16.58/-98.48<br/>Profundidad: 10.0 km </p>'),\n",
       "                                                        ('link',\n",
       "                                                         'http://www2.ssn.unam.mx:8080/jsp/localizacion-de-sismo.jsp?latitud=16.58&longitud=-98.48&prf=10.0 km&ma=3.5&fecha=2020-08-19&hora=01:08:47&loc=13 km al SUROESTE de  OMETEPEC, GRO         &evento=1'),\n",
       "                                                        ('geo:lat', '16.58'),\n",
       "                                                        ('geo:long',\n",
       "                                                         '-98.48')])])]))]))])"
      ]
     },
     "execution_count": 151,
     "metadata": {},
     "output_type": "execute_result"
    }
   ],
   "source": [
    "data"
   ]
  },
  {
   "cell_type": "code",
   "execution_count": 94,
   "metadata": {},
   "outputs": [
    {
     "data": {
      "text/plain": [
       "odict_keys(['rss'])"
      ]
     },
     "execution_count": 94,
     "metadata": {},
     "output_type": "execute_result"
    }
   ],
   "source": [
    "data.keys()"
   ]
  },
  {
   "cell_type": "code",
   "execution_count": 96,
   "metadata": {},
   "outputs": [
    {
     "data": {
      "text/plain": [
       "odict_keys(['@version', '@xmlns:geo', 'channel'])"
      ]
     },
     "execution_count": 96,
     "metadata": {},
     "output_type": "execute_result"
    }
   ],
   "source": [
    "data['rss'].keys()"
   ]
  },
  {
   "cell_type": "code",
   "execution_count": 98,
   "metadata": {},
   "outputs": [
    {
     "data": {
      "text/plain": [
       "odict_keys(['title', 'link', 'description', 'item'])"
      ]
     },
     "execution_count": 98,
     "metadata": {},
     "output_type": "execute_result"
    }
   ],
   "source": [
    "data['rss']['channel'].keys()"
   ]
  },
  {
   "cell_type": "code",
   "execution_count": 102,
   "metadata": {},
   "outputs": [
    {
     "data": {
      "text/plain": [
       "OrderedDict([('title', '4.0, 11 km al SUR de  PINOTEPA NACIONAL, OAX'),\n",
       "             ('description',\n",
       "              '<p>Fecha:2020-08-19 06:55:57 (Hora de M&eacute;xico)<br/>Lat/Lon: 16.24/-98.04<br/>Profundidad: 28.0 km </p>'),\n",
       "             ('link',\n",
       "              'http://www2.ssn.unam.mx:8080/jsp/localizacion-de-sismo.jsp?latitud=16.24&longitud=-98.04&prf=28.0 km&ma=4.0&fecha=2020-08-19&hora=06:55:57&loc=11 km al SUR de  PINOTEPA NACIONAL, OAX  &evento=1'),\n",
       "             ('geo:lat', '16.24'),\n",
       "             ('geo:long', '-98.04')])"
      ]
     },
     "execution_count": 102,
     "metadata": {},
     "output_type": "execute_result"
    }
   ],
   "source": [
    "data['rss']['channel']['item'][0]"
   ]
  },
  {
   "cell_type": "code",
   "execution_count": 103,
   "metadata": {},
   "outputs": [],
   "source": [
    "items = data['rss']['channel']['item']"
   ]
  },
  {
   "cell_type": "code",
   "execution_count": 110,
   "metadata": {},
   "outputs": [
    {
     "data": {
      "text/plain": [
       "odict_keys(['title', 'description', 'link', 'geo:lat', 'geo:long'])"
      ]
     },
     "execution_count": 110,
     "metadata": {},
     "output_type": "execute_result"
    }
   ],
   "source": [
    "items[0].keys()"
   ]
  },
  {
   "cell_type": "code",
   "execution_count": 112,
   "metadata": {},
   "outputs": [
    {
     "data": {
      "text/plain": [
       "'4.0, 11 km al SUR de  PINOTEPA NACIONAL, OAX'"
      ]
     },
     "execution_count": 112,
     "metadata": {},
     "output_type": "execute_result"
    }
   ],
   "source": [
    "items[0]['title']"
   ]
  },
  {
   "cell_type": "code",
   "execution_count": 113,
   "metadata": {},
   "outputs": [
    {
     "data": {
      "text/plain": [
       "str"
      ]
     },
     "execution_count": 113,
     "metadata": {},
     "output_type": "execute_result"
    }
   ],
   "source": [
    "items[0]['description']"
   ]
  },
  {
   "cell_type": "code",
   "execution_count": 116,
   "metadata": {},
   "outputs": [
    {
     "data": {
      "text/plain": [
       "['Fecha:2020-08-19 06:55:57 (Hora de M&eacute;xico)<br/',\n",
       " 'Lat/Lon: 16.24/-98.04<br/',\n",
       " 'Profundidad: 28.0 km </p']"
      ]
     },
     "execution_count": 116,
     "metadata": {},
     "output_type": "execute_result"
    }
   ],
   "source": [
    "items[0]['description'].split('>')[1:4]"
   ]
  },
  {
   "cell_type": "code",
   "execution_count": 117,
   "metadata": {},
   "outputs": [],
   "source": [
    "primer_item = items[0]['description'].split('>')[1:4]"
   ]
  },
  {
   "cell_type": "code",
   "execution_count": 120,
   "metadata": {},
   "outputs": [
    {
     "data": {
      "text/plain": [
       "['2020-08-19']"
      ]
     },
     "execution_count": 120,
     "metadata": {},
     "output_type": "execute_result"
    }
   ],
   "source": [
    "re.findall('\\d+-\\d+-\\d+',primer_item[0])"
   ]
  },
  {
   "cell_type": "code",
   "execution_count": 121,
   "metadata": {},
   "outputs": [
    {
     "data": {
      "text/plain": [
       "['06:55:57']"
      ]
     },
     "execution_count": 121,
     "metadata": {},
     "output_type": "execute_result"
    }
   ],
   "source": [
    "re.findall('\\d+:\\d+:\\d+',primer_item[0])"
   ]
  },
  {
   "cell_type": "code",
   "execution_count": 125,
   "metadata": {},
   "outputs": [
    {
     "data": {
      "text/plain": [
       "'16.24'"
      ]
     },
     "execution_count": 125,
     "metadata": {},
     "output_type": "execute_result"
    }
   ],
   "source": [
    "re.findall('-?\\d+.\\d+',primer_item[1])[0]"
   ]
  },
  {
   "cell_type": "code",
   "execution_count": 126,
   "metadata": {},
   "outputs": [
    {
     "data": {
      "text/plain": [
       "'-98.04'"
      ]
     },
     "execution_count": 126,
     "metadata": {},
     "output_type": "execute_result"
    }
   ],
   "source": [
    "re.findall('-?\\d+.\\d+',primer_item[1])[1]"
   ]
  },
  {
   "cell_type": "code",
   "execution_count": 132,
   "metadata": {},
   "outputs": [
    {
     "data": {
      "text/plain": [
       "['28.0 km']"
      ]
     },
     "execution_count": 132,
     "metadata": {},
     "output_type": "execute_result"
    }
   ],
   "source": [
    "re.findall('\\d+\\.\\d+ \\w+',primer_item[2])"
   ]
  },
  {
   "cell_type": "code",
   "execution_count": 141,
   "metadata": {},
   "outputs": [],
   "source": [
    "lst = []"
   ]
  },
  {
   "cell_type": "code",
   "execution_count": 142,
   "metadata": {
    "scrolled": false
   },
   "outputs": [
    {
     "name": "stdout",
     "output_type": "stream",
     "text": [
      "{'Fecha': '2020-08-19', 'Hora': '06:55:57', 'Latitud': '16.24', 'Longitud': '-98.04', 'Profundidad': '28.0 km'}\n",
      "{'Fecha': '2020-08-19', 'Hora': '04:55:31', 'Latitud': '14.85', 'Longitud': '-92.09', 'Profundidad': '101.0 km'}\n",
      "{'Fecha': '2020-08-19', 'Hora': '04:29:56', 'Latitud': '31.52', 'Longitud': '-115.56', 'Profundidad': '19.0 km'}\n",
      "{'Fecha': '2020-08-19', 'Hora': '04:27:40', 'Latitud': '19.5', 'Longitud': '-102.14', 'Profundidad': '10.0 km'}\n",
      "{'Fecha': '2020-08-19', 'Hora': '03:52:50', 'Latitud': '16.64', 'Longitud': '-93.71', 'Profundidad': '154.0 km'}\n",
      "{'Fecha': '2020-08-19', 'Hora': '02:56:48', 'Latitud': '15.92', 'Longitud': '-94.98', 'Profundidad': '23.0 km'}\n",
      "{'Fecha': '2020-08-19', 'Hora': '02:44:14', 'Latitud': '18.42', 'Longitud': '-104.9', 'Profundidad': '17.0 km'}\n",
      "{'Fecha': '2020-08-19', 'Hora': '02:39:17', 'Latitud': '15.6', 'Longitud': '-96.14', 'Profundidad': '5.0 km'}\n",
      "{'Fecha': '2020-08-19', 'Hora': '02:32:52', 'Latitud': '15.06', 'Longitud': '-94.49', 'Profundidad': '17.0 km'}\n",
      "{'Fecha': '2020-08-19', 'Hora': '02:19:00', 'Latitud': '15.46', 'Longitud': '-94.88', 'Profundidad': '15.0 km'}\n",
      "{'Fecha': '2020-08-19', 'Hora': '01:39:59', 'Latitud': '16.99', 'Longitud': '-96.56', 'Profundidad': '68.0 km'}\n",
      "{'Fecha': '2020-08-19', 'Hora': '01:39:04', 'Latitud': '17.0', 'Longitud': '-99.88', 'Profundidad': '12.0 km'}\n",
      "{'Fecha': '2020-08-19', 'Hora': '01:38:50', 'Latitud': '18.69', 'Longitud': '-102.18', 'Profundidad': '43.0 km'}\n",
      "{'Fecha': '2020-08-19', 'Hora': '01:16:50', 'Latitud': '16.07', 'Longitud': '-93.1', 'Profundidad': '161.0 km'}\n",
      "{'Fecha': '2020-08-19', 'Hora': '01:08:47', 'Latitud': '16.58', 'Longitud': '-98.48', 'Profundidad': '10.0 km'}\n"
     ]
    }
   ],
   "source": [
    "for i in items:\n",
    "    data_get = i['description'].split('>')[1:4]\n",
    "    fecha =  re.findall('\\d+-\\d+-\\d+',data_get[0])\n",
    "    hora = re.findall('\\d+:\\d+:\\d+',data_get[0])\n",
    "    lat = re.findall('-?\\d+.\\d+',data_get[1])[0]\n",
    "    long = re.findall('-?\\d+.\\d+',data_get[1])[1]\n",
    "    prof = re.findall('\\d+\\.\\d+ \\w+',data_get[2])\n",
    "    \n",
    "    data = {'Fecha': fecha[0], 'Hora':hora[0], 'Latitud': lat, 'Longitud':long, 'Profundidad':prof[0]}\n",
    "    lst.append(data)\n",
    "    print(data)"
   ]
  },
  {
   "cell_type": "code",
   "execution_count": 143,
   "metadata": {
    "scrolled": true
   },
   "outputs": [
    {
     "data": {
      "text/plain": [
       "[{'Fecha': '2020-08-19',\n",
       "  'Hora': '06:55:57',\n",
       "  'Latitud': '16.24',\n",
       "  'Longitud': '-98.04',\n",
       "  'Profundidad': '28.0 km'},\n",
       " {'Fecha': '2020-08-19',\n",
       "  'Hora': '04:55:31',\n",
       "  'Latitud': '14.85',\n",
       "  'Longitud': '-92.09',\n",
       "  'Profundidad': '101.0 km'},\n",
       " {'Fecha': '2020-08-19',\n",
       "  'Hora': '04:29:56',\n",
       "  'Latitud': '31.52',\n",
       "  'Longitud': '-115.56',\n",
       "  'Profundidad': '19.0 km'},\n",
       " {'Fecha': '2020-08-19',\n",
       "  'Hora': '04:27:40',\n",
       "  'Latitud': '19.5',\n",
       "  'Longitud': '-102.14',\n",
       "  'Profundidad': '10.0 km'},\n",
       " {'Fecha': '2020-08-19',\n",
       "  'Hora': '03:52:50',\n",
       "  'Latitud': '16.64',\n",
       "  'Longitud': '-93.71',\n",
       "  'Profundidad': '154.0 km'},\n",
       " {'Fecha': '2020-08-19',\n",
       "  'Hora': '02:56:48',\n",
       "  'Latitud': '15.92',\n",
       "  'Longitud': '-94.98',\n",
       "  'Profundidad': '23.0 km'},\n",
       " {'Fecha': '2020-08-19',\n",
       "  'Hora': '02:44:14',\n",
       "  'Latitud': '18.42',\n",
       "  'Longitud': '-104.9',\n",
       "  'Profundidad': '17.0 km'},\n",
       " {'Fecha': '2020-08-19',\n",
       "  'Hora': '02:39:17',\n",
       "  'Latitud': '15.6',\n",
       "  'Longitud': '-96.14',\n",
       "  'Profundidad': '5.0 km'},\n",
       " {'Fecha': '2020-08-19',\n",
       "  'Hora': '02:32:52',\n",
       "  'Latitud': '15.06',\n",
       "  'Longitud': '-94.49',\n",
       "  'Profundidad': '17.0 km'},\n",
       " {'Fecha': '2020-08-19',\n",
       "  'Hora': '02:19:00',\n",
       "  'Latitud': '15.46',\n",
       "  'Longitud': '-94.88',\n",
       "  'Profundidad': '15.0 km'},\n",
       " {'Fecha': '2020-08-19',\n",
       "  'Hora': '01:39:59',\n",
       "  'Latitud': '16.99',\n",
       "  'Longitud': '-96.56',\n",
       "  'Profundidad': '68.0 km'},\n",
       " {'Fecha': '2020-08-19',\n",
       "  'Hora': '01:39:04',\n",
       "  'Latitud': '17.0',\n",
       "  'Longitud': '-99.88',\n",
       "  'Profundidad': '12.0 km'},\n",
       " {'Fecha': '2020-08-19',\n",
       "  'Hora': '01:38:50',\n",
       "  'Latitud': '18.69',\n",
       "  'Longitud': '-102.18',\n",
       "  'Profundidad': '43.0 km'},\n",
       " {'Fecha': '2020-08-19',\n",
       "  'Hora': '01:16:50',\n",
       "  'Latitud': '16.07',\n",
       "  'Longitud': '-93.1',\n",
       "  'Profundidad': '161.0 km'},\n",
       " {'Fecha': '2020-08-19',\n",
       "  'Hora': '01:08:47',\n",
       "  'Latitud': '16.58',\n",
       "  'Longitud': '-98.48',\n",
       "  'Profundidad': '10.0 km'}]"
      ]
     },
     "execution_count": 143,
     "metadata": {},
     "output_type": "execute_result"
    }
   ],
   "source": [
    "lst"
   ]
  },
  {
   "cell_type": "code",
   "execution_count": 145,
   "metadata": {},
   "outputs": [],
   "source": [
    "import pandas as pd"
   ]
  },
  {
   "cell_type": "code",
   "execution_count": 146,
   "metadata": {},
   "outputs": [
    {
     "data": {
      "text/html": [
       "<div>\n",
       "<style scoped>\n",
       "    .dataframe tbody tr th:only-of-type {\n",
       "        vertical-align: middle;\n",
       "    }\n",
       "\n",
       "    .dataframe tbody tr th {\n",
       "        vertical-align: top;\n",
       "    }\n",
       "\n",
       "    .dataframe thead th {\n",
       "        text-align: right;\n",
       "    }\n",
       "</style>\n",
       "<table border=\"1\" class=\"dataframe\">\n",
       "  <thead>\n",
       "    <tr style=\"text-align: right;\">\n",
       "      <th></th>\n",
       "      <th>Fecha</th>\n",
       "      <th>Hora</th>\n",
       "      <th>Latitud</th>\n",
       "      <th>Longitud</th>\n",
       "      <th>Profundidad</th>\n",
       "    </tr>\n",
       "  </thead>\n",
       "  <tbody>\n",
       "    <tr>\n",
       "      <td>0</td>\n",
       "      <td>2020-08-19</td>\n",
       "      <td>06:55:57</td>\n",
       "      <td>16.24</td>\n",
       "      <td>-98.04</td>\n",
       "      <td>28.0 km</td>\n",
       "    </tr>\n",
       "    <tr>\n",
       "      <td>1</td>\n",
       "      <td>2020-08-19</td>\n",
       "      <td>04:55:31</td>\n",
       "      <td>14.85</td>\n",
       "      <td>-92.09</td>\n",
       "      <td>101.0 km</td>\n",
       "    </tr>\n",
       "    <tr>\n",
       "      <td>2</td>\n",
       "      <td>2020-08-19</td>\n",
       "      <td>04:29:56</td>\n",
       "      <td>31.52</td>\n",
       "      <td>-115.56</td>\n",
       "      <td>19.0 km</td>\n",
       "    </tr>\n",
       "    <tr>\n",
       "      <td>3</td>\n",
       "      <td>2020-08-19</td>\n",
       "      <td>04:27:40</td>\n",
       "      <td>19.5</td>\n",
       "      <td>-102.14</td>\n",
       "      <td>10.0 km</td>\n",
       "    </tr>\n",
       "    <tr>\n",
       "      <td>4</td>\n",
       "      <td>2020-08-19</td>\n",
       "      <td>03:52:50</td>\n",
       "      <td>16.64</td>\n",
       "      <td>-93.71</td>\n",
       "      <td>154.0 km</td>\n",
       "    </tr>\n",
       "    <tr>\n",
       "      <td>5</td>\n",
       "      <td>2020-08-19</td>\n",
       "      <td>02:56:48</td>\n",
       "      <td>15.92</td>\n",
       "      <td>-94.98</td>\n",
       "      <td>23.0 km</td>\n",
       "    </tr>\n",
       "    <tr>\n",
       "      <td>6</td>\n",
       "      <td>2020-08-19</td>\n",
       "      <td>02:44:14</td>\n",
       "      <td>18.42</td>\n",
       "      <td>-104.9</td>\n",
       "      <td>17.0 km</td>\n",
       "    </tr>\n",
       "    <tr>\n",
       "      <td>7</td>\n",
       "      <td>2020-08-19</td>\n",
       "      <td>02:39:17</td>\n",
       "      <td>15.6</td>\n",
       "      <td>-96.14</td>\n",
       "      <td>5.0 km</td>\n",
       "    </tr>\n",
       "    <tr>\n",
       "      <td>8</td>\n",
       "      <td>2020-08-19</td>\n",
       "      <td>02:32:52</td>\n",
       "      <td>15.06</td>\n",
       "      <td>-94.49</td>\n",
       "      <td>17.0 km</td>\n",
       "    </tr>\n",
       "    <tr>\n",
       "      <td>9</td>\n",
       "      <td>2020-08-19</td>\n",
       "      <td>02:19:00</td>\n",
       "      <td>15.46</td>\n",
       "      <td>-94.88</td>\n",
       "      <td>15.0 km</td>\n",
       "    </tr>\n",
       "    <tr>\n",
       "      <td>10</td>\n",
       "      <td>2020-08-19</td>\n",
       "      <td>01:39:59</td>\n",
       "      <td>16.99</td>\n",
       "      <td>-96.56</td>\n",
       "      <td>68.0 km</td>\n",
       "    </tr>\n",
       "    <tr>\n",
       "      <td>11</td>\n",
       "      <td>2020-08-19</td>\n",
       "      <td>01:39:04</td>\n",
       "      <td>17.0</td>\n",
       "      <td>-99.88</td>\n",
       "      <td>12.0 km</td>\n",
       "    </tr>\n",
       "    <tr>\n",
       "      <td>12</td>\n",
       "      <td>2020-08-19</td>\n",
       "      <td>01:38:50</td>\n",
       "      <td>18.69</td>\n",
       "      <td>-102.18</td>\n",
       "      <td>43.0 km</td>\n",
       "    </tr>\n",
       "    <tr>\n",
       "      <td>13</td>\n",
       "      <td>2020-08-19</td>\n",
       "      <td>01:16:50</td>\n",
       "      <td>16.07</td>\n",
       "      <td>-93.1</td>\n",
       "      <td>161.0 km</td>\n",
       "    </tr>\n",
       "    <tr>\n",
       "      <td>14</td>\n",
       "      <td>2020-08-19</td>\n",
       "      <td>01:08:47</td>\n",
       "      <td>16.58</td>\n",
       "      <td>-98.48</td>\n",
       "      <td>10.0 km</td>\n",
       "    </tr>\n",
       "  </tbody>\n",
       "</table>\n",
       "</div>"
      ],
      "text/plain": [
       "         Fecha      Hora Latitud Longitud Profundidad\n",
       "0   2020-08-19  06:55:57   16.24   -98.04     28.0 km\n",
       "1   2020-08-19  04:55:31   14.85   -92.09    101.0 km\n",
       "2   2020-08-19  04:29:56   31.52  -115.56     19.0 km\n",
       "3   2020-08-19  04:27:40    19.5  -102.14     10.0 km\n",
       "4   2020-08-19  03:52:50   16.64   -93.71    154.0 km\n",
       "5   2020-08-19  02:56:48   15.92   -94.98     23.0 km\n",
       "6   2020-08-19  02:44:14   18.42   -104.9     17.0 km\n",
       "7   2020-08-19  02:39:17    15.6   -96.14      5.0 km\n",
       "8   2020-08-19  02:32:52   15.06   -94.49     17.0 km\n",
       "9   2020-08-19  02:19:00   15.46   -94.88     15.0 km\n",
       "10  2020-08-19  01:39:59   16.99   -96.56     68.0 km\n",
       "11  2020-08-19  01:39:04    17.0   -99.88     12.0 km\n",
       "12  2020-08-19  01:38:50   18.69  -102.18     43.0 km\n",
       "13  2020-08-19  01:16:50   16.07    -93.1    161.0 km\n",
       "14  2020-08-19  01:08:47   16.58   -98.48     10.0 km"
      ]
     },
     "execution_count": 146,
     "metadata": {},
     "output_type": "execute_result"
    }
   ],
   "source": [
    "pd.DataFrame(lst)"
   ]
  },
  {
   "cell_type": "code",
   "execution_count": null,
   "metadata": {},
   "outputs": [],
   "source": []
  }
 ],
 "metadata": {
  "kernelspec": {
   "display_name": "Python 3.7.4 64-bit",
   "language": "python",
   "name": "python37464bit456c2aecd4e54895bedac2416c319c0f"
  },
  "language_info": {
   "codemirror_mode": {
    "name": "ipython",
    "version": 3
   },
   "file_extension": ".py",
   "mimetype": "text/x-python",
   "name": "python",
   "nbconvert_exporter": "python",
   "pygments_lexer": "ipython3",
   "version": "3.7.4"
  }
 },
 "nbformat": 4,
 "nbformat_minor": 2
}
